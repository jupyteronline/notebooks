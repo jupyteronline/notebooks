{
 "cells": [
  {
   "cell_type": "markdown",
   "metadata": {},
   "source": [
    "##BLOG"
   ]
  },
  {
   "cell_type": "markdown",
   "metadata": {},
   "source": [
    "http://wolfpack.hnu.ac.kr/"
   ]
  },
  {
   "cell_type": "markdown",
   "metadata": {
    "colab_type": "text",
    "id": "qK0OWMkGmTa7"
   },
   "source": [
    "##Salary Data 불러오기"
   ]
  },
  {
   "cell_type": "code",
   "execution_count": 1,
   "metadata": {
    "colab": {},
    "colab_type": "code",
    "id": "Yl35U696hVpK"
   },
   "outputs": [
    {
     "name": "stdout",
     "output_type": "stream",
     "text": [
      "<class 'pandas.core.frame.DataFrame'>\n",
      "RangeIndex: 26428 entries, 0 to 26427\n",
      "Data columns (total 5 columns):\n",
      " #   Column    Non-Null Count  Dtype \n",
      "---  ------    --------------  ----- \n",
      " 0   yearID    26428 non-null  int64 \n",
      " 1   teamID    26428 non-null  object\n",
      " 2   lgID      26428 non-null  object\n",
      " 3   playerID  26428 non-null  object\n",
      " 4   salary    26428 non-null  int64 \n",
      "dtypes: int64(2), object(3)\n",
      "memory usage: 1.0+ MB\n"
     ]
    }
   ],
   "source": [
    "import pandas as pd\n",
    "df=pd.read_csv('../datasets/Salaries.csv')\n",
    "df.info()"
   ]
  },
  {
   "cell_type": "code",
   "execution_count": 2,
   "metadata": {},
   "outputs": [
    {
     "data": {
      "text/plain": [
       "(26428, 5)"
      ]
     },
     "execution_count": 2,
     "metadata": {},
     "output_type": "execute_result"
    }
   ],
   "source": [
    "df.shape"
   ]
  },
  {
   "cell_type": "code",
   "execution_count": 3,
   "metadata": {},
   "outputs": [
    {
     "data": {
      "text/html": [
       "<div>\n",
       "<style scoped>\n",
       "    .dataframe tbody tr th:only-of-type {\n",
       "        vertical-align: middle;\n",
       "    }\n",
       "\n",
       "    .dataframe tbody tr th {\n",
       "        vertical-align: top;\n",
       "    }\n",
       "\n",
       "    .dataframe thead th {\n",
       "        text-align: right;\n",
       "    }\n",
       "</style>\n",
       "<table border=\"1\" class=\"dataframe\">\n",
       "  <thead>\n",
       "    <tr style=\"text-align: right;\">\n",
       "      <th></th>\n",
       "      <th>yearID</th>\n",
       "      <th>teamID</th>\n",
       "      <th>lgID</th>\n",
       "      <th>playerID</th>\n",
       "      <th>salary</th>\n",
       "    </tr>\n",
       "  </thead>\n",
       "  <tbody>\n",
       "    <tr>\n",
       "      <th>26423</th>\n",
       "      <td>2016</td>\n",
       "      <td>WAS</td>\n",
       "      <td>NL</td>\n",
       "      <td>strasst01</td>\n",
       "      <td>10400000</td>\n",
       "    </tr>\n",
       "    <tr>\n",
       "      <th>26424</th>\n",
       "      <td>2016</td>\n",
       "      <td>WAS</td>\n",
       "      <td>NL</td>\n",
       "      <td>taylomi02</td>\n",
       "      <td>524000</td>\n",
       "    </tr>\n",
       "    <tr>\n",
       "      <th>26425</th>\n",
       "      <td>2016</td>\n",
       "      <td>WAS</td>\n",
       "      <td>NL</td>\n",
       "      <td>treinbl01</td>\n",
       "      <td>524900</td>\n",
       "    </tr>\n",
       "    <tr>\n",
       "      <th>26426</th>\n",
       "      <td>2016</td>\n",
       "      <td>WAS</td>\n",
       "      <td>NL</td>\n",
       "      <td>werthja01</td>\n",
       "      <td>21733615</td>\n",
       "    </tr>\n",
       "    <tr>\n",
       "      <th>26427</th>\n",
       "      <td>2016</td>\n",
       "      <td>WAS</td>\n",
       "      <td>NL</td>\n",
       "      <td>zimmery01</td>\n",
       "      <td>14000000</td>\n",
       "    </tr>\n",
       "  </tbody>\n",
       "</table>\n",
       "</div>"
      ],
      "text/plain": [
       "       yearID teamID lgID   playerID    salary\n",
       "26423    2016    WAS   NL  strasst01  10400000\n",
       "26424    2016    WAS   NL  taylomi02    524000\n",
       "26425    2016    WAS   NL  treinbl01    524900\n",
       "26426    2016    WAS   NL  werthja01  21733615\n",
       "26427    2016    WAS   NL  zimmery01  14000000"
      ]
     },
     "execution_count": 3,
     "metadata": {},
     "output_type": "execute_result"
    }
   ],
   "source": [
    "df.tail()"
   ]
  },
  {
   "cell_type": "code",
   "execution_count": null,
   "metadata": {},
   "outputs": [],
   "source": []
  },
  {
   "cell_type": "code",
   "execution_count": 4,
   "metadata": {
    "colab": {},
    "colab_type": "code",
    "id": "aHl7nvVQphUi"
   },
   "outputs": [
    {
     "data": {
      "text/plain": [
       "(853, 5)"
      ]
     },
     "execution_count": 4,
     "metadata": {},
     "output_type": "execute_result"
    }
   ],
   "source": [
    "df16=df[(df.yearID==2016)&(df.salary>0)]\n",
    "df16.shape"
   ]
  },
  {
   "cell_type": "code",
   "execution_count": 5,
   "metadata": {},
   "outputs": [
    {
     "name": "stdout",
     "output_type": "stream",
     "text": [
      "<class 'pandas.core.frame.DataFrame'>\n",
      "Int64Index: 853 entries, 25575 to 26427\n",
      "Data columns (total 5 columns):\n",
      " #   Column    Non-Null Count  Dtype \n",
      "---  ------    --------------  ----- \n",
      " 0   yearID    853 non-null    int64 \n",
      " 1   teamID    853 non-null    object\n",
      " 2   lgID      853 non-null    object\n",
      " 3   playerID  853 non-null    object\n",
      " 4   salary    853 non-null    int64 \n",
      "dtypes: int64(2), object(3)\n",
      "memory usage: 40.0+ KB\n"
     ]
    }
   ],
   "source": [
    "df16.info()"
   ]
  },
  {
   "cell_type": "markdown",
   "metadata": {
    "colab_type": "text",
    "id": "R0m2BlUUmJGb"
   },
   "source": [
    "공백체크"
   ]
  },
  {
   "cell_type": "code",
   "execution_count": 6,
   "metadata": {
    "colab": {},
    "colab_type": "code",
    "id": "CBKUvhFQkPQv"
   },
   "outputs": [
    {
     "data": {
      "text/plain": [
       "yearID      0\n",
       "teamID      0\n",
       "lgID        0\n",
       "playerID    0\n",
       "salary      0\n",
       "dtype: int64"
      ]
     },
     "execution_count": 6,
     "metadata": {},
     "output_type": "execute_result"
    }
   ],
   "source": [
    "df16.isnull().sum()"
   ]
  },
  {
   "cell_type": "markdown",
   "metadata": {
    "colab_type": "text",
    "id": "RtdREZGsmMjX"
   },
   "source": [
    "결측치 체크"
   ]
  },
  {
   "cell_type": "code",
   "execution_count": 7,
   "metadata": {
    "colab": {},
    "colab_type": "code",
    "id": "1pw0nK1Ik8Q7"
   },
   "outputs": [
    {
     "data": {
      "text/plain": [
       "yearID      0\n",
       "teamID      0\n",
       "lgID        0\n",
       "playerID    0\n",
       "salary      0\n",
       "dtype: int64"
      ]
     },
     "execution_count": 7,
     "metadata": {},
     "output_type": "execute_result"
    }
   ],
   "source": [
    "df16.isna().sum()"
   ]
  },
  {
   "cell_type": "code",
   "execution_count": 8,
   "metadata": {},
   "outputs": [
    {
     "data": {
      "text/plain": [
       "(853, 5)"
      ]
     },
     "execution_count": 8,
     "metadata": {},
     "output_type": "execute_result"
    }
   ],
   "source": [
    "df16.dropna()\n",
    "df16.shape"
   ]
  },
  {
   "cell_type": "markdown",
   "metadata": {
    "colab_type": "text",
    "id": "jEdJ8tuBqKc_"
   },
   "source": [
    "##인덱스, 열변수"
   ]
  },
  {
   "cell_type": "markdown",
   "metadata": {
    "colab_type": "text",
    "id": "wEdxedpAqYD3"
   },
   "source": [
    "행 인덱스 만들기"
   ]
  },
  {
   "cell_type": "code",
   "execution_count": 9,
   "metadata": {},
   "outputs": [
    {
     "data": {
      "text/html": [
       "<div>\n",
       "<style scoped>\n",
       "    .dataframe tbody tr th:only-of-type {\n",
       "        vertical-align: middle;\n",
       "    }\n",
       "\n",
       "    .dataframe tbody tr th {\n",
       "        vertical-align: top;\n",
       "    }\n",
       "\n",
       "    .dataframe thead th {\n",
       "        text-align: right;\n",
       "    }\n",
       "</style>\n",
       "<table border=\"1\" class=\"dataframe\">\n",
       "  <thead>\n",
       "    <tr style=\"text-align: right;\">\n",
       "      <th></th>\n",
       "      <th>yearID</th>\n",
       "      <th>teamID</th>\n",
       "      <th>lgID</th>\n",
       "      <th>playerID</th>\n",
       "      <th>salary</th>\n",
       "    </tr>\n",
       "  </thead>\n",
       "  <tbody>\n",
       "    <tr>\n",
       "      <th>25575</th>\n",
       "      <td>2016</td>\n",
       "      <td>ARI</td>\n",
       "      <td>NL</td>\n",
       "      <td>ahmedni01</td>\n",
       "      <td>521600</td>\n",
       "    </tr>\n",
       "    <tr>\n",
       "      <th>25576</th>\n",
       "      <td>2016</td>\n",
       "      <td>ARI</td>\n",
       "      <td>NL</td>\n",
       "      <td>barreja01</td>\n",
       "      <td>507500</td>\n",
       "    </tr>\n",
       "    <tr>\n",
       "      <th>25577</th>\n",
       "      <td>2016</td>\n",
       "      <td>ARI</td>\n",
       "      <td>NL</td>\n",
       "      <td>brachsi01</td>\n",
       "      <td>509300</td>\n",
       "    </tr>\n",
       "  </tbody>\n",
       "</table>\n",
       "</div>"
      ],
      "text/plain": [
       "       yearID teamID lgID   playerID  salary\n",
       "25575    2016    ARI   NL  ahmedni01  521600\n",
       "25576    2016    ARI   NL  barreja01  507500\n",
       "25577    2016    ARI   NL  brachsi01  509300"
      ]
     },
     "execution_count": 9,
     "metadata": {},
     "output_type": "execute_result"
    }
   ],
   "source": [
    "df16.head(3)"
   ]
  },
  {
   "cell_type": "code",
   "execution_count": 10,
   "metadata": {
    "colab": {},
    "colab_type": "code",
    "id": "is_DQbw2qbBO"
   },
   "outputs": [
    {
     "data": {
      "text/html": [
       "<div>\n",
       "<style scoped>\n",
       "    .dataframe tbody tr th:only-of-type {\n",
       "        vertical-align: middle;\n",
       "    }\n",
       "\n",
       "    .dataframe tbody tr th {\n",
       "        vertical-align: top;\n",
       "    }\n",
       "\n",
       "    .dataframe thead th {\n",
       "        text-align: right;\n",
       "    }\n",
       "</style>\n",
       "<table border=\"1\" class=\"dataframe\">\n",
       "  <thead>\n",
       "    <tr style=\"text-align: right;\">\n",
       "      <th></th>\n",
       "      <th>yearID</th>\n",
       "      <th>teamID</th>\n",
       "      <th>lgID</th>\n",
       "      <th>salary</th>\n",
       "    </tr>\n",
       "    <tr>\n",
       "      <th>playerID</th>\n",
       "      <th></th>\n",
       "      <th></th>\n",
       "      <th></th>\n",
       "      <th></th>\n",
       "    </tr>\n",
       "  </thead>\n",
       "  <tbody>\n",
       "    <tr>\n",
       "      <th>ahmedni01</th>\n",
       "      <td>2016</td>\n",
       "      <td>ARI</td>\n",
       "      <td>NL</td>\n",
       "      <td>521600</td>\n",
       "    </tr>\n",
       "    <tr>\n",
       "      <th>barreja01</th>\n",
       "      <td>2016</td>\n",
       "      <td>ARI</td>\n",
       "      <td>NL</td>\n",
       "      <td>507500</td>\n",
       "    </tr>\n",
       "    <tr>\n",
       "      <th>brachsi01</th>\n",
       "      <td>2016</td>\n",
       "      <td>ARI</td>\n",
       "      <td>NL</td>\n",
       "      <td>509300</td>\n",
       "    </tr>\n",
       "  </tbody>\n",
       "</table>\n",
       "</div>"
      ],
      "text/plain": [
       "           yearID teamID lgID  salary\n",
       "playerID                             \n",
       "ahmedni01    2016    ARI   NL  521600\n",
       "barreja01    2016    ARI   NL  507500\n",
       "brachsi01    2016    ARI   NL  509300"
      ]
     },
     "execution_count": 10,
     "metadata": {},
     "output_type": "execute_result"
    }
   ],
   "source": [
    "df16.set_index('playerID',inplace=True)\n",
    "df16.head(3)"
   ]
  },
  {
   "cell_type": "markdown",
   "metadata": {
    "colab_type": "text",
    "id": "rwKpDkSQrBY0"
   },
   "source": [
    "행 인덱스 열 변수 만들기"
   ]
  },
  {
   "cell_type": "code",
   "execution_count": 11,
   "metadata": {
    "colab": {},
    "colab_type": "code",
    "id": "JbKiWqbHrHgm"
   },
   "outputs": [
    {
     "data": {
      "text/html": [
       "<div>\n",
       "<style scoped>\n",
       "    .dataframe tbody tr th:only-of-type {\n",
       "        vertical-align: middle;\n",
       "    }\n",
       "\n",
       "    .dataframe tbody tr th {\n",
       "        vertical-align: top;\n",
       "    }\n",
       "\n",
       "    .dataframe thead th {\n",
       "        text-align: right;\n",
       "    }\n",
       "</style>\n",
       "<table border=\"1\" class=\"dataframe\">\n",
       "  <thead>\n",
       "    <tr style=\"text-align: right;\">\n",
       "      <th></th>\n",
       "      <th>playerID</th>\n",
       "      <th>yearID</th>\n",
       "      <th>teamID</th>\n",
       "      <th>lgID</th>\n",
       "      <th>salary</th>\n",
       "    </tr>\n",
       "  </thead>\n",
       "  <tbody>\n",
       "    <tr>\n",
       "      <th>0</th>\n",
       "      <td>ahmedni01</td>\n",
       "      <td>2016</td>\n",
       "      <td>ARI</td>\n",
       "      <td>NL</td>\n",
       "      <td>521600</td>\n",
       "    </tr>\n",
       "    <tr>\n",
       "      <th>1</th>\n",
       "      <td>barreja01</td>\n",
       "      <td>2016</td>\n",
       "      <td>ARI</td>\n",
       "      <td>NL</td>\n",
       "      <td>507500</td>\n",
       "    </tr>\n",
       "    <tr>\n",
       "      <th>2</th>\n",
       "      <td>brachsi01</td>\n",
       "      <td>2016</td>\n",
       "      <td>ARI</td>\n",
       "      <td>NL</td>\n",
       "      <td>509300</td>\n",
       "    </tr>\n",
       "  </tbody>\n",
       "</table>\n",
       "</div>"
      ],
      "text/plain": [
       "    playerID  yearID teamID lgID  salary\n",
       "0  ahmedni01    2016    ARI   NL  521600\n",
       "1  barreja01    2016    ARI   NL  507500\n",
       "2  brachsi01    2016    ARI   NL  509300"
      ]
     },
     "execution_count": 11,
     "metadata": {},
     "output_type": "execute_result"
    }
   ],
   "source": [
    "df16.reset_index().head(3)"
   ]
  },
  {
   "cell_type": "markdown",
   "metadata": {
    "colab_type": "text",
    "id": "dbNi-IrMrRCI"
   },
   "source": [
    "열변수 이름 바꾸기"
   ]
  },
  {
   "cell_type": "code",
   "execution_count": 12,
   "metadata": {},
   "outputs": [
    {
     "data": {
      "text/html": [
       "<div>\n",
       "<style scoped>\n",
       "    .dataframe tbody tr th:only-of-type {\n",
       "        vertical-align: middle;\n",
       "    }\n",
       "\n",
       "    .dataframe tbody tr th {\n",
       "        vertical-align: top;\n",
       "    }\n",
       "\n",
       "    .dataframe thead th {\n",
       "        text-align: right;\n",
       "    }\n",
       "</style>\n",
       "<table border=\"1\" class=\"dataframe\">\n",
       "  <thead>\n",
       "    <tr style=\"text-align: right;\">\n",
       "      <th></th>\n",
       "      <th>yearID</th>\n",
       "      <th>teamID</th>\n",
       "      <th>lgID</th>\n",
       "      <th>salary</th>\n",
       "    </tr>\n",
       "    <tr>\n",
       "      <th>playerID</th>\n",
       "      <th></th>\n",
       "      <th></th>\n",
       "      <th></th>\n",
       "      <th></th>\n",
       "    </tr>\n",
       "  </thead>\n",
       "  <tbody>\n",
       "    <tr>\n",
       "      <th>ahmedni01</th>\n",
       "      <td>2016</td>\n",
       "      <td>ARI</td>\n",
       "      <td>NL</td>\n",
       "      <td>521600</td>\n",
       "    </tr>\n",
       "    <tr>\n",
       "      <th>barreja01</th>\n",
       "      <td>2016</td>\n",
       "      <td>ARI</td>\n",
       "      <td>NL</td>\n",
       "      <td>507500</td>\n",
       "    </tr>\n",
       "    <tr>\n",
       "      <th>brachsi01</th>\n",
       "      <td>2016</td>\n",
       "      <td>ARI</td>\n",
       "      <td>NL</td>\n",
       "      <td>509300</td>\n",
       "    </tr>\n",
       "    <tr>\n",
       "      <th>britoso01</th>\n",
       "      <td>2016</td>\n",
       "      <td>ARI</td>\n",
       "      <td>NL</td>\n",
       "      <td>508500</td>\n",
       "    </tr>\n",
       "    <tr>\n",
       "      <th>castiwe01</th>\n",
       "      <td>2016</td>\n",
       "      <td>ARI</td>\n",
       "      <td>NL</td>\n",
       "      <td>3700000</td>\n",
       "    </tr>\n",
       "  </tbody>\n",
       "</table>\n",
       "</div>"
      ],
      "text/plain": [
       "           yearID teamID lgID   salary\n",
       "playerID                              \n",
       "ahmedni01    2016    ARI   NL   521600\n",
       "barreja01    2016    ARI   NL   507500\n",
       "brachsi01    2016    ARI   NL   509300\n",
       "britoso01    2016    ARI   NL   508500\n",
       "castiwe01    2016    ARI   NL  3700000"
      ]
     },
     "execution_count": 12,
     "metadata": {},
     "output_type": "execute_result"
    }
   ],
   "source": [
    "df16.head()"
   ]
  },
  {
   "cell_type": "code",
   "execution_count": 13,
   "metadata": {
    "colab": {},
    "colab_type": "code",
    "id": "1nUwCq-7rQg0"
   },
   "outputs": [
    {
     "data": {
      "text/html": [
       "<div>\n",
       "<style scoped>\n",
       "    .dataframe tbody tr th:only-of-type {\n",
       "        vertical-align: middle;\n",
       "    }\n",
       "\n",
       "    .dataframe tbody tr th {\n",
       "        vertical-align: top;\n",
       "    }\n",
       "\n",
       "    .dataframe thead th {\n",
       "        text-align: right;\n",
       "    }\n",
       "</style>\n",
       "<table border=\"1\" class=\"dataframe\">\n",
       "  <thead>\n",
       "    <tr style=\"text-align: right;\">\n",
       "      <th></th>\n",
       "      <th>연도</th>\n",
       "      <th>팀명</th>\n",
       "      <th>리그명</th>\n",
       "      <th>salary</th>\n",
       "    </tr>\n",
       "    <tr>\n",
       "      <th>playerID</th>\n",
       "      <th></th>\n",
       "      <th></th>\n",
       "      <th></th>\n",
       "      <th></th>\n",
       "    </tr>\n",
       "  </thead>\n",
       "  <tbody>\n",
       "    <tr>\n",
       "      <th>ahmedni01</th>\n",
       "      <td>2016</td>\n",
       "      <td>ARI</td>\n",
       "      <td>NL</td>\n",
       "      <td>521600</td>\n",
       "    </tr>\n",
       "    <tr>\n",
       "      <th>barreja01</th>\n",
       "      <td>2016</td>\n",
       "      <td>ARI</td>\n",
       "      <td>NL</td>\n",
       "      <td>507500</td>\n",
       "    </tr>\n",
       "    <tr>\n",
       "      <th>brachsi01</th>\n",
       "      <td>2016</td>\n",
       "      <td>ARI</td>\n",
       "      <td>NL</td>\n",
       "      <td>509300</td>\n",
       "    </tr>\n",
       "  </tbody>\n",
       "</table>\n",
       "</div>"
      ],
      "text/plain": [
       "             연도   팀명 리그명  salary\n",
       "playerID                        \n",
       "ahmedni01  2016  ARI  NL  521600\n",
       "barreja01  2016  ARI  NL  507500\n",
       "brachsi01  2016  ARI  NL  509300"
      ]
     },
     "execution_count": 13,
     "metadata": {},
     "output_type": "execute_result"
    }
   ],
   "source": [
    "df16.columns=['연도','팀명','리그명','salary']\n",
    "df16.head(3)"
   ]
  },
  {
   "cell_type": "markdown",
   "metadata": {
    "colab_type": "text",
    "id": "EFHFmwm8mRuz"
   },
   "source": [
    "##이상치 제거"
   ]
  },
  {
   "cell_type": "code",
   "execution_count": 14,
   "metadata": {
    "colab": {},
    "colab_type": "code",
    "id": "Hjuqjq4Yo1Ms"
   },
   "outputs": [
    {
     "data": {
      "text/plain": [
       "<matplotlib.axes._subplots.AxesSubplot at 0x7fa9810dd850>"
      ]
     },
     "execution_count": 14,
     "metadata": {},
     "output_type": "execute_result"
    },
    {
     "data": {
      "image/png": "[encoded data removed]",
      "text/plain": [
       "<Figure size 432x288 with 1 Axes>"
      ]
     },
     "metadata": {
      "needs_background": "light"
     },
     "output_type": "display_data"
    }
   ],
   "source": [
    "import seaborn as sns\n",
    "import matplotlib.pyplot as plt\n",
    "sns.boxplot(df16.salary)"
   ]
  },
  {
   "cell_type": "code",
   "execution_count": 15,
   "metadata": {
    "colab": {},
    "colab_type": "code",
    "id": "rcl2rAiClkq8"
   },
   "outputs": [],
   "source": [
    "import numpy as np\n",
    "q1,q3=np.percentile(df16.salary, [25,75]); iqr=q3-q1 # inter-quarterile-range : 중간에 50%의 데이터들이 흩어진 정도\n",
    "df_out=df16[(df16.salary<(q1-1.5*iqr))|(df16.salary>(q3 +1.5*iqr))]\n",
    "df_good=df16[(df16.salary>=(q1-1.5*iqr))&(df16.salary<=(q3 +1.5*iqr))]"
   ]
  },
  {
   "cell_type": "code",
   "execution_count": 16,
   "metadata": {},
   "outputs": [
    {
     "data": {
      "text/plain": [
       "연도        783\n",
       "팀명        783\n",
       "리그명       783\n",
       "salary    783\n",
       "dtype: int64"
      ]
     },
     "execution_count": 16,
     "metadata": {},
     "output_type": "execute_result"
    }
   ],
   "source": [
    "df_good.count()"
   ]
  },
  {
   "cell_type": "code",
   "execution_count": 17,
   "metadata": {},
   "outputs": [
    {
     "data": {
      "text/plain": [
       "연도        70\n",
       "팀명        70\n",
       "리그명       70\n",
       "salary    70\n",
       "dtype: int64"
      ]
     },
     "execution_count": 17,
     "metadata": {},
     "output_type": "execute_result"
    }
   ],
   "source": [
    "df_out.count()"
   ]
  },
  {
   "cell_type": "code",
   "execution_count": null,
   "metadata": {},
   "outputs": [],
   "source": []
  },
  {
   "cell_type": "code",
   "execution_count": null,
   "metadata": {},
   "outputs": [],
   "source": []
  },
  {
   "cell_type": "markdown",
   "metadata": {
    "colab_type": "text",
    "id": "_0T1omcNueVv"
   },
   "source": [
    "아래 박스 플롯 이상치 제거 될 때까지 반복"
   ]
  },
  {
   "cell_type": "code",
   "execution_count": 18,
   "metadata": {
    "colab": {},
    "colab_type": "code",
    "id": "UyJdYmH2mjey"
   },
   "outputs": [
    {
     "data": {
      "text/plain": [
       "<matplotlib.axes._subplots.AxesSubplot at 0x7fa97f062d60>"
      ]
     },
     "execution_count": 18,
     "metadata": {},
     "output_type": "execute_result"
    },
    {
     "data": {
      "image/png": "[encoded data removed]",
      "text/plain": [
       "<Figure size 432x288 with 1 Axes>"
      ]
     },
     "metadata": {
      "needs_background": "light"
     },
     "output_type": "display_data"
    }
   ],
   "source": [
    "sns.boxplot(df_good.salary)"
   ]
  },
  {
   "cell_type": "markdown",
   "metadata": {
    "colab_type": "text",
    "id": "SznQnNPCt8MW"
   },
   "source": [
    "##정규성 검정"
   ]
  },
  {
   "cell_type": "markdown",
   "metadata": {
    "colab_type": "text",
    "id": "VxH_5dxLwVAC"
   },
   "source": [
    "Anderson-Darling test : Anderson-Darling 통계량을 사용하여 분포 적합도를 평가하는 방법\n",
    "\n",
    "Anderson-Darling 검정의 p-값이 선택한 유의 수준(보통 0.05 또는 0.10)보다 작으면 데이터가 특정 분포를 따르지 않는다는 결론을 내립니다\n",
    "용어:\n",
    " > significance_level : 신뢰 수준\n",
    "\n",
    " > critical_values : 유의 수준(critical_region) 이 시작되는 점"
   ]
  },
  {
   "cell_type": "code",
   "execution_count": 19,
   "metadata": {
    "colab": {},
    "colab_type": "code",
    "id": "bxnmkqZIuI3M"
   },
   "outputs": [
    {
     "data": {
      "text/plain": [
       "AndersonResult(statistic=74.69497837288964, critical_values=array([0.573, 0.653, 0.783, 0.913, 1.086]), significance_level=array([15. , 10. ,  5. ,  2.5,  1. ]))"
      ]
     },
     "execution_count": 19,
     "metadata": {},
     "output_type": "execute_result"
    }
   ],
   "source": [
    "from scipy import stats\n",
    "stats.anderson(df_good.salary, dist='norm') #dist .{‘norm’,’expon’,’logistic’,’gumbel’,’gumbel_l’, gumbel_r’,‘extreme1’}"
   ]
  },
  {
   "cell_type": "markdown",
   "metadata": {
    "colab_type": "text",
    "id": "nQc19FA5wfEp"
   },
   "source": [
    "Shapiro-Wilk test for normality."
   ]
  },
  {
   "cell_type": "code",
   "execution_count": 20,
   "metadata": {
    "colab": {},
    "colab_type": "code",
    "id": "KaASAIgNwMIZ"
   },
   "outputs": [
    {
     "data": {
      "text/plain": [
       "(0.7483565807342529, 7.914987703802387e-33)"
      ]
     },
     "execution_count": 20,
     "metadata": {},
     "output_type": "execute_result"
    }
   ],
   "source": [
    "stats.shapiro(df_good.salary)"
   ]
  },
  {
   "cell_type": "markdown",
   "metadata": {
    "colab_type": "text",
    "id": "q1uGickXvSSC"
   },
   "source": [
    "##정규변환\n"
   ]
  },
  {
   "cell_type": "markdown",
   "metadata": {
    "colab_type": "text",
    "id": "7A3ViSuDwl9K"
   },
   "source": [
    "Log 변환\n",
    "[링크 텍스트](https://)"
   ]
  },
  {
   "cell_type": "code",
   "execution_count": 21,
   "metadata": {
    "colab": {},
    "colab_type": "code",
    "id": "PQmDpZ_Zwt2I"
   },
   "outputs": [
    {
     "data": {
      "text/plain": [
       "(0.8374944925308228, 1.6527851226175106e-27)"
      ]
     },
     "execution_count": 21,
     "metadata": {},
     "output_type": "execute_result"
    }
   ],
   "source": [
    "import numpy as np\n",
    "stats.shapiro(np.log(df_good.salary))"
   ]
  },
  {
   "cell_type": "markdown",
   "metadata": {
    "colab_type": "text",
    "id": "6pztxLSExLyR"
   },
   "source": [
    "표준화 standardization"
   ]
  },
  {
   "cell_type": "code",
   "execution_count": 22,
   "metadata": {
    "colab": {},
    "colab_type": "code",
    "id": "uXvIkdHpvwKA"
   },
   "outputs": [
    {
     "name": "stdout",
     "output_type": "stream",
     "text": [
      "평균=0.0000 , 표준편차=1.00\n"
     ]
    }
   ],
   "source": [
    "from sklearn import preprocessing\n",
    "df_sd=preprocessing.scale(df_good.salary) \n",
    "print('평균=%.4f , 표준편차=%.2f' %(df_sd.mean(),df_sd.std())) "
   ]
  },
  {
   "cell_type": "code",
   "execution_count": 23,
   "metadata": {
    "colab": {},
    "colab_type": "code",
    "id": "1yng1z0YxVij"
   },
   "outputs": [
    {
     "data": {
      "text/plain": [
       "(0.7483566999435425, 7.915078069930606e-33)"
      ]
     },
     "execution_count": 23,
     "metadata": {},
     "output_type": "execute_result"
    }
   ],
   "source": [
    "stats.shapiro(df_sd)"
   ]
  },
  {
   "cell_type": "markdown",
   "metadata": {
    "colab_type": "text",
    "id": "nWqXbuk8xT26"
   },
   "source": [
    "Centering 평균=0"
   ]
  },
  {
   "cell_type": "code",
   "execution_count": 24,
   "metadata": {
    "colab": {},
    "colab_type": "code",
    "id": "6bLMA2BExTPE"
   },
   "outputs": [
    {
     "name": "stdout",
     "output_type": "stream",
     "text": [
      "평균=-0.0000 , 표준편차=3455282.79\n"
     ]
    }
   ],
   "source": [
    "df_cen=preprocessing.scale(df['salary'],with_std=False) \n",
    "print('평균=%.4f , 표준편차=%.2f' %(df_cen.mean(),df_cen.std())) "
   ]
  },
  {
   "cell_type": "markdown",
   "metadata": {
    "colab_type": "text",
    "id": "DfjPSWcr0Bq6"
   },
   "source": [
    "Box-Cox Power Transformation"
   ]
  },
  {
   "cell_type": "code",
   "execution_count": 43,
   "metadata": {
    "colab": {},
    "colab_type": "code",
    "id": "wGmxnBMo1wFn"
   },
   "outputs": [
    {
     "name": "stdout",
     "output_type": "stream",
     "text": [
      "optimal lambda: -0.33413855319929875\n"
     ]
    }
   ],
   "source": [
    "import scipy.stats as stat\n",
    "xt,lmd=stat.boxcox(df_good.salary) # Box-Cox 변환은 정규분포가 아닌 자료를 정규분포로 변환하기 위해 사용된다\n",
    "print(\"optimal lambda:\", lmd)"
   ]
  },
  {
   "cell_type": "code",
   "execution_count": 44,
   "metadata": {},
   "outputs": [],
   "source": [
    "df_t=np.log(df_good.salary)"
   ]
  },
  {
   "cell_type": "code",
   "execution_count": null,
   "metadata": {},
   "outputs": [],
   "source": []
  },
  {
   "cell_type": "markdown",
   "metadata": {
    "colab_type": "text",
    "id": "OSKcJMKG5utQ"
   },
   "source": [
    "##Data split"
   ]
  },
  {
   "cell_type": "code",
   "execution_count": 31,
   "metadata": {
    "colab": {},
    "colab_type": "code",
    "id": "XrkFUYX-5wxF"
   },
   "outputs": [],
   "source": [
    "from sklearn.model_selection import train_test_split\n",
    "X_train, X_test= train_test_split(df_good.salary,test_size=0.3)"
   ]
  },
  {
   "cell_type": "code",
   "execution_count": 32,
   "metadata": {
    "colab": {},
    "colab_type": "code",
    "id": "uyKqHBM_98d6"
   },
   "outputs": [],
   "source": [
    "import pandas as pd\n",
    "bat=pd.read_csv('../datasets/Batting.csv')\n",
    "salary=pd.read_csv('../datasets/Salaries.csv')\n",
    "df_bat=bat[bat.yearID==2016]\n",
    "df_sal=salary[salary.yearID==2016]"
   ]
  },
  {
   "cell_type": "code",
   "execution_count": 33,
   "metadata": {
    "colab": {},
    "colab_type": "code",
    "id": "FCYrq4fn-gBc",
    "scrolled": true
   },
   "outputs": [
    {
     "data": {
      "text/html": [
       "<div>\n",
       "<style scoped>\n",
       "    .dataframe tbody tr th:only-of-type {\n",
       "        vertical-align: middle;\n",
       "    }\n",
       "\n",
       "    .dataframe tbody tr th {\n",
       "        vertical-align: top;\n",
       "    }\n",
       "\n",
       "    .dataframe thead th {\n",
       "        text-align: right;\n",
       "    }\n",
       "</style>\n",
       "<table border=\"1\" class=\"dataframe\">\n",
       "  <thead>\n",
       "    <tr style=\"text-align: right;\">\n",
       "      <th></th>\n",
       "      <th>playerID</th>\n",
       "      <th>yearID_x</th>\n",
       "      <th>stint</th>\n",
       "      <th>teamID_x</th>\n",
       "      <th>lgID_x</th>\n",
       "      <th>G</th>\n",
       "      <th>AB</th>\n",
       "      <th>R</th>\n",
       "      <th>H</th>\n",
       "      <th>2B</th>\n",
       "      <th>...</th>\n",
       "      <th>SO</th>\n",
       "      <th>IBB</th>\n",
       "      <th>HBP</th>\n",
       "      <th>SH</th>\n",
       "      <th>SF</th>\n",
       "      <th>GIDP</th>\n",
       "      <th>yearID_y</th>\n",
       "      <th>teamID_y</th>\n",
       "      <th>lgID_y</th>\n",
       "      <th>salary</th>\n",
       "    </tr>\n",
       "  </thead>\n",
       "  <tbody>\n",
       "    <tr>\n",
       "      <th>0</th>\n",
       "      <td>abadfe01</td>\n",
       "      <td>2016</td>\n",
       "      <td>1</td>\n",
       "      <td>MIN</td>\n",
       "      <td>AL</td>\n",
       "      <td>39</td>\n",
       "      <td>1</td>\n",
       "      <td>0</td>\n",
       "      <td>0</td>\n",
       "      <td>0</td>\n",
       "      <td>...</td>\n",
       "      <td>1.0</td>\n",
       "      <td>0.0</td>\n",
       "      <td>0.0</td>\n",
       "      <td>0.0</td>\n",
       "      <td>0.0</td>\n",
       "      <td>0.0</td>\n",
       "      <td>2016</td>\n",
       "      <td>MIN</td>\n",
       "      <td>AL</td>\n",
       "      <td>1250000</td>\n",
       "    </tr>\n",
       "    <tr>\n",
       "      <th>1</th>\n",
       "      <td>abadfe01</td>\n",
       "      <td>2016</td>\n",
       "      <td>2</td>\n",
       "      <td>BOS</td>\n",
       "      <td>AL</td>\n",
       "      <td>18</td>\n",
       "      <td>0</td>\n",
       "      <td>0</td>\n",
       "      <td>0</td>\n",
       "      <td>0</td>\n",
       "      <td>...</td>\n",
       "      <td>0.0</td>\n",
       "      <td>0.0</td>\n",
       "      <td>0.0</td>\n",
       "      <td>0.0</td>\n",
       "      <td>0.0</td>\n",
       "      <td>0.0</td>\n",
       "      <td>2016</td>\n",
       "      <td>MIN</td>\n",
       "      <td>AL</td>\n",
       "      <td>1250000</td>\n",
       "    </tr>\n",
       "    <tr>\n",
       "      <th>2</th>\n",
       "      <td>abreujo02</td>\n",
       "      <td>2016</td>\n",
       "      <td>1</td>\n",
       "      <td>CHA</td>\n",
       "      <td>AL</td>\n",
       "      <td>159</td>\n",
       "      <td>624</td>\n",
       "      <td>67</td>\n",
       "      <td>183</td>\n",
       "      <td>32</td>\n",
       "      <td>...</td>\n",
       "      <td>125.0</td>\n",
       "      <td>7.0</td>\n",
       "      <td>15.0</td>\n",
       "      <td>0.0</td>\n",
       "      <td>9.0</td>\n",
       "      <td>21.0</td>\n",
       "      <td>2016</td>\n",
       "      <td>CHA</td>\n",
       "      <td>AL</td>\n",
       "      <td>11666667</td>\n",
       "    </tr>\n",
       "    <tr>\n",
       "      <th>3</th>\n",
       "      <td>ackledu01</td>\n",
       "      <td>2016</td>\n",
       "      <td>1</td>\n",
       "      <td>NYA</td>\n",
       "      <td>AL</td>\n",
       "      <td>28</td>\n",
       "      <td>61</td>\n",
       "      <td>6</td>\n",
       "      <td>9</td>\n",
       "      <td>0</td>\n",
       "      <td>...</td>\n",
       "      <td>9.0</td>\n",
       "      <td>0.0</td>\n",
       "      <td>0.0</td>\n",
       "      <td>0.0</td>\n",
       "      <td>1.0</td>\n",
       "      <td>0.0</td>\n",
       "      <td>2016</td>\n",
       "      <td>NYA</td>\n",
       "      <td>AL</td>\n",
       "      <td>3200000</td>\n",
       "    </tr>\n",
       "    <tr>\n",
       "      <th>4</th>\n",
       "      <td>adamecr01</td>\n",
       "      <td>2016</td>\n",
       "      <td>1</td>\n",
       "      <td>COL</td>\n",
       "      <td>NL</td>\n",
       "      <td>121</td>\n",
       "      <td>225</td>\n",
       "      <td>25</td>\n",
       "      <td>49</td>\n",
       "      <td>7</td>\n",
       "      <td>...</td>\n",
       "      <td>47.0</td>\n",
       "      <td>0.0</td>\n",
       "      <td>4.0</td>\n",
       "      <td>3.0</td>\n",
       "      <td>0.0</td>\n",
       "      <td>5.0</td>\n",
       "      <td>2016</td>\n",
       "      <td>COL</td>\n",
       "      <td>NL</td>\n",
       "      <td>509500</td>\n",
       "    </tr>\n",
       "  </tbody>\n",
       "</table>\n",
       "<p>5 rows × 26 columns</p>\n",
       "</div>"
      ],
      "text/plain": [
       "    playerID  yearID_x  stint teamID_x lgID_x    G   AB   R    H  2B  ...  \\\n",
       "0   abadfe01      2016      1      MIN     AL   39    1   0    0   0  ...   \n",
       "1   abadfe01      2016      2      BOS     AL   18    0   0    0   0  ...   \n",
       "2  abreujo02      2016      1      CHA     AL  159  624  67  183  32  ...   \n",
       "3  ackledu01      2016      1      NYA     AL   28   61   6    9   0  ...   \n",
       "4  adamecr01      2016      1      COL     NL  121  225  25   49   7  ...   \n",
       "\n",
       "      SO  IBB   HBP   SH   SF  GIDP  yearID_y  teamID_y  lgID_y    salary  \n",
       "0    1.0  0.0   0.0  0.0  0.0   0.0      2016       MIN      AL   1250000  \n",
       "1    0.0  0.0   0.0  0.0  0.0   0.0      2016       MIN      AL   1250000  \n",
       "2  125.0  7.0  15.0  0.0  9.0  21.0      2016       CHA      AL  11666667  \n",
       "3    9.0  0.0   0.0  0.0  1.0   0.0      2016       NYA      AL   3200000  \n",
       "4   47.0  0.0   4.0  3.0  0.0   5.0      2016       COL      NL    509500  \n",
       "\n",
       "[5 rows x 26 columns]"
      ]
     },
     "execution_count": 33,
     "metadata": {},
     "output_type": "execute_result"
    }
   ],
   "source": [
    "df_bat_sal=pd.merge(df_bat,df_sal,on='playerID')\n",
    "df_bat_sal.head()"
   ]
  },
  {
   "cell_type": "code",
   "execution_count": 34,
   "metadata": {
    "colab": {},
    "colab_type": "code",
    "id": "-rDseTmm_hDD"
   },
   "outputs": [],
   "source": [
    "df_bat_sal.set_index('playerID',inplace=True)"
   ]
  },
  {
   "cell_type": "code",
   "execution_count": 35,
   "metadata": {
    "colab": {},
    "colab_type": "code",
    "id": "RsgaJyIV_09A"
   },
   "outputs": [],
   "source": [
    "from sklearn.model_selection import train_test_split\n",
    "x,y=df_bat_sal.iloc[:,4:21],df_bat_sal.salary\n",
    "x_train,x_test,y_train,y_test=train_test_split(x,y,train_size=0.7,test_size=0.3,random_state=123)"
   ]
  },
  {
   "cell_type": "code",
   "execution_count": 42,
   "metadata": {},
   "outputs": [
    {
     "name": "stdout",
     "output_type": "stream",
     "text": [
      "<class 'pandas.core.frame.DataFrame'>\n",
      "Index: 271 entries, perezsa02 to hanigry01\n",
      "Data columns (total 17 columns):\n",
      " #   Column  Non-Null Count  Dtype  \n",
      "---  ------  --------------  -----  \n",
      " 0   G       271 non-null    int64  \n",
      " 1   AB      271 non-null    int64  \n",
      " 2   R       271 non-null    int64  \n",
      " 3   H       271 non-null    int64  \n",
      " 4   2B      271 non-null    int64  \n",
      " 5   3B      271 non-null    int64  \n",
      " 6   HR      271 non-null    int64  \n",
      " 7   RBI     271 non-null    float64\n",
      " 8   SB      271 non-null    float64\n",
      " 9   CS      271 non-null    float64\n",
      " 10  BB      271 non-null    int64  \n",
      " 11  SO      271 non-null    float64\n",
      " 12  IBB     271 non-null    float64\n",
      " 13  HBP     271 non-null    float64\n",
      " 14  SH      271 non-null    float64\n",
      " 15  SF      271 non-null    float64\n",
      " 16  GIDP    271 non-null    float64\n",
      "dtypes: float64(9), int64(8)\n",
      "memory usage: 38.1+ KB\n"
     ]
    }
   ],
   "source": [
    "x_test.info()"
   ]
  },
  {
   "cell_type": "code",
   "execution_count": 36,
   "metadata": {
    "colab": {},
    "colab_type": "code",
    "id": "QoDFIwk2BcsD"
   },
   "outputs": [
    {
     "data": {
      "text/plain": [
       "<matplotlib.collections.PathCollection at 0x7fa97dd33a30>"
      ]
     },
     "execution_count": 36,
     "metadata": {},
     "output_type": "execute_result"
    },
    {
     "data": {
      "image/png": "[encoded data removed]",
      "text/plain": [
       "<Figure size 432x288 with 1 Axes>"
      ]
     },
     "metadata": {
      "needs_background": "light"
     },
     "output_type": "display_data"
    }
   ],
   "source": [
    "from sklearn.linear_model import LinearRegression as lm\n",
    "model=lm().fit(x_train,y_train)\n",
    "predictions=model.predict(x_test)\n",
    "import matplotlib.pyplot as plt\n",
    "plt.scatter(y_test,predictions)"
   ]
  },
  {
   "cell_type": "code",
   "execution_count": 37,
   "metadata": {
    "colab": {},
    "colab_type": "code",
    "id": "rGRcBmVwBs5t"
   },
   "outputs": [],
   "source": [
    "coef = model.coef_"
   ]
  },
  {
   "cell_type": "code",
   "execution_count": 40,
   "metadata": {},
   "outputs": [
    {
     "data": {
      "text/html": [
       "<div>\n",
       "<style scoped>\n",
       "    .dataframe tbody tr th:only-of-type {\n",
       "        vertical-align: middle;\n",
       "    }\n",
       "\n",
       "    .dataframe tbody tr th {\n",
       "        vertical-align: top;\n",
       "    }\n",
       "\n",
       "    .dataframe thead th {\n",
       "        text-align: right;\n",
       "    }\n",
       "</style>\n",
       "<table border=\"1\" class=\"dataframe\">\n",
       "  <thead>\n",
       "    <tr style=\"text-align: right;\">\n",
       "      <th></th>\n",
       "      <th>0</th>\n",
       "    </tr>\n",
       "  </thead>\n",
       "  <tbody>\n",
       "    <tr>\n",
       "      <th>0</th>\n",
       "      <td>-32537.413835</td>\n",
       "    </tr>\n",
       "    <tr>\n",
       "      <th>1</th>\n",
       "      <td>5707.720475</td>\n",
       "    </tr>\n",
       "    <tr>\n",
       "      <th>2</th>\n",
       "      <td>3764.966685</td>\n",
       "    </tr>\n",
       "    <tr>\n",
       "      <th>3</th>\n",
       "      <td>54305.857308</td>\n",
       "    </tr>\n",
       "    <tr>\n",
       "      <th>4</th>\n",
       "      <td>-225235.531865</td>\n",
       "    </tr>\n",
       "    <tr>\n",
       "      <th>5</th>\n",
       "      <td>-533998.003822</td>\n",
       "    </tr>\n",
       "    <tr>\n",
       "      <th>6</th>\n",
       "      <td>3445.583440</td>\n",
       "    </tr>\n",
       "    <tr>\n",
       "      <th>7</th>\n",
       "      <td>50092.645876</td>\n",
       "    </tr>\n",
       "    <tr>\n",
       "      <th>8</th>\n",
       "      <td>36283.790049</td>\n",
       "    </tr>\n",
       "    <tr>\n",
       "      <th>9</th>\n",
       "      <td>-419255.014339</td>\n",
       "    </tr>\n",
       "    <tr>\n",
       "      <th>10</th>\n",
       "      <td>80831.725093</td>\n",
       "    </tr>\n",
       "    <tr>\n",
       "      <th>11</th>\n",
       "      <td>-42904.025065</td>\n",
       "    </tr>\n",
       "    <tr>\n",
       "      <th>12</th>\n",
       "      <td>165005.153598</td>\n",
       "    </tr>\n",
       "    <tr>\n",
       "      <th>13</th>\n",
       "      <td>-100820.170446</td>\n",
       "    </tr>\n",
       "    <tr>\n",
       "      <th>14</th>\n",
       "      <td>203120.144939</td>\n",
       "    </tr>\n",
       "    <tr>\n",
       "      <th>15</th>\n",
       "      <td>-998.825705</td>\n",
       "    </tr>\n",
       "    <tr>\n",
       "      <th>16</th>\n",
       "      <td>132892.973236</td>\n",
       "    </tr>\n",
       "  </tbody>\n",
       "</table>\n",
       "</div>"
      ],
      "text/plain": [
       "                0\n",
       "0   -32537.413835\n",
       "1     5707.720475\n",
       "2     3764.966685\n",
       "3    54305.857308\n",
       "4  -225235.531865\n",
       "5  -533998.003822\n",
       "6     3445.583440\n",
       "7    50092.645876\n",
       "8    36283.790049\n",
       "9  -419255.014339\n",
       "10   80831.725093\n",
       "11  -42904.025065\n",
       "12  165005.153598\n",
       "13 -100820.170446\n",
       "14  203120.144939\n",
       "15    -998.825705\n",
       "16  132892.973236"
      ]
     },
     "execution_count": 40,
     "metadata": {},
     "output_type": "execute_result"
    }
   ],
   "source": [
    "pd.DataFrame(coef)"
   ]
  },
  {
   "cell_type": "code",
   "execution_count": null,
   "metadata": {},
   "outputs": [],
   "source": []
  }
 ],
 "metadata": {
  "colab": {
   "collapsed_sections": [],
   "name": "T아카데미2강20200109.ipynb",
   "private_outputs": true,
   "provenance": []
  },
  "kernelspec": {
   "display_name": "Python 3",
   "language": "python",
   "name": "python3"
  },
  "language_info": {
   "codemirror_mode": {
    "name": "ipython",
    "version": 3
   },
   "file_extension": ".py",
   "mimetype": "text/x-python",
   "name": "python",
   "nbconvert_exporter": "python",
   "pygments_lexer": "ipython3",
   "version": "3.8.5"
  }
 },
 "nbformat": 4,
 "nbformat_minor": 1
}
