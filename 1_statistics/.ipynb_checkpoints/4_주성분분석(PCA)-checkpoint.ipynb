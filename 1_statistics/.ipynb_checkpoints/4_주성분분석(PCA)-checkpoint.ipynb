{
 "cells": [
  {
   "cell_type": "code",
   "execution_count": null,
   "metadata": {
    "colab": {},
    "colab_type": "code",
    "id": "UHEXOTXyW5fA"
   },
   "outputs": [],
   "source": [
    "import pandas as pd\n",
    "salary=pd.read_csv('http://wolfpack.hnu.ac.kr/Big_Data/data/MLB1871_2018/Salaries.csv')\n",
    "bat=pd.read_csv('http://203.247.53.31/Big_Data/data/MLB1871_2018/Batting.csv')\n",
    "df_sal=salary[(salary.yearID==2016) & (salary.salary>0)]; df_bat=bat[bat.yearID==2016]\n",
    "df=pd.merge(df_sal,df_bat,on='playerID')\n",
    "df.sort_values(['playerID','stint'], ascending=False,inplace = True) \n",
    "df['move']=df['playerID'].duplicated() \n",
    "df0=df[(df['move']==False)&(df.stint==1)]\n",
    "df0.drop(['yearID_x','yearID_y','teamID_y','lgID_y','stint','move'],axis=1,inplace=True)\n",
    "df0.set_index('playerID',inplace=True)\n",
    "df0.dropna(inplace=True)\n",
    "df0.head(3)"
   ]
  },
  {
   "cell_type": "code",
   "execution_count": null,
   "metadata": {
    "colab": {},
    "colab_type": "code",
    "id": "yziSijgVYQ5e"
   },
   "outputs": [],
   "source": [
    "df=df0.iloc[:,3:20]\n",
    "df.head(3)"
   ]
  },
  {
   "cell_type": "code",
   "execution_count": null,
   "metadata": {
    "colab": {},
    "colab_type": "code",
    "id": "i4orUhm9lHfd"
   },
   "outputs": [],
   "source": [
    "df0=df[df['HR']>=30]\n",
    "df0.shape"
   ]
  },
  {
   "cell_type": "markdown",
   "metadata": {
    "colab_type": "text",
    "id": "mDgcfbJjW1Zn"
   },
   "source": [
    "PCA"
   ]
  },
  {
   "cell_type": "code",
   "execution_count": null,
   "metadata": {
    "colab": {},
    "colab_type": "code",
    "id": "4AZNoPM7Wqr5"
   },
   "outputs": [],
   "source": [
    "from sklearn.preprocessing import StandardScaler\n",
    "X=StandardScaler(with_std=False).fit_transform(df0) #scale standardization\n",
    "from sklearn.decomposition import PCA\n",
    "pca=PCA(0.8) #80% rule =0.8 or n_components=2\n",
    "df_pca=pca.fit_transform(X) #PC variables"
   ]
  },
  {
   "cell_type": "code",
   "execution_count": null,
   "metadata": {},
   "outputs": [],
   "source": [
    "pd.DataFrame(df_pca)"
   ]
  },
  {
   "cell_type": "code",
   "execution_count": null,
   "metadata": {
    "colab": {},
    "colab_type": "code",
    "id": "evSwGRH9X6yN"
   },
   "outputs": [],
   "source": [
    "import matplotlib.pyplot as plt\n",
    "plt.plot(df_pca)\n",
    "plt.title('PCA')\n",
    "plt.show()"
   ]
  },
  {
   "cell_type": "markdown",
   "metadata": {
    "colab_type": "text",
    "id": "JTNzAZTEnesH"
   },
   "source": [
    "주성분 개체 출력"
   ]
  },
  {
   "cell_type": "code",
   "execution_count": null,
   "metadata": {
    "colab": {},
    "colab_type": "code",
    "id": "Xuz-bGyhni61"
   },
   "outputs": [],
   "source": [
    "df_loading=pd.DataFrame(pca.components_.T)\n",
    "df_loading.set_index(df0.columns)"
   ]
  },
  {
   "cell_type": "code",
   "execution_count": null,
   "metadata": {
    "colab": {},
    "colab_type": "code",
    "id": "Z6_My3kBp6Bg"
   },
   "outputs": [],
   "source": [
    "pca_df=pd.DataFrame(df_pca,columns=['AB','SO']) \n",
    "pca_df.set_index(df0.index,inplace=True)\n",
    "pca_df.reset_index(inplace=True)\n",
    "pca_df.head(3)"
   ]
  },
  {
   "cell_type": "code",
   "execution_count": null,
   "metadata": {
    "colab": {},
    "colab_type": "code",
    "id": "wTFXEmtIqpZK",
    "scrolled": true
   },
   "outputs": [],
   "source": [
    "import plotly.express as px\n",
    "fig=px.scatter(pca_df,x='AB',y='SO',text='playerID')\n",
    "fig.show()"
   ]
  },
  {
   "cell_type": "code",
   "execution_count": null,
   "metadata": {},
   "outputs": [],
   "source": []
  }
 ],
 "metadata": {
  "colab": {
   "name": "T아카데미5강20200109.ipynb",
   "private_outputs": true,
   "provenance": []
  },
  "kernelspec": {
   "display_name": "Python 3",
   "language": "python",
   "name": "python3"
  },
  "language_info": {
   "codemirror_mode": {
    "name": "ipython",
    "version": 3
   },
   "file_extension": ".py",
   "mimetype": "text/x-python",
   "name": "python",
   "nbconvert_exporter": "python",
   "pygments_lexer": "ipython3",
   "version": "3.8.5"
  }
 },
 "nbformat": 4,
 "nbformat_minor": 1
}
