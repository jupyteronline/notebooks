{
 "cells": [
  {
   "cell_type": "raw",
   "metadata": {
    "colab": {
     "base_uri": "https://localhost:8080/",
     "height": 36
    },
    "colab_type": "code",
    "id": "JDHI0zqg6izy",
    "outputId": "af9679f2-58d3-4050-96cf-96568651575a"
   },
   "source": [
    "# # from google.colab import auth\n",
    "# # auth.authenticate_user()\n",
    "\n",
    "# from google.colab import drive\n",
    "# drive.mount('/content/gdrive')"
   ]
  },
  {
   "cell_type": "raw",
   "metadata": {
    "colab": {
     "base_uri": "https://localhost:8080/",
     "height": 36
    },
    "colab_type": "code",
    "id": "9VuEO3Ls62Fz",
    "outputId": "a9924de8-bf09-4687-8355-2d01adbd40c0"
   },
   "source": [
    "# # 경로 변경\n",
    "# cd /content/gdrive/My Drive/AIBM/20191030/"
   ]
  },
  {
   "cell_type": "markdown",
   "metadata": {},
   "source": [
    "[혈압·혈당 데이터](https://nhiss.nhis.or.kr/bd/ab/bdabf003cv.do)\n",
    "\n",
    "[연도] 2013~2014년 일반검진 및 생애전환기 건강검진 데이터 1,000,000건\n",
    "[항목] 연령, 수축기혈압, 이완기혈압, 공복혈당, 성별, 고혈압/당뇨병 진료여부, 체질량지수\n",
    "[변수]\n",
    "- BTH_G : 연령(그룹)\n",
    "- SBP : 수축기혈압\n",
    "- DBP : 이완기혈압\n",
    "- FBS : 공복혈당\n",
    "- SEX : 성별(남성:1, 여성:2)\n",
    "- DIS : 고혈압/당뇨병 진료여부\n",
    "고혈압/당뇨병 진료내역 있음: 1\n",
    "고혈압 진료내역 있음: 2\n",
    "당뇨병 진료내역 있음: 3\n",
    "고혈압/당뇨병 진료내역 없음: 4\n",
    "- BMI : 체질량지수\n",
    "[파일형식] excel, csv file\n",
    "※ csv file은 쉼표로 구분한 텍스트 파일로서 워드패드, 통계프로그램(SPSS, SAS 등)에서 조회 가능 합니다."
   ]
  },
  {
   "cell_type": "code",
   "execution_count": 1,
   "metadata": {
    "colab": {},
    "colab_type": "code",
    "id": "RCBSGWuy6eGx"
   },
   "outputs": [],
   "source": [
    "import pandas as pd\n",
    "import numpy as np\n",
    "import os\n",
    "\n",
    "#os.chdir(\"C://Users//inhwan//Desktop\")"
   ]
  },
  {
   "cell_type": "code",
   "execution_count": 2,
   "metadata": {
    "colab": {
     "base_uri": "https://localhost:8080/",
     "height": 54
    },
    "colab_type": "code",
    "id": "HmLJ2KRE8F6K",
    "outputId": "4948a708-1639-4c0a-b633-6c3a23ac3071",
    "scrolled": true
   },
   "outputs": [
    {
     "name": "stdout",
     "output_type": "stream",
     "text": [
      " 1_분포.ipynb\r\n",
      " 2_정규변환.ipynb\r\n",
      " 3_상관분석.ipynb\r\n",
      "'4_주성분분석(PCA).ipynb'\r\n",
      " 5_판별분석.ipynb\r\n",
      " 99_당뇨질환판별.ipynb\r\n",
      " 국가건강검진_혈압혈당데이터.csv\r\n",
      " diabetes_analysis.ipynb\r\n",
      " diabetes_analysis_two_way_anova_20191031.ipynb\r\n",
      " diabetes_analysis_two_way_anova.ipynb\r\n",
      " 변수설명_혈압혈당.hwp\r\n",
      "'빅데이터에서의_통계_개념_및_활용_강의자료_(최종).pdf'\r\n"
     ]
    }
   ],
   "source": [
    "!ls"
   ]
  },
  {
   "cell_type": "code",
   "execution_count": 3,
   "metadata": {
    "colab": {},
    "colab_type": "code",
    "id": "QP85ybdF6eG2"
   },
   "outputs": [],
   "source": [
    "data = pd.read_csv(\"국가건강검진_혈압혈당데이터.csv\", engine = 'python')"
   ]
  },
  {
   "cell_type": "code",
   "execution_count": 4,
   "metadata": {
    "colab": {
     "base_uri": "https://localhost:8080/",
     "height": 198
    },
    "colab_type": "code",
    "id": "9lGn0ch76eG4",
    "outputId": "fcc19b12-53d4-4587-cd54-a08f3fe1f020",
    "scrolled": true
   },
   "outputs": [
    {
     "name": "stdout",
     "output_type": "stream",
     "text": [
      "<class 'pandas.core.frame.DataFrame'>\n",
      "RangeIndex: 1000000 entries, 0 to 999999\n",
      "Data columns (total 7 columns):\n",
      " #   Column  Non-Null Count    Dtype  \n",
      "---  ------  --------------    -----  \n",
      " 0   SEX     1000000 non-null  int64  \n",
      " 1   BTH_G   1000000 non-null  int64  \n",
      " 2   SBP     1000000 non-null  int64  \n",
      " 3   DBP     1000000 non-null  int64  \n",
      " 4   FBS     1000000 non-null  int64  \n",
      " 5   DIS     1000000 non-null  int64  \n",
      " 6   BMI     1000000 non-null  float64\n",
      "dtypes: float64(1), int64(6)\n",
      "memory usage: 53.4 MB\n"
     ]
    }
   ],
   "source": [
    "data.info()"
   ]
  },
  {
   "cell_type": "markdown",
   "metadata": {},
   "source": [
    "# 데이터 형 변환"
   ]
  },
  {
   "cell_type": "code",
   "execution_count": 5,
   "metadata": {},
   "outputs": [],
   "source": [
    "convert_dict = {'SEX': object, \n",
    "                'BTH_G': object,\n",
    "                'SBP': int,\n",
    "                'DBP': int,\n",
    "                'FBS': int,\n",
    "                'DIS': object,\n",
    "                'BMI': float\n",
    "               } "
   ]
  },
  {
   "cell_type": "code",
   "execution_count": 6,
   "metadata": {},
   "outputs": [],
   "source": [
    "data = data.astype(convert_dict)"
   ]
  },
  {
   "cell_type": "code",
   "execution_count": 7,
   "metadata": {},
   "outputs": [
    {
     "name": "stdout",
     "output_type": "stream",
     "text": [
      "<class 'pandas.core.frame.DataFrame'>\n",
      "RangeIndex: 1000000 entries, 0 to 999999\n",
      "Data columns (total 7 columns):\n",
      " #   Column  Non-Null Count    Dtype  \n",
      "---  ------  --------------    -----  \n",
      " 0   SEX     1000000 non-null  object \n",
      " 1   BTH_G   1000000 non-null  object \n",
      " 2   SBP     1000000 non-null  int64  \n",
      " 3   DBP     1000000 non-null  int64  \n",
      " 4   FBS     1000000 non-null  int64  \n",
      " 5   DIS     1000000 non-null  object \n",
      " 6   BMI     1000000 non-null  float64\n",
      "dtypes: float64(1), int64(3), object(3)\n",
      "memory usage: 53.4+ MB\n"
     ]
    }
   ],
   "source": [
    "data.info()"
   ]
  },
  {
   "cell_type": "markdown",
   "metadata": {
    "colab_type": "text",
    "id": "NFNuFa4R6eG8"
   },
   "source": [
    "## 데이터 범주화 및 y라벨 설정"
   ]
  },
  {
   "cell_type": "code",
   "execution_count": 8,
   "metadata": {
    "colab": {},
    "colab_type": "code",
    "id": "Pv53zZNu6eHB"
   },
   "outputs": [],
   "source": [
    "data = data.drop('DIS', axis = 1)"
   ]
  },
  {
   "cell_type": "code",
   "execution_count": 9,
   "metadata": {
    "colab": {},
    "colab_type": "code",
    "id": "L_jhRNJsC9cZ"
   },
   "outputs": [],
   "source": [
    "data['SBP_A'] = data['SBP'].apply(lambda x : 0 if x < 120 else 1 ) # 위험:1 정상:0"
   ]
  },
  {
   "cell_type": "code",
   "execution_count": 10,
   "metadata": {
    "colab": {},
    "colab_type": "code",
    "id": "t433P7tvC9-K"
   },
   "outputs": [],
   "source": [
    "data['DBP_A'] = data['DBP'].apply(lambda x : 0 if x < 80 else 1 ) # 위험:1 정상:0"
   ]
  },
  {
   "cell_type": "code",
   "execution_count": 11,
   "metadata": {
    "colab": {},
    "colab_type": "code",
    "id": "uv6d4tO_DnXE"
   },
   "outputs": [],
   "source": [
    "data['FBS_A'] = data['FBS'].apply(lambda x : 0 if x < 126 else 1 ) # 위험:1 정상:0"
   ]
  },
  {
   "cell_type": "code",
   "execution_count": 12,
   "metadata": {
    "colab": {},
    "colab_type": "code",
    "id": "BKl98nxLEJeE"
   },
   "outputs": [],
   "source": [
    "data['BMI_A'] = data['BMI'].apply(lambda x : 0 if x < 27 else 1 ) # 위험:1 정상:0"
   ]
  },
  {
   "cell_type": "code",
   "execution_count": 13,
   "metadata": {
    "colab": {
     "base_uri": "https://localhost:8080/",
     "height": 198
    },
    "colab_type": "code",
    "id": "mb-nHATk8vYH",
    "outputId": "5e4e0e4b-598e-4bd3-f130-b3772a46e872"
   },
   "outputs": [
    {
     "data": {
      "text/html": [
       "<div>\n",
       "<style scoped>\n",
       "    .dataframe tbody tr th:only-of-type {\n",
       "        vertical-align: middle;\n",
       "    }\n",
       "\n",
       "    .dataframe tbody tr th {\n",
       "        vertical-align: top;\n",
       "    }\n",
       "\n",
       "    .dataframe thead th {\n",
       "        text-align: right;\n",
       "    }\n",
       "</style>\n",
       "<table border=\"1\" class=\"dataframe\">\n",
       "  <thead>\n",
       "    <tr style=\"text-align: right;\">\n",
       "      <th></th>\n",
       "      <th>SEX</th>\n",
       "      <th>BTH_G</th>\n",
       "      <th>SBP</th>\n",
       "      <th>DBP</th>\n",
       "      <th>FBS</th>\n",
       "      <th>BMI</th>\n",
       "      <th>SBP_A</th>\n",
       "      <th>DBP_A</th>\n",
       "      <th>FBS_A</th>\n",
       "      <th>BMI_A</th>\n",
       "    </tr>\n",
       "  </thead>\n",
       "  <tbody>\n",
       "    <tr>\n",
       "      <th>0</th>\n",
       "      <td>1</td>\n",
       "      <td>1</td>\n",
       "      <td>116</td>\n",
       "      <td>78</td>\n",
       "      <td>94</td>\n",
       "      <td>16.6</td>\n",
       "      <td>0</td>\n",
       "      <td>0</td>\n",
       "      <td>0</td>\n",
       "      <td>0</td>\n",
       "    </tr>\n",
       "    <tr>\n",
       "      <th>1</th>\n",
       "      <td>1</td>\n",
       "      <td>1</td>\n",
       "      <td>100</td>\n",
       "      <td>60</td>\n",
       "      <td>79</td>\n",
       "      <td>22.3</td>\n",
       "      <td>0</td>\n",
       "      <td>0</td>\n",
       "      <td>0</td>\n",
       "      <td>0</td>\n",
       "    </tr>\n",
       "    <tr>\n",
       "      <th>2</th>\n",
       "      <td>1</td>\n",
       "      <td>1</td>\n",
       "      <td>100</td>\n",
       "      <td>60</td>\n",
       "      <td>87</td>\n",
       "      <td>21.9</td>\n",
       "      <td>0</td>\n",
       "      <td>0</td>\n",
       "      <td>0</td>\n",
       "      <td>0</td>\n",
       "    </tr>\n",
       "    <tr>\n",
       "      <th>3</th>\n",
       "      <td>1</td>\n",
       "      <td>1</td>\n",
       "      <td>111</td>\n",
       "      <td>70</td>\n",
       "      <td>72</td>\n",
       "      <td>20.2</td>\n",
       "      <td>0</td>\n",
       "      <td>0</td>\n",
       "      <td>0</td>\n",
       "      <td>0</td>\n",
       "    </tr>\n",
       "    <tr>\n",
       "      <th>4</th>\n",
       "      <td>1</td>\n",
       "      <td>1</td>\n",
       "      <td>120</td>\n",
       "      <td>80</td>\n",
       "      <td>98</td>\n",
       "      <td>20.0</td>\n",
       "      <td>1</td>\n",
       "      <td>1</td>\n",
       "      <td>0</td>\n",
       "      <td>0</td>\n",
       "    </tr>\n",
       "  </tbody>\n",
       "</table>\n",
       "</div>"
      ],
      "text/plain": [
       "  SEX BTH_G  SBP  DBP  FBS   BMI  SBP_A  DBP_A  FBS_A  BMI_A\n",
       "0   1     1  116   78   94  16.6      0      0      0      0\n",
       "1   1     1  100   60   79  22.3      0      0      0      0\n",
       "2   1     1  100   60   87  21.9      0      0      0      0\n",
       "3   1     1  111   70   72  20.2      0      0      0      0\n",
       "4   1     1  120   80   98  20.0      1      1      0      0"
      ]
     },
     "execution_count": 13,
     "metadata": {},
     "output_type": "execute_result"
    }
   ],
   "source": [
    "data.head()"
   ]
  },
  {
   "cell_type": "code",
   "execution_count": 14,
   "metadata": {
    "colab": {
     "base_uri": "https://localhost:8080/",
     "height": 36
    },
    "colab_type": "code",
    "id": "VrKM92TKEeMV",
    "outputId": "4f126596-d9c0-4ee4-9189-80054ca80622",
    "scrolled": true
   },
   "outputs": [
    {
     "name": "stdout",
     "output_type": "stream",
     "text": [
      "<class 'pandas.core.frame.DataFrame'>\n",
      "RangeIndex: 1000000 entries, 0 to 999999\n",
      "Data columns (total 10 columns):\n",
      " #   Column  Non-Null Count    Dtype  \n",
      "---  ------  --------------    -----  \n",
      " 0   SEX     1000000 non-null  object \n",
      " 1   BTH_G   1000000 non-null  object \n",
      " 2   SBP     1000000 non-null  int64  \n",
      " 3   DBP     1000000 non-null  int64  \n",
      " 4   FBS     1000000 non-null  int64  \n",
      " 5   BMI     1000000 non-null  float64\n",
      " 6   SBP_A   1000000 non-null  int64  \n",
      " 7   DBP_A   1000000 non-null  int64  \n",
      " 8   FBS_A   1000000 non-null  int64  \n",
      " 9   BMI_A   1000000 non-null  int64  \n",
      "dtypes: float64(1), int64(7), object(2)\n",
      "memory usage: 76.3+ MB\n"
     ]
    }
   ],
   "source": [
    "data.info()"
   ]
  },
  {
   "cell_type": "code",
   "execution_count": 15,
   "metadata": {},
   "outputs": [
    {
     "data": {
      "text/html": [
       "<div>\n",
       "<style scoped>\n",
       "    .dataframe tbody tr th:only-of-type {\n",
       "        vertical-align: middle;\n",
       "    }\n",
       "\n",
       "    .dataframe tbody tr th {\n",
       "        vertical-align: top;\n",
       "    }\n",
       "\n",
       "    .dataframe thead th {\n",
       "        text-align: right;\n",
       "    }\n",
       "</style>\n",
       "<table border=\"1\" class=\"dataframe\">\n",
       "  <thead>\n",
       "    <tr style=\"text-align: right;\">\n",
       "      <th></th>\n",
       "      <th>SBP</th>\n",
       "      <th>DBP</th>\n",
       "      <th>FBS</th>\n",
       "      <th>BMI</th>\n",
       "      <th>SBP_A</th>\n",
       "      <th>DBP_A</th>\n",
       "      <th>FBS_A</th>\n",
       "      <th>BMI_A</th>\n",
       "    </tr>\n",
       "  </thead>\n",
       "  <tbody>\n",
       "    <tr>\n",
       "      <th>count</th>\n",
       "      <td>1000000.000000</td>\n",
       "      <td>1000000.000000</td>\n",
       "      <td>1000000.000000</td>\n",
       "      <td>1000000.000000</td>\n",
       "      <td>1000000.000000</td>\n",
       "      <td>1000000.000000</td>\n",
       "      <td>1000000.000000</td>\n",
       "      <td>1000000.000000</td>\n",
       "    </tr>\n",
       "    <tr>\n",
       "      <th>mean</th>\n",
       "      <td>121.871763</td>\n",
       "      <td>75.787874</td>\n",
       "      <td>98.864428</td>\n",
       "      <td>23.804029</td>\n",
       "      <td>0.580822</td>\n",
       "      <td>0.412838</td>\n",
       "      <td>0.070954</td>\n",
       "      <td>0.159461</td>\n",
       "    </tr>\n",
       "    <tr>\n",
       "      <th>std</th>\n",
       "      <td>14.561706</td>\n",
       "      <td>9.793411</td>\n",
       "      <td>22.981300</td>\n",
       "      <td>3.297287</td>\n",
       "      <td>0.493425</td>\n",
       "      <td>0.492344</td>\n",
       "      <td>0.256748</td>\n",
       "      <td>0.366106</td>\n",
       "    </tr>\n",
       "    <tr>\n",
       "      <th>min</th>\n",
       "      <td>82.000000</td>\n",
       "      <td>50.000000</td>\n",
       "      <td>60.000000</td>\n",
       "      <td>14.800000</td>\n",
       "      <td>0.000000</td>\n",
       "      <td>0.000000</td>\n",
       "      <td>0.000000</td>\n",
       "      <td>0.000000</td>\n",
       "    </tr>\n",
       "    <tr>\n",
       "      <th>25%</th>\n",
       "      <td>110.000000</td>\n",
       "      <td>70.000000</td>\n",
       "      <td>87.000000</td>\n",
       "      <td>21.500000</td>\n",
       "      <td>0.000000</td>\n",
       "      <td>0.000000</td>\n",
       "      <td>0.000000</td>\n",
       "      <td>0.000000</td>\n",
       "    </tr>\n",
       "    <tr>\n",
       "      <th>50%</th>\n",
       "      <td>120.000000</td>\n",
       "      <td>76.000000</td>\n",
       "      <td>94.000000</td>\n",
       "      <td>23.600000</td>\n",
       "      <td>1.000000</td>\n",
       "      <td>0.000000</td>\n",
       "      <td>0.000000</td>\n",
       "      <td>0.000000</td>\n",
       "    </tr>\n",
       "    <tr>\n",
       "      <th>75%</th>\n",
       "      <td>130.000000</td>\n",
       "      <td>80.000000</td>\n",
       "      <td>104.000000</td>\n",
       "      <td>25.800000</td>\n",
       "      <td>1.000000</td>\n",
       "      <td>1.000000</td>\n",
       "      <td>0.000000</td>\n",
       "      <td>0.000000</td>\n",
       "    </tr>\n",
       "    <tr>\n",
       "      <th>max</th>\n",
       "      <td>190.000000</td>\n",
       "      <td>120.000000</td>\n",
       "      <td>358.000000</td>\n",
       "      <td>40.300000</td>\n",
       "      <td>1.000000</td>\n",
       "      <td>1.000000</td>\n",
       "      <td>1.000000</td>\n",
       "      <td>1.000000</td>\n",
       "    </tr>\n",
       "  </tbody>\n",
       "</table>\n",
       "</div>"
      ],
      "text/plain": [
       "                  SBP             DBP             FBS             BMI  \\\n",
       "count  1000000.000000  1000000.000000  1000000.000000  1000000.000000   \n",
       "mean       121.871763       75.787874       98.864428       23.804029   \n",
       "std         14.561706        9.793411       22.981300        3.297287   \n",
       "min         82.000000       50.000000       60.000000       14.800000   \n",
       "25%        110.000000       70.000000       87.000000       21.500000   \n",
       "50%        120.000000       76.000000       94.000000       23.600000   \n",
       "75%        130.000000       80.000000      104.000000       25.800000   \n",
       "max        190.000000      120.000000      358.000000       40.300000   \n",
       "\n",
       "                SBP_A           DBP_A           FBS_A           BMI_A  \n",
       "count  1000000.000000  1000000.000000  1000000.000000  1000000.000000  \n",
       "mean         0.580822        0.412838        0.070954        0.159461  \n",
       "std          0.493425        0.492344        0.256748        0.366106  \n",
       "min          0.000000        0.000000        0.000000        0.000000  \n",
       "25%          0.000000        0.000000        0.000000        0.000000  \n",
       "50%          1.000000        0.000000        0.000000        0.000000  \n",
       "75%          1.000000        1.000000        0.000000        0.000000  \n",
       "max          1.000000        1.000000        1.000000        1.000000  "
      ]
     },
     "execution_count": 15,
     "metadata": {},
     "output_type": "execute_result"
    }
   ],
   "source": [
    "data.describe()"
   ]
  },
  {
   "cell_type": "code",
   "execution_count": 16,
   "metadata": {
    "colab": {},
    "colab_type": "code",
    "id": "FCv9O7nSb_O7"
   },
   "outputs": [],
   "source": [
    "def healthcheck1 (row):\n",
    "   if row['FBS_A'] + row['SBP_A'] + row['DBP_A'] + row['BMI_A'] > 1 : # 당뇨 + 고혈압 + 과체중\n",
    "      return 1\n",
    "   return 0"
   ]
  },
  {
   "cell_type": "code",
   "execution_count": 17,
   "metadata": {
    "colab": {},
    "colab_type": "code",
    "id": "2ovvltk_JVcV"
   },
   "outputs": [],
   "source": [
    "def healthcheck2 (row):\n",
    "   if row['FBS_A'] + row['SBP_A'] + row['DBP_A'] + row['BMI_A'] == 4 : # 당뇨 + 고혈압 + 과체중\n",
    "      return 4\n",
    "   if row['FBS_A'] + row['SBP_A'] + row['DBP_A']  == 3 : # 당뇨 + 고혈압\n",
    "      return 3\n",
    "   if row['SBP_A'] + row['DBP_A']  == 2 : #고혈압\n",
    "      return 2\n",
    "   if row['FBS_A'] == 1 :  # 당뇨\n",
    "      return 1\n",
    "   return 0"
   ]
  },
  {
   "cell_type": "code",
   "execution_count": 18,
   "metadata": {
    "colab": {},
    "colab_type": "code",
    "id": "r_uNRHDdH0UM"
   },
   "outputs": [],
   "source": [
    "data['HEALTH1'] = data.apply (lambda row: healthcheck1(row), axis=1)"
   ]
  },
  {
   "cell_type": "code",
   "execution_count": null,
   "metadata": {
    "colab": {},
    "colab_type": "code",
    "id": "ftARuuOvccd6"
   },
   "outputs": [],
   "source": [
    "data['HEALTH2'] = data.apply (lambda row: healthcheck2(row), axis=1)"
   ]
  },
  {
   "cell_type": "code",
   "execution_count": null,
   "metadata": {},
   "outputs": [],
   "source": [
    "data.info()"
   ]
  },
  {
   "cell_type": "code",
   "execution_count": null,
   "metadata": {},
   "outputs": [],
   "source": [
    "data.describe()"
   ]
  },
  {
   "cell_type": "code",
   "execution_count": null,
   "metadata": {
    "colab": {},
    "colab_type": "code",
    "id": "yuEz8eaNU16N"
   },
   "outputs": [],
   "source": [
    "#data.drop(['SBP','DBP','FBS','BMI'], axis='columns', inplace=True)a"
   ]
  },
  {
   "cell_type": "code",
   "execution_count": null,
   "metadata": {
    "colab": {
     "base_uri": "https://localhost:8080/",
     "height": 198
    },
    "colab_type": "code",
    "id": "yi51-LaMLqxv",
    "outputId": "67f4bead-5218-4f88-a1d3-ee73bb36bd00"
   },
   "outputs": [],
   "source": [
    "data.head()"
   ]
  },
  {
   "cell_type": "markdown",
   "metadata": {
    "colab_type": "text",
    "id": "9koYwaQZ6eHG"
   },
   "source": [
    "## 데이터 탐색"
   ]
  },
  {
   "cell_type": "code",
   "execution_count": null,
   "metadata": {},
   "outputs": [],
   "source": [
    "data.corr()"
   ]
  },
  {
   "cell_type": "code",
   "execution_count": null,
   "metadata": {},
   "outputs": [],
   "source": []
  },
  {
   "cell_type": "code",
   "execution_count": null,
   "metadata": {},
   "outputs": [],
   "source": []
  },
  {
   "cell_type": "code",
   "execution_count": null,
   "metadata": {},
   "outputs": [],
   "source": []
  },
  {
   "cell_type": "code",
   "execution_count": null,
   "metadata": {
    "colab": {},
    "colab_type": "code",
    "id": "ZkzdUPKCZCwJ"
   },
   "outputs": [],
   "source": [
    "x_columns = ['SEX','BTH_G','SBP_A','DBP_A','FBS_A','BMI_A', 'HEALTH1']  # 유의한 변수들만 선별(SBP 제외)\n",
    "data_lr = data[x_columns]"
   ]
  },
  {
   "cell_type": "code",
   "execution_count": null,
   "metadata": {
    "colab": {
     "base_uri": "https://localhost:8080/",
     "height": 198
    },
    "colab_type": "code",
    "id": "heNbTfXtZpJk",
    "outputId": "bc04c638-eae5-42d2-94d4-ea2f461975cd"
   },
   "outputs": [],
   "source": [
    "data_lr.head()"
   ]
  },
  {
   "cell_type": "code",
   "execution_count": null,
   "metadata": {
    "colab": {
     "base_uri": "https://localhost:8080/",
     "height": 73
    },
    "colab_type": "code",
    "id": "wAZfhoyw6eHH",
    "outputId": "bfe0370b-d2dc-49f9-c2bf-2358195ccc75"
   },
   "outputs": [],
   "source": [
    "# 건강 체크\n",
    "# 0: 정상\n",
    "# 1: 이상\n",
    "\n",
    "data['HEALTH1'].value_counts()   #불균형 심함"
   ]
  },
  {
   "cell_type": "code",
   "execution_count": null,
   "metadata": {
    "colab": {
     "base_uri": "https://localhost:8080/",
     "height": 198
    },
    "colab_type": "code",
    "id": "UIt1L3QDQa2R",
    "outputId": "a6fead95-a06c-4ae3-e07e-65a3c72a142c"
   },
   "outputs": [],
   "source": [
    "data_lr.head()"
   ]
  },
  {
   "cell_type": "code",
   "execution_count": null,
   "metadata": {
    "colab": {
     "base_uri": "https://localhost:8080/",
     "height": 73
    },
    "colab_type": "code",
    "id": "0utoZ4C66eHJ",
    "outputId": "5ed43fc5-bd24-42d7-8604-5090677b0436"
   },
   "outputs": [],
   "source": [
    "data_lr['SEX'].value_counts()"
   ]
  },
  {
   "cell_type": "code",
   "execution_count": null,
   "metadata": {
    "colab": {
     "base_uri": "https://localhost:8080/",
     "height": 537
    },
    "colab_type": "code",
    "id": "jKoK2hki6eHL",
    "outputId": "24999524-7892-4979-e0c8-e313814b6e8c"
   },
   "outputs": [],
   "source": [
    "data_lr['BTH_G'].value_counts()"
   ]
  },
  {
   "cell_type": "markdown",
   "metadata": {
    "colab_type": "text",
    "id": "iTTuGcIs6eHN"
   },
   "source": [
    "## data sampling"
   ]
  },
  {
   "cell_type": "code",
   "execution_count": null,
   "metadata": {
    "colab": {
     "base_uri": "https://localhost:8080/",
     "height": 73
    },
    "colab_type": "code",
    "id": "dyVc0riC6eHQ",
    "outputId": "b3a66eaa-acd8-4f57-be44-660543edb562"
   },
   "outputs": [],
   "source": [
    "data_lr['HEALTH1'].value_counts() # 약 7프로만 당뇨 환자"
   ]
  },
  {
   "cell_type": "code",
   "execution_count": null,
   "metadata": {
    "colab": {},
    "colab_type": "code",
    "id": "WfURd-hN6eHO"
   },
   "outputs": [],
   "source": [
    "data_sample = data_lr.sample(n=40000, random_state = 1234)"
   ]
  },
  {
   "cell_type": "code",
   "execution_count": null,
   "metadata": {
    "colab": {
     "base_uri": "https://localhost:8080/",
     "height": 73
    },
    "colab_type": "code",
    "id": "e6m-6xeyf31H",
    "outputId": "4df79e3f-a3d1-44a0-97e7-bb50d343aed9"
   },
   "outputs": [],
   "source": [
    "data_sample['HEALTH1'].value_counts() # 약 7프로만 당뇨 환자"
   ]
  },
  {
   "cell_type": "markdown",
   "metadata": {
    "colab_type": "text",
    "id": "CDxHXlrc6eHS"
   },
   "source": [
    "# Logistic regression"
   ]
  },
  {
   "cell_type": "code",
   "execution_count": null,
   "metadata": {
    "colab": {},
    "colab_type": "code",
    "id": "meOoFcXl6eHT"
   },
   "outputs": [],
   "source": [
    "from sklearn.linear_model import LogisticRegression\n",
    "from sklearn.model_selection import train_test_split\n",
    "\n",
    "Y = data_sample['HEALTH1']\n",
    "X = data_sample.iloc[:,0:5]\n",
    "X_train, X_test, Y_train, Y_test = train_test_split(X,Y, test_size = 0.3)"
   ]
  },
  {
   "cell_type": "code",
   "execution_count": null,
   "metadata": {
    "colab": {
     "base_uri": "https://localhost:8080/",
     "height": 93
    },
    "colab_type": "code",
    "id": "wLsQLLYz6eHV",
    "outputId": "a7d8f9ab-c8a3-472f-9ac8-c07d5d6ebf75"
   },
   "outputs": [],
   "source": [
    "log_clf = LogisticRegression()\n",
    "\n",
    "log_clf.fit(X_train, Y_train)\n",
    "log_clf.score(X_test, Y_test)"
   ]
  },
  {
   "cell_type": "markdown",
   "metadata": {
    "colab_type": "text",
    "id": "gmrhQqvK6eHY"
   },
   "source": [
    "# 군집분석"
   ]
  },
  {
   "cell_type": "code",
   "execution_count": null,
   "metadata": {
    "colab": {},
    "colab_type": "code",
    "id": "kHg9UVQA6eHZ"
   },
   "outputs": [],
   "source": [
    "# age blood_pressure bmi fbs diastolic(이완기) dis 를 이용한 군집분석\n",
    "from sklearn.cluster import KMeans\n",
    "import matplotlib.pyplot as plt\n",
    "import seaborn as sns\n",
    "from sklearn import preprocessing"
   ]
  },
  {
   "cell_type": "code",
   "execution_count": null,
   "metadata": {
    "colab": {},
    "colab_type": "code",
    "id": "eCZNxRO16eHb"
   },
   "outputs": [],
   "source": [
    "#data_cluster = data_lr\n",
    "data_cluster = data.sample(n=10000, random_state = 1234)\n",
    "#x_columns = ['SEX','BTH_G','DBP','FBS','DIS_1','DIS_2','DIS_3','DIS_4']  # 유의한 변수들만 선별(SBP 제외)\n",
    "#y_columns = 'diabetes'"
   ]
  },
  {
   "cell_type": "code",
   "execution_count": null,
   "metadata": {
    "colab": {
     "base_uri": "https://localhost:8080/",
     "height": 198
    },
    "colab_type": "code",
    "id": "AjGfM2G26eHd",
    "outputId": "518c6f6e-6d53-4a2e-f578-bd833314b729"
   },
   "outputs": [],
   "source": [
    "data_cluster.head()"
   ]
  },
  {
   "cell_type": "code",
   "execution_count": null,
   "metadata": {
    "colab": {
     "base_uri": "https://localhost:8080/",
     "height": 1000
    },
    "colab_type": "code",
    "id": "ETi_A0Xq6eHf",
    "outputId": "aa8f150f-0bcf-496b-b21d-b0735a2f5120"
   },
   "outputs": [],
   "source": [
    "# # dendrogram \n",
    "\n",
    "# from scipy.cluster.hierarchy import linkage, dendrogram\n",
    "# import matplotlib.pyplot as plt\n",
    "\n",
    "# # Calculate the linkage: mergings\n",
    "# mergings = linkage(data_cluster,method='complete')\n",
    "\n",
    "# # Plot the dendrogram, using varieties as labels\n",
    "# plt.figure(figsize=(50,30))\n",
    "# dendrogram(mergings,\n",
    "#            labels = data_cluster['HEALTH1'].to_numpy(),\n",
    "#            leaf_rotation=90,\n",
    "#            leaf_font_size=10,\n",
    "# )\n",
    "# plt.show()\n",
    "\n",
    "# dendrogram \n",
    "\n",
    "from scipy.cluster.hierarchy import linkage, dendrogram\n",
    "import matplotlib.pyplot as plt\n",
    "\n",
    "# Calculate the linkage: mergings\n",
    "mergings = linkage(data_cluster,method='complete')\n",
    "\n",
    "# Plot the dendrogram, using varieties as labels\n",
    "plt.figure(figsize=(50,30))\n",
    "dendrogram(mergings,\n",
    "           labels = data_cluster['HEALTH2'].to_numpy(),\n",
    "           leaf_rotation=90,\n",
    "           leaf_font_size=10,\n",
    ")\n",
    "plt.show()"
   ]
  },
  {
   "cell_type": "markdown",
   "metadata": {
    "colab_type": "text",
    "id": "8NqOHjhy6eHk"
   },
   "source": [
    "# Kmeans"
   ]
  },
  {
   "cell_type": "code",
   "execution_count": null,
   "metadata": {
    "colab": {
     "base_uri": "https://localhost:8080/",
     "height": 198
    },
    "colab_type": "code",
    "id": "pbzUKlUB6eHl",
    "outputId": "637be44d-946b-41e3-829d-22833f314596"
   },
   "outputs": [],
   "source": [
    "data.head()"
   ]
  },
  {
   "cell_type": "code",
   "execution_count": null,
   "metadata": {
    "colab": {},
    "colab_type": "code",
    "id": "S0scI2b56eHp"
   },
   "outputs": [],
   "source": [
    "#feature = data_lr[['SEX',\t'BTH_G',\t'SBP_A',\t'DBP_A',\t'FBS_A',\t'BMI_A']]\n",
    "feature = data"
   ]
  },
  {
   "cell_type": "code",
   "execution_count": null,
   "metadata": {
    "colab": {
     "base_uri": "https://localhost:8080/",
     "height": 198
    },
    "colab_type": "code",
    "id": "A-wmvwaJ6eHt",
    "outputId": "0b82e7a1-b17b-423e-f0b9-0077e9cf5d54"
   },
   "outputs": [],
   "source": [
    "feature.head()"
   ]
  },
  {
   "cell_type": "code",
   "execution_count": null,
   "metadata": {
    "colab": {
     "base_uri": "https://localhost:8080/",
     "height": 36
    },
    "colab_type": "code",
    "id": "luUYpbjS6eHv",
    "outputId": "9f9d3f86-e148-428a-8834-263de39d1c3f"
   },
   "outputs": [],
   "source": [
    "len(feature)"
   ]
  },
  {
   "cell_type": "code",
   "execution_count": null,
   "metadata": {
    "colab": {},
    "colab_type": "code",
    "id": "7uUSiYR-6eHx"
   },
   "outputs": [],
   "source": [
    "model = KMeans(n_clusters=5,algorithm='auto')\n",
    "\n",
    "model.fit(feature)  # 모델 학습\n",
    "predict = pd.DataFrame(model.predict(feature))  # 모델 예측\n",
    "predict.columns=['cluster_label']"
   ]
  },
  {
   "cell_type": "code",
   "execution_count": null,
   "metadata": {
    "colab": {
     "base_uri": "https://localhost:8080/",
     "height": 198
    },
    "colab_type": "code",
    "id": "MetWoAYg6eH0",
    "outputId": "38ed7023-d85c-4bb4-8a5d-5e2571179f2b"
   },
   "outputs": [],
   "source": [
    "feature.reset_index(drop=True, inplace=True)\n",
    "predict.reset_index(drop=True, inplace=True)\n",
    "\n",
    "new_data = pd.concat([feature, predict], axis = 1)\n",
    "new_data.head()   # 군집 라벨이 추가된 데이터 프레임"
   ]
  },
  {
   "cell_type": "code",
   "execution_count": null,
   "metadata": {
    "colab": {
     "base_uri": "https://localhost:8080/",
     "height": 128
    },
    "colab_type": "code",
    "id": "cjPuRhPq6eH2",
    "outputId": "8472c998-b19e-405f-ae38-f1b884556b70"
   },
   "outputs": [],
   "source": [
    "new_data['cluster_label'].value_counts()"
   ]
  },
  {
   "cell_type": "code",
   "execution_count": null,
   "metadata": {
    "colab": {
     "base_uri": "https://localhost:8080/",
     "height": 265
    },
    "colab_type": "code",
    "id": "_VD9PdM76eH4",
    "outputId": "e51223cf-d4d9-4a93-8eed-11612671339b"
   },
   "outputs": [],
   "source": [
    "#plot 시각화\n",
    "\n",
    "centers = model.cluster_centers_\n",
    "plt.scatter(centers[:, 0], centers[:, 1], c='black', s=200, alpha=0.5);"
   ]
  },
  {
   "cell_type": "code",
   "execution_count": null,
   "metadata": {
    "colab": {},
    "colab_type": "code",
    "id": "FtOJor1i6eH6"
   },
   "outputs": [],
   "source": [
    "## 군집 별 특성 찾기 \n",
    "\n",
    "cluster1 = new_data[new_data['cluster_label']==0] \n",
    "cluster2 = new_data[new_data['cluster_label']==1] \n",
    "cluster3 = new_data[new_data['cluster_label']==2] \n",
    "cluster4 = new_data[new_data['cluster_label']==3] \n",
    "cluster5 = new_data[new_data['cluster_label']==4] "
   ]
  },
  {
   "cell_type": "markdown",
   "metadata": {
    "colab_type": "text",
    "id": "3oaJOkXT6eH8"
   },
   "source": [
    "### 클러스터별 통계량 추출"
   ]
  },
  {
   "cell_type": "code",
   "execution_count": null,
   "metadata": {
    "colab": {},
    "colab_type": "code",
    "id": "3HurZlx96eH9"
   },
   "outputs": [],
   "source": [
    "def makestat(df):\n",
    "    print(df.describe())\n",
    "    print(df.groupby('SEX').count())  # 성별 수 \n",
    "    print(df.groupby('SEX')['SBP','DBP','FBS','BMI'].mean())  # 성별 SBP DBP FBS BMI 평균\n",
    "    print(df['SBP_A'].count(), df['DBP_A]'].count(), df['FBS_A'].count(), df['BMI_A'].count())"
   ]
  },
  {
   "cell_type": "code",
   "execution_count": null,
   "metadata": {
    "colab": {
     "base_uri": "https://localhost:8080/",
     "height": 198
    },
    "colab_type": "code",
    "id": "SVzKa0zurTb7",
    "outputId": "55af750d-a04d-40bf-ff3c-0a81503932aa"
   },
   "outputs": [],
   "source": [
    "cluster1.head()\n",
    "#feature = cluster1[['SEX',\t'BTH_G',\t'SBP_A',\t'DBP_A',\t'FBS_A',\t'BMI_A']]"
   ]
  },
  {
   "cell_type": "code",
   "execution_count": null,
   "metadata": {
    "colab": {
     "base_uri": "https://localhost:8080/",
     "height": 1000
    },
    "colab_type": "code",
    "id": "4H3doi4R6eH_",
    "outputId": "3aa03386-e2d4-43e4-f7b3-746cdbcf17eb"
   },
   "outputs": [],
   "source": [
    "makestat(cluster1)"
   ]
  },
  {
   "cell_type": "code",
   "execution_count": null,
   "metadata": {
    "colab": {},
    "colab_type": "code",
    "id": "4Xwwy_QZ6eIC",
    "outputId": "bea94991-8d83-4501-f99f-a6a3a3de849e"
   },
   "outputs": [],
   "source": [
    "makestat(cluster2)"
   ]
  },
  {
   "cell_type": "code",
   "execution_count": null,
   "metadata": {
    "colab": {},
    "colab_type": "code",
    "id": "Y6QJASg_6eIH",
    "outputId": "a77bf5f6-12d5-45e4-b0fe-02596cb09362"
   },
   "outputs": [],
   "source": [
    "makestat(cluster3)"
   ]
  },
  {
   "cell_type": "code",
   "execution_count": null,
   "metadata": {
    "colab": {},
    "colab_type": "code",
    "id": "PxRB1Q7W6eIJ",
    "outputId": "33bbe081-2fc8-42a4-ebd6-f98b760868e3"
   },
   "outputs": [],
   "source": [
    "makestat(cluster4)"
   ]
  },
  {
   "cell_type": "code",
   "execution_count": null,
   "metadata": {
    "colab": {},
    "colab_type": "code",
    "id": "AetN1dBL6eIL",
    "outputId": "9e37dfe9-8f32-4bfc-a66b-902ead7f933e"
   },
   "outputs": [],
   "source": [
    "makestat(cluster5)"
   ]
  },
  {
   "cell_type": "code",
   "execution_count": null,
   "metadata": {
    "colab": {},
    "colab_type": "code",
    "id": "T2IZDTuhfJHE"
   },
   "outputs": [],
   "source": [
    "# 건강 체크\n",
    "# 0: 정상\n",
    "# 1: 당뇨\n",
    "# 2: 고혈압,\n",
    "# 3: 당뇨 + 고혈압\n",
    "# 4: 당뇨 + 고혈압 + 과체중"
   ]
  },
  {
   "cell_type": "code",
   "execution_count": null,
   "metadata": {
    "colab": {},
    "colab_type": "code",
    "id": "CoLU8hp8P524"
   },
   "outputs": [],
   "source": [
    "data2 = data.set_index(['HEALTH'])\n",
    "data2 = data2.loc[1]\n",
    "#print(df.loc[df['B'].isin(['one','three'])])"
   ]
  },
  {
   "cell_type": "markdown",
   "metadata": {
    "colab_type": "text",
    "id": "yp4yetHd6eIN"
   },
   "source": [
    "# 카이제곱분석"
   ]
  },
  {
   "cell_type": "code",
   "execution_count": null,
   "metadata": {
    "colab": {},
    "colab_type": "code",
    "id": "BYwPRoO-6eIO"
   },
   "outputs": [],
   "source": [
    "# H0: 집단간 차이가 없다 vs H1: 집단간 차이 있다\n",
    "\n"
   ]
  }
 ],
 "metadata": {
  "colab": {
   "machine_shape": "hm",
   "name": "diabetes_analysis_jih2.ipynb",
   "provenance": []
  },
  "kernelspec": {
   "display_name": "Python 3",
   "language": "python",
   "name": "python3"
  },
  "language_info": {
   "codemirror_mode": {
    "name": "ipython",
    "version": 3
   },
   "file_extension": ".py",
   "mimetype": "text/x-python",
   "name": "python",
   "nbconvert_exporter": "python",
   "pygments_lexer": "ipython3",
   "version": "3.8.5"
  }
 },
 "nbformat": 4,
 "nbformat_minor": 1
}
