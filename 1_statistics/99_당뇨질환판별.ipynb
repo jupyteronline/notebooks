{
 "cells": [
  {
   "cell_type": "markdown",
   "metadata": {},
   "source": [
    "# 국가건강검진 데이터 - [혈압·혈당 데이터]"
   ]
  },
  {
   "cell_type": "markdown",
   "metadata": {},
   "source": [
    "[혈압·혈당 데이터](https://nhiss.nhis.or.kr/bd/ab/bdabf003cv.do)\n",
    "\n",
    "[연도] 2013~2014년 일반검진 및 생애전환기 건강검진 데이터 1,000,000건\n",
    "[항목] 연령, 수축기혈압, 이완기혈압, 공복혈당, 성별, 고혈압/당뇨병 진료여부, 체질량지수\n",
    "[변수]\n",
    "- BTH_G : 연령(그룹)\n",
    "- SBP : 수축기혈압\n",
    "- DBP : 이완기혈압\n",
    "- FBS : 공복혈당\n",
    "- SEX : 성별(남성:1, 여성:2)\n",
    "- DIS : 고혈압/당뇨병 진료여부\n",
    "고혈압/당뇨병 진료내역 있음: 1\n",
    "고혈압 진료내역 있음: 2\n",
    "당뇨병 진료내역 있음: 3\n",
    "고혈압/당뇨병 진료내역 없음: 4\n",
    "- BMI : 체질량지수\n",
    "[파일형식] excel, csv file\n",
    "※ csv file은 쉼표로 구분한 텍스트 파일로서 워드패드, 통계프로그램(SPSS, SAS 등)에서 조회 가능 합니다."
   ]
  },
  {
   "cell_type": "code",
   "execution_count": 1,
   "metadata": {
    "colab": {},
    "colab_type": "code",
    "id": "RCBSGWuy6eGx"
   },
   "outputs": [],
   "source": [
    "import pandas as pd\n",
    "import numpy as np\n",
    "import os\n",
    "\n",
    "#os.chdir(\"C://Users//inhwan//Desktop\")"
   ]
  },
  {
   "cell_type": "code",
   "execution_count": 2,
   "metadata": {
    "colab": {
     "base_uri": "https://localhost:8080/",
     "height": 54
    },
    "colab_type": "code",
    "id": "HmLJ2KRE8F6K",
    "outputId": "4948a708-1639-4c0a-b633-6c3a23ac3071",
    "scrolled": false
   },
   "outputs": [
    {
     "name": "stdout",
     "output_type": "stream",
     "text": [
      "챗봇과제계획_시장조사\r\n",
      "국가건강검진_혈압혈당데이터.csv\r\n",
      "diabetes_analysis_jih3.ipynb\r\n",
      "diabetes_analysis_two_way_anova_20191031.ipynb\r\n",
      "diabetes_analysis_two_way_anova.ipynb\r\n",
      "diabetes_csv.csv\r\n",
      "변수설명_혈압혈당.hwp\r\n"
     ]
    }
   ],
   "source": [
    "!ls"
   ]
  },
  {
   "cell_type": "code",
   "execution_count": 3,
   "metadata": {
    "colab": {},
    "colab_type": "code",
    "id": "QP85ybdF6eG2"
   },
   "outputs": [],
   "source": [
    "data = pd.read_csv(\"국가건강검진_혈압혈당데이터.csv\", engine = 'python')"
   ]
  },
  {
   "cell_type": "code",
   "execution_count": null,
   "metadata": {},
   "outputs": [],
   "source": []
  },
  {
   "cell_type": "markdown",
   "metadata": {},
   "source": [
    "## 분포"
   ]
  },
  {
   "cell_type": "code",
   "execution_count": null,
   "metadata": {},
   "outputs": [],
   "source": []
  },
  {
   "cell_type": "markdown",
   "metadata": {},
   "source": [
    "## 정규변환"
   ]
  },
  {
   "cell_type": "code",
   "execution_count": null,
   "metadata": {},
   "outputs": [],
   "source": []
  },
  {
   "cell_type": "markdown",
   "metadata": {},
   "source": [
    "## 상관분석"
   ]
  },
  {
   "cell_type": "code",
   "execution_count": null,
   "metadata": {},
   "outputs": [],
   "source": []
  },
  {
   "cell_type": "markdown",
   "metadata": {},
   "source": [
    "## 주성분분석(PCA)"
   ]
  },
  {
   "cell_type": "code",
   "execution_count": null,
   "metadata": {},
   "outputs": [],
   "source": []
  },
  {
   "cell_type": "markdown",
   "metadata": {},
   "source": [
    "## 판별분석"
   ]
  },
  {
   "cell_type": "code",
   "execution_count": null,
   "metadata": {},
   "outputs": [],
   "source": []
  }
 ],
 "metadata": {
  "colab": {
   "machine_shape": "hm",
   "name": "diabetes_analysis_jih2.ipynb",
   "provenance": []
  },
  "kernelspec": {
   "display_name": "Python 3",
   "language": "python",
   "name": "python3"
  },
  "language_info": {
   "codemirror_mode": {
    "name": "ipython",
    "version": 3
   },
   "file_extension": ".py",
   "mimetype": "text/x-python",
   "name": "python",
   "nbconvert_exporter": "python",
   "pygments_lexer": "ipython3",
   "version": "3.8.5"
  }
 },
 "nbformat": 4,
 "nbformat_minor": 1
}
