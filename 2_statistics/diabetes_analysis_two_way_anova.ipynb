{
 "cells": [
  {
   "cell_type": "code",
   "execution_count": 4,
   "metadata": {
    "colab": {
     "base_uri": "https://localhost:8080/",
     "height": 35
    },
    "colab_type": "code",
    "id": "kEs-CMnILC65",
    "outputId": "4a77109e-fded-4e18-f3dc-d466b475a736",
    "scrolled": true
   },
   "outputs": [],
   "source": [
    "# # from google.colab import auth\n",
    "# # auth.authenticate_user()\n",
    "\n",
    "# from google.colab import drive\n",
    "# drive.mount('/content/gdrive')"
   ]
  },
  {
   "cell_type": "code",
   "execution_count": 5,
   "metadata": {
    "colab": {
     "base_uri": "https://localhost:8080/",
     "height": 35
    },
    "colab_type": "code",
    "id": "sfbv6lQcLd8h",
    "outputId": "9b561c16-c768-4b9b-f8e5-d6899a966894"
   },
   "outputs": [],
   "source": [
    "# # 경로 변경\n",
    "# cd /content/gdrive/My Drive/AIBM/20191030/"
   ]
  },
  {
   "cell_type": "code",
   "execution_count": 1,
   "metadata": {
    "colab": {},
    "colab_type": "code",
    "id": "RCBSGWuy6eGx"
   },
   "outputs": [],
   "source": [
    "import pandas as pd\n",
    "import numpy as np\n",
    "import os\n",
    "\n",
    "#os.chdir(\"C://Users//이명아//Desktop\")"
   ]
  },
  {
   "cell_type": "code",
   "execution_count": 2,
   "metadata": {
    "colab": {},
    "colab_type": "code",
    "id": "QP85ybdF6eG2"
   },
   "outputs": [],
   "source": [
    "data = pd.read_csv(\"국가건강검진_혈압혈당데이터.csv\", engine = 'python')"
   ]
  },
  {
   "cell_type": "code",
   "execution_count": 3,
   "metadata": {
    "colab": {
     "base_uri": "https://localhost:8080/",
     "height": 204
    },
    "colab_type": "code",
    "id": "9lGn0ch76eG4",
    "outputId": "f51de539-51ca-4e76-df41-1e2381d5584a"
   },
   "outputs": [
    {
     "data": {
      "text/html": [
       "<div>\n",
       "<style scoped>\n",
       "    .dataframe tbody tr th:only-of-type {\n",
       "        vertical-align: middle;\n",
       "    }\n",
       "\n",
       "    .dataframe tbody tr th {\n",
       "        vertical-align: top;\n",
       "    }\n",
       "\n",
       "    .dataframe thead th {\n",
       "        text-align: right;\n",
       "    }\n",
       "</style>\n",
       "<table border=\"1\" class=\"dataframe\">\n",
       "  <thead>\n",
       "    <tr style=\"text-align: right;\">\n",
       "      <th></th>\n",
       "      <th>SEX</th>\n",
       "      <th>BTH_G</th>\n",
       "      <th>SBP</th>\n",
       "      <th>DBP</th>\n",
       "      <th>FBS</th>\n",
       "      <th>DIS</th>\n",
       "      <th>BMI</th>\n",
       "    </tr>\n",
       "  </thead>\n",
       "  <tbody>\n",
       "    <tr>\n",
       "      <th>0</th>\n",
       "      <td>1</td>\n",
       "      <td>1</td>\n",
       "      <td>116</td>\n",
       "      <td>78</td>\n",
       "      <td>94</td>\n",
       "      <td>4</td>\n",
       "      <td>16.6</td>\n",
       "    </tr>\n",
       "    <tr>\n",
       "      <th>1</th>\n",
       "      <td>1</td>\n",
       "      <td>1</td>\n",
       "      <td>100</td>\n",
       "      <td>60</td>\n",
       "      <td>79</td>\n",
       "      <td>4</td>\n",
       "      <td>22.3</td>\n",
       "    </tr>\n",
       "    <tr>\n",
       "      <th>2</th>\n",
       "      <td>1</td>\n",
       "      <td>1</td>\n",
       "      <td>100</td>\n",
       "      <td>60</td>\n",
       "      <td>87</td>\n",
       "      <td>4</td>\n",
       "      <td>21.9</td>\n",
       "    </tr>\n",
       "    <tr>\n",
       "      <th>3</th>\n",
       "      <td>1</td>\n",
       "      <td>1</td>\n",
       "      <td>111</td>\n",
       "      <td>70</td>\n",
       "      <td>72</td>\n",
       "      <td>4</td>\n",
       "      <td>20.2</td>\n",
       "    </tr>\n",
       "    <tr>\n",
       "      <th>4</th>\n",
       "      <td>1</td>\n",
       "      <td>1</td>\n",
       "      <td>120</td>\n",
       "      <td>80</td>\n",
       "      <td>98</td>\n",
       "      <td>4</td>\n",
       "      <td>20.0</td>\n",
       "    </tr>\n",
       "  </tbody>\n",
       "</table>\n",
       "</div>"
      ],
      "text/plain": [
       "   SEX  BTH_G  SBP  DBP  FBS  DIS   BMI\n",
       "0    1      1  116   78   94    4  16.6\n",
       "1    1      1  100   60   79    4  22.3\n",
       "2    1      1  100   60   87    4  21.9\n",
       "3    1      1  111   70   72    4  20.2\n",
       "4    1      1  120   80   98    4  20.0"
      ]
     },
     "execution_count": 3,
     "metadata": {},
     "output_type": "execute_result"
    }
   ],
   "source": [
    "data.head()"
   ]
  },
  {
   "cell_type": "markdown",
   "metadata": {
    "colab_type": "text",
    "id": "NFNuFa4R6eG8"
   },
   "source": [
    "## 데이터 범주화 및 y라벨 설정"
   ]
  },
  {
   "cell_type": "code",
   "execution_count": 9,
   "metadata": {
    "colab": {},
    "colab_type": "code",
    "id": "L_jhRNJsC9cZ"
   },
   "outputs": [],
   "source": [
    "data['SBP_Y'] = data['SBP'].apply(lambda x : 0 if x < 120 else 1 ) # 위험:1 정상:0"
   ]
  },
  {
   "cell_type": "code",
   "execution_count": 10,
   "metadata": {
    "colab": {},
    "colab_type": "code",
    "id": "t433P7tvC9-K"
   },
   "outputs": [],
   "source": [
    "data['DBP_Y'] = data['DBP'].apply(lambda x : 0 if x < 80 else 1 ) # 위험:1 정상:0"
   ]
  },
  {
   "cell_type": "code",
   "execution_count": 11,
   "metadata": {
    "colab": {},
    "colab_type": "code",
    "id": "uv6d4tO_DnXE"
   },
   "outputs": [],
   "source": [
    "data['FBS_Y'] = data['FBS'].apply(lambda x : 0 if x < 126 else 1 ) # 위험:1 정상:0"
   ]
  },
  {
   "cell_type": "code",
   "execution_count": 12,
   "metadata": {
    "colab": {},
    "colab_type": "code",
    "id": "BKl98nxLEJeE"
   },
   "outputs": [],
   "source": [
    "data['BMI_Y'] = data['BMI'].apply(lambda x : 0 if x < 27 else 1 ) # 위험:1 정상:0"
   ]
  },
  {
   "cell_type": "code",
   "execution_count": 13,
   "metadata": {
    "colab": {
     "base_uri": "https://localhost:8080/",
     "height": 204
    },
    "colab_type": "code",
    "id": "mb-nHATk8vYH",
    "outputId": "670efdf0-ec6a-4bd0-8e53-85d4900d5a73"
   },
   "outputs": [
    {
     "data": {
      "text/html": [
       "<div>\n",
       "<style scoped>\n",
       "    .dataframe tbody tr th:only-of-type {\n",
       "        vertical-align: middle;\n",
       "    }\n",
       "\n",
       "    .dataframe tbody tr th {\n",
       "        vertical-align: top;\n",
       "    }\n",
       "\n",
       "    .dataframe thead th {\n",
       "        text-align: right;\n",
       "    }\n",
       "</style>\n",
       "<table border=\"1\" class=\"dataframe\">\n",
       "  <thead>\n",
       "    <tr style=\"text-align: right;\">\n",
       "      <th></th>\n",
       "      <th>SEX</th>\n",
       "      <th>BTH_G</th>\n",
       "      <th>SBP</th>\n",
       "      <th>DBP</th>\n",
       "      <th>FBS</th>\n",
       "      <th>DIS</th>\n",
       "      <th>BMI</th>\n",
       "      <th>SBP_Y</th>\n",
       "      <th>DBP_Y</th>\n",
       "      <th>FBS_Y</th>\n",
       "      <th>BMI_Y</th>\n",
       "    </tr>\n",
       "  </thead>\n",
       "  <tbody>\n",
       "    <tr>\n",
       "      <th>0</th>\n",
       "      <td>1</td>\n",
       "      <td>1</td>\n",
       "      <td>116</td>\n",
       "      <td>78</td>\n",
       "      <td>94</td>\n",
       "      <td>4</td>\n",
       "      <td>16.6</td>\n",
       "      <td>0</td>\n",
       "      <td>0</td>\n",
       "      <td>0</td>\n",
       "      <td>0</td>\n",
       "    </tr>\n",
       "    <tr>\n",
       "      <th>1</th>\n",
       "      <td>1</td>\n",
       "      <td>1</td>\n",
       "      <td>100</td>\n",
       "      <td>60</td>\n",
       "      <td>79</td>\n",
       "      <td>4</td>\n",
       "      <td>22.3</td>\n",
       "      <td>0</td>\n",
       "      <td>0</td>\n",
       "      <td>0</td>\n",
       "      <td>0</td>\n",
       "    </tr>\n",
       "    <tr>\n",
       "      <th>2</th>\n",
       "      <td>1</td>\n",
       "      <td>1</td>\n",
       "      <td>100</td>\n",
       "      <td>60</td>\n",
       "      <td>87</td>\n",
       "      <td>4</td>\n",
       "      <td>21.9</td>\n",
       "      <td>0</td>\n",
       "      <td>0</td>\n",
       "      <td>0</td>\n",
       "      <td>0</td>\n",
       "    </tr>\n",
       "    <tr>\n",
       "      <th>3</th>\n",
       "      <td>1</td>\n",
       "      <td>1</td>\n",
       "      <td>111</td>\n",
       "      <td>70</td>\n",
       "      <td>72</td>\n",
       "      <td>4</td>\n",
       "      <td>20.2</td>\n",
       "      <td>0</td>\n",
       "      <td>0</td>\n",
       "      <td>0</td>\n",
       "      <td>0</td>\n",
       "    </tr>\n",
       "    <tr>\n",
       "      <th>4</th>\n",
       "      <td>1</td>\n",
       "      <td>1</td>\n",
       "      <td>120</td>\n",
       "      <td>80</td>\n",
       "      <td>98</td>\n",
       "      <td>4</td>\n",
       "      <td>20.0</td>\n",
       "      <td>1</td>\n",
       "      <td>1</td>\n",
       "      <td>0</td>\n",
       "      <td>0</td>\n",
       "    </tr>\n",
       "  </tbody>\n",
       "</table>\n",
       "</div>"
      ],
      "text/plain": [
       "   SEX  BTH_G  SBP  DBP  FBS  DIS   BMI  SBP_Y  DBP_Y  FBS_Y  BMI_Y\n",
       "0    1      1  116   78   94    4  16.6      0      0      0      0\n",
       "1    1      1  100   60   79    4  22.3      0      0      0      0\n",
       "2    1      1  100   60   87    4  21.9      0      0      0      0\n",
       "3    1      1  111   70   72    4  20.2      0      0      0      0\n",
       "4    1      1  120   80   98    4  20.0      1      1      0      0"
      ]
     },
     "execution_count": 13,
     "metadata": {},
     "output_type": "execute_result"
    }
   ],
   "source": [
    "data.head()"
   ]
  },
  {
   "cell_type": "code",
   "execution_count": 14,
   "metadata": {
    "colab": {
     "base_uri": "https://localhost:8080/",
     "height": 35
    },
    "colab_type": "code",
    "id": "VrKM92TKEeMV",
    "outputId": "2412978f-d832-4ba8-e5bc-d3d314288706"
   },
   "outputs": [
    {
     "data": {
      "text/plain": [
       "pandas.core.frame.DataFrame"
      ]
     },
     "execution_count": 14,
     "metadata": {},
     "output_type": "execute_result"
    }
   ],
   "source": [
    "type(data)"
   ]
  },
  {
   "cell_type": "code",
   "execution_count": 15,
   "metadata": {
    "colab": {},
    "colab_type": "code",
    "id": "A-2s7ErG3_JD"
   },
   "outputs": [],
   "source": [
    "def healthcheck1 (row):\n",
    "   if row['FBS_Y'] == 1 : #  (당뇨)\n",
    "      return 1\n",
    "   return 0"
   ]
  },
  {
   "cell_type": "code",
   "execution_count": 16,
   "metadata": {
    "colab": {},
    "colab_type": "code",
    "id": "2ovvltk_JVcV"
   },
   "outputs": [],
   "source": [
    "def healthcheck2(row):\n",
    "    if row['FBS_Y'] + row['SBP_Y'] + row['DBP_Y'] + row['BMI_Y'] == 4 : # 당뇨 + 고혈압 + 과체중\n",
    "        return 4\n",
    "    if row['FBS_Y'] + row['SBP_Y'] + row['DBP_Y']  == 3 : # 당뇨 + 고혈압\n",
    "        return 3\n",
    "    if row['SBP_Y'] + row['DBP_Y']  == 2 : #고혈압\n",
    "        return 2\n",
    "    if row['FBS_Y'] == 1 :  # 당뇨\n",
    "        return 1\n",
    "    return 0"
   ]
  },
  {
   "cell_type": "code",
   "execution_count": 17,
   "metadata": {
    "colab": {},
    "colab_type": "code",
    "id": "r_uNRHDdH0UM"
   },
   "outputs": [],
   "source": [
    "data['HEALTH1'] = data.apply(lambda row : healthcheck1(row), axis = 1)"
   ]
  },
  {
   "cell_type": "code",
   "execution_count": 18,
   "metadata": {
    "colab": {},
    "colab_type": "code",
    "id": "0AtZDvqZ40cy"
   },
   "outputs": [],
   "source": [
    "data['HEALTH2'] = data.apply(lambda row : healthcheck2(row), axis = 1)"
   ]
  },
  {
   "cell_type": "code",
   "execution_count": 19,
   "metadata": {
    "colab": {
     "base_uri": "https://localhost:8080/",
     "height": 204
    },
    "colab_type": "code",
    "id": "ogaQWz8kK7mn",
    "outputId": "4d67f6d6-ab2d-4526-bf14-eb3cd388d241"
   },
   "outputs": [
    {
     "data": {
      "text/html": [
       "<div>\n",
       "<style scoped>\n",
       "    .dataframe tbody tr th:only-of-type {\n",
       "        vertical-align: middle;\n",
       "    }\n",
       "\n",
       "    .dataframe tbody tr th {\n",
       "        vertical-align: top;\n",
       "    }\n",
       "\n",
       "    .dataframe thead th {\n",
       "        text-align: right;\n",
       "    }\n",
       "</style>\n",
       "<table border=\"1\" class=\"dataframe\">\n",
       "  <thead>\n",
       "    <tr style=\"text-align: right;\">\n",
       "      <th></th>\n",
       "      <th>SEX</th>\n",
       "      <th>BTH_G</th>\n",
       "      <th>SBP</th>\n",
       "      <th>DBP</th>\n",
       "      <th>FBS</th>\n",
       "      <th>DIS</th>\n",
       "      <th>BMI</th>\n",
       "      <th>SBP_Y</th>\n",
       "      <th>DBP_Y</th>\n",
       "      <th>FBS_Y</th>\n",
       "      <th>BMI_Y</th>\n",
       "      <th>HEALTH1</th>\n",
       "      <th>HEALTH2</th>\n",
       "    </tr>\n",
       "  </thead>\n",
       "  <tbody>\n",
       "    <tr>\n",
       "      <th>0</th>\n",
       "      <td>1</td>\n",
       "      <td>1</td>\n",
       "      <td>116</td>\n",
       "      <td>78</td>\n",
       "      <td>94</td>\n",
       "      <td>4</td>\n",
       "      <td>16.6</td>\n",
       "      <td>0</td>\n",
       "      <td>0</td>\n",
       "      <td>0</td>\n",
       "      <td>0</td>\n",
       "      <td>0</td>\n",
       "      <td>0</td>\n",
       "    </tr>\n",
       "    <tr>\n",
       "      <th>1</th>\n",
       "      <td>1</td>\n",
       "      <td>1</td>\n",
       "      <td>100</td>\n",
       "      <td>60</td>\n",
       "      <td>79</td>\n",
       "      <td>4</td>\n",
       "      <td>22.3</td>\n",
       "      <td>0</td>\n",
       "      <td>0</td>\n",
       "      <td>0</td>\n",
       "      <td>0</td>\n",
       "      <td>0</td>\n",
       "      <td>0</td>\n",
       "    </tr>\n",
       "    <tr>\n",
       "      <th>2</th>\n",
       "      <td>1</td>\n",
       "      <td>1</td>\n",
       "      <td>100</td>\n",
       "      <td>60</td>\n",
       "      <td>87</td>\n",
       "      <td>4</td>\n",
       "      <td>21.9</td>\n",
       "      <td>0</td>\n",
       "      <td>0</td>\n",
       "      <td>0</td>\n",
       "      <td>0</td>\n",
       "      <td>0</td>\n",
       "      <td>0</td>\n",
       "    </tr>\n",
       "    <tr>\n",
       "      <th>3</th>\n",
       "      <td>1</td>\n",
       "      <td>1</td>\n",
       "      <td>111</td>\n",
       "      <td>70</td>\n",
       "      <td>72</td>\n",
       "      <td>4</td>\n",
       "      <td>20.2</td>\n",
       "      <td>0</td>\n",
       "      <td>0</td>\n",
       "      <td>0</td>\n",
       "      <td>0</td>\n",
       "      <td>0</td>\n",
       "      <td>0</td>\n",
       "    </tr>\n",
       "    <tr>\n",
       "      <th>4</th>\n",
       "      <td>1</td>\n",
       "      <td>1</td>\n",
       "      <td>120</td>\n",
       "      <td>80</td>\n",
       "      <td>98</td>\n",
       "      <td>4</td>\n",
       "      <td>20.0</td>\n",
       "      <td>1</td>\n",
       "      <td>1</td>\n",
       "      <td>0</td>\n",
       "      <td>0</td>\n",
       "      <td>0</td>\n",
       "      <td>2</td>\n",
       "    </tr>\n",
       "  </tbody>\n",
       "</table>\n",
       "</div>"
      ],
      "text/plain": [
       "   SEX  BTH_G  SBP  DBP  FBS  DIS   BMI  SBP_Y  DBP_Y  FBS_Y  BMI_Y  HEALTH1  \\\n",
       "0    1      1  116   78   94    4  16.6      0      0      0      0        0   \n",
       "1    1      1  100   60   79    4  22.3      0      0      0      0        0   \n",
       "2    1      1  100   60   87    4  21.9      0      0      0      0        0   \n",
       "3    1      1  111   70   72    4  20.2      0      0      0      0        0   \n",
       "4    1      1  120   80   98    4  20.0      1      1      0      0        0   \n",
       "\n",
       "   HEALTH2  \n",
       "0        0  \n",
       "1        0  \n",
       "2        0  \n",
       "3        0  \n",
       "4        2  "
      ]
     },
     "execution_count": 19,
     "metadata": {},
     "output_type": "execute_result"
    }
   ],
   "source": [
    "data.head()"
   ]
  },
  {
   "cell_type": "markdown",
   "metadata": {
    "colab_type": "text",
    "id": "9koYwaQZ6eHG"
   },
   "source": [
    "## 데이터 탐색"
   ]
  },
  {
   "cell_type": "code",
   "execution_count": 20,
   "metadata": {
    "colab": {
     "base_uri": "https://localhost:8080/",
     "height": 71
    },
    "colab_type": "code",
    "id": "wAZfhoyw6eHH",
    "outputId": "b9071775-29c2-4a7c-942b-338ae5b8134a"
   },
   "outputs": [
    {
     "data": {
      "text/plain": [
       "0    929046\n",
       "1     70954\n",
       "Name: HEALTH1, dtype: int64"
      ]
     },
     "execution_count": 20,
     "metadata": {},
     "output_type": "execute_result"
    }
   ],
   "source": [
    "# 건강 체크\n",
    "# 0: 정상\n",
    "# 1: 당뇨\n",
    "# 2: 고혈압,\n",
    "# 3: 당뇨 + 고혈압\n",
    "# 4: 당뇨 + 고혈압 + 과체중\n",
    "\n",
    "data['HEALTH1'].value_counts()   #불균형 심함"
   ]
  },
  {
   "cell_type": "code",
   "execution_count": 21,
   "metadata": {
    "colab": {
     "base_uri": "https://localhost:8080/",
     "height": 125
    },
    "colab_type": "code",
    "id": "_y0W63li5efC",
    "outputId": "1b79ddb0-f2f2-487e-9760-259c15526b1f"
   },
   "outputs": [
    {
     "data": {
      "text/plain": [
       "0    583320\n",
       "2    345726\n",
       "1     34306\n",
       "3     24855\n",
       "4     11793\n",
       "Name: HEALTH2, dtype: int64"
      ]
     },
     "execution_count": 21,
     "metadata": {},
     "output_type": "execute_result"
    }
   ],
   "source": [
    "data['HEALTH2'].value_counts()   #불균형 심함"
   ]
  },
  {
   "cell_type": "markdown",
   "metadata": {
    "colab_type": "text",
    "id": "CDxHXlrc6eHS"
   },
   "source": [
    "# 로지스틱 회귀"
   ]
  },
  {
   "cell_type": "code",
   "execution_count": 22,
   "metadata": {
    "colab": {
     "base_uri": "https://localhost:8080/",
     "height": 204
    },
    "colab_type": "code",
    "id": "dq2t0o2a6sGM",
    "outputId": "5a1c1287-4ff2-45d1-ddcc-adce7f8f69ae"
   },
   "outputs": [
    {
     "data": {
      "text/html": [
       "<div>\n",
       "<style scoped>\n",
       "    .dataframe tbody tr th:only-of-type {\n",
       "        vertical-align: middle;\n",
       "    }\n",
       "\n",
       "    .dataframe tbody tr th {\n",
       "        vertical-align: top;\n",
       "    }\n",
       "\n",
       "    .dataframe thead th {\n",
       "        text-align: right;\n",
       "    }\n",
       "</style>\n",
       "<table border=\"1\" class=\"dataframe\">\n",
       "  <thead>\n",
       "    <tr style=\"text-align: right;\">\n",
       "      <th></th>\n",
       "      <th>SEX</th>\n",
       "      <th>BTH_G</th>\n",
       "      <th>SBP</th>\n",
       "      <th>DBP</th>\n",
       "      <th>FBS</th>\n",
       "      <th>DIS</th>\n",
       "      <th>BMI</th>\n",
       "      <th>SBP_Y</th>\n",
       "      <th>DBP_Y</th>\n",
       "      <th>FBS_Y</th>\n",
       "      <th>BMI_Y</th>\n",
       "      <th>HEALTH1</th>\n",
       "      <th>HEALTH2</th>\n",
       "    </tr>\n",
       "  </thead>\n",
       "  <tbody>\n",
       "    <tr>\n",
       "      <th>0</th>\n",
       "      <td>1</td>\n",
       "      <td>1</td>\n",
       "      <td>116</td>\n",
       "      <td>78</td>\n",
       "      <td>94</td>\n",
       "      <td>4</td>\n",
       "      <td>16.6</td>\n",
       "      <td>0</td>\n",
       "      <td>0</td>\n",
       "      <td>0</td>\n",
       "      <td>0</td>\n",
       "      <td>0</td>\n",
       "      <td>0</td>\n",
       "    </tr>\n",
       "    <tr>\n",
       "      <th>1</th>\n",
       "      <td>1</td>\n",
       "      <td>1</td>\n",
       "      <td>100</td>\n",
       "      <td>60</td>\n",
       "      <td>79</td>\n",
       "      <td>4</td>\n",
       "      <td>22.3</td>\n",
       "      <td>0</td>\n",
       "      <td>0</td>\n",
       "      <td>0</td>\n",
       "      <td>0</td>\n",
       "      <td>0</td>\n",
       "      <td>0</td>\n",
       "    </tr>\n",
       "    <tr>\n",
       "      <th>2</th>\n",
       "      <td>1</td>\n",
       "      <td>1</td>\n",
       "      <td>100</td>\n",
       "      <td>60</td>\n",
       "      <td>87</td>\n",
       "      <td>4</td>\n",
       "      <td>21.9</td>\n",
       "      <td>0</td>\n",
       "      <td>0</td>\n",
       "      <td>0</td>\n",
       "      <td>0</td>\n",
       "      <td>0</td>\n",
       "      <td>0</td>\n",
       "    </tr>\n",
       "    <tr>\n",
       "      <th>3</th>\n",
       "      <td>1</td>\n",
       "      <td>1</td>\n",
       "      <td>111</td>\n",
       "      <td>70</td>\n",
       "      <td>72</td>\n",
       "      <td>4</td>\n",
       "      <td>20.2</td>\n",
       "      <td>0</td>\n",
       "      <td>0</td>\n",
       "      <td>0</td>\n",
       "      <td>0</td>\n",
       "      <td>0</td>\n",
       "      <td>0</td>\n",
       "    </tr>\n",
       "    <tr>\n",
       "      <th>4</th>\n",
       "      <td>1</td>\n",
       "      <td>1</td>\n",
       "      <td>120</td>\n",
       "      <td>80</td>\n",
       "      <td>98</td>\n",
       "      <td>4</td>\n",
       "      <td>20.0</td>\n",
       "      <td>1</td>\n",
       "      <td>1</td>\n",
       "      <td>0</td>\n",
       "      <td>0</td>\n",
       "      <td>0</td>\n",
       "      <td>2</td>\n",
       "    </tr>\n",
       "  </tbody>\n",
       "</table>\n",
       "</div>"
      ],
      "text/plain": [
       "   SEX  BTH_G  SBP  DBP  FBS  DIS   BMI  SBP_Y  DBP_Y  FBS_Y  BMI_Y  HEALTH1  \\\n",
       "0    1      1  116   78   94    4  16.6      0      0      0      0        0   \n",
       "1    1      1  100   60   79    4  22.3      0      0      0      0        0   \n",
       "2    1      1  100   60   87    4  21.9      0      0      0      0        0   \n",
       "3    1      1  111   70   72    4  20.2      0      0      0      0        0   \n",
       "4    1      1  120   80   98    4  20.0      1      1      0      0        0   \n",
       "\n",
       "   HEALTH2  \n",
       "0        0  \n",
       "1        0  \n",
       "2        0  \n",
       "3        0  \n",
       "4        2  "
      ]
     },
     "execution_count": 22,
     "metadata": {},
     "output_type": "execute_result"
    }
   ],
   "source": [
    "data.head()"
   ]
  },
  {
   "cell_type": "code",
   "execution_count": 23,
   "metadata": {
    "colab": {},
    "colab_type": "code",
    "id": "meOoFcXl6eHT"
   },
   "outputs": [],
   "source": [
    "from sklearn.linear_model import LogisticRegression\n",
    "from sklearn.model_selection import train_test_split\n",
    "\n",
    "Y = data['HEALTH1']\n",
    "X = data[['SEX', 'BTH_G', 'SBP_Y', 'DBP_Y', 'BMI_Y']]\n",
    "\n",
    "#X = data_sample.iloc[:,0:10]\n",
    "X_train, X_test, Y_train, Y_test = train_test_split(X,Y, test_size = 0.3)"
   ]
  },
  {
   "cell_type": "code",
   "execution_count": 24,
   "metadata": {
    "colab": {
     "base_uri": "https://localhost:8080/",
     "height": 204
    },
    "colab_type": "code",
    "id": "-WeRNmikNjUP",
    "outputId": "0826d8da-6253-4655-9e5e-8b3dcae9d32e"
   },
   "outputs": [
    {
     "data": {
      "text/html": [
       "<div>\n",
       "<style scoped>\n",
       "    .dataframe tbody tr th:only-of-type {\n",
       "        vertical-align: middle;\n",
       "    }\n",
       "\n",
       "    .dataframe tbody tr th {\n",
       "        vertical-align: top;\n",
       "    }\n",
       "\n",
       "    .dataframe thead th {\n",
       "        text-align: right;\n",
       "    }\n",
       "</style>\n",
       "<table border=\"1\" class=\"dataframe\">\n",
       "  <thead>\n",
       "    <tr style=\"text-align: right;\">\n",
       "      <th></th>\n",
       "      <th>SEX</th>\n",
       "      <th>BTH_G</th>\n",
       "      <th>SBP_Y</th>\n",
       "      <th>DBP_Y</th>\n",
       "      <th>BMI_Y</th>\n",
       "    </tr>\n",
       "  </thead>\n",
       "  <tbody>\n",
       "    <tr>\n",
       "      <th>0</th>\n",
       "      <td>1</td>\n",
       "      <td>1</td>\n",
       "      <td>0</td>\n",
       "      <td>0</td>\n",
       "      <td>0</td>\n",
       "    </tr>\n",
       "    <tr>\n",
       "      <th>1</th>\n",
       "      <td>1</td>\n",
       "      <td>1</td>\n",
       "      <td>0</td>\n",
       "      <td>0</td>\n",
       "      <td>0</td>\n",
       "    </tr>\n",
       "    <tr>\n",
       "      <th>2</th>\n",
       "      <td>1</td>\n",
       "      <td>1</td>\n",
       "      <td>0</td>\n",
       "      <td>0</td>\n",
       "      <td>0</td>\n",
       "    </tr>\n",
       "    <tr>\n",
       "      <th>3</th>\n",
       "      <td>1</td>\n",
       "      <td>1</td>\n",
       "      <td>0</td>\n",
       "      <td>0</td>\n",
       "      <td>0</td>\n",
       "    </tr>\n",
       "    <tr>\n",
       "      <th>4</th>\n",
       "      <td>1</td>\n",
       "      <td>1</td>\n",
       "      <td>1</td>\n",
       "      <td>1</td>\n",
       "      <td>0</td>\n",
       "    </tr>\n",
       "  </tbody>\n",
       "</table>\n",
       "</div>"
      ],
      "text/plain": [
       "   SEX  BTH_G  SBP_Y  DBP_Y  BMI_Y\n",
       "0    1      1      0      0      0\n",
       "1    1      1      0      0      0\n",
       "2    1      1      0      0      0\n",
       "3    1      1      0      0      0\n",
       "4    1      1      1      1      0"
      ]
     },
     "execution_count": 24,
     "metadata": {},
     "output_type": "execute_result"
    }
   ],
   "source": [
    "X.head()"
   ]
  },
  {
   "cell_type": "code",
   "execution_count": 25,
   "metadata": {
    "colab": {
     "base_uri": "https://localhost:8080/",
     "height": 71
    },
    "colab_type": "code",
    "id": "wLsQLLYz6eHV",
    "outputId": "4dfda6bb-e701-4eca-e083-2faefa45afe3"
   },
   "outputs": [
    {
     "data": {
      "text/plain": [
       "0.9291"
      ]
     },
     "execution_count": 25,
     "metadata": {},
     "output_type": "execute_result"
    }
   ],
   "source": [
    "log_clf = LogisticRegression()\n",
    "\n",
    "log_clf.fit(X_train, Y_train)\n",
    "log_clf.score(X_test, Y_test) "
   ]
  },
  {
   "cell_type": "markdown",
   "metadata": {
    "colab_type": "text",
    "id": "gmrhQqvK6eHY"
   },
   "source": [
    "# 덴드로그램"
   ]
  },
  {
   "cell_type": "code",
   "execution_count": 26,
   "metadata": {
    "colab": {},
    "colab_type": "code",
    "id": "kHg9UVQA6eHZ"
   },
   "outputs": [],
   "source": [
    "import scipy.stats as stats\n",
    "import pandas as pd\n",
    "import urllib\n",
    "from statsmodels.formula.api import ols\n",
    "from statsmodels.stats.anova import anova_lm\n",
    "import matplotlib.pyplot as plt\n",
    "import numpy as np\n",
    "%matplotlib inline"
   ]
  },
  {
   "cell_type": "code",
   "execution_count": 27,
   "metadata": {
    "colab": {},
    "colab_type": "code",
    "id": "667eXeGwnGWM"
   },
   "outputs": [],
   "source": [
    "data_sample = data.sample(n=100, random_state = 1234)"
   ]
  },
  {
   "cell_type": "code",
   "execution_count": 28,
   "metadata": {
    "colab": {},
    "colab_type": "code",
    "id": "eCZNxRO16eHb"
   },
   "outputs": [],
   "source": [
    "columns = ['SEX','BTH_G','DIS','SBP_Y','DBP_Y','FBS_Y', 'BMI_Y', 'HEALTH1']\n",
    "\n",
    "data_cluster= data_sample[columns]\n",
    "x_columns = ['SEX','BTH_G','DIS','SBP_Y','DBP_Y','FBS_Y', 'BMI_Y']\n",
    "  # 유의한 변수들만 선별(SBP 제외)\n",
    "y_columns = 'HEALTH1'"
   ]
  },
  {
   "cell_type": "code",
   "execution_count": 29,
   "metadata": {
    "colab": {
     "base_uri": "https://localhost:8080/",
     "height": 204
    },
    "colab_type": "code",
    "id": "AjGfM2G26eHd",
    "outputId": "68c09fae-f5c5-4b7a-cf9b-6a1aa0ee5a54"
   },
   "outputs": [
    {
     "data": {
      "text/html": [
       "<div>\n",
       "<style scoped>\n",
       "    .dataframe tbody tr th:only-of-type {\n",
       "        vertical-align: middle;\n",
       "    }\n",
       "\n",
       "    .dataframe tbody tr th {\n",
       "        vertical-align: top;\n",
       "    }\n",
       "\n",
       "    .dataframe thead th {\n",
       "        text-align: right;\n",
       "    }\n",
       "</style>\n",
       "<table border=\"1\" class=\"dataframe\">\n",
       "  <thead>\n",
       "    <tr style=\"text-align: right;\">\n",
       "      <th></th>\n",
       "      <th>SEX</th>\n",
       "      <th>BTH_G</th>\n",
       "      <th>DIS</th>\n",
       "      <th>SBP_Y</th>\n",
       "      <th>DBP_Y</th>\n",
       "      <th>FBS_Y</th>\n",
       "      <th>BMI_Y</th>\n",
       "      <th>HEALTH1</th>\n",
       "    </tr>\n",
       "  </thead>\n",
       "  <tbody>\n",
       "    <tr>\n",
       "      <th>433572</th>\n",
       "      <td>1</td>\n",
       "      <td>21</td>\n",
       "      <td>4</td>\n",
       "      <td>1</td>\n",
       "      <td>0</td>\n",
       "      <td>0</td>\n",
       "      <td>0</td>\n",
       "      <td>0</td>\n",
       "    </tr>\n",
       "    <tr>\n",
       "      <th>254298</th>\n",
       "      <td>1</td>\n",
       "      <td>13</td>\n",
       "      <td>4</td>\n",
       "      <td>1</td>\n",
       "      <td>0</td>\n",
       "      <td>0</td>\n",
       "      <td>1</td>\n",
       "      <td>0</td>\n",
       "    </tr>\n",
       "    <tr>\n",
       "      <th>686334</th>\n",
       "      <td>2</td>\n",
       "      <td>12</td>\n",
       "      <td>4</td>\n",
       "      <td>0</td>\n",
       "      <td>0</td>\n",
       "      <td>0</td>\n",
       "      <td>0</td>\n",
       "      <td>0</td>\n",
       "    </tr>\n",
       "    <tr>\n",
       "      <th>866486</th>\n",
       "      <td>2</td>\n",
       "      <td>19</td>\n",
       "      <td>4</td>\n",
       "      <td>1</td>\n",
       "      <td>1</td>\n",
       "      <td>0</td>\n",
       "      <td>0</td>\n",
       "      <td>0</td>\n",
       "    </tr>\n",
       "    <tr>\n",
       "      <th>649015</th>\n",
       "      <td>2</td>\n",
       "      <td>10</td>\n",
       "      <td>4</td>\n",
       "      <td>0</td>\n",
       "      <td>0</td>\n",
       "      <td>0</td>\n",
       "      <td>0</td>\n",
       "      <td>0</td>\n",
       "    </tr>\n",
       "  </tbody>\n",
       "</table>\n",
       "</div>"
      ],
      "text/plain": [
       "        SEX  BTH_G  DIS  SBP_Y  DBP_Y  FBS_Y  BMI_Y  HEALTH1\n",
       "433572    1     21    4      1      0      0      0        0\n",
       "254298    1     13    4      1      0      0      1        0\n",
       "686334    2     12    4      0      0      0      0        0\n",
       "866486    2     19    4      1      1      0      0        0\n",
       "649015    2     10    4      0      0      0      0        0"
      ]
     },
     "execution_count": 29,
     "metadata": {},
     "output_type": "execute_result"
    }
   ],
   "source": [
    "data_cluster.head()"
   ]
  },
  {
   "cell_type": "code",
   "execution_count": 31,
   "metadata": {
    "colab": {
     "base_uri": "https://localhost:8080/",
     "height": 1000
    },
    "colab_type": "code",
    "id": "ETi_A0Xq6eHf",
    "outputId": "08ed8ed2-95a9-4610-d9d1-eef06113ced5"
   },
   "outputs": [
    {
     "data": {
      "image/png": "[encoded data removed]",
      "text/plain": [
       "<Figure size 3600x2160 with 1 Axes>"
      ]
     },
     "metadata": {
      "needs_background": "light"
     },
     "output_type": "display_data"
    }
   ],
   "source": [
    "# dendrogram \n",
    "\n",
    "from scipy.cluster.hierarchy import linkage, dendrogram\n",
    "import matplotlib.pyplot as plt\n",
    "\n",
    "# Calculate the linkage: mergings\n",
    "mergings = linkage(data_cluster,method='complete')\n",
    "\n",
    "# Plot the dendrogram, using varieties as labels\n",
    "plt.figure(figsize=(50,30))\n",
    "dendrogram(mergings,\n",
    "           labels = data_cluster['HEALTH1'].to_numpy(),\n",
    "           leaf_rotation=90,\n",
    "           leaf_font_size=10,\n",
    ")\n",
    "plt.show()\n"
   ]
  },
  {
   "cell_type": "markdown",
   "metadata": {
    "colab_type": "text",
    "id": "8NqOHjhy6eHk"
   },
   "source": [
    "# 군집분석(Kmeans) - 전체 데이터"
   ]
  },
  {
   "cell_type": "code",
   "execution_count": 32,
   "metadata": {
    "colab": {},
    "colab_type": "code",
    "id": "RW5VTahsfruO"
   },
   "outputs": [],
   "source": [
    "# age blood_pressure bmi fbs diastolic(이완기) dis 를 이용한 군집분석\n",
    "from sklearn.cluster import KMeans\n",
    "import matplotlib.pyplot as plt\n",
    "import seaborn as sns\n",
    "from sklearn import preprocessing"
   ]
  },
  {
   "cell_type": "code",
   "execution_count": 33,
   "metadata": {
    "colab": {
     "base_uri": "https://localhost:8080/",
     "height": 35
    },
    "colab_type": "code",
    "id": "pbzUKlUB6eHl",
    "outputId": "3c06109d-b2d9-4c38-c4af-fde15bb2aac9"
   },
   "outputs": [
    {
     "data": {
      "text/plain": [
       "Index(['SEX', 'BTH_G', 'DIS', 'SBP_Y', 'DBP_Y', 'FBS_Y', 'BMI_Y', 'HEALTH1'], dtype='object')"
      ]
     },
     "execution_count": 33,
     "metadata": {},
     "output_type": "execute_result"
    }
   ],
   "source": [
    "data_cluster.columns"
   ]
  },
  {
   "cell_type": "code",
   "execution_count": 34,
   "metadata": {
    "colab": {},
    "colab_type": "code",
    "id": "S0scI2b56eHp"
   },
   "outputs": [],
   "source": [
    "#feature = data_sample[['SEX', 'BTH_G', 'SBP', 'DBP', 'FBS', 'DIS', 'BMI', 'SBP_A', 'DBP_A','FBS_A', 'BMI_A', 'HEALTH']]\n",
    "#feature = data[['SEX', 'BTH_G', 'DIS', 'SBP_Y', 'DBP_Y', 'FBS_Y', 'BMI_Y','FBS_Y']]\n",
    "feature = data[['SEX', 'BTH_G', 'DIS', 'SBP_Y', 'DBP_Y', 'FBS_Y', 'BMI_Y','FBS_Y','SBP', 'DBP', 'FBS','BMI']]"
   ]
  },
  {
   "cell_type": "code",
   "execution_count": 35,
   "metadata": {
    "colab": {},
    "colab_type": "code",
    "id": "UMJq-9BaK7nE"
   },
   "outputs": [],
   "source": [
    "#label = data_sample[['diabetes']]\n",
    "label = data[['HEALTH1']]"
   ]
  },
  {
   "cell_type": "code",
   "execution_count": 36,
   "metadata": {
    "colab": {
     "base_uri": "https://localhost:8080/",
     "height": 204
    },
    "colab_type": "code",
    "id": "A-wmvwaJ6eHt",
    "outputId": "ce6d9c96-545d-40c6-c17d-852098ae4d84"
   },
   "outputs": [
    {
     "data": {
      "text/html": [
       "<div>\n",
       "<style scoped>\n",
       "    .dataframe tbody tr th:only-of-type {\n",
       "        vertical-align: middle;\n",
       "    }\n",
       "\n",
       "    .dataframe tbody tr th {\n",
       "        vertical-align: top;\n",
       "    }\n",
       "\n",
       "    .dataframe thead th {\n",
       "        text-align: right;\n",
       "    }\n",
       "</style>\n",
       "<table border=\"1\" class=\"dataframe\">\n",
       "  <thead>\n",
       "    <tr style=\"text-align: right;\">\n",
       "      <th></th>\n",
       "      <th>SEX</th>\n",
       "      <th>BTH_G</th>\n",
       "      <th>DIS</th>\n",
       "      <th>SBP_Y</th>\n",
       "      <th>DBP_Y</th>\n",
       "      <th>FBS_Y</th>\n",
       "      <th>BMI_Y</th>\n",
       "      <th>FBS_Y</th>\n",
       "      <th>SBP</th>\n",
       "      <th>DBP</th>\n",
       "      <th>FBS</th>\n",
       "      <th>BMI</th>\n",
       "    </tr>\n",
       "  </thead>\n",
       "  <tbody>\n",
       "    <tr>\n",
       "      <th>0</th>\n",
       "      <td>1</td>\n",
       "      <td>1</td>\n",
       "      <td>4</td>\n",
       "      <td>0</td>\n",
       "      <td>0</td>\n",
       "      <td>0</td>\n",
       "      <td>0</td>\n",
       "      <td>0</td>\n",
       "      <td>116</td>\n",
       "      <td>78</td>\n",
       "      <td>94</td>\n",
       "      <td>16.6</td>\n",
       "    </tr>\n",
       "    <tr>\n",
       "      <th>1</th>\n",
       "      <td>1</td>\n",
       "      <td>1</td>\n",
       "      <td>4</td>\n",
       "      <td>0</td>\n",
       "      <td>0</td>\n",
       "      <td>0</td>\n",
       "      <td>0</td>\n",
       "      <td>0</td>\n",
       "      <td>100</td>\n",
       "      <td>60</td>\n",
       "      <td>79</td>\n",
       "      <td>22.3</td>\n",
       "    </tr>\n",
       "    <tr>\n",
       "      <th>2</th>\n",
       "      <td>1</td>\n",
       "      <td>1</td>\n",
       "      <td>4</td>\n",
       "      <td>0</td>\n",
       "      <td>0</td>\n",
       "      <td>0</td>\n",
       "      <td>0</td>\n",
       "      <td>0</td>\n",
       "      <td>100</td>\n",
       "      <td>60</td>\n",
       "      <td>87</td>\n",
       "      <td>21.9</td>\n",
       "    </tr>\n",
       "    <tr>\n",
       "      <th>3</th>\n",
       "      <td>1</td>\n",
       "      <td>1</td>\n",
       "      <td>4</td>\n",
       "      <td>0</td>\n",
       "      <td>0</td>\n",
       "      <td>0</td>\n",
       "      <td>0</td>\n",
       "      <td>0</td>\n",
       "      <td>111</td>\n",
       "      <td>70</td>\n",
       "      <td>72</td>\n",
       "      <td>20.2</td>\n",
       "    </tr>\n",
       "    <tr>\n",
       "      <th>4</th>\n",
       "      <td>1</td>\n",
       "      <td>1</td>\n",
       "      <td>4</td>\n",
       "      <td>1</td>\n",
       "      <td>1</td>\n",
       "      <td>0</td>\n",
       "      <td>0</td>\n",
       "      <td>0</td>\n",
       "      <td>120</td>\n",
       "      <td>80</td>\n",
       "      <td>98</td>\n",
       "      <td>20.0</td>\n",
       "    </tr>\n",
       "  </tbody>\n",
       "</table>\n",
       "</div>"
      ],
      "text/plain": [
       "   SEX  BTH_G  DIS  SBP_Y  DBP_Y  FBS_Y  BMI_Y  FBS_Y  SBP  DBP  FBS   BMI\n",
       "0    1      1    4      0      0      0      0      0  116   78   94  16.6\n",
       "1    1      1    4      0      0      0      0      0  100   60   79  22.3\n",
       "2    1      1    4      0      0      0      0      0  100   60   87  21.9\n",
       "3    1      1    4      0      0      0      0      0  111   70   72  20.2\n",
       "4    1      1    4      1      1      0      0      0  120   80   98  20.0"
      ]
     },
     "execution_count": 36,
     "metadata": {},
     "output_type": "execute_result"
    }
   ],
   "source": [
    "feature.head()"
   ]
  },
  {
   "cell_type": "code",
   "execution_count": 37,
   "metadata": {
    "colab": {
     "base_uri": "https://localhost:8080/",
     "height": 35
    },
    "colab_type": "code",
    "id": "luUYpbjS6eHv",
    "outputId": "7ef98a1a-9256-4652-c869-526764bb77d7"
   },
   "outputs": [
    {
     "data": {
      "text/plain": [
       "1000000"
      ]
     },
     "execution_count": 37,
     "metadata": {},
     "output_type": "execute_result"
    }
   ],
   "source": [
    "len(feature)"
   ]
  },
  {
   "cell_type": "code",
   "execution_count": 38,
   "metadata": {
    "colab": {},
    "colab_type": "code",
    "id": "7uUSiYR-6eHx"
   },
   "outputs": [],
   "source": [
    "model = KMeans(n_clusters=5,algorithm='auto')\n",
    "\n",
    "model.fit(feature)  # 모델 학습\n",
    "predict = pd.DataFrame(model.predict(feature))  # 모델 예측\n",
    "predict.columns=['cluster_label']"
   ]
  },
  {
   "cell_type": "code",
   "execution_count": 39,
   "metadata": {
    "colab": {},
    "colab_type": "code",
    "id": "MetWoAYg6eH0"
   },
   "outputs": [],
   "source": [
    "feature.reset_index(drop=True, inplace=True)\n",
    "predict.reset_index(drop=True, inplace=True)\n",
    "\n",
    "new_data = pd.concat([feature, predict], axis = 1)"
   ]
  },
  {
   "cell_type": "code",
   "execution_count": 40,
   "metadata": {
    "colab": {
     "base_uri": "https://localhost:8080/",
     "height": 204
    },
    "colab_type": "code",
    "id": "IdMJuHZRK7nM",
    "outputId": "c95ef7fe-2c7f-4452-a073-1b73d6855aee"
   },
   "outputs": [
    {
     "data": {
      "text/html": [
       "<div>\n",
       "<style scoped>\n",
       "    .dataframe tbody tr th:only-of-type {\n",
       "        vertical-align: middle;\n",
       "    }\n",
       "\n",
       "    .dataframe tbody tr th {\n",
       "        vertical-align: top;\n",
       "    }\n",
       "\n",
       "    .dataframe thead th {\n",
       "        text-align: right;\n",
       "    }\n",
       "</style>\n",
       "<table border=\"1\" class=\"dataframe\">\n",
       "  <thead>\n",
       "    <tr style=\"text-align: right;\">\n",
       "      <th></th>\n",
       "      <th>SEX</th>\n",
       "      <th>BTH_G</th>\n",
       "      <th>DIS</th>\n",
       "      <th>SBP_Y</th>\n",
       "      <th>DBP_Y</th>\n",
       "      <th>FBS_Y</th>\n",
       "      <th>BMI_Y</th>\n",
       "      <th>FBS_Y</th>\n",
       "      <th>SBP</th>\n",
       "      <th>DBP</th>\n",
       "      <th>FBS</th>\n",
       "      <th>BMI</th>\n",
       "      <th>cluster_label</th>\n",
       "      <th>HEALTH1</th>\n",
       "    </tr>\n",
       "  </thead>\n",
       "  <tbody>\n",
       "    <tr>\n",
       "      <th>0</th>\n",
       "      <td>1</td>\n",
       "      <td>1</td>\n",
       "      <td>4</td>\n",
       "      <td>0</td>\n",
       "      <td>0</td>\n",
       "      <td>0</td>\n",
       "      <td>0</td>\n",
       "      <td>0</td>\n",
       "      <td>116</td>\n",
       "      <td>78</td>\n",
       "      <td>94</td>\n",
       "      <td>16.6</td>\n",
       "      <td>3</td>\n",
       "      <td>0</td>\n",
       "    </tr>\n",
       "    <tr>\n",
       "      <th>1</th>\n",
       "      <td>1</td>\n",
       "      <td>1</td>\n",
       "      <td>4</td>\n",
       "      <td>0</td>\n",
       "      <td>0</td>\n",
       "      <td>0</td>\n",
       "      <td>0</td>\n",
       "      <td>0</td>\n",
       "      <td>100</td>\n",
       "      <td>60</td>\n",
       "      <td>79</td>\n",
       "      <td>22.3</td>\n",
       "      <td>0</td>\n",
       "      <td>0</td>\n",
       "    </tr>\n",
       "    <tr>\n",
       "      <th>2</th>\n",
       "      <td>1</td>\n",
       "      <td>1</td>\n",
       "      <td>4</td>\n",
       "      <td>0</td>\n",
       "      <td>0</td>\n",
       "      <td>0</td>\n",
       "      <td>0</td>\n",
       "      <td>0</td>\n",
       "      <td>100</td>\n",
       "      <td>60</td>\n",
       "      <td>87</td>\n",
       "      <td>21.9</td>\n",
       "      <td>0</td>\n",
       "      <td>0</td>\n",
       "    </tr>\n",
       "    <tr>\n",
       "      <th>3</th>\n",
       "      <td>1</td>\n",
       "      <td>1</td>\n",
       "      <td>4</td>\n",
       "      <td>0</td>\n",
       "      <td>0</td>\n",
       "      <td>0</td>\n",
       "      <td>0</td>\n",
       "      <td>0</td>\n",
       "      <td>111</td>\n",
       "      <td>70</td>\n",
       "      <td>72</td>\n",
       "      <td>20.2</td>\n",
       "      <td>0</td>\n",
       "      <td>0</td>\n",
       "    </tr>\n",
       "    <tr>\n",
       "      <th>4</th>\n",
       "      <td>1</td>\n",
       "      <td>1</td>\n",
       "      <td>4</td>\n",
       "      <td>1</td>\n",
       "      <td>1</td>\n",
       "      <td>0</td>\n",
       "      <td>0</td>\n",
       "      <td>0</td>\n",
       "      <td>120</td>\n",
       "      <td>80</td>\n",
       "      <td>98</td>\n",
       "      <td>20.0</td>\n",
       "      <td>3</td>\n",
       "      <td>0</td>\n",
       "    </tr>\n",
       "  </tbody>\n",
       "</table>\n",
       "</div>"
      ],
      "text/plain": [
       "   SEX  BTH_G  DIS  SBP_Y  DBP_Y  FBS_Y  BMI_Y  FBS_Y  SBP  DBP  FBS   BMI  \\\n",
       "0    1      1    4      0      0      0      0      0  116   78   94  16.6   \n",
       "1    1      1    4      0      0      0      0      0  100   60   79  22.3   \n",
       "2    1      1    4      0      0      0      0      0  100   60   87  21.9   \n",
       "3    1      1    4      0      0      0      0      0  111   70   72  20.2   \n",
       "4    1      1    4      1      1      0      0      0  120   80   98  20.0   \n",
       "\n",
       "   cluster_label  HEALTH1  \n",
       "0              3        0  \n",
       "1              0        0  \n",
       "2              0        0  \n",
       "3              0        0  \n",
       "4              3        0  "
      ]
     },
     "execution_count": 40,
     "metadata": {},
     "output_type": "execute_result"
    }
   ],
   "source": [
    "label.reset_index(drop = True, inplace = True)\n",
    "\n",
    "new_data =  pd.concat([new_data, label], axis = 1)\n",
    "new_data.head()"
   ]
  },
  {
   "cell_type": "code",
   "execution_count": 41,
   "metadata": {
    "colab": {
     "base_uri": "https://localhost:8080/",
     "height": 125
    },
    "colab_type": "code",
    "id": "cjPuRhPq6eH2",
    "outputId": "43eff676-f1d9-4b04-9de9-6ec8b6c0edb1"
   },
   "outputs": [
    {
     "data": {
      "text/plain": [
       "3    408149\n",
       "0    313897\n",
       "2    157883\n",
       "4    104308\n",
       "1     15763\n",
       "Name: cluster_label, dtype: int64"
      ]
     },
     "execution_count": 41,
     "metadata": {},
     "output_type": "execute_result"
    }
   ],
   "source": [
    "new_data['cluster_label'].value_counts()"
   ]
  },
  {
   "cell_type": "code",
   "execution_count": 42,
   "metadata": {
    "colab": {
     "base_uri": "https://localhost:8080/",
     "height": 265
    },
    "colab_type": "code",
    "id": "_VD9PdM76eH4",
    "outputId": "ec730fb2-470f-4b89-8b64-fc04fe2313d8"
   },
   "outputs": [
    {
     "data": {
      "image/png": "[encoded data removed]",
      "text/plain": [
       "<Figure size 432x288 with 1 Axes>"
      ]
     },
     "metadata": {
      "needs_background": "light"
     },
     "output_type": "display_data"
    }
   ],
   "source": [
    "#plot 시각화\n",
    "\n",
    "centers = model.cluster_centers_\n",
    "plt.scatter(centers[:, 0], centers[:, 1], c='black', s=200, alpha=0.5);"
   ]
  },
  {
   "cell_type": "code",
   "execution_count": 43,
   "metadata": {
    "colab": {},
    "colab_type": "code",
    "id": "FtOJor1i6eH6"
   },
   "outputs": [],
   "source": [
    "## 군집 별 특성 찾기 \n",
    "\n",
    "cluster1 = new_data[new_data['cluster_label']==0] \n",
    "cluster2 = new_data[new_data['cluster_label']==1] \n",
    "cluster3 = new_data[new_data['cluster_label']==2] \n",
    "cluster4 = new_data[new_data['cluster_label']==3]  \n",
    "cluster5 = new_data[new_data['cluster_label']==4]"
   ]
  },
  {
   "cell_type": "markdown",
   "metadata": {
    "colab_type": "text",
    "id": "3oaJOkXT6eH8"
   },
   "source": [
    "### 클러스터별 통계량 추출"
   ]
  },
  {
   "cell_type": "code",
   "execution_count": 44,
   "metadata": {
    "colab": {},
    "colab_type": "code",
    "id": "3HurZlx96eH9"
   },
   "outputs": [],
   "source": [
    "def makestat(df):\n",
    "    print(df.describe())\n",
    "    print(\"***********************************************************************************\")\n",
    "    print(df.groupby('DIS').count())  # 성별 수 \n",
    "    print(\"***********************************************************************************\")\n",
    "    print(df['HEALTH1'].value_counts()/df.count()[0]*100)    # HEALTH 구성 비율\n",
    "    print(\"***********************************************************************************\")\n",
    "    print(df.groupby('SEX').count().loc[1,:][0]/df.count()[0]*100)  # 당뇨환자 비율 (에러발생 -> 당뇨환자 0인것)\n"
   ]
  },
  {
   "cell_type": "code",
   "execution_count": 45,
   "metadata": {
    "colab": {
     "base_uri": "https://localhost:8080/",
     "height": 485
    },
    "colab_type": "code",
    "id": "4H3doi4R6eH_",
    "outputId": "d11d3cb3-4992-48c1-aaf1-3f96e63fac71"
   },
   "outputs": [
    {
     "name": "stdout",
     "output_type": "stream",
     "text": [
      "                 SEX          BTH_G            DIS          SBP_Y  \\\n",
      "count  313897.000000  313897.000000  313897.000000  313897.000000   \n",
      "mean        1.629633      11.135503       3.834465       0.013517   \n",
      "std         0.482904       6.476165       0.563176       0.115475   \n",
      "min         1.000000       1.000000       1.000000       0.000000   \n",
      "25%         1.000000       6.000000       4.000000       0.000000   \n",
      "50%         2.000000      11.000000       4.000000       0.000000   \n",
      "75%         2.000000      16.000000       4.000000       0.000000   \n",
      "max         2.000000      27.000000       4.000000       1.000000   \n",
      "\n",
      "               DBP_Y          FBS_Y          BMI_Y          FBS_Y  \\\n",
      "count  313897.000000  313897.000000  313897.000000  313897.000000   \n",
      "mean        0.026856       0.000016       0.066038       0.000016   \n",
      "std         0.161663       0.003991       0.248348       0.003991   \n",
      "min         0.000000       0.000000       0.000000       0.000000   \n",
      "25%         0.000000       0.000000       0.000000       0.000000   \n",
      "50%         0.000000       0.000000       0.000000       0.000000   \n",
      "75%         0.000000       0.000000       0.000000       0.000000   \n",
      "max         1.000000       1.000000       1.000000       1.000000   \n",
      "\n",
      "                 SBP            DBP            FBS            BMI  \\\n",
      "count  313897.000000  313897.000000  313897.000000  313897.000000   \n",
      "mean      106.677120      66.673068      90.018700      22.379867   \n",
      "std         6.927752       5.935566       9.515107       2.893611   \n",
      "min        82.000000      50.000000      60.000000      14.800000   \n",
      "25%       101.000000      61.000000      84.000000      20.300000   \n",
      "50%       110.000000      68.000000      90.000000      22.200000   \n",
      "75%       110.000000      70.000000      96.000000      24.200000   \n",
      "max       130.000000      92.000000     128.000000      40.300000   \n",
      "\n",
      "       cluster_label        HEALTH1  \n",
      "count       313897.0  313897.000000  \n",
      "mean             0.0       0.000016  \n",
      "std              0.0       0.003991  \n",
      "min              0.0       0.000000  \n",
      "25%              0.0       0.000000  \n",
      "50%              0.0       0.000000  \n",
      "75%              0.0       0.000000  \n",
      "max              0.0       1.000000  \n",
      "***********************************************************************************\n",
      "        SEX   BTH_G   SBP_Y   DBP_Y   FBS_Y   BMI_Y   FBS_Y     SBP     DBP  \\\n",
      "DIS                                                                           \n",
      "1      3094    3094    3094    3094    3094    3094    3094    3094    3094   \n",
      "2     18817   18817   18817   18817   18817   18817   18817   18817   18817   \n",
      "3      5045    5045    5045    5045    5045    5045    5045    5045    5045   \n",
      "4    286941  286941  286941  286941  286941  286941  286941  286941  286941   \n",
      "\n",
      "        FBS     BMI  cluster_label  HEALTH1  \n",
      "DIS                                          \n",
      "1      3094    3094           3094     3094  \n",
      "2     18817   18817          18817    18817  \n",
      "3      5045    5045           5045     5045  \n",
      "4    286941  286941         286941   286941  \n",
      "***********************************************************************************\n",
      "0    99.998407\n",
      "1     0.001593\n",
      "Name: HEALTH1, dtype: float64\n",
      "***********************************************************************************\n",
      "37.03667126477794\n"
     ]
    }
   ],
   "source": [
    "makestat(cluster1)"
   ]
  },
  {
   "cell_type": "code",
   "execution_count": 46,
   "metadata": {
    "colab": {
     "base_uri": "https://localhost:8080/",
     "height": 485
    },
    "colab_type": "code",
    "id": "eFN5qMsbqRc8",
    "outputId": "398ad16c-f9c8-48c5-aa16-cdb6eef55468"
   },
   "outputs": [
    {
     "name": "stdout",
     "output_type": "stream",
     "text": [
      "                SEX         BTH_G           DIS         SBP_Y         DBP_Y  \\\n",
      "count  15763.000000  15763.000000  15763.000000  15763.000000  15763.000000   \n",
      "mean       1.352471     16.931485      2.423333      0.752966      0.557445   \n",
      "std        0.477755      5.774722      1.175666      0.431300      0.496705   \n",
      "min        1.000000      1.000000      1.000000      0.000000      0.000000   \n",
      "25%        1.000000     13.000000      1.000000      1.000000      0.000000   \n",
      "50%        1.000000     17.000000      3.000000      1.000000      1.000000   \n",
      "75%        2.000000     21.000000      3.000000      1.000000      1.000000   \n",
      "max        2.000000     27.000000      4.000000      1.000000      1.000000   \n",
      "\n",
      "         FBS_Y         BMI_Y    FBS_Y           SBP           DBP  \\\n",
      "count  15763.0  15763.000000  15763.0  15763.000000  15763.000000   \n",
      "mean       1.0      0.272981      1.0    128.604009     79.133350   \n",
      "std        0.0      0.445505      0.0     15.382098     10.076769   \n",
      "min        1.0      0.000000      1.0     84.000000     50.000000   \n",
      "25%        1.0      0.000000      1.0    120.000000     70.000000   \n",
      "50%        1.0      0.000000      1.0    130.000000     80.000000   \n",
      "75%        1.0      1.000000      1.0    138.000000     85.000000   \n",
      "max        1.0      1.000000      1.0    190.000000    120.000000   \n",
      "\n",
      "                FBS           BMI  cluster_label  HEALTH1  \n",
      "count  15763.000000  15763.000000        15763.0  15763.0  \n",
      "mean     223.832963     25.132100            1.0      1.0  \n",
      "std       41.006527      3.527335            0.0      0.0  \n",
      "min      175.000000     14.900000            1.0      1.0  \n",
      "25%      191.000000     22.800000            1.0      1.0  \n",
      "50%      211.000000     24.800000            1.0      1.0  \n",
      "75%      247.000000     27.200000            1.0      1.0  \n",
      "max      358.000000     40.200000            1.0      1.0  \n",
      "***********************************************************************************\n",
      "      SEX  BTH_G  SBP_Y  DBP_Y  FBS_Y  BMI_Y  FBS_Y   SBP   DBP   FBS   BMI  \\\n",
      "DIS                                                                           \n",
      "1    5744   5744   5744   5744   5744   5744   5744  5744  5744  5744  5744   \n",
      "2     827    827    827    827    827    827    827   827   827   827   827   \n",
      "3    5967   5967   5967   5967   5967   5967   5967  5967  5967  5967  5967   \n",
      "4    3225   3225   3225   3225   3225   3225   3225  3225  3225  3225  3225   \n",
      "\n",
      "     cluster_label  HEALTH1  \n",
      "DIS                          \n",
      "1             5744     5744  \n",
      "2              827      827  \n",
      "3             5967     5967  \n",
      "4             3225     3225  \n",
      "***********************************************************************************\n",
      "1    100.0\n",
      "Name: HEALTH1, dtype: float64\n",
      "***********************************************************************************\n",
      "64.75290236630083\n"
     ]
    }
   ],
   "source": [
    "makestat(cluster2)"
   ]
  },
  {
   "cell_type": "code",
   "execution_count": 47,
   "metadata": {
    "colab": {
     "base_uri": "https://localhost:8080/",
     "height": 467
    },
    "colab_type": "code",
    "id": "4Xwwy_QZ6eIC",
    "outputId": "16ae7caa-7788-4efa-da30-ae1547ebca7f"
   },
   "outputs": [
    {
     "name": "stdout",
     "output_type": "stream",
     "text": [
      "                 SEX          BTH_G            DIS          SBP_Y  \\\n",
      "count  157883.000000  157883.000000  157883.000000  157883.000000   \n",
      "mean        1.416112      17.002077       3.059968       0.999994   \n",
      "std         0.492914       6.565556       1.075712       0.002517   \n",
      "min         1.000000       1.000000       1.000000       0.000000   \n",
      "25%         1.000000      12.000000       2.000000       1.000000   \n",
      "50%         1.000000      17.000000       4.000000       1.000000   \n",
      "75%         2.000000      22.000000       4.000000       1.000000   \n",
      "max         2.000000      27.000000       4.000000       1.000000   \n",
      "\n",
      "               DBP_Y          FBS_Y          BMI_Y          FBS_Y  \\\n",
      "count  157883.000000  157883.000000  157883.000000  157883.000000   \n",
      "mean        0.907659       0.006879       0.263714       0.006879   \n",
      "std         0.289507       0.082651       0.440648       0.082651   \n",
      "min         0.000000       0.000000       0.000000       0.000000   \n",
      "25%         1.000000       0.000000       0.000000       0.000000   \n",
      "50%         1.000000       0.000000       0.000000       0.000000   \n",
      "75%         1.000000       0.000000       1.000000       0.000000   \n",
      "max         1.000000       1.000000       1.000000       1.000000   \n",
      "\n",
      "                 SBP            DBP            FBS            BMI  \\\n",
      "count  157883.000000  157883.000000  157883.000000  157883.000000   \n",
      "mean      142.849110      88.149471      99.060767      25.132710   \n",
      "std        10.043541       8.106114      10.411096       3.365611   \n",
      "min       119.000000      50.000000      60.000000      14.800000   \n",
      "25%       136.000000      82.000000      92.000000      22.900000   \n",
      "50%       140.000000      88.000000      99.000000      24.900000   \n",
      "75%       149.000000      91.000000     106.000000      27.100000   \n",
      "max       190.000000     120.000000     151.000000      40.300000   \n",
      "\n",
      "       cluster_label        HEALTH1  \n",
      "count       157883.0  157883.000000  \n",
      "mean             2.0       0.006879  \n",
      "std              0.0       0.082651  \n",
      "min              2.0       0.000000  \n",
      "25%              2.0       0.000000  \n",
      "50%              2.0       0.000000  \n",
      "75%              2.0       0.000000  \n",
      "max              2.0       1.000000  \n",
      "***********************************************************************************\n",
      "       SEX  BTH_G  SBP_Y  DBP_Y  FBS_Y  BMI_Y  FBS_Y    SBP    DBP    FBS  \\\n",
      "DIS                                                                         \n",
      "1     9686   9686   9686   9686   9686   9686   9686   9686   9686   9686   \n",
      "2    57839  57839  57839  57839  57839  57839  57839  57839  57839  57839   \n",
      "3     3679   3679   3679   3679   3679   3679   3679   3679   3679   3679   \n",
      "4    86679  86679  86679  86679  86679  86679  86679  86679  86679  86679   \n",
      "\n",
      "       BMI  cluster_label  HEALTH1  \n",
      "DIS                                 \n",
      "1     9686           9686     9686  \n",
      "2    57839          57839    57839  \n",
      "3     3679           3679     3679  \n",
      "4    86679          86679    86679  \n",
      "***********************************************************************************\n",
      "0    99.312149\n",
      "1     0.687851\n",
      "Name: HEALTH1, dtype: float64\n",
      "***********************************************************************************\n",
      "58.388806901312996\n"
     ]
    }
   ],
   "source": [
    "makestat(cluster3)"
   ]
  },
  {
   "cell_type": "code",
   "execution_count": 48,
   "metadata": {
    "colab": {
     "base_uri": "https://localhost:8080/",
     "height": 485
    },
    "colab_type": "code",
    "id": "PxRB1Q7W6eIJ",
    "outputId": "f03c809d-7a6d-4329-dcd6-7f9fc3214d41"
   },
   "outputs": [
    {
     "name": "stdout",
     "output_type": "stream",
     "text": [
      "                 SEX          BTH_G            DIS          SBP_Y  \\\n",
      "count  408149.000000  408149.000000  408149.000000  408149.000000   \n",
      "mean        1.441140      13.699688       3.584465       0.807286   \n",
      "std         0.496524       6.858230       0.841647       0.394431   \n",
      "min         1.000000       1.000000       1.000000       0.000000   \n",
      "25%         1.000000       9.000000       4.000000       1.000000   \n",
      "50%         1.000000      14.000000       4.000000       1.000000   \n",
      "75%         2.000000      19.000000       4.000000       1.000000   \n",
      "max         2.000000      27.000000       4.000000       1.000000   \n",
      "\n",
      "               DBP_Y     FBS_Y          BMI_Y     FBS_Y            SBP  \\\n",
      "count  408149.000000  408149.0  408149.000000  408149.0  408149.000000   \n",
      "mean        0.492972       0.0       0.163048       0.0     124.148189   \n",
      "std         0.499951       0.0       0.369410       0.0       6.125622   \n",
      "min         0.000000       0.0       0.000000       0.0     100.000000   \n",
      "25%         0.000000       0.0       0.000000       0.0     120.000000   \n",
      "50%         0.000000       0.0       0.000000       0.0     123.000000   \n",
      "75%         1.000000       0.0       0.000000       0.0     130.000000   \n",
      "max         1.000000       0.0       1.000000       0.0     156.000000   \n",
      "\n",
      "                 DBP            FBS            BMI  cluster_label   HEALTH1  \n",
      "count  408149.000000  408149.000000  408149.000000       408149.0  408149.0  \n",
      "mean       77.503696      92.545833      24.024347            3.0       0.0  \n",
      "std         5.749289       9.181753       3.133400            0.0       0.0  \n",
      "min        50.000000      60.000000      14.800000            3.0       0.0  \n",
      "25%        73.000000      86.000000      21.900000            3.0       0.0  \n",
      "50%        79.000000      93.000000      23.800000            3.0       0.0  \n",
      "75%        80.000000      99.000000      25.900000            3.0       0.0  \n",
      "max       106.000000     114.000000      40.300000            3.0       0.0  \n",
      "***********************************************************************************\n",
      "        SEX   BTH_G   SBP_Y   DBP_Y   FBS_Y   BMI_Y   FBS_Y     SBP     DBP  \\\n",
      "DIS                                                                           \n",
      "1      9391    9391    9391    9391    9391    9391    9391    9391    9391   \n",
      "2     66824   66824   66824   66824   66824   66824   66824   66824   66824   \n",
      "3      7779    7779    7779    7779    7779    7779    7779    7779    7779   \n",
      "4    324155  324155  324155  324155  324155  324155  324155  324155  324155   \n",
      "\n",
      "        FBS     BMI  cluster_label  HEALTH1  \n",
      "DIS                                          \n",
      "1      9391    9391           9391     9391  \n",
      "2     66824   66824          66824    66824  \n",
      "3      7779    7779           7779     7779  \n",
      "4    324155  324155         324155   324155  \n",
      "***********************************************************************************\n",
      "0    100.0\n",
      "Name: HEALTH1, dtype: float64\n",
      "***********************************************************************************\n",
      "55.885963214414346\n"
     ]
    }
   ],
   "source": [
    "makestat(cluster4)"
   ]
  },
  {
   "cell_type": "code",
   "execution_count": 49,
   "metadata": {
    "colab": {
     "base_uri": "https://localhost:8080/",
     "height": 467
    },
    "colab_type": "code",
    "id": "AetN1dBL6eIL",
    "outputId": "1b0bd1f1-caac-4897-c5a0-02e9c298131c"
   },
   "outputs": [
    {
     "name": "stdout",
     "output_type": "stream",
     "text": [
      "                 SEX          BTH_G            DIS          SBP_Y  \\\n",
      "count  104308.000000  104308.000000  104308.000000  104308.000000   \n",
      "mean        1.391427      17.900094       2.714087       0.741410   \n",
      "std         0.488072       5.913831       1.205516       0.437862   \n",
      "min         1.000000       1.000000       1.000000       0.000000   \n",
      "25%         1.000000      14.000000       2.000000       0.000000   \n",
      "50%         1.000000      18.000000       3.000000       1.000000   \n",
      "75%         2.000000      22.000000       4.000000       1.000000   \n",
      "max         2.000000      27.000000       4.000000       1.000000   \n",
      "\n",
      "               DBP_Y          FBS_Y          BMI_Y          FBS_Y  \\\n",
      "count  104308.000000  104308.000000  104308.000000  104308.000000   \n",
      "mean        0.490001       0.518656       0.251611       0.518656   \n",
      "std         0.499902       0.499654       0.433941       0.499654   \n",
      "min         0.000000       0.000000       0.000000       0.000000   \n",
      "25%         0.000000       0.000000       0.000000       0.000000   \n",
      "50%         0.000000       1.000000       0.000000       1.000000   \n",
      "75%         1.000000       1.000000       1.000000       1.000000   \n",
      "max         1.000000       1.000000       1.000000       1.000000   \n",
      "\n",
      "                 SBP            DBP            FBS            BMI  \\\n",
      "count  104308.000000  104308.000000  104308.000000  104308.000000   \n",
      "mean      125.920783      77.287073     131.025894      25.015894   \n",
      "std        12.198040       8.518619      16.019155       3.299974   \n",
      "min        83.000000      50.000000     110.000000      14.800000   \n",
      "25%       119.000000      70.000000     118.000000      22.800000   \n",
      "50%       126.000000      79.000000     126.000000      24.800000   \n",
      "75%       133.000000      81.000000     140.000000      27.000000   \n",
      "max       190.000000     120.000000     178.000000      40.300000   \n",
      "\n",
      "       cluster_label        HEALTH1  \n",
      "count       104308.0  104308.000000  \n",
      "mean             4.0       0.518656  \n",
      "std              0.0       0.499654  \n",
      "min              4.0       0.000000  \n",
      "25%              4.0       0.000000  \n",
      "50%              4.0       1.000000  \n",
      "75%              4.0       1.000000  \n",
      "max              4.0       1.000000  \n",
      "***********************************************************************************\n",
      "       SEX  BTH_G  SBP_Y  DBP_Y  FBS_Y  BMI_Y  FBS_Y    SBP    DBP    FBS  \\\n",
      "DIS                                                                         \n",
      "1    25483  25483  25483  25483  25483  25483  25483  25483  25483  25483   \n",
      "2    18519  18519  18519  18519  18519  18519  18519  18519  18519  18519   \n",
      "3    20644  20644  20644  20644  20644  20644  20644  20644  20644  20644   \n",
      "4    39662  39662  39662  39662  39662  39662  39662  39662  39662  39662   \n",
      "\n",
      "       BMI  cluster_label  HEALTH1  \n",
      "DIS                                 \n",
      "1    25483          25483    25483  \n",
      "2    18519          18519    18519  \n",
      "3    20644          20644    20644  \n",
      "4    39662          39662    39662  \n",
      "***********************************************************************************\n",
      "1    51.865629\n",
      "0    48.134371\n",
      "Name: HEALTH1, dtype: float64\n",
      "***********************************************************************************\n",
      "60.85726885761399\n"
     ]
    }
   ],
   "source": [
    "makestat(cluster5)"
   ]
  },
  {
   "cell_type": "markdown",
   "metadata": {
    "colab_type": "text",
    "id": "nk_xcaUNYB73"
   },
   "source": [
    "# 분산분석(ANOVA)"
   ]
  },
  {
   "cell_type": "code",
   "execution_count": 50,
   "metadata": {
    "colab": {},
    "colab_type": "code",
    "id": "8rei-UhAg8Ek"
   },
   "outputs": [],
   "source": [
    "import pandas as pd\n",
    "import urllib\n",
    "from statsmodels.formula.api import ols\n",
    "from statsmodels.stats.anova import anova_lm\n",
    "import matplotlib.pyplot as plt\n",
    "import numpy as np\n",
    "%matplotlib inline"
   ]
  },
  {
   "cell_type": "code",
   "execution_count": 51,
   "metadata": {
    "colab": {
     "base_uri": "https://localhost:8080/",
     "height": 204
    },
    "colab_type": "code",
    "id": "eGG1J1FRg8Vh",
    "outputId": "19b0ae6e-b200-4de9-fbd3-050c45092ca3"
   },
   "outputs": [
    {
     "data": {
      "text/html": [
       "<div>\n",
       "<style scoped>\n",
       "    .dataframe tbody tr th:only-of-type {\n",
       "        vertical-align: middle;\n",
       "    }\n",
       "\n",
       "    .dataframe tbody tr th {\n",
       "        vertical-align: top;\n",
       "    }\n",
       "\n",
       "    .dataframe thead th {\n",
       "        text-align: right;\n",
       "    }\n",
       "</style>\n",
       "<table border=\"1\" class=\"dataframe\">\n",
       "  <thead>\n",
       "    <tr style=\"text-align: right;\">\n",
       "      <th></th>\n",
       "      <th>SEX</th>\n",
       "      <th>BTH_G</th>\n",
       "      <th>DIS</th>\n",
       "      <th>SBP_Y</th>\n",
       "      <th>DBP_Y</th>\n",
       "      <th>FBS_Y</th>\n",
       "      <th>BMI_Y</th>\n",
       "      <th>FBS_Y</th>\n",
       "      <th>SBP</th>\n",
       "      <th>DBP</th>\n",
       "      <th>FBS</th>\n",
       "      <th>BMI</th>\n",
       "      <th>cluster_label</th>\n",
       "      <th>HEALTH1</th>\n",
       "    </tr>\n",
       "  </thead>\n",
       "  <tbody>\n",
       "    <tr>\n",
       "      <th>1</th>\n",
       "      <td>1</td>\n",
       "      <td>1</td>\n",
       "      <td>4</td>\n",
       "      <td>0</td>\n",
       "      <td>0</td>\n",
       "      <td>0</td>\n",
       "      <td>0</td>\n",
       "      <td>0</td>\n",
       "      <td>100</td>\n",
       "      <td>60</td>\n",
       "      <td>79</td>\n",
       "      <td>22.3</td>\n",
       "      <td>0</td>\n",
       "      <td>0</td>\n",
       "    </tr>\n",
       "    <tr>\n",
       "      <th>2</th>\n",
       "      <td>1</td>\n",
       "      <td>1</td>\n",
       "      <td>4</td>\n",
       "      <td>0</td>\n",
       "      <td>0</td>\n",
       "      <td>0</td>\n",
       "      <td>0</td>\n",
       "      <td>0</td>\n",
       "      <td>100</td>\n",
       "      <td>60</td>\n",
       "      <td>87</td>\n",
       "      <td>21.9</td>\n",
       "      <td>0</td>\n",
       "      <td>0</td>\n",
       "    </tr>\n",
       "    <tr>\n",
       "      <th>3</th>\n",
       "      <td>1</td>\n",
       "      <td>1</td>\n",
       "      <td>4</td>\n",
       "      <td>0</td>\n",
       "      <td>0</td>\n",
       "      <td>0</td>\n",
       "      <td>0</td>\n",
       "      <td>0</td>\n",
       "      <td>111</td>\n",
       "      <td>70</td>\n",
       "      <td>72</td>\n",
       "      <td>20.2</td>\n",
       "      <td>0</td>\n",
       "      <td>0</td>\n",
       "    </tr>\n",
       "    <tr>\n",
       "      <th>6</th>\n",
       "      <td>1</td>\n",
       "      <td>1</td>\n",
       "      <td>4</td>\n",
       "      <td>0</td>\n",
       "      <td>0</td>\n",
       "      <td>0</td>\n",
       "      <td>0</td>\n",
       "      <td>0</td>\n",
       "      <td>110</td>\n",
       "      <td>70</td>\n",
       "      <td>80</td>\n",
       "      <td>20.6</td>\n",
       "      <td>0</td>\n",
       "      <td>0</td>\n",
       "    </tr>\n",
       "    <tr>\n",
       "      <th>7</th>\n",
       "      <td>1</td>\n",
       "      <td>1</td>\n",
       "      <td>4</td>\n",
       "      <td>0</td>\n",
       "      <td>0</td>\n",
       "      <td>0</td>\n",
       "      <td>0</td>\n",
       "      <td>0</td>\n",
       "      <td>115</td>\n",
       "      <td>75</td>\n",
       "      <td>80</td>\n",
       "      <td>22.6</td>\n",
       "      <td>0</td>\n",
       "      <td>0</td>\n",
       "    </tr>\n",
       "  </tbody>\n",
       "</table>\n",
       "</div>"
      ],
      "text/plain": [
       "   SEX  BTH_G  DIS  SBP_Y  DBP_Y  FBS_Y  BMI_Y  FBS_Y  SBP  DBP  FBS   BMI  \\\n",
       "1    1      1    4      0      0      0      0      0  100   60   79  22.3   \n",
       "2    1      1    4      0      0      0      0      0  100   60   87  21.9   \n",
       "3    1      1    4      0      0      0      0      0  111   70   72  20.2   \n",
       "6    1      1    4      0      0      0      0      0  110   70   80  20.6   \n",
       "7    1      1    4      0      0      0      0      0  115   75   80  22.6   \n",
       "\n",
       "   cluster_label  HEALTH1  \n",
       "1              0        0  \n",
       "2              0        0  \n",
       "3              0        0  \n",
       "6              0        0  \n",
       "7              0        0  "
      ]
     },
     "execution_count": 51,
     "metadata": {},
     "output_type": "execute_result"
    }
   ],
   "source": [
    "cluster1.head()"
   ]
  },
  {
   "cell_type": "code",
   "execution_count": 52,
   "metadata": {
    "colab": {},
    "colab_type": "code",
    "id": "ac5O51mNZCcX"
   },
   "outputs": [],
   "source": [
    "group1 = cluster1[['SBP', 'DBP',\t'FBS',\t'BMI']]\n",
    "group2 = cluster2[['SBP', 'DBP',\t'FBS',\t'BMI']]\n",
    "group3 = cluster3[['SBP', 'DBP',\t'FBS',\t'BMI']]\n",
    "group4 = cluster4[['SBP', 'DBP',\t'FBS',\t'BMI']]\n",
    "group5 = cluster5[['SBP', 'DBP',\t'FBS',\t'BMI']]"
   ]
  },
  {
   "cell_type": "code",
   "execution_count": 53,
   "metadata": {
    "colab": {},
    "colab_type": "code",
    "id": "Cg4Y7AwVaz01"
   },
   "outputs": [],
   "source": [
    "group1 = group1.values.tolist()\n",
    "group2 = group2.values.tolist()\n",
    "group3 = group3.values.tolist()\n",
    "group4 = group4.values.tolist()\n",
    "group5 = group5.values.tolist()"
   ]
  },
  {
   "cell_type": "code",
   "execution_count": 54,
   "metadata": {
    "colab": {},
    "colab_type": "code",
    "id": "HiYGmViQYxsR"
   },
   "outputs": [],
   "source": [
    "plot_data = [group1, group2, group3, group4, group5]"
   ]
  },
  {
   "cell_type": "code",
   "execution_count": 55,
   "metadata": {
    "colab": {
     "base_uri": "https://localhost:8080/",
     "height": 265
    },
    "colab_type": "code",
    "id": "I0fuLyKbY6BK",
    "outputId": "80f35442-3783-4b78-86b9-2e0629e0d824"
   },
   "outputs": [
    {
     "data": {
      "image/png": "[encoded data removed]",
      "text/plain": [
       "<Figure size 432x288 with 1 Axes>"
      ]
     },
     "metadata": {
      "needs_background": "light"
     },
     "output_type": "display_data"
    }
   ],
   "source": [
    "ax = plt.boxplot(plot_data)\n",
    "plt.show()"
   ]
  },
  {
   "cell_type": "markdown",
   "metadata": {
    "colab_type": "text",
    "id": "yp4yetHd6eIN"
   },
   "source": [
    "# Kmeans - 당뇨환자(diabetes==1) 군집분석"
   ]
  },
  {
   "cell_type": "code",
   "execution_count": 56,
   "metadata": {
    "colab": {
     "base_uri": "https://localhost:8080/",
     "height": 204
    },
    "colab_type": "code",
    "id": "NHDiFylYfxd0",
    "outputId": "99d99427-3519-48d9-b5d9-77f36d315b1e"
   },
   "outputs": [
    {
     "data": {
      "text/html": [
       "<div>\n",
       "<style scoped>\n",
       "    .dataframe tbody tr th:only-of-type {\n",
       "        vertical-align: middle;\n",
       "    }\n",
       "\n",
       "    .dataframe tbody tr th {\n",
       "        vertical-align: top;\n",
       "    }\n",
       "\n",
       "    .dataframe thead th {\n",
       "        text-align: right;\n",
       "    }\n",
       "</style>\n",
       "<table border=\"1\" class=\"dataframe\">\n",
       "  <thead>\n",
       "    <tr style=\"text-align: right;\">\n",
       "      <th></th>\n",
       "      <th>SEX</th>\n",
       "      <th>BTH_G</th>\n",
       "      <th>SBP</th>\n",
       "      <th>DBP</th>\n",
       "      <th>FBS</th>\n",
       "      <th>DIS</th>\n",
       "      <th>BMI</th>\n",
       "      <th>SBP_Y</th>\n",
       "      <th>DBP_Y</th>\n",
       "      <th>FBS_Y</th>\n",
       "      <th>BMI_Y</th>\n",
       "      <th>HEALTH1</th>\n",
       "      <th>HEALTH2</th>\n",
       "    </tr>\n",
       "  </thead>\n",
       "  <tbody>\n",
       "    <tr>\n",
       "      <th>0</th>\n",
       "      <td>1</td>\n",
       "      <td>1</td>\n",
       "      <td>116</td>\n",
       "      <td>78</td>\n",
       "      <td>94</td>\n",
       "      <td>4</td>\n",
       "      <td>16.6</td>\n",
       "      <td>0</td>\n",
       "      <td>0</td>\n",
       "      <td>0</td>\n",
       "      <td>0</td>\n",
       "      <td>0</td>\n",
       "      <td>0</td>\n",
       "    </tr>\n",
       "    <tr>\n",
       "      <th>1</th>\n",
       "      <td>1</td>\n",
       "      <td>1</td>\n",
       "      <td>100</td>\n",
       "      <td>60</td>\n",
       "      <td>79</td>\n",
       "      <td>4</td>\n",
       "      <td>22.3</td>\n",
       "      <td>0</td>\n",
       "      <td>0</td>\n",
       "      <td>0</td>\n",
       "      <td>0</td>\n",
       "      <td>0</td>\n",
       "      <td>0</td>\n",
       "    </tr>\n",
       "    <tr>\n",
       "      <th>2</th>\n",
       "      <td>1</td>\n",
       "      <td>1</td>\n",
       "      <td>100</td>\n",
       "      <td>60</td>\n",
       "      <td>87</td>\n",
       "      <td>4</td>\n",
       "      <td>21.9</td>\n",
       "      <td>0</td>\n",
       "      <td>0</td>\n",
       "      <td>0</td>\n",
       "      <td>0</td>\n",
       "      <td>0</td>\n",
       "      <td>0</td>\n",
       "    </tr>\n",
       "    <tr>\n",
       "      <th>3</th>\n",
       "      <td>1</td>\n",
       "      <td>1</td>\n",
       "      <td>111</td>\n",
       "      <td>70</td>\n",
       "      <td>72</td>\n",
       "      <td>4</td>\n",
       "      <td>20.2</td>\n",
       "      <td>0</td>\n",
       "      <td>0</td>\n",
       "      <td>0</td>\n",
       "      <td>0</td>\n",
       "      <td>0</td>\n",
       "      <td>0</td>\n",
       "    </tr>\n",
       "    <tr>\n",
       "      <th>4</th>\n",
       "      <td>1</td>\n",
       "      <td>1</td>\n",
       "      <td>120</td>\n",
       "      <td>80</td>\n",
       "      <td>98</td>\n",
       "      <td>4</td>\n",
       "      <td>20.0</td>\n",
       "      <td>1</td>\n",
       "      <td>1</td>\n",
       "      <td>0</td>\n",
       "      <td>0</td>\n",
       "      <td>0</td>\n",
       "      <td>2</td>\n",
       "    </tr>\n",
       "  </tbody>\n",
       "</table>\n",
       "</div>"
      ],
      "text/plain": [
       "   SEX  BTH_G  SBP  DBP  FBS  DIS   BMI  SBP_Y  DBP_Y  FBS_Y  BMI_Y  HEALTH1  \\\n",
       "0    1      1  116   78   94    4  16.6      0      0      0      0        0   \n",
       "1    1      1  100   60   79    4  22.3      0      0      0      0        0   \n",
       "2    1      1  100   60   87    4  21.9      0      0      0      0        0   \n",
       "3    1      1  111   70   72    4  20.2      0      0      0      0        0   \n",
       "4    1      1  120   80   98    4  20.0      1      1      0      0        0   \n",
       "\n",
       "   HEALTH2  \n",
       "0        0  \n",
       "1        0  \n",
       "2        0  \n",
       "3        0  \n",
       "4        2  "
      ]
     },
     "execution_count": 56,
     "metadata": {},
     "output_type": "execute_result"
    }
   ],
   "source": [
    "data.head()"
   ]
  },
  {
   "cell_type": "code",
   "execution_count": 57,
   "metadata": {
    "colab": {},
    "colab_type": "code",
    "id": "kJ7eEHKqfxv4"
   },
   "outputs": [],
   "source": [
    "data_diabetes = data[data['HEALTH1'] == 1]"
   ]
  },
  {
   "cell_type": "code",
   "execution_count": 58,
   "metadata": {
    "colab": {
     "base_uri": "https://localhost:8080/",
     "height": 204
    },
    "colab_type": "code",
    "id": "AkT2ItXDfyFI",
    "outputId": "e93d85ad-897f-48a3-846b-74d3a2651813"
   },
   "outputs": [
    {
     "data": {
      "text/html": [
       "<div>\n",
       "<style scoped>\n",
       "    .dataframe tbody tr th:only-of-type {\n",
       "        vertical-align: middle;\n",
       "    }\n",
       "\n",
       "    .dataframe tbody tr th {\n",
       "        vertical-align: top;\n",
       "    }\n",
       "\n",
       "    .dataframe thead th {\n",
       "        text-align: right;\n",
       "    }\n",
       "</style>\n",
       "<table border=\"1\" class=\"dataframe\">\n",
       "  <thead>\n",
       "    <tr style=\"text-align: right;\">\n",
       "      <th></th>\n",
       "      <th>SEX</th>\n",
       "      <th>BTH_G</th>\n",
       "      <th>SBP</th>\n",
       "      <th>DBP</th>\n",
       "      <th>FBS</th>\n",
       "      <th>DIS</th>\n",
       "      <th>BMI</th>\n",
       "      <th>SBP_Y</th>\n",
       "      <th>DBP_Y</th>\n",
       "      <th>FBS_Y</th>\n",
       "      <th>BMI_Y</th>\n",
       "      <th>HEALTH1</th>\n",
       "      <th>HEALTH2</th>\n",
       "    </tr>\n",
       "  </thead>\n",
       "  <tbody>\n",
       "    <tr>\n",
       "      <th>218</th>\n",
       "      <td>1</td>\n",
       "      <td>1</td>\n",
       "      <td>130</td>\n",
       "      <td>80</td>\n",
       "      <td>130</td>\n",
       "      <td>4</td>\n",
       "      <td>27.5</td>\n",
       "      <td>1</td>\n",
       "      <td>1</td>\n",
       "      <td>1</td>\n",
       "      <td>1</td>\n",
       "      <td>1</td>\n",
       "      <td>4</td>\n",
       "    </tr>\n",
       "    <tr>\n",
       "      <th>763</th>\n",
       "      <td>1</td>\n",
       "      <td>1</td>\n",
       "      <td>135</td>\n",
       "      <td>85</td>\n",
       "      <td>130</td>\n",
       "      <td>4</td>\n",
       "      <td>31.6</td>\n",
       "      <td>1</td>\n",
       "      <td>1</td>\n",
       "      <td>1</td>\n",
       "      <td>1</td>\n",
       "      <td>1</td>\n",
       "      <td>4</td>\n",
       "    </tr>\n",
       "    <tr>\n",
       "      <th>862</th>\n",
       "      <td>1</td>\n",
       "      <td>1</td>\n",
       "      <td>110</td>\n",
       "      <td>60</td>\n",
       "      <td>128</td>\n",
       "      <td>4</td>\n",
       "      <td>21.8</td>\n",
       "      <td>0</td>\n",
       "      <td>0</td>\n",
       "      <td>1</td>\n",
       "      <td>0</td>\n",
       "      <td>1</td>\n",
       "      <td>1</td>\n",
       "    </tr>\n",
       "    <tr>\n",
       "      <th>946</th>\n",
       "      <td>1</td>\n",
       "      <td>1</td>\n",
       "      <td>124</td>\n",
       "      <td>62</td>\n",
       "      <td>129</td>\n",
       "      <td>4</td>\n",
       "      <td>21.5</td>\n",
       "      <td>1</td>\n",
       "      <td>0</td>\n",
       "      <td>1</td>\n",
       "      <td>0</td>\n",
       "      <td>1</td>\n",
       "      <td>1</td>\n",
       "    </tr>\n",
       "    <tr>\n",
       "      <th>1109</th>\n",
       "      <td>1</td>\n",
       "      <td>1</td>\n",
       "      <td>120</td>\n",
       "      <td>80</td>\n",
       "      <td>136</td>\n",
       "      <td>4</td>\n",
       "      <td>21.4</td>\n",
       "      <td>1</td>\n",
       "      <td>1</td>\n",
       "      <td>1</td>\n",
       "      <td>0</td>\n",
       "      <td>1</td>\n",
       "      <td>3</td>\n",
       "    </tr>\n",
       "  </tbody>\n",
       "</table>\n",
       "</div>"
      ],
      "text/plain": [
       "      SEX  BTH_G  SBP  DBP  FBS  DIS   BMI  SBP_Y  DBP_Y  FBS_Y  BMI_Y  \\\n",
       "218     1      1  130   80  130    4  27.5      1      1      1      1   \n",
       "763     1      1  135   85  130    4  31.6      1      1      1      1   \n",
       "862     1      1  110   60  128    4  21.8      0      0      1      0   \n",
       "946     1      1  124   62  129    4  21.5      1      0      1      0   \n",
       "1109    1      1  120   80  136    4  21.4      1      1      1      0   \n",
       "\n",
       "      HEALTH1  HEALTH2  \n",
       "218         1        4  \n",
       "763         1        4  \n",
       "862         1        1  \n",
       "946         1        1  \n",
       "1109        1        3  "
      ]
     },
     "execution_count": 58,
     "metadata": {},
     "output_type": "execute_result"
    }
   ],
   "source": [
    "data_diabetes.head()"
   ]
  },
  {
   "cell_type": "code",
   "execution_count": 59,
   "metadata": {
    "colab": {},
    "colab_type": "code",
    "id": "LPWD3i9k-8Gn"
   },
   "outputs": [],
   "source": [
    "data_sample = data_diabetes.sample(n=100, random_state = 1234)"
   ]
  },
  {
   "cell_type": "code",
   "execution_count": 60,
   "metadata": {
    "colab": {
     "base_uri": "https://localhost:8080/",
     "height": 204
    },
    "colab_type": "code",
    "id": "lTf07c1i_RSU",
    "outputId": "7e44fef5-1827-4270-b1af-7a91e4d26732"
   },
   "outputs": [
    {
     "data": {
      "text/html": [
       "<div>\n",
       "<style scoped>\n",
       "    .dataframe tbody tr th:only-of-type {\n",
       "        vertical-align: middle;\n",
       "    }\n",
       "\n",
       "    .dataframe tbody tr th {\n",
       "        vertical-align: top;\n",
       "    }\n",
       "\n",
       "    .dataframe thead th {\n",
       "        text-align: right;\n",
       "    }\n",
       "</style>\n",
       "<table border=\"1\" class=\"dataframe\">\n",
       "  <thead>\n",
       "    <tr style=\"text-align: right;\">\n",
       "      <th></th>\n",
       "      <th>SEX</th>\n",
       "      <th>BTH_G</th>\n",
       "      <th>SBP</th>\n",
       "      <th>DBP</th>\n",
       "      <th>FBS</th>\n",
       "      <th>DIS</th>\n",
       "      <th>BMI</th>\n",
       "      <th>SBP_Y</th>\n",
       "      <th>DBP_Y</th>\n",
       "      <th>FBS_Y</th>\n",
       "      <th>BMI_Y</th>\n",
       "      <th>HEALTH1</th>\n",
       "      <th>HEALTH2</th>\n",
       "    </tr>\n",
       "  </thead>\n",
       "  <tbody>\n",
       "    <tr>\n",
       "      <th>447656</th>\n",
       "      <td>1</td>\n",
       "      <td>22</td>\n",
       "      <td>168</td>\n",
       "      <td>100</td>\n",
       "      <td>131</td>\n",
       "      <td>1</td>\n",
       "      <td>20.8</td>\n",
       "      <td>1</td>\n",
       "      <td>1</td>\n",
       "      <td>1</td>\n",
       "      <td>0</td>\n",
       "      <td>1</td>\n",
       "      <td>3</td>\n",
       "    </tr>\n",
       "    <tr>\n",
       "      <th>427446</th>\n",
       "      <td>1</td>\n",
       "      <td>21</td>\n",
       "      <td>140</td>\n",
       "      <td>85</td>\n",
       "      <td>206</td>\n",
       "      <td>3</td>\n",
       "      <td>23.5</td>\n",
       "      <td>1</td>\n",
       "      <td>1</td>\n",
       "      <td>1</td>\n",
       "      <td>0</td>\n",
       "      <td>1</td>\n",
       "      <td>3</td>\n",
       "    </tr>\n",
       "    <tr>\n",
       "      <th>845041</th>\n",
       "      <td>2</td>\n",
       "      <td>18</td>\n",
       "      <td>110</td>\n",
       "      <td>80</td>\n",
       "      <td>126</td>\n",
       "      <td>2</td>\n",
       "      <td>23.6</td>\n",
       "      <td>0</td>\n",
       "      <td>1</td>\n",
       "      <td>1</td>\n",
       "      <td>0</td>\n",
       "      <td>1</td>\n",
       "      <td>1</td>\n",
       "    </tr>\n",
       "    <tr>\n",
       "      <th>221303</th>\n",
       "      <td>1</td>\n",
       "      <td>12</td>\n",
       "      <td>140</td>\n",
       "      <td>80</td>\n",
       "      <td>132</td>\n",
       "      <td>1</td>\n",
       "      <td>24.7</td>\n",
       "      <td>1</td>\n",
       "      <td>1</td>\n",
       "      <td>1</td>\n",
       "      <td>0</td>\n",
       "      <td>1</td>\n",
       "      <td>3</td>\n",
       "    </tr>\n",
       "    <tr>\n",
       "      <th>506228</th>\n",
       "      <td>1</td>\n",
       "      <td>27</td>\n",
       "      <td>120</td>\n",
       "      <td>70</td>\n",
       "      <td>202</td>\n",
       "      <td>3</td>\n",
       "      <td>27.3</td>\n",
       "      <td>1</td>\n",
       "      <td>0</td>\n",
       "      <td>1</td>\n",
       "      <td>1</td>\n",
       "      <td>1</td>\n",
       "      <td>1</td>\n",
       "    </tr>\n",
       "  </tbody>\n",
       "</table>\n",
       "</div>"
      ],
      "text/plain": [
       "        SEX  BTH_G  SBP  DBP  FBS  DIS   BMI  SBP_Y  DBP_Y  FBS_Y  BMI_Y  \\\n",
       "447656    1     22  168  100  131    1  20.8      1      1      1      0   \n",
       "427446    1     21  140   85  206    3  23.5      1      1      1      0   \n",
       "845041    2     18  110   80  126    2  23.6      0      1      1      0   \n",
       "221303    1     12  140   80  132    1  24.7      1      1      1      0   \n",
       "506228    1     27  120   70  202    3  27.3      1      0      1      1   \n",
       "\n",
       "        HEALTH1  HEALTH2  \n",
       "447656        1        3  \n",
       "427446        1        3  \n",
       "845041        1        1  \n",
       "221303        1        3  \n",
       "506228        1        1  "
      ]
     },
     "execution_count": 60,
     "metadata": {},
     "output_type": "execute_result"
    }
   ],
   "source": [
    "data_sample.head()"
   ]
  },
  {
   "cell_type": "code",
   "execution_count": 61,
   "metadata": {
    "colab": {},
    "colab_type": "code",
    "id": "8CQtyZ5w_LfO"
   },
   "outputs": [],
   "source": [
    "columns = ['SEX','BTH_G','DIS','SBP_Y','DBP_Y','FBS_Y', 'BMI_Y','HEALTH2']\n",
    "\n",
    "data_cluster= data_sample[columns]\n",
    "x_columns = ['SEX','BTH_G','DIS','SBP_Y','DBP_Y','FBS_Y', 'BMI_Y',]\n",
    "  # 유의한 변수들만 선별(SBP 제외)\n",
    "y_columns = 'HEALTH2'"
   ]
  },
  {
   "cell_type": "code",
   "execution_count": 67,
   "metadata": {
    "colab": {
     "base_uri": "https://localhost:8080/",
     "height": 1000
    },
    "colab_type": "code",
    "id": "6KpP4Mql_isC",
    "outputId": "f3e94bf8-14cb-4d2b-fc03-ddd732b8e182"
   },
   "outputs": [
    {
     "data": {
      "image/png": "[encoded data removed]",
      "text/plain": [
       "<Figure size 3600x2160 with 1 Axes>"
      ]
     },
     "metadata": {
      "needs_background": "light"
     },
     "output_type": "display_data"
    }
   ],
   "source": [
    "# dendrogram \n",
    "\n",
    "from scipy.cluster.hierarchy import linkage, dendrogram\n",
    "import matplotlib.pyplot as plt\n",
    "\n",
    "# Calculate the linkage: mergings\n",
    "mergings = linkage(data_cluster,method='complete')\n",
    "\n",
    "# Plot the dendrogram, using varieties as labels\n",
    "plt.figure(figsize=(50,30))\n",
    "dendrogram(mergings,\n",
    "           labels = data_cluster['HEALTH2'].to_numpy(),\n",
    "           leaf_rotation=90,\n",
    "           leaf_font_size=10,\n",
    ")\n",
    "plt.show()"
   ]
  },
  {
   "cell_type": "code",
   "execution_count": 68,
   "metadata": {
    "colab": {
     "base_uri": "https://localhost:8080/",
     "height": 204
    },
    "colab_type": "code",
    "id": "un8K4Sh3AU2n",
    "outputId": "39ae2056-1b58-444c-869a-e4ef25ed5b17"
   },
   "outputs": [
    {
     "data": {
      "text/html": [
       "<div>\n",
       "<style scoped>\n",
       "    .dataframe tbody tr th:only-of-type {\n",
       "        vertical-align: middle;\n",
       "    }\n",
       "\n",
       "    .dataframe tbody tr th {\n",
       "        vertical-align: top;\n",
       "    }\n",
       "\n",
       "    .dataframe thead th {\n",
       "        text-align: right;\n",
       "    }\n",
       "</style>\n",
       "<table border=\"1\" class=\"dataframe\">\n",
       "  <thead>\n",
       "    <tr style=\"text-align: right;\">\n",
       "      <th></th>\n",
       "      <th>SEX</th>\n",
       "      <th>BTH_G</th>\n",
       "      <th>SBP</th>\n",
       "      <th>DBP</th>\n",
       "      <th>FBS</th>\n",
       "      <th>DIS</th>\n",
       "      <th>BMI</th>\n",
       "      <th>SBP_Y</th>\n",
       "      <th>DBP_Y</th>\n",
       "      <th>FBS_Y</th>\n",
       "      <th>BMI_Y</th>\n",
       "      <th>HEALTH1</th>\n",
       "      <th>HEALTH2</th>\n",
       "    </tr>\n",
       "  </thead>\n",
       "  <tbody>\n",
       "    <tr>\n",
       "      <th>218</th>\n",
       "      <td>1</td>\n",
       "      <td>1</td>\n",
       "      <td>130</td>\n",
       "      <td>80</td>\n",
       "      <td>130</td>\n",
       "      <td>4</td>\n",
       "      <td>27.5</td>\n",
       "      <td>1</td>\n",
       "      <td>1</td>\n",
       "      <td>1</td>\n",
       "      <td>1</td>\n",
       "      <td>1</td>\n",
       "      <td>4</td>\n",
       "    </tr>\n",
       "    <tr>\n",
       "      <th>763</th>\n",
       "      <td>1</td>\n",
       "      <td>1</td>\n",
       "      <td>135</td>\n",
       "      <td>85</td>\n",
       "      <td>130</td>\n",
       "      <td>4</td>\n",
       "      <td>31.6</td>\n",
       "      <td>1</td>\n",
       "      <td>1</td>\n",
       "      <td>1</td>\n",
       "      <td>1</td>\n",
       "      <td>1</td>\n",
       "      <td>4</td>\n",
       "    </tr>\n",
       "    <tr>\n",
       "      <th>862</th>\n",
       "      <td>1</td>\n",
       "      <td>1</td>\n",
       "      <td>110</td>\n",
       "      <td>60</td>\n",
       "      <td>128</td>\n",
       "      <td>4</td>\n",
       "      <td>21.8</td>\n",
       "      <td>0</td>\n",
       "      <td>0</td>\n",
       "      <td>1</td>\n",
       "      <td>0</td>\n",
       "      <td>1</td>\n",
       "      <td>1</td>\n",
       "    </tr>\n",
       "    <tr>\n",
       "      <th>946</th>\n",
       "      <td>1</td>\n",
       "      <td>1</td>\n",
       "      <td>124</td>\n",
       "      <td>62</td>\n",
       "      <td>129</td>\n",
       "      <td>4</td>\n",
       "      <td>21.5</td>\n",
       "      <td>1</td>\n",
       "      <td>0</td>\n",
       "      <td>1</td>\n",
       "      <td>0</td>\n",
       "      <td>1</td>\n",
       "      <td>1</td>\n",
       "    </tr>\n",
       "    <tr>\n",
       "      <th>1109</th>\n",
       "      <td>1</td>\n",
       "      <td>1</td>\n",
       "      <td>120</td>\n",
       "      <td>80</td>\n",
       "      <td>136</td>\n",
       "      <td>4</td>\n",
       "      <td>21.4</td>\n",
       "      <td>1</td>\n",
       "      <td>1</td>\n",
       "      <td>1</td>\n",
       "      <td>0</td>\n",
       "      <td>1</td>\n",
       "      <td>3</td>\n",
       "    </tr>\n",
       "  </tbody>\n",
       "</table>\n",
       "</div>"
      ],
      "text/plain": [
       "      SEX  BTH_G  SBP  DBP  FBS  DIS   BMI  SBP_Y  DBP_Y  FBS_Y  BMI_Y  \\\n",
       "218     1      1  130   80  130    4  27.5      1      1      1      1   \n",
       "763     1      1  135   85  130    4  31.6      1      1      1      1   \n",
       "862     1      1  110   60  128    4  21.8      0      0      1      0   \n",
       "946     1      1  124   62  129    4  21.5      1      0      1      0   \n",
       "1109    1      1  120   80  136    4  21.4      1      1      1      0   \n",
       "\n",
       "      HEALTH1  HEALTH2  \n",
       "218         1        4  \n",
       "763         1        4  \n",
       "862         1        1  \n",
       "946         1        1  \n",
       "1109        1        3  "
      ]
     },
     "execution_count": 68,
     "metadata": {},
     "output_type": "execute_result"
    }
   ],
   "source": [
    "data_diabetes.head()"
   ]
  },
  {
   "cell_type": "code",
   "execution_count": 69,
   "metadata": {
    "colab": {},
    "colab_type": "code",
    "id": "CwEZJSRBCCCQ"
   },
   "outputs": [],
   "source": [
    "feature = data[['SEX', 'BTH_G', 'DIS', 'SBP_Y', 'DBP_Y', 'FBS_Y', 'BMI_Y', 'FBS_Y','SBP', 'DBP', 'FBS','BMI']]"
   ]
  },
  {
   "cell_type": "code",
   "execution_count": 70,
   "metadata": {
    "colab": {},
    "colab_type": "code",
    "id": "PVAdinJJCC_y"
   },
   "outputs": [],
   "source": [
    "label = data[['HEALTH2']]"
   ]
  },
  {
   "cell_type": "code",
   "execution_count": 71,
   "metadata": {
    "colab": {},
    "colab_type": "code",
    "id": "YNNSz81fBtwz"
   },
   "outputs": [],
   "source": [
    "model = KMeans(n_clusters=4,algorithm='auto')\n",
    "\n",
    "model.fit(feature)  # 모델 학습\n",
    "predict = pd.DataFrame(model.predict(feature))  # 모델 예측\n",
    "predict.columns=['cluster_label']"
   ]
  },
  {
   "cell_type": "code",
   "execution_count": 72,
   "metadata": {
    "colab": {},
    "colab_type": "code",
    "id": "VU8ShPXZCZw_"
   },
   "outputs": [],
   "source": [
    "feature.reset_index(drop=True, inplace=True)\n",
    "predict.reset_index(drop=True, inplace=True)\n",
    "\n",
    "new_data = pd.concat([feature, predict], axis = 1)"
   ]
  },
  {
   "cell_type": "code",
   "execution_count": 73,
   "metadata": {
    "colab": {
     "base_uri": "https://localhost:8080/",
     "height": 204
    },
    "colab_type": "code",
    "id": "dpe8tJ6RBuIm",
    "outputId": "557815c4-648e-4f16-c411-818b3cf8da59"
   },
   "outputs": [
    {
     "data": {
      "text/html": [
       "<div>\n",
       "<style scoped>\n",
       "    .dataframe tbody tr th:only-of-type {\n",
       "        vertical-align: middle;\n",
       "    }\n",
       "\n",
       "    .dataframe tbody tr th {\n",
       "        vertical-align: top;\n",
       "    }\n",
       "\n",
       "    .dataframe thead th {\n",
       "        text-align: right;\n",
       "    }\n",
       "</style>\n",
       "<table border=\"1\" class=\"dataframe\">\n",
       "  <thead>\n",
       "    <tr style=\"text-align: right;\">\n",
       "      <th></th>\n",
       "      <th>SEX</th>\n",
       "      <th>BTH_G</th>\n",
       "      <th>DIS</th>\n",
       "      <th>SBP_Y</th>\n",
       "      <th>DBP_Y</th>\n",
       "      <th>FBS_Y</th>\n",
       "      <th>BMI_Y</th>\n",
       "      <th>FBS_Y</th>\n",
       "      <th>SBP</th>\n",
       "      <th>DBP</th>\n",
       "      <th>FBS</th>\n",
       "      <th>BMI</th>\n",
       "      <th>cluster_label</th>\n",
       "      <th>HEALTH2</th>\n",
       "    </tr>\n",
       "  </thead>\n",
       "  <tbody>\n",
       "    <tr>\n",
       "      <th>0</th>\n",
       "      <td>1</td>\n",
       "      <td>1</td>\n",
       "      <td>4</td>\n",
       "      <td>0</td>\n",
       "      <td>0</td>\n",
       "      <td>0</td>\n",
       "      <td>0</td>\n",
       "      <td>0</td>\n",
       "      <td>116</td>\n",
       "      <td>78</td>\n",
       "      <td>94</td>\n",
       "      <td>16.6</td>\n",
       "      <td>3</td>\n",
       "      <td>0</td>\n",
       "    </tr>\n",
       "    <tr>\n",
       "      <th>1</th>\n",
       "      <td>1</td>\n",
       "      <td>1</td>\n",
       "      <td>4</td>\n",
       "      <td>0</td>\n",
       "      <td>0</td>\n",
       "      <td>0</td>\n",
       "      <td>0</td>\n",
       "      <td>0</td>\n",
       "      <td>100</td>\n",
       "      <td>60</td>\n",
       "      <td>79</td>\n",
       "      <td>22.3</td>\n",
       "      <td>3</td>\n",
       "      <td>0</td>\n",
       "    </tr>\n",
       "    <tr>\n",
       "      <th>2</th>\n",
       "      <td>1</td>\n",
       "      <td>1</td>\n",
       "      <td>4</td>\n",
       "      <td>0</td>\n",
       "      <td>0</td>\n",
       "      <td>0</td>\n",
       "      <td>0</td>\n",
       "      <td>0</td>\n",
       "      <td>100</td>\n",
       "      <td>60</td>\n",
       "      <td>87</td>\n",
       "      <td>21.9</td>\n",
       "      <td>3</td>\n",
       "      <td>0</td>\n",
       "    </tr>\n",
       "    <tr>\n",
       "      <th>3</th>\n",
       "      <td>1</td>\n",
       "      <td>1</td>\n",
       "      <td>4</td>\n",
       "      <td>0</td>\n",
       "      <td>0</td>\n",
       "      <td>0</td>\n",
       "      <td>0</td>\n",
       "      <td>0</td>\n",
       "      <td>111</td>\n",
       "      <td>70</td>\n",
       "      <td>72</td>\n",
       "      <td>20.2</td>\n",
       "      <td>3</td>\n",
       "      <td>0</td>\n",
       "    </tr>\n",
       "    <tr>\n",
       "      <th>4</th>\n",
       "      <td>1</td>\n",
       "      <td>1</td>\n",
       "      <td>4</td>\n",
       "      <td>1</td>\n",
       "      <td>1</td>\n",
       "      <td>0</td>\n",
       "      <td>0</td>\n",
       "      <td>0</td>\n",
       "      <td>120</td>\n",
       "      <td>80</td>\n",
       "      <td>98</td>\n",
       "      <td>20.0</td>\n",
       "      <td>3</td>\n",
       "      <td>2</td>\n",
       "    </tr>\n",
       "  </tbody>\n",
       "</table>\n",
       "</div>"
      ],
      "text/plain": [
       "   SEX  BTH_G  DIS  SBP_Y  DBP_Y  FBS_Y  BMI_Y  FBS_Y  SBP  DBP  FBS   BMI  \\\n",
       "0    1      1    4      0      0      0      0      0  116   78   94  16.6   \n",
       "1    1      1    4      0      0      0      0      0  100   60   79  22.3   \n",
       "2    1      1    4      0      0      0      0      0  100   60   87  21.9   \n",
       "3    1      1    4      0      0      0      0      0  111   70   72  20.2   \n",
       "4    1      1    4      1      1      0      0      0  120   80   98  20.0   \n",
       "\n",
       "   cluster_label  HEALTH2  \n",
       "0              3        0  \n",
       "1              3        0  \n",
       "2              3        0  \n",
       "3              3        0  \n",
       "4              3        2  "
      ]
     },
     "execution_count": 73,
     "metadata": {},
     "output_type": "execute_result"
    }
   ],
   "source": [
    "label.reset_index(drop = True, inplace = True)\n",
    "\n",
    "new_data =  pd.concat([new_data, label], axis = 1)\n",
    "new_data.head()"
   ]
  },
  {
   "cell_type": "code",
   "execution_count": 74,
   "metadata": {
    "colab": {
     "base_uri": "https://localhost:8080/",
     "height": 107
    },
    "colab_type": "code",
    "id": "2GQiYoukCwqW",
    "outputId": "028e6866-7c66-4942-8499-a8ab46597627"
   },
   "outputs": [
    {
     "data": {
      "text/plain": [
       "3    466631\n",
       "0    400279\n",
       "2    116710\n",
       "1     16380\n",
       "Name: cluster_label, dtype: int64"
      ]
     },
     "execution_count": 74,
     "metadata": {},
     "output_type": "execute_result"
    }
   ],
   "source": [
    "new_data['cluster_label'].value_counts()"
   ]
  },
  {
   "cell_type": "code",
   "execution_count": 75,
   "metadata": {
    "colab": {
     "base_uri": "https://localhost:8080/",
     "height": 265
    },
    "colab_type": "code",
    "id": "i3ffwAtPC4Su",
    "outputId": "c30aa4a4-a9f3-4c86-b194-ed10333668dd"
   },
   "outputs": [
    {
     "data": {
      "image/png": "[encoded data removed]",
      "text/plain": [
       "<Figure size 432x288 with 1 Axes>"
      ]
     },
     "metadata": {
      "needs_background": "light"
     },
     "output_type": "display_data"
    }
   ],
   "source": [
    "#plot 시각화\n",
    "\n",
    "centers = model.cluster_centers_\n",
    "plt.scatter(centers[:, 0], centers[:, 1], c='black', s=200, alpha=0.5);"
   ]
  },
  {
   "cell_type": "code",
   "execution_count": 76,
   "metadata": {
    "colab": {},
    "colab_type": "code",
    "id": "pb92roG7C4kP"
   },
   "outputs": [],
   "source": [
    "## 군집 별 특성 찾기 \n",
    "\n",
    "diabetes_cluster1 = new_data[new_data['cluster_label']==0] \n",
    "diabetes_cluster2 = new_data[new_data['cluster_label']==1] \n",
    "diabetes_cluster3 = new_data[new_data['cluster_label']==2] \n",
    "diabetes_cluster4 = new_data[new_data['cluster_label']==3]  "
   ]
  },
  {
   "cell_type": "code",
   "execution_count": 77,
   "metadata": {
    "colab": {},
    "colab_type": "code",
    "id": "c-mbcOkBC427"
   },
   "outputs": [],
   "source": [
    "def makestat(df):\n",
    "    print(df.describe())\n",
    "    print(\"***********************************************************************************\")\n",
    "    print(df.groupby('DIS').count())  # 성별 수 \n",
    "    print(\"***********************************************************************************\")\n",
    "    print(df['HEALTH2'].value_counts()/df.count()[0]*100)    # HEALTH 구성 비율\n",
    "    print(\"***********************************************************************************\")\n",
    "    print(df.groupby('SEX').count().loc[1,:][0]/df.count()[0]*100)  # 당뇨환자 비율 (에러발생 -> 당뇨환자 0인것)"
   ]
  },
  {
   "cell_type": "code",
   "execution_count": 78,
   "metadata": {
    "colab": {
     "base_uri": "https://localhost:8080/",
     "height": 503
    },
    "colab_type": "code",
    "id": "tzK_Ubn4K7nl",
    "outputId": "bda0b7df-6c27-461d-886b-c4171f77f86c"
   },
   "outputs": [
    {
     "name": "stdout",
     "output_type": "stream",
     "text": [
      "                 SEX          BTH_G            DIS          SBP_Y  \\\n",
      "count  400279.000000  400279.000000  400279.000000  400279.000000   \n",
      "mean        1.420627      15.367529       3.352209       0.983212   \n",
      "std         0.493660       6.836715       0.982599       0.128478   \n",
      "min         1.000000       1.000000       1.000000       0.000000   \n",
      "25%         1.000000      10.000000       2.000000       1.000000   \n",
      "50%         1.000000      15.000000       4.000000       1.000000   \n",
      "75%         2.000000      21.000000       4.000000       1.000000   \n",
      "max         2.000000      27.000000       4.000000       1.000000   \n",
      "\n",
      "               DBP_Y     FBS_Y          BMI_Y     FBS_Y            SBP  \\\n",
      "count  400279.000000  400279.0  400279.000000  400279.0  400279.000000   \n",
      "mean        0.741865       0.0       0.213464       0.0     133.069242   \n",
      "std         0.437609       0.0       0.409753       0.0      10.324099   \n",
      "min         0.000000       0.0       0.000000       0.0     109.000000   \n",
      "25%         0.000000       0.0       0.000000       0.0     126.000000   \n",
      "50%         1.000000       0.0       0.000000       0.0     130.000000   \n",
      "75%         1.000000       0.0       0.000000       0.0     138.000000   \n",
      "max         1.000000       0.0       1.000000       0.0     190.000000   \n",
      "\n",
      "                 DBP            FBS            BMI  cluster_label  \\\n",
      "count  400279.000000  400279.000000  400279.000000       400279.0   \n",
      "mean       82.602550      94.992026      24.612746            0.0   \n",
      "std         7.726213       9.293846       3.250989            0.0   \n",
      "min        50.000000      60.000000      14.800000            0.0   \n",
      "25%        79.000000      89.000000      22.400000            0.0   \n",
      "50%        80.000000      95.000000      24.400000            0.0   \n",
      "75%        87.000000     102.000000      26.500000            0.0   \n",
      "max       120.000000     125.000000      40.300000            0.0   \n",
      "\n",
      "             HEALTH2  \n",
      "count  400279.000000  \n",
      "mean        1.462455  \n",
      "std         0.886644  \n",
      "min         0.000000  \n",
      "25%         0.000000  \n",
      "50%         2.000000  \n",
      "75%         2.000000  \n",
      "max         2.000000  \n",
      "***********************************************************************************\n",
      "        SEX   BTH_G   SBP_Y   DBP_Y   FBS_Y   BMI_Y   FBS_Y     SBP     DBP  \\\n",
      "DIS                                                                           \n",
      "1     14616   14616   14616   14616   14616   14616   14616   14616   14616   \n",
      "2    103723  103723  103723  103723  103723  103723  103723  103723  103723   \n",
      "3      8003    8003    8003    8003    8003    8003    8003    8003    8003   \n",
      "4    273937  273937  273937  273937  273937  273937  273937  273937  273937   \n",
      "\n",
      "        FBS     BMI  cluster_label  HEALTH2  \n",
      "DIS                                          \n",
      "1     14616   14616          14616    14616  \n",
      "2    103723  103723         103723   103723  \n",
      "3      8003    8003           8003     8003  \n",
      "4    273937  273937         273937   273937  \n",
      "***********************************************************************************\n",
      "2    73.122747\n",
      "0    26.877253\n",
      "Name: HEALTH2, dtype: float64\n",
      "***********************************************************************************\n",
      "57.93733870625238\n"
     ]
    }
   ],
   "source": [
    "makestat(diabetes_cluster1)"
   ]
  },
  {
   "cell_type": "code",
   "execution_count": 79,
   "metadata": {
    "colab": {
     "base_uri": "https://localhost:8080/",
     "height": 503
    },
    "colab_type": "code",
    "id": "tnVrPJa5K7nm",
    "outputId": "d24f5680-daa1-4097-ba08-99ae327c239b"
   },
   "outputs": [
    {
     "name": "stdout",
     "output_type": "stream",
     "text": [
      "                SEX         BTH_G           DIS         SBP_Y         DBP_Y  \\\n",
      "count  16380.000000  16380.000000  16380.000000  16380.000000  16380.000000   \n",
      "mean       1.353602     16.968193      2.419658      0.750427      0.554090   \n",
      "std        0.478102      5.766910      1.175416      0.432779      0.497081   \n",
      "min        1.000000      1.000000      1.000000      0.000000      0.000000   \n",
      "25%        1.000000     13.000000      1.000000      1.000000      0.000000   \n",
      "50%        1.000000     17.000000      3.000000      1.000000      1.000000   \n",
      "75%        2.000000     21.000000      3.000000      1.000000      1.000000   \n",
      "max        2.000000     27.000000      4.000000      1.000000      1.000000   \n",
      "\n",
      "         FBS_Y         BMI_Y    FBS_Y           SBP           DBP  \\\n",
      "count  16380.0  16380.000000  16380.0  16380.000000  16380.000000   \n",
      "mean       1.0      0.271673      1.0    128.477534     79.052442   \n",
      "std        0.0      0.444836      0.0     15.326965     10.048906   \n",
      "min        1.0      0.000000      1.0     84.000000     50.000000   \n",
      "25%        1.0      0.000000      1.0    120.000000     70.000000   \n",
      "50%        1.0      0.000000      1.0    130.000000     80.000000   \n",
      "75%        1.0      1.000000      1.0    138.000000     85.000000   \n",
      "max        1.0      1.000000      1.0    190.000000    120.000000   \n",
      "\n",
      "                FBS           BMI  cluster_label       HEALTH2  \n",
      "count  16380.000000  16380.000000        16380.0  16380.000000  \n",
      "mean     222.050794     25.122998            1.0      2.228510  \n",
      "std       41.223234      3.528882            0.0      1.210787  \n",
      "min      175.000000     14.800000            1.0      1.000000  \n",
      "25%      189.000000     22.700000            1.0      1.000000  \n",
      "50%      209.000000     24.800000            1.0      3.000000  \n",
      "75%      245.000000     27.200000            1.0      3.000000  \n",
      "max      358.000000     40.200000            1.0      4.000000  \n",
      "***********************************************************************************\n",
      "      SEX  BTH_G  SBP_Y  DBP_Y  FBS_Y  BMI_Y  FBS_Y   SBP   DBP   FBS   BMI  \\\n",
      "DIS                                                                           \n",
      "1    5987   5987   5987   5987   5987   5987   5987  5987  5987  5987  5987   \n",
      "2     865    865    865    865    865    865    865   865   865   865   865   \n",
      "3    6195   6195   6195   6195   6195   6195   6195  6195  6195  6195  6195   \n",
      "4    3333   3333   3333   3333   3333   3333   3333  3333  3333  3333  3333   \n",
      "\n",
      "     cluster_label  HEALTH2  \n",
      "DIS                          \n",
      "1             5987     5987  \n",
      "2              865      865  \n",
      "3             6195     6195  \n",
      "4             3333     3333  \n",
      "***********************************************************************************\n",
      "1    47.210012\n",
      "3    35.518926\n",
      "4    17.271062\n",
      "Name: HEALTH2, dtype: float64\n",
      "***********************************************************************************\n",
      "64.63980463980464\n"
     ]
    }
   ],
   "source": [
    "makestat(diabetes_cluster2)"
   ]
  },
  {
   "cell_type": "code",
   "execution_count": 80,
   "metadata": {
    "colab": {
     "base_uri": "https://localhost:8080/",
     "height": 485
    },
    "colab_type": "code",
    "id": "lQ_57j_YK7nn",
    "outputId": "5c7d66bc-f793-4ebd-ac32-a45b24f95f88"
   },
   "outputs": [
    {
     "name": "stdout",
     "output_type": "stream",
     "text": [
      "                 SEX          BTH_G            DIS          SBP_Y  \\\n",
      "count  116710.000000  116710.000000  116710.000000  116710.000000   \n",
      "mean        1.391655      17.902716       2.728601       0.763131   \n",
      "std         0.488122       5.949776       1.202373       0.425163   \n",
      "min         1.000000       1.000000       1.000000       0.000000   \n",
      "25%         1.000000      14.000000       2.000000       1.000000   \n",
      "50%         1.000000      18.000000       3.000000       1.000000   \n",
      "75%         2.000000      23.000000       4.000000       1.000000   \n",
      "max         2.000000      27.000000       4.000000       1.000000   \n",
      "\n",
      "               DBP_Y          FBS_Y          BMI_Y          FBS_Y  \\\n",
      "count  116710.000000  116710.000000  116710.000000  116710.000000   \n",
      "mean        0.518105       0.467578       0.255745       0.467578   \n",
      "std         0.499674       0.498950       0.436281       0.498950   \n",
      "min         0.000000       0.000000       0.000000       0.000000   \n",
      "25%         0.000000       0.000000       0.000000       0.000000   \n",
      "50%         1.000000       0.000000       0.000000       0.000000   \n",
      "75%         1.000000       1.000000       1.000000       1.000000   \n",
      "max         1.000000       1.000000       1.000000       1.000000   \n",
      "\n",
      "                 SBP            DBP            FBS            BMI  \\\n",
      "count  116710.000000  116710.000000  116710.000000  116710.000000   \n",
      "mean      127.377243      78.155694     129.193925      25.053281   \n",
      "std        13.195230       9.030995      15.545599       3.309874   \n",
      "min        83.000000      50.000000     108.000000      14.800000   \n",
      "25%       120.000000      70.000000     117.000000      22.800000   \n",
      "50%       128.000000      80.000000     124.000000      24.800000   \n",
      "75%       135.000000      83.000000     138.000000      27.000000   \n",
      "max       190.000000     120.000000     176.000000      40.300000   \n",
      "\n",
      "       cluster_label        HEALTH2  \n",
      "count       116710.0  116710.000000  \n",
      "mean             2.0       1.528001  \n",
      "std              0.0       1.263866  \n",
      "min              2.0       0.000000  \n",
      "25%              2.0       0.000000  \n",
      "50%              2.0       1.000000  \n",
      "75%              2.0       2.000000  \n",
      "max              2.0       4.000000  \n",
      "***********************************************************************************\n",
      "       SEX  BTH_G  SBP_Y  DBP_Y  FBS_Y  BMI_Y  FBS_Y    SBP    DBP    FBS  \\\n",
      "DIS                                                                         \n",
      "1    27301  27301  27301  27301  27301  27301  27301  27301  27301  27301   \n",
      "2    22596  22596  22596  22596  22596  22596  22596  22596  22596  22596   \n",
      "3    21290  21290  21290  21290  21290  21290  21290  21290  21290  21290   \n",
      "4    45523  45523  45523  45523  45523  45523  45523  45523  45523  45523   \n",
      "\n",
      "       BMI  cluster_label  HEALTH2  \n",
      "DIS                                 \n",
      "1    27301          27301    27301  \n",
      "2    22596          22596    22596  \n",
      "3    21290          21290    21290  \n",
      "4    45523          45523    45523  \n",
      "***********************************************************************************\n",
      "0    28.053294\n",
      "2    25.188930\n",
      "1    22.765830\n",
      "3    16.311370\n",
      "4     7.680576\n",
      "Name: HEALTH2, dtype: float64\n",
      "***********************************************************************************\n",
      "60.834547168194675\n"
     ]
    }
   ],
   "source": [
    "makestat(diabetes_cluster3)"
   ]
  },
  {
   "cell_type": "code",
   "execution_count": 81,
   "metadata": {
    "colab": {
     "base_uri": "https://localhost:8080/",
     "height": 539
    },
    "colab_type": "code",
    "id": "o_66vphYDldP",
    "outputId": "46018eb0-93b4-45b0-c051-4f135113d9c0"
   },
   "outputs": [
    {
     "name": "stdout",
     "output_type": "stream",
     "text": [
      "                 SEX          BTH_G            DIS          SBP_Y  \\\n",
      "count  466631.000000  466631.000000  466631.000000  466631.000000   \n",
      "mean        1.578408      11.543605       3.795573       0.184098   \n",
      "std         0.493814       6.583935       0.621324       0.387565   \n",
      "min         1.000000       1.000000       1.000000       0.000000   \n",
      "25%         1.000000       6.000000       4.000000       0.000000   \n",
      "50%         2.000000      11.000000       4.000000       0.000000   \n",
      "75%         2.000000      16.000000       4.000000       0.000000   \n",
      "max         2.000000      27.000000       4.000000       1.000000   \n",
      "\n",
      "               DBP_Y          FBS_Y          BMI_Y          FBS_Y  \\\n",
      "count  466631.000000  466631.000000  466631.000000  466631.000000   \n",
      "mean        0.099310       0.000006       0.085117       0.000006   \n",
      "std         0.299078       0.002536       0.279055       0.002536   \n",
      "min         0.000000       0.000000       0.000000       0.000000   \n",
      "25%         0.000000       0.000000       0.000000       0.000000   \n",
      "50%         0.000000       0.000000       0.000000       0.000000   \n",
      "75%         0.000000       0.000000       0.000000       0.000000   \n",
      "max         1.000000       1.000000       1.000000       1.000000   \n",
      "\n",
      "                 SBP            DBP            FBS            BMI  \\\n",
      "count  466631.000000  466631.000000  466631.000000  466631.000000   \n",
      "mean      110.657629      69.235387      90.276257      22.751555   \n",
      "std         8.292436       6.770668       9.394589       2.989283   \n",
      "min        82.000000      50.000000      60.000000      14.800000   \n",
      "25%       106.000000      64.000000      84.000000      20.700000   \n",
      "50%       110.000000      70.000000      90.000000      22.500000   \n",
      "75%       118.000000      74.000000      96.000000      24.600000   \n",
      "max       138.000000      98.000000     128.000000      40.300000   \n",
      "\n",
      "       cluster_label        HEALTH2  \n",
      "count       466631.0  466631.000000  \n",
      "mean             3.0       0.101298  \n",
      "std              0.0       0.438554  \n",
      "min              3.0       0.000000  \n",
      "25%              3.0       0.000000  \n",
      "50%              3.0       0.000000  \n",
      "75%              3.0       0.000000  \n",
      "max              3.0       2.000000  \n",
      "***********************************************************************************\n",
      "        SEX   BTH_G   SBP_Y   DBP_Y   FBS_Y   BMI_Y   FBS_Y     SBP     DBP  \\\n",
      "DIS                                                                           \n",
      "1      5494    5494    5494    5494    5494    5494    5494    5494    5494   \n",
      "2     35642   35642   35642   35642   35642   35642   35642   35642   35642   \n",
      "3      7626    7626    7626    7626    7626    7626    7626    7626    7626   \n",
      "4    417869  417869  417869  417869  417869  417869  417869  417869  417869   \n",
      "\n",
      "        FBS     BMI  cluster_label  HEALTH2  \n",
      "DIS                                          \n",
      "1      5494    5494           5494     5494  \n",
      "2     35642   35642          35642    35642  \n",
      "3      7626    7626           7626     7626  \n",
      "4    417869  417869         417869   417869  \n",
      "***********************************************************************************\n",
      "0    94.934756\n",
      "2     5.064601\n",
      "1     0.000643\n",
      "Name: HEALTH2, dtype: float64\n",
      "***********************************************************************************\n",
      "42.15922216912293\n"
     ]
    }
   ],
   "source": [
    "makestat(diabetes_cluster4)"
   ]
  },
  {
   "cell_type": "code",
   "execution_count": 82,
   "metadata": {
    "colab": {
     "base_uri": "https://localhost:8080/",
     "height": 204
    },
    "colab_type": "code",
    "id": "lrIPlsB7EcCW",
    "outputId": "372e3321-2e84-4b38-e892-c5b2311737b7"
   },
   "outputs": [
    {
     "data": {
      "text/html": [
       "<div>\n",
       "<style scoped>\n",
       "    .dataframe tbody tr th:only-of-type {\n",
       "        vertical-align: middle;\n",
       "    }\n",
       "\n",
       "    .dataframe tbody tr th {\n",
       "        vertical-align: top;\n",
       "    }\n",
       "\n",
       "    .dataframe thead th {\n",
       "        text-align: right;\n",
       "    }\n",
       "</style>\n",
       "<table border=\"1\" class=\"dataframe\">\n",
       "  <thead>\n",
       "    <tr style=\"text-align: right;\">\n",
       "      <th></th>\n",
       "      <th>SEX</th>\n",
       "      <th>BTH_G</th>\n",
       "      <th>SBP</th>\n",
       "      <th>DBP</th>\n",
       "      <th>FBS</th>\n",
       "      <th>DIS</th>\n",
       "      <th>BMI</th>\n",
       "      <th>SBP_Y</th>\n",
       "      <th>DBP_Y</th>\n",
       "      <th>FBS_Y</th>\n",
       "      <th>BMI_Y</th>\n",
       "      <th>HEALTH1</th>\n",
       "      <th>HEALTH2</th>\n",
       "    </tr>\n",
       "  </thead>\n",
       "  <tbody>\n",
       "    <tr>\n",
       "      <th>218</th>\n",
       "      <td>1</td>\n",
       "      <td>1</td>\n",
       "      <td>130</td>\n",
       "      <td>80</td>\n",
       "      <td>130</td>\n",
       "      <td>4</td>\n",
       "      <td>27.5</td>\n",
       "      <td>1</td>\n",
       "      <td>1</td>\n",
       "      <td>1</td>\n",
       "      <td>1</td>\n",
       "      <td>1</td>\n",
       "      <td>4</td>\n",
       "    </tr>\n",
       "    <tr>\n",
       "      <th>763</th>\n",
       "      <td>1</td>\n",
       "      <td>1</td>\n",
       "      <td>135</td>\n",
       "      <td>85</td>\n",
       "      <td>130</td>\n",
       "      <td>4</td>\n",
       "      <td>31.6</td>\n",
       "      <td>1</td>\n",
       "      <td>1</td>\n",
       "      <td>1</td>\n",
       "      <td>1</td>\n",
       "      <td>1</td>\n",
       "      <td>4</td>\n",
       "    </tr>\n",
       "    <tr>\n",
       "      <th>862</th>\n",
       "      <td>1</td>\n",
       "      <td>1</td>\n",
       "      <td>110</td>\n",
       "      <td>60</td>\n",
       "      <td>128</td>\n",
       "      <td>4</td>\n",
       "      <td>21.8</td>\n",
       "      <td>0</td>\n",
       "      <td>0</td>\n",
       "      <td>1</td>\n",
       "      <td>0</td>\n",
       "      <td>1</td>\n",
       "      <td>1</td>\n",
       "    </tr>\n",
       "    <tr>\n",
       "      <th>946</th>\n",
       "      <td>1</td>\n",
       "      <td>1</td>\n",
       "      <td>124</td>\n",
       "      <td>62</td>\n",
       "      <td>129</td>\n",
       "      <td>4</td>\n",
       "      <td>21.5</td>\n",
       "      <td>1</td>\n",
       "      <td>0</td>\n",
       "      <td>1</td>\n",
       "      <td>0</td>\n",
       "      <td>1</td>\n",
       "      <td>1</td>\n",
       "    </tr>\n",
       "    <tr>\n",
       "      <th>1109</th>\n",
       "      <td>1</td>\n",
       "      <td>1</td>\n",
       "      <td>120</td>\n",
       "      <td>80</td>\n",
       "      <td>136</td>\n",
       "      <td>4</td>\n",
       "      <td>21.4</td>\n",
       "      <td>1</td>\n",
       "      <td>1</td>\n",
       "      <td>1</td>\n",
       "      <td>0</td>\n",
       "      <td>1</td>\n",
       "      <td>3</td>\n",
       "    </tr>\n",
       "  </tbody>\n",
       "</table>\n",
       "</div>"
      ],
      "text/plain": [
       "      SEX  BTH_G  SBP  DBP  FBS  DIS   BMI  SBP_Y  DBP_Y  FBS_Y  BMI_Y  \\\n",
       "218     1      1  130   80  130    4  27.5      1      1      1      1   \n",
       "763     1      1  135   85  130    4  31.6      1      1      1      1   \n",
       "862     1      1  110   60  128    4  21.8      0      0      1      0   \n",
       "946     1      1  124   62  129    4  21.5      1      0      1      0   \n",
       "1109    1      1  120   80  136    4  21.4      1      1      1      0   \n",
       "\n",
       "      HEALTH1  HEALTH2  \n",
       "218         1        4  \n",
       "763         1        4  \n",
       "862         1        1  \n",
       "946         1        1  \n",
       "1109        1        3  "
      ]
     },
     "execution_count": 82,
     "metadata": {},
     "output_type": "execute_result"
    }
   ],
   "source": [
    "data_diabetes.head()"
   ]
  },
  {
   "cell_type": "code",
   "execution_count": 83,
   "metadata": {
    "colab": {},
    "colab_type": "code",
    "id": "WfbnYqfRfTbi"
   },
   "outputs": [],
   "source": [
    "group1 = diabetes_cluster1[['SBP', 'DBP',\t'FBS',\t'BMI']]\n",
    "group2 = diabetes_cluster2[['SBP', 'DBP',\t'FBS',\t'BMI']]\n",
    "group3 = diabetes_cluster3[['SBP', 'DBP',\t'FBS',\t'BMI']]\n",
    "group4 = diabetes_cluster4[['SBP', 'DBP',\t'FBS',\t'BMI']]"
   ]
  },
  {
   "cell_type": "code",
   "execution_count": 84,
   "metadata": {
    "colab": {},
    "colab_type": "code",
    "id": "oJ3abYssrk27"
   },
   "outputs": [],
   "source": [
    "plot_data = [group1, group2, group3, group4]"
   ]
  },
  {
   "cell_type": "code",
   "execution_count": 85,
   "metadata": {
    "colab": {
     "base_uri": "https://localhost:8080/",
     "height": 265
    },
    "colab_type": "code",
    "id": "_41rb0aNro_M",
    "outputId": "1650a1a8-8672-47f5-b0ef-d07d2200e963"
   },
   "outputs": [
    {
     "ename": "ValueError",
     "evalue": "cannot copy sequence with size 400279 to array axis with dimension 4",
     "output_type": "error",
     "traceback": [
      "\u001b[0;31m---------------------------------------------------------------------------\u001b[0m",
      "\u001b[0;31mValueError\u001b[0m                                Traceback (most recent call last)",
      "\u001b[0;32m<ipython-input-85-17783b393601>\u001b[0m in \u001b[0;36m<module>\u001b[0;34m\u001b[0m\n\u001b[0;32m----> 1\u001b[0;31m \u001b[0max\u001b[0m \u001b[0;34m=\u001b[0m \u001b[0mplt\u001b[0m\u001b[0;34m.\u001b[0m\u001b[0mboxplot\u001b[0m\u001b[0;34m(\u001b[0m\u001b[0mplot_data\u001b[0m\u001b[0;34m)\u001b[0m\u001b[0;34m\u001b[0m\u001b[0;34m\u001b[0m\u001b[0m\n\u001b[0m\u001b[1;32m      2\u001b[0m \u001b[0mplt\u001b[0m\u001b[0;34m.\u001b[0m\u001b[0mshow\u001b[0m\u001b[0;34m(\u001b[0m\u001b[0;34m)\u001b[0m\u001b[0;34m\u001b[0m\u001b[0;34m\u001b[0m\u001b[0m\n",
      "\u001b[0;32m/opt/conda/lib/python3.8/site-packages/matplotlib/pyplot.py\u001b[0m in \u001b[0;36mboxplot\u001b[0;34m(x, notch, sym, vert, whis, positions, widths, patch_artist, bootstrap, usermedians, conf_intervals, meanline, showmeans, showcaps, showbox, showfliers, boxprops, labels, flierprops, medianprops, meanprops, capprops, whiskerprops, manage_ticks, autorange, zorder, data)\u001b[0m\n\u001b[1;32m   2435\u001b[0m         \u001b[0mwhiskerprops\u001b[0m\u001b[0;34m=\u001b[0m\u001b[0;32mNone\u001b[0m\u001b[0;34m,\u001b[0m \u001b[0mmanage_ticks\u001b[0m\u001b[0;34m=\u001b[0m\u001b[0;32mTrue\u001b[0m\u001b[0;34m,\u001b[0m \u001b[0mautorange\u001b[0m\u001b[0;34m=\u001b[0m\u001b[0;32mFalse\u001b[0m\u001b[0;34m,\u001b[0m\u001b[0;34m\u001b[0m\u001b[0;34m\u001b[0m\u001b[0m\n\u001b[1;32m   2436\u001b[0m         zorder=None, *, data=None):\n\u001b[0;32m-> 2437\u001b[0;31m     return gca().boxplot(\n\u001b[0m\u001b[1;32m   2438\u001b[0m         \u001b[0mx\u001b[0m\u001b[0;34m,\u001b[0m \u001b[0mnotch\u001b[0m\u001b[0;34m=\u001b[0m\u001b[0mnotch\u001b[0m\u001b[0;34m,\u001b[0m \u001b[0msym\u001b[0m\u001b[0;34m=\u001b[0m\u001b[0msym\u001b[0m\u001b[0;34m,\u001b[0m \u001b[0mvert\u001b[0m\u001b[0;34m=\u001b[0m\u001b[0mvert\u001b[0m\u001b[0;34m,\u001b[0m \u001b[0mwhis\u001b[0m\u001b[0;34m=\u001b[0m\u001b[0mwhis\u001b[0m\u001b[0;34m,\u001b[0m\u001b[0;34m\u001b[0m\u001b[0;34m\u001b[0m\u001b[0m\n\u001b[1;32m   2439\u001b[0m         \u001b[0mpositions\u001b[0m\u001b[0;34m=\u001b[0m\u001b[0mpositions\u001b[0m\u001b[0;34m,\u001b[0m \u001b[0mwidths\u001b[0m\u001b[0;34m=\u001b[0m\u001b[0mwidths\u001b[0m\u001b[0;34m,\u001b[0m \u001b[0mpatch_artist\u001b[0m\u001b[0;34m=\u001b[0m\u001b[0mpatch_artist\u001b[0m\u001b[0;34m,\u001b[0m\u001b[0;34m\u001b[0m\u001b[0;34m\u001b[0m\u001b[0m\n",
      "\u001b[0;32m/opt/conda/lib/python3.8/site-packages/matplotlib/cbook/deprecation.py\u001b[0m in \u001b[0;36mwrapper\u001b[0;34m(*args, **kwargs)\u001b[0m\n\u001b[1;32m    294\u001b[0m                 f\"for the old name will be dropped %(removal)s.\")\n\u001b[1;32m    295\u001b[0m             \u001b[0mkwargs\u001b[0m\u001b[0;34m[\u001b[0m\u001b[0mnew\u001b[0m\u001b[0;34m]\u001b[0m \u001b[0;34m=\u001b[0m \u001b[0mkwargs\u001b[0m\u001b[0;34m.\u001b[0m\u001b[0mpop\u001b[0m\u001b[0;34m(\u001b[0m\u001b[0mold\u001b[0m\u001b[0;34m)\u001b[0m\u001b[0;34m\u001b[0m\u001b[0;34m\u001b[0m\u001b[0m\n\u001b[0;32m--> 296\u001b[0;31m         \u001b[0;32mreturn\u001b[0m \u001b[0mfunc\u001b[0m\u001b[0;34m(\u001b[0m\u001b[0;34m*\u001b[0m\u001b[0margs\u001b[0m\u001b[0;34m,\u001b[0m \u001b[0;34m**\u001b[0m\u001b[0mkwargs\u001b[0m\u001b[0;34m)\u001b[0m\u001b[0;34m\u001b[0m\u001b[0;34m\u001b[0m\u001b[0m\n\u001b[0m\u001b[1;32m    297\u001b[0m \u001b[0;34m\u001b[0m\u001b[0m\n\u001b[1;32m    298\u001b[0m     \u001b[0;31m# wrapper() must keep the same documented signature as func(): if we\u001b[0m\u001b[0;34m\u001b[0m\u001b[0;34m\u001b[0m\u001b[0;34m\u001b[0m\u001b[0m\n",
      "\u001b[0;32m/opt/conda/lib/python3.8/site-packages/matplotlib/__init__.py\u001b[0m in \u001b[0;36minner\u001b[0;34m(ax, data, *args, **kwargs)\u001b[0m\n\u001b[1;32m   1563\u001b[0m     \u001b[0;32mdef\u001b[0m \u001b[0minner\u001b[0m\u001b[0;34m(\u001b[0m\u001b[0max\u001b[0m\u001b[0;34m,\u001b[0m \u001b[0;34m*\u001b[0m\u001b[0margs\u001b[0m\u001b[0;34m,\u001b[0m \u001b[0mdata\u001b[0m\u001b[0;34m=\u001b[0m\u001b[0;32mNone\u001b[0m\u001b[0;34m,\u001b[0m \u001b[0;34m**\u001b[0m\u001b[0mkwargs\u001b[0m\u001b[0;34m)\u001b[0m\u001b[0;34m:\u001b[0m\u001b[0;34m\u001b[0m\u001b[0;34m\u001b[0m\u001b[0m\n\u001b[1;32m   1564\u001b[0m         \u001b[0;32mif\u001b[0m \u001b[0mdata\u001b[0m \u001b[0;32mis\u001b[0m \u001b[0;32mNone\u001b[0m\u001b[0;34m:\u001b[0m\u001b[0;34m\u001b[0m\u001b[0;34m\u001b[0m\u001b[0m\n\u001b[0;32m-> 1565\u001b[0;31m             \u001b[0;32mreturn\u001b[0m \u001b[0mfunc\u001b[0m\u001b[0;34m(\u001b[0m\u001b[0max\u001b[0m\u001b[0;34m,\u001b[0m \u001b[0;34m*\u001b[0m\u001b[0mmap\u001b[0m\u001b[0;34m(\u001b[0m\u001b[0msanitize_sequence\u001b[0m\u001b[0;34m,\u001b[0m \u001b[0margs\u001b[0m\u001b[0;34m)\u001b[0m\u001b[0;34m,\u001b[0m \u001b[0;34m**\u001b[0m\u001b[0mkwargs\u001b[0m\u001b[0;34m)\u001b[0m\u001b[0;34m\u001b[0m\u001b[0;34m\u001b[0m\u001b[0m\n\u001b[0m\u001b[1;32m   1566\u001b[0m \u001b[0;34m\u001b[0m\u001b[0m\n\u001b[1;32m   1567\u001b[0m         \u001b[0mbound\u001b[0m \u001b[0;34m=\u001b[0m \u001b[0mnew_sig\u001b[0m\u001b[0;34m.\u001b[0m\u001b[0mbind\u001b[0m\u001b[0;34m(\u001b[0m\u001b[0max\u001b[0m\u001b[0;34m,\u001b[0m \u001b[0;34m*\u001b[0m\u001b[0margs\u001b[0m\u001b[0;34m,\u001b[0m \u001b[0;34m**\u001b[0m\u001b[0mkwargs\u001b[0m\u001b[0;34m)\u001b[0m\u001b[0;34m\u001b[0m\u001b[0;34m\u001b[0m\u001b[0m\n",
      "\u001b[0;32m/opt/conda/lib/python3.8/site-packages/matplotlib/axes/_axes.py\u001b[0m in \u001b[0;36mboxplot\u001b[0;34m(self, x, notch, sym, vert, whis, positions, widths, patch_artist, bootstrap, usermedians, conf_intervals, meanline, showmeans, showcaps, showbox, showfliers, boxprops, labels, flierprops, medianprops, meanprops, capprops, whiskerprops, manage_ticks, autorange, zorder)\u001b[0m\n\u001b[1;32m   3625\u001b[0m             \u001b[0mbootstrap\u001b[0m \u001b[0;34m=\u001b[0m \u001b[0mrcParams\u001b[0m\u001b[0;34m[\u001b[0m\u001b[0;34m'boxplot.bootstrap'\u001b[0m\u001b[0;34m]\u001b[0m\u001b[0;34m\u001b[0m\u001b[0;34m\u001b[0m\u001b[0m\n\u001b[1;32m   3626\u001b[0m \u001b[0;34m\u001b[0m\u001b[0m\n\u001b[0;32m-> 3627\u001b[0;31m         bxpstats = cbook.boxplot_stats(x, whis=whis, bootstrap=bootstrap,\n\u001b[0m\u001b[1;32m   3628\u001b[0m                                        labels=labels, autorange=autorange)\n\u001b[1;32m   3629\u001b[0m         \u001b[0;32mif\u001b[0m \u001b[0mnotch\u001b[0m \u001b[0;32mis\u001b[0m \u001b[0;32mNone\u001b[0m\u001b[0;34m:\u001b[0m\u001b[0;34m\u001b[0m\u001b[0;34m\u001b[0m\u001b[0m\n",
      "\u001b[0;32m/opt/conda/lib/python3.8/site-packages/matplotlib/cbook/__init__.py\u001b[0m in \u001b[0;36mboxplot_stats\u001b[0;34m(X, whis, bootstrap, labels, autorange)\u001b[0m\n\u001b[1;32m   1163\u001b[0m \u001b[0;34m\u001b[0m\u001b[0m\n\u001b[1;32m   1164\u001b[0m     \u001b[0;31m# convert X to a list of lists\u001b[0m\u001b[0;34m\u001b[0m\u001b[0;34m\u001b[0m\u001b[0;34m\u001b[0m\u001b[0m\n\u001b[0;32m-> 1165\u001b[0;31m     \u001b[0mX\u001b[0m \u001b[0;34m=\u001b[0m \u001b[0m_reshape_2D\u001b[0m\u001b[0;34m(\u001b[0m\u001b[0mX\u001b[0m\u001b[0;34m,\u001b[0m \u001b[0;34m\"X\"\u001b[0m\u001b[0;34m)\u001b[0m\u001b[0;34m\u001b[0m\u001b[0;34m\u001b[0m\u001b[0m\n\u001b[0m\u001b[1;32m   1166\u001b[0m \u001b[0;34m\u001b[0m\u001b[0m\n\u001b[1;32m   1167\u001b[0m     \u001b[0mncols\u001b[0m \u001b[0;34m=\u001b[0m \u001b[0mlen\u001b[0m\u001b[0;34m(\u001b[0m\u001b[0mX\u001b[0m\u001b[0;34m)\u001b[0m\u001b[0;34m\u001b[0m\u001b[0;34m\u001b[0m\u001b[0m\n",
      "\u001b[0;32m/opt/conda/lib/python3.8/site-packages/matplotlib/cbook/__init__.py\u001b[0m in \u001b[0;36m_reshape_2D\u001b[0;34m(X, name)\u001b[0m\n\u001b[1;32m   1374\u001b[0m     \"\"\"\n\u001b[1;32m   1375\u001b[0m     \u001b[0;31m# Iterate over columns for ndarrays, over rows otherwise.\u001b[0m\u001b[0;34m\u001b[0m\u001b[0;34m\u001b[0m\u001b[0;34m\u001b[0m\u001b[0m\n\u001b[0;32m-> 1376\u001b[0;31m     \u001b[0mX\u001b[0m \u001b[0;34m=\u001b[0m \u001b[0mnp\u001b[0m\u001b[0;34m.\u001b[0m\u001b[0matleast_1d\u001b[0m\u001b[0;34m(\u001b[0m\u001b[0mX\u001b[0m\u001b[0;34m.\u001b[0m\u001b[0mT\u001b[0m \u001b[0;32mif\u001b[0m \u001b[0misinstance\u001b[0m\u001b[0;34m(\u001b[0m\u001b[0mX\u001b[0m\u001b[0;34m,\u001b[0m \u001b[0mnp\u001b[0m\u001b[0;34m.\u001b[0m\u001b[0mndarray\u001b[0m\u001b[0;34m)\u001b[0m \u001b[0;32melse\u001b[0m \u001b[0mnp\u001b[0m\u001b[0;34m.\u001b[0m\u001b[0masarray\u001b[0m\u001b[0;34m(\u001b[0m\u001b[0mX\u001b[0m\u001b[0;34m)\u001b[0m\u001b[0;34m)\u001b[0m\u001b[0;34m\u001b[0m\u001b[0;34m\u001b[0m\u001b[0m\n\u001b[0m\u001b[1;32m   1377\u001b[0m     \u001b[0;32mif\u001b[0m \u001b[0mlen\u001b[0m\u001b[0;34m(\u001b[0m\u001b[0mX\u001b[0m\u001b[0;34m)\u001b[0m \u001b[0;34m==\u001b[0m \u001b[0;36m0\u001b[0m\u001b[0;34m:\u001b[0m\u001b[0;34m\u001b[0m\u001b[0;34m\u001b[0m\u001b[0m\n\u001b[1;32m   1378\u001b[0m         \u001b[0;32mreturn\u001b[0m \u001b[0;34m[\u001b[0m\u001b[0;34m[\u001b[0m\u001b[0;34m]\u001b[0m\u001b[0;34m]\u001b[0m\u001b[0;34m\u001b[0m\u001b[0;34m\u001b[0m\u001b[0m\n",
      "\u001b[0;32m/opt/conda/lib/python3.8/site-packages/numpy/core/_asarray.py\u001b[0m in \u001b[0;36masarray\u001b[0;34m(a, dtype, order)\u001b[0m\n\u001b[1;32m     83\u001b[0m \u001b[0;34m\u001b[0m\u001b[0m\n\u001b[1;32m     84\u001b[0m     \"\"\"\n\u001b[0;32m---> 85\u001b[0;31m     \u001b[0;32mreturn\u001b[0m \u001b[0marray\u001b[0m\u001b[0;34m(\u001b[0m\u001b[0ma\u001b[0m\u001b[0;34m,\u001b[0m \u001b[0mdtype\u001b[0m\u001b[0;34m,\u001b[0m \u001b[0mcopy\u001b[0m\u001b[0;34m=\u001b[0m\u001b[0;32mFalse\u001b[0m\u001b[0;34m,\u001b[0m \u001b[0morder\u001b[0m\u001b[0;34m=\u001b[0m\u001b[0morder\u001b[0m\u001b[0;34m)\u001b[0m\u001b[0;34m\u001b[0m\u001b[0;34m\u001b[0m\u001b[0m\n\u001b[0m\u001b[1;32m     86\u001b[0m \u001b[0;34m\u001b[0m\u001b[0m\n\u001b[1;32m     87\u001b[0m \u001b[0;34m\u001b[0m\u001b[0m\n",
      "\u001b[0;31mValueError\u001b[0m: cannot copy sequence with size 400279 to array axis with dimension 4"
     ]
    },
    {
     "data": {
      "image/png": "[encoded data removed]",
      "text/plain": [
       "<Figure size 432x288 with 1 Axes>"
      ]
     },
     "metadata": {
      "needs_background": "light"
     },
     "output_type": "display_data"
    }
   ],
   "source": [
    "ax = plt.boxplot(plot_data)\n",
    "plt.show()"
   ]
  },
  {
   "cell_type": "code",
   "execution_count": null,
   "metadata": {
    "colab": {},
    "colab_type": "code",
    "id": "wzKH_oeLr61Q"
   },
   "outputs": [],
   "source": []
  }
 ],
 "metadata": {
  "colab": {
   "machine_shape": "hm",
   "name": "diabetes_analysis_two-way-anova.ipynb",
   "provenance": []
  },
  "kernelspec": {
   "display_name": "Python 3",
   "language": "python",
   "name": "python3"
  },
  "language_info": {
   "codemirror_mode": {
    "name": "ipython",
    "version": 3
   },
   "file_extension": ".py",
   "mimetype": "text/x-python",
   "name": "python",
   "nbconvert_exporter": "python",
   "pygments_lexer": "ipython3",
   "version": "3.8.5"
  }
 },
 "nbformat": 4,
 "nbformat_minor": 1
}
