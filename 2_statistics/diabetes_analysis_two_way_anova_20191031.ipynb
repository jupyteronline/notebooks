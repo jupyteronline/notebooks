{
 "cells": [
  {
   "cell_type": "code",
   "execution_count": 1,
   "metadata": {
    "colab": {
     "base_uri": "https://localhost:8080/",
     "height": 35
    },
    "colab_type": "code",
    "id": "kEs-CMnILC65",
    "outputId": "d5b83b10-f2de-4c50-8e9f-5c71b9ad4c7b"
   },
   "outputs": [],
   "source": [
    "# # from google.colab import auth\n",
    "# # auth.authenticate_user()\n",
    "\n",
    "# from google.colab import drive\n",
    "# drive.mount('/content/gdrive')"
   ]
  },
  {
   "cell_type": "code",
   "execution_count": 2,
   "metadata": {
    "colab": {
     "base_uri": "https://localhost:8080/",
     "height": 35
    },
    "colab_type": "code",
    "id": "sfbv6lQcLd8h",
    "outputId": "f1795a07-a3ed-42d1-9b0f-0fd5644a81f1"
   },
   "outputs": [],
   "source": [
    "# # 경로 변경\n",
    "# cd /content/gdrive/My Drive/AIBM/20191030/"
   ]
  },
  {
   "cell_type": "code",
   "execution_count": 3,
   "metadata": {
    "colab": {},
    "colab_type": "code",
    "id": "RCBSGWuy6eGx"
   },
   "outputs": [],
   "source": [
    "import pandas as pd\n",
    "import numpy as np\n",
    "import os\n",
    "\n",
    "#os.chdir(\"C://Users//이명아//Desktop\")"
   ]
  },
  {
   "cell_type": "code",
   "execution_count": 4,
   "metadata": {
    "colab": {},
    "colab_type": "code",
    "id": "QP85ybdF6eG2"
   },
   "outputs": [],
   "source": [
    "data = pd.read_csv(\"국가건강검진_혈압혈당데이터.csv\", engine = 'python')"
   ]
  },
  {
   "cell_type": "code",
   "execution_count": 5,
   "metadata": {
    "colab": {
     "base_uri": "https://localhost:8080/",
     "height": 204
    },
    "colab_type": "code",
    "id": "9lGn0ch76eG4",
    "outputId": "7505abbb-491b-48aa-b9be-5213334842a3"
   },
   "outputs": [
    {
     "data": {
      "text/html": [
       "<div>\n",
       "<style scoped>\n",
       "    .dataframe tbody tr th:only-of-type {\n",
       "        vertical-align: middle;\n",
       "    }\n",
       "\n",
       "    .dataframe tbody tr th {\n",
       "        vertical-align: top;\n",
       "    }\n",
       "\n",
       "    .dataframe thead th {\n",
       "        text-align: right;\n",
       "    }\n",
       "</style>\n",
       "<table border=\"1\" class=\"dataframe\">\n",
       "  <thead>\n",
       "    <tr style=\"text-align: right;\">\n",
       "      <th></th>\n",
       "      <th>SEX</th>\n",
       "      <th>BTH_G</th>\n",
       "      <th>SBP</th>\n",
       "      <th>DBP</th>\n",
       "      <th>FBS</th>\n",
       "      <th>DIS</th>\n",
       "      <th>BMI</th>\n",
       "    </tr>\n",
       "  </thead>\n",
       "  <tbody>\n",
       "    <tr>\n",
       "      <th>0</th>\n",
       "      <td>1</td>\n",
       "      <td>1</td>\n",
       "      <td>116</td>\n",
       "      <td>78</td>\n",
       "      <td>94</td>\n",
       "      <td>4</td>\n",
       "      <td>16.6</td>\n",
       "    </tr>\n",
       "    <tr>\n",
       "      <th>1</th>\n",
       "      <td>1</td>\n",
       "      <td>1</td>\n",
       "      <td>100</td>\n",
       "      <td>60</td>\n",
       "      <td>79</td>\n",
       "      <td>4</td>\n",
       "      <td>22.3</td>\n",
       "    </tr>\n",
       "    <tr>\n",
       "      <th>2</th>\n",
       "      <td>1</td>\n",
       "      <td>1</td>\n",
       "      <td>100</td>\n",
       "      <td>60</td>\n",
       "      <td>87</td>\n",
       "      <td>4</td>\n",
       "      <td>21.9</td>\n",
       "    </tr>\n",
       "    <tr>\n",
       "      <th>3</th>\n",
       "      <td>1</td>\n",
       "      <td>1</td>\n",
       "      <td>111</td>\n",
       "      <td>70</td>\n",
       "      <td>72</td>\n",
       "      <td>4</td>\n",
       "      <td>20.2</td>\n",
       "    </tr>\n",
       "    <tr>\n",
       "      <th>4</th>\n",
       "      <td>1</td>\n",
       "      <td>1</td>\n",
       "      <td>120</td>\n",
       "      <td>80</td>\n",
       "      <td>98</td>\n",
       "      <td>4</td>\n",
       "      <td>20.0</td>\n",
       "    </tr>\n",
       "  </tbody>\n",
       "</table>\n",
       "</div>"
      ],
      "text/plain": [
       "   SEX  BTH_G  SBP  DBP  FBS  DIS   BMI\n",
       "0    1      1  116   78   94    4  16.6\n",
       "1    1      1  100   60   79    4  22.3\n",
       "2    1      1  100   60   87    4  21.9\n",
       "3    1      1  111   70   72    4  20.2\n",
       "4    1      1  120   80   98    4  20.0"
      ]
     },
     "execution_count": 5,
     "metadata": {},
     "output_type": "execute_result"
    }
   ],
   "source": [
    "data.head()"
   ]
  },
  {
   "cell_type": "markdown",
   "metadata": {
    "colab_type": "text",
    "id": "NFNuFa4R6eG8"
   },
   "source": [
    "## 데이터 범주화 및 y라벨 설정"
   ]
  },
  {
   "cell_type": "code",
   "execution_count": 6,
   "metadata": {
    "colab": {},
    "colab_type": "code",
    "id": "L_jhRNJsC9cZ"
   },
   "outputs": [],
   "source": [
    "data['SBP_Y'] = data['SBP'].apply(lambda x : 0 if x < 120 else 1 ) # 위험:1 정상:0"
   ]
  },
  {
   "cell_type": "code",
   "execution_count": 7,
   "metadata": {
    "colab": {},
    "colab_type": "code",
    "id": "t433P7tvC9-K"
   },
   "outputs": [],
   "source": [
    "data['DBP_Y'] = data['DBP'].apply(lambda x : 0 if x < 80 else 1 ) # 위험:1 정상:0"
   ]
  },
  {
   "cell_type": "code",
   "execution_count": 8,
   "metadata": {
    "colab": {},
    "colab_type": "code",
    "id": "uv6d4tO_DnXE"
   },
   "outputs": [],
   "source": [
    "data['FBS_Y'] = data['FBS'].apply(lambda x : 0 if x < 126 else 1 ) # 위험:1 정상:0"
   ]
  },
  {
   "cell_type": "code",
   "execution_count": 9,
   "metadata": {
    "colab": {},
    "colab_type": "code",
    "id": "BKl98nxLEJeE"
   },
   "outputs": [],
   "source": [
    "data['BMI_Y'] = data['BMI'].apply(lambda x : 0 if x < 27 else 1 ) # 위험:1 정상:0"
   ]
  },
  {
   "cell_type": "code",
   "execution_count": 10,
   "metadata": {
    "colab": {
     "base_uri": "https://localhost:8080/",
     "height": 204
    },
    "colab_type": "code",
    "id": "mb-nHATk8vYH",
    "outputId": "0d17e3dc-7bdd-4ace-bbf1-4f77c4ff75d1"
   },
   "outputs": [
    {
     "data": {
      "text/html": [
       "<div>\n",
       "<style scoped>\n",
       "    .dataframe tbody tr th:only-of-type {\n",
       "        vertical-align: middle;\n",
       "    }\n",
       "\n",
       "    .dataframe tbody tr th {\n",
       "        vertical-align: top;\n",
       "    }\n",
       "\n",
       "    .dataframe thead th {\n",
       "        text-align: right;\n",
       "    }\n",
       "</style>\n",
       "<table border=\"1\" class=\"dataframe\">\n",
       "  <thead>\n",
       "    <tr style=\"text-align: right;\">\n",
       "      <th></th>\n",
       "      <th>SEX</th>\n",
       "      <th>BTH_G</th>\n",
       "      <th>SBP</th>\n",
       "      <th>DBP</th>\n",
       "      <th>FBS</th>\n",
       "      <th>DIS</th>\n",
       "      <th>BMI</th>\n",
       "      <th>SBP_Y</th>\n",
       "      <th>DBP_Y</th>\n",
       "      <th>FBS_Y</th>\n",
       "      <th>BMI_Y</th>\n",
       "    </tr>\n",
       "  </thead>\n",
       "  <tbody>\n",
       "    <tr>\n",
       "      <th>0</th>\n",
       "      <td>1</td>\n",
       "      <td>1</td>\n",
       "      <td>116</td>\n",
       "      <td>78</td>\n",
       "      <td>94</td>\n",
       "      <td>4</td>\n",
       "      <td>16.6</td>\n",
       "      <td>0</td>\n",
       "      <td>0</td>\n",
       "      <td>0</td>\n",
       "      <td>0</td>\n",
       "    </tr>\n",
       "    <tr>\n",
       "      <th>1</th>\n",
       "      <td>1</td>\n",
       "      <td>1</td>\n",
       "      <td>100</td>\n",
       "      <td>60</td>\n",
       "      <td>79</td>\n",
       "      <td>4</td>\n",
       "      <td>22.3</td>\n",
       "      <td>0</td>\n",
       "      <td>0</td>\n",
       "      <td>0</td>\n",
       "      <td>0</td>\n",
       "    </tr>\n",
       "    <tr>\n",
       "      <th>2</th>\n",
       "      <td>1</td>\n",
       "      <td>1</td>\n",
       "      <td>100</td>\n",
       "      <td>60</td>\n",
       "      <td>87</td>\n",
       "      <td>4</td>\n",
       "      <td>21.9</td>\n",
       "      <td>0</td>\n",
       "      <td>0</td>\n",
       "      <td>0</td>\n",
       "      <td>0</td>\n",
       "    </tr>\n",
       "    <tr>\n",
       "      <th>3</th>\n",
       "      <td>1</td>\n",
       "      <td>1</td>\n",
       "      <td>111</td>\n",
       "      <td>70</td>\n",
       "      <td>72</td>\n",
       "      <td>4</td>\n",
       "      <td>20.2</td>\n",
       "      <td>0</td>\n",
       "      <td>0</td>\n",
       "      <td>0</td>\n",
       "      <td>0</td>\n",
       "    </tr>\n",
       "    <tr>\n",
       "      <th>4</th>\n",
       "      <td>1</td>\n",
       "      <td>1</td>\n",
       "      <td>120</td>\n",
       "      <td>80</td>\n",
       "      <td>98</td>\n",
       "      <td>4</td>\n",
       "      <td>20.0</td>\n",
       "      <td>1</td>\n",
       "      <td>1</td>\n",
       "      <td>0</td>\n",
       "      <td>0</td>\n",
       "    </tr>\n",
       "  </tbody>\n",
       "</table>\n",
       "</div>"
      ],
      "text/plain": [
       "   SEX  BTH_G  SBP  DBP  FBS  DIS   BMI  SBP_Y  DBP_Y  FBS_Y  BMI_Y\n",
       "0    1      1  116   78   94    4  16.6      0      0      0      0\n",
       "1    1      1  100   60   79    4  22.3      0      0      0      0\n",
       "2    1      1  100   60   87    4  21.9      0      0      0      0\n",
       "3    1      1  111   70   72    4  20.2      0      0      0      0\n",
       "4    1      1  120   80   98    4  20.0      1      1      0      0"
      ]
     },
     "execution_count": 10,
     "metadata": {},
     "output_type": "execute_result"
    }
   ],
   "source": [
    "data.head()"
   ]
  },
  {
   "cell_type": "code",
   "execution_count": 11,
   "metadata": {
    "colab": {
     "base_uri": "https://localhost:8080/",
     "height": 35
    },
    "colab_type": "code",
    "id": "VrKM92TKEeMV",
    "outputId": "f4727e39-4c1e-4b80-fa20-603cca1c2100"
   },
   "outputs": [
    {
     "data": {
      "text/plain": [
       "pandas.core.frame.DataFrame"
      ]
     },
     "execution_count": 11,
     "metadata": {},
     "output_type": "execute_result"
    }
   ],
   "source": [
    "type(data)"
   ]
  },
  {
   "cell_type": "code",
   "execution_count": 12,
   "metadata": {
    "colab": {},
    "colab_type": "code",
    "id": "A-2s7ErG3_JD"
   },
   "outputs": [],
   "source": [
    "def healthcheck1 (row):\n",
    "   if row['FBS_Y'] == 1 : #  (당뇨)\n",
    "      return 1\n",
    "   return 0"
   ]
  },
  {
   "cell_type": "code",
   "execution_count": 13,
   "metadata": {
    "colab": {},
    "colab_type": "code",
    "id": "2ovvltk_JVcV"
   },
   "outputs": [],
   "source": [
    "def healthcheck2(row):\n",
    "    if row['FBS_Y'] + row['SBP_Y'] + row['DBP_Y'] + row['BMI_Y'] == 4 : # 당뇨 + 고혈압 + 과체중\n",
    "        return 4\n",
    "    if row['FBS_Y'] + row['SBP_Y'] + row['DBP_Y']  == 3 : # 당뇨 + 고혈압\n",
    "        return 3\n",
    "    if row['SBP_Y'] + row['DBP_Y']  == 2 : #고혈압\n",
    "        return 2\n",
    "    if row['FBS_Y'] == 1 :  # 당뇨\n",
    "        return 1\n",
    "    return 0"
   ]
  },
  {
   "cell_type": "code",
   "execution_count": 14,
   "metadata": {
    "colab": {},
    "colab_type": "code",
    "id": "r_uNRHDdH0UM"
   },
   "outputs": [],
   "source": [
    "data['HEALTH1'] = data.apply(lambda row : healthcheck1(row), axis = 1)"
   ]
  },
  {
   "cell_type": "code",
   "execution_count": 15,
   "metadata": {
    "colab": {},
    "colab_type": "code",
    "id": "0AtZDvqZ40cy"
   },
   "outputs": [],
   "source": [
    "data['HEALTH2'] = data.apply(lambda row : healthcheck2(row), axis = 1)"
   ]
  },
  {
   "cell_type": "code",
   "execution_count": 16,
   "metadata": {
    "colab": {
     "base_uri": "https://localhost:8080/",
     "height": 204
    },
    "colab_type": "code",
    "id": "ogaQWz8kK7mn",
    "outputId": "d959f744-5085-4e0a-9311-c01727222e9a"
   },
   "outputs": [
    {
     "data": {
      "text/html": [
       "<div>\n",
       "<style scoped>\n",
       "    .dataframe tbody tr th:only-of-type {\n",
       "        vertical-align: middle;\n",
       "    }\n",
       "\n",
       "    .dataframe tbody tr th {\n",
       "        vertical-align: top;\n",
       "    }\n",
       "\n",
       "    .dataframe thead th {\n",
       "        text-align: right;\n",
       "    }\n",
       "</style>\n",
       "<table border=\"1\" class=\"dataframe\">\n",
       "  <thead>\n",
       "    <tr style=\"text-align: right;\">\n",
       "      <th></th>\n",
       "      <th>SEX</th>\n",
       "      <th>BTH_G</th>\n",
       "      <th>SBP</th>\n",
       "      <th>DBP</th>\n",
       "      <th>FBS</th>\n",
       "      <th>DIS</th>\n",
       "      <th>BMI</th>\n",
       "      <th>SBP_Y</th>\n",
       "      <th>DBP_Y</th>\n",
       "      <th>FBS_Y</th>\n",
       "      <th>BMI_Y</th>\n",
       "      <th>HEALTH1</th>\n",
       "      <th>HEALTH2</th>\n",
       "    </tr>\n",
       "  </thead>\n",
       "  <tbody>\n",
       "    <tr>\n",
       "      <th>0</th>\n",
       "      <td>1</td>\n",
       "      <td>1</td>\n",
       "      <td>116</td>\n",
       "      <td>78</td>\n",
       "      <td>94</td>\n",
       "      <td>4</td>\n",
       "      <td>16.6</td>\n",
       "      <td>0</td>\n",
       "      <td>0</td>\n",
       "      <td>0</td>\n",
       "      <td>0</td>\n",
       "      <td>0</td>\n",
       "      <td>0</td>\n",
       "    </tr>\n",
       "    <tr>\n",
       "      <th>1</th>\n",
       "      <td>1</td>\n",
       "      <td>1</td>\n",
       "      <td>100</td>\n",
       "      <td>60</td>\n",
       "      <td>79</td>\n",
       "      <td>4</td>\n",
       "      <td>22.3</td>\n",
       "      <td>0</td>\n",
       "      <td>0</td>\n",
       "      <td>0</td>\n",
       "      <td>0</td>\n",
       "      <td>0</td>\n",
       "      <td>0</td>\n",
       "    </tr>\n",
       "    <tr>\n",
       "      <th>2</th>\n",
       "      <td>1</td>\n",
       "      <td>1</td>\n",
       "      <td>100</td>\n",
       "      <td>60</td>\n",
       "      <td>87</td>\n",
       "      <td>4</td>\n",
       "      <td>21.9</td>\n",
       "      <td>0</td>\n",
       "      <td>0</td>\n",
       "      <td>0</td>\n",
       "      <td>0</td>\n",
       "      <td>0</td>\n",
       "      <td>0</td>\n",
       "    </tr>\n",
       "    <tr>\n",
       "      <th>3</th>\n",
       "      <td>1</td>\n",
       "      <td>1</td>\n",
       "      <td>111</td>\n",
       "      <td>70</td>\n",
       "      <td>72</td>\n",
       "      <td>4</td>\n",
       "      <td>20.2</td>\n",
       "      <td>0</td>\n",
       "      <td>0</td>\n",
       "      <td>0</td>\n",
       "      <td>0</td>\n",
       "      <td>0</td>\n",
       "      <td>0</td>\n",
       "    </tr>\n",
       "    <tr>\n",
       "      <th>4</th>\n",
       "      <td>1</td>\n",
       "      <td>1</td>\n",
       "      <td>120</td>\n",
       "      <td>80</td>\n",
       "      <td>98</td>\n",
       "      <td>4</td>\n",
       "      <td>20.0</td>\n",
       "      <td>1</td>\n",
       "      <td>1</td>\n",
       "      <td>0</td>\n",
       "      <td>0</td>\n",
       "      <td>0</td>\n",
       "      <td>2</td>\n",
       "    </tr>\n",
       "  </tbody>\n",
       "</table>\n",
       "</div>"
      ],
      "text/plain": [
       "   SEX  BTH_G  SBP  DBP  FBS  DIS   BMI  SBP_Y  DBP_Y  FBS_Y  BMI_Y  HEALTH1  \\\n",
       "0    1      1  116   78   94    4  16.6      0      0      0      0        0   \n",
       "1    1      1  100   60   79    4  22.3      0      0      0      0        0   \n",
       "2    1      1  100   60   87    4  21.9      0      0      0      0        0   \n",
       "3    1      1  111   70   72    4  20.2      0      0      0      0        0   \n",
       "4    1      1  120   80   98    4  20.0      1      1      0      0        0   \n",
       "\n",
       "   HEALTH2  \n",
       "0        0  \n",
       "1        0  \n",
       "2        0  \n",
       "3        0  \n",
       "4        2  "
      ]
     },
     "execution_count": 16,
     "metadata": {},
     "output_type": "execute_result"
    }
   ],
   "source": [
    "data.head()"
   ]
  },
  {
   "cell_type": "markdown",
   "metadata": {
    "colab_type": "text",
    "id": "9koYwaQZ6eHG"
   },
   "source": [
    "## 데이터 탐색"
   ]
  },
  {
   "cell_type": "code",
   "execution_count": 17,
   "metadata": {
    "colab": {
     "base_uri": "https://localhost:8080/",
     "height": 71
    },
    "colab_type": "code",
    "id": "wAZfhoyw6eHH",
    "outputId": "f0bd49f9-fc7d-4cfd-a156-dec8e5e6bbf1"
   },
   "outputs": [
    {
     "data": {
      "text/plain": [
       "0    929046\n",
       "1     70954\n",
       "Name: HEALTH1, dtype: int64"
      ]
     },
     "execution_count": 17,
     "metadata": {},
     "output_type": "execute_result"
    }
   ],
   "source": [
    "# 건강 체크\n",
    "# 0: 정상\n",
    "# 1: 당뇨\n",
    "# 2: 고혈압,\n",
    "# 3: 당뇨 + 고혈압\n",
    "# 4: 당뇨 + 고혈압 + 과체중\n",
    "\n",
    "data['HEALTH1'].value_counts()   #불균형 심함"
   ]
  },
  {
   "cell_type": "code",
   "execution_count": 18,
   "metadata": {
    "colab": {
     "base_uri": "https://localhost:8080/",
     "height": 125
    },
    "colab_type": "code",
    "id": "_y0W63li5efC",
    "outputId": "c360582c-e1da-411e-ca48-f9a8fbf363b7"
   },
   "outputs": [
    {
     "data": {
      "text/plain": [
       "0    583320\n",
       "2    345726\n",
       "1     34306\n",
       "3     24855\n",
       "4     11793\n",
       "Name: HEALTH2, dtype: int64"
      ]
     },
     "execution_count": 18,
     "metadata": {},
     "output_type": "execute_result"
    }
   ],
   "source": [
    "data['HEALTH2'].value_counts()   #불균형 심함"
   ]
  },
  {
   "cell_type": "markdown",
   "metadata": {
    "colab_type": "text",
    "id": "CDxHXlrc6eHS"
   },
   "source": [
    "# 로지스틱 회귀"
   ]
  },
  {
   "cell_type": "code",
   "execution_count": 19,
   "metadata": {
    "colab": {
     "base_uri": "https://localhost:8080/",
     "height": 204
    },
    "colab_type": "code",
    "id": "dq2t0o2a6sGM",
    "outputId": "3aa0b2b1-fac0-41c3-990d-3164b6cf7a69"
   },
   "outputs": [
    {
     "data": {
      "text/html": [
       "<div>\n",
       "<style scoped>\n",
       "    .dataframe tbody tr th:only-of-type {\n",
       "        vertical-align: middle;\n",
       "    }\n",
       "\n",
       "    .dataframe tbody tr th {\n",
       "        vertical-align: top;\n",
       "    }\n",
       "\n",
       "    .dataframe thead th {\n",
       "        text-align: right;\n",
       "    }\n",
       "</style>\n",
       "<table border=\"1\" class=\"dataframe\">\n",
       "  <thead>\n",
       "    <tr style=\"text-align: right;\">\n",
       "      <th></th>\n",
       "      <th>SEX</th>\n",
       "      <th>BTH_G</th>\n",
       "      <th>SBP</th>\n",
       "      <th>DBP</th>\n",
       "      <th>FBS</th>\n",
       "      <th>DIS</th>\n",
       "      <th>BMI</th>\n",
       "      <th>SBP_Y</th>\n",
       "      <th>DBP_Y</th>\n",
       "      <th>FBS_Y</th>\n",
       "      <th>BMI_Y</th>\n",
       "      <th>HEALTH1</th>\n",
       "      <th>HEALTH2</th>\n",
       "    </tr>\n",
       "  </thead>\n",
       "  <tbody>\n",
       "    <tr>\n",
       "      <th>0</th>\n",
       "      <td>1</td>\n",
       "      <td>1</td>\n",
       "      <td>116</td>\n",
       "      <td>78</td>\n",
       "      <td>94</td>\n",
       "      <td>4</td>\n",
       "      <td>16.6</td>\n",
       "      <td>0</td>\n",
       "      <td>0</td>\n",
       "      <td>0</td>\n",
       "      <td>0</td>\n",
       "      <td>0</td>\n",
       "      <td>0</td>\n",
       "    </tr>\n",
       "    <tr>\n",
       "      <th>1</th>\n",
       "      <td>1</td>\n",
       "      <td>1</td>\n",
       "      <td>100</td>\n",
       "      <td>60</td>\n",
       "      <td>79</td>\n",
       "      <td>4</td>\n",
       "      <td>22.3</td>\n",
       "      <td>0</td>\n",
       "      <td>0</td>\n",
       "      <td>0</td>\n",
       "      <td>0</td>\n",
       "      <td>0</td>\n",
       "      <td>0</td>\n",
       "    </tr>\n",
       "    <tr>\n",
       "      <th>2</th>\n",
       "      <td>1</td>\n",
       "      <td>1</td>\n",
       "      <td>100</td>\n",
       "      <td>60</td>\n",
       "      <td>87</td>\n",
       "      <td>4</td>\n",
       "      <td>21.9</td>\n",
       "      <td>0</td>\n",
       "      <td>0</td>\n",
       "      <td>0</td>\n",
       "      <td>0</td>\n",
       "      <td>0</td>\n",
       "      <td>0</td>\n",
       "    </tr>\n",
       "    <tr>\n",
       "      <th>3</th>\n",
       "      <td>1</td>\n",
       "      <td>1</td>\n",
       "      <td>111</td>\n",
       "      <td>70</td>\n",
       "      <td>72</td>\n",
       "      <td>4</td>\n",
       "      <td>20.2</td>\n",
       "      <td>0</td>\n",
       "      <td>0</td>\n",
       "      <td>0</td>\n",
       "      <td>0</td>\n",
       "      <td>0</td>\n",
       "      <td>0</td>\n",
       "    </tr>\n",
       "    <tr>\n",
       "      <th>4</th>\n",
       "      <td>1</td>\n",
       "      <td>1</td>\n",
       "      <td>120</td>\n",
       "      <td>80</td>\n",
       "      <td>98</td>\n",
       "      <td>4</td>\n",
       "      <td>20.0</td>\n",
       "      <td>1</td>\n",
       "      <td>1</td>\n",
       "      <td>0</td>\n",
       "      <td>0</td>\n",
       "      <td>0</td>\n",
       "      <td>2</td>\n",
       "    </tr>\n",
       "  </tbody>\n",
       "</table>\n",
       "</div>"
      ],
      "text/plain": [
       "   SEX  BTH_G  SBP  DBP  FBS  DIS   BMI  SBP_Y  DBP_Y  FBS_Y  BMI_Y  HEALTH1  \\\n",
       "0    1      1  116   78   94    4  16.6      0      0      0      0        0   \n",
       "1    1      1  100   60   79    4  22.3      0      0      0      0        0   \n",
       "2    1      1  100   60   87    4  21.9      0      0      0      0        0   \n",
       "3    1      1  111   70   72    4  20.2      0      0      0      0        0   \n",
       "4    1      1  120   80   98    4  20.0      1      1      0      0        0   \n",
       "\n",
       "   HEALTH2  \n",
       "0        0  \n",
       "1        0  \n",
       "2        0  \n",
       "3        0  \n",
       "4        2  "
      ]
     },
     "execution_count": 19,
     "metadata": {},
     "output_type": "execute_result"
    }
   ],
   "source": [
    "data.head()"
   ]
  },
  {
   "cell_type": "code",
   "execution_count": 20,
   "metadata": {
    "colab": {},
    "colab_type": "code",
    "id": "meOoFcXl6eHT"
   },
   "outputs": [],
   "source": [
    "from sklearn.linear_model import LogisticRegression\n",
    "from sklearn.model_selection import train_test_split\n",
    "\n",
    "Y = data['HEALTH1']\n",
    "X = data[['SEX', 'BTH_G', 'SBP_Y', 'DBP_Y', 'BMI_Y']]\n",
    "\n",
    "#X = data_sample.iloc[:,0:10]\n",
    "X_train, X_test, Y_train, Y_test = train_test_split(X,Y, test_size = 0.3)"
   ]
  },
  {
   "cell_type": "code",
   "execution_count": 21,
   "metadata": {
    "colab": {
     "base_uri": "https://localhost:8080/",
     "height": 204
    },
    "colab_type": "code",
    "id": "-WeRNmikNjUP",
    "outputId": "39d42c23-87a0-41cd-cde5-e4ee98248293"
   },
   "outputs": [
    {
     "data": {
      "text/html": [
       "<div>\n",
       "<style scoped>\n",
       "    .dataframe tbody tr th:only-of-type {\n",
       "        vertical-align: middle;\n",
       "    }\n",
       "\n",
       "    .dataframe tbody tr th {\n",
       "        vertical-align: top;\n",
       "    }\n",
       "\n",
       "    .dataframe thead th {\n",
       "        text-align: right;\n",
       "    }\n",
       "</style>\n",
       "<table border=\"1\" class=\"dataframe\">\n",
       "  <thead>\n",
       "    <tr style=\"text-align: right;\">\n",
       "      <th></th>\n",
       "      <th>SEX</th>\n",
       "      <th>BTH_G</th>\n",
       "      <th>SBP_Y</th>\n",
       "      <th>DBP_Y</th>\n",
       "      <th>BMI_Y</th>\n",
       "    </tr>\n",
       "  </thead>\n",
       "  <tbody>\n",
       "    <tr>\n",
       "      <th>0</th>\n",
       "      <td>1</td>\n",
       "      <td>1</td>\n",
       "      <td>0</td>\n",
       "      <td>0</td>\n",
       "      <td>0</td>\n",
       "    </tr>\n",
       "    <tr>\n",
       "      <th>1</th>\n",
       "      <td>1</td>\n",
       "      <td>1</td>\n",
       "      <td>0</td>\n",
       "      <td>0</td>\n",
       "      <td>0</td>\n",
       "    </tr>\n",
       "    <tr>\n",
       "      <th>2</th>\n",
       "      <td>1</td>\n",
       "      <td>1</td>\n",
       "      <td>0</td>\n",
       "      <td>0</td>\n",
       "      <td>0</td>\n",
       "    </tr>\n",
       "    <tr>\n",
       "      <th>3</th>\n",
       "      <td>1</td>\n",
       "      <td>1</td>\n",
       "      <td>0</td>\n",
       "      <td>0</td>\n",
       "      <td>0</td>\n",
       "    </tr>\n",
       "    <tr>\n",
       "      <th>4</th>\n",
       "      <td>1</td>\n",
       "      <td>1</td>\n",
       "      <td>1</td>\n",
       "      <td>1</td>\n",
       "      <td>0</td>\n",
       "    </tr>\n",
       "  </tbody>\n",
       "</table>\n",
       "</div>"
      ],
      "text/plain": [
       "   SEX  BTH_G  SBP_Y  DBP_Y  BMI_Y\n",
       "0    1      1      0      0      0\n",
       "1    1      1      0      0      0\n",
       "2    1      1      0      0      0\n",
       "3    1      1      0      0      0\n",
       "4    1      1      1      1      0"
      ]
     },
     "execution_count": 21,
     "metadata": {},
     "output_type": "execute_result"
    }
   ],
   "source": [
    "X.head()"
   ]
  },
  {
   "cell_type": "code",
   "execution_count": 22,
   "metadata": {
    "colab": {
     "base_uri": "https://localhost:8080/",
     "height": 71
    },
    "colab_type": "code",
    "id": "wLsQLLYz6eHV",
    "outputId": "57d43737-2fec-4c7c-e858-efac01c58320"
   },
   "outputs": [
    {
     "data": {
      "text/plain": [
       "0.9290566666666666"
      ]
     },
     "execution_count": 22,
     "metadata": {},
     "output_type": "execute_result"
    }
   ],
   "source": [
    "log_clf = LogisticRegression()\n",
    "\n",
    "log_clf.fit(X_train, Y_train)\n",
    "log_clf.score(X_test, Y_test) "
   ]
  },
  {
   "cell_type": "markdown",
   "metadata": {
    "colab_type": "text",
    "id": "gmrhQqvK6eHY"
   },
   "source": [
    "# 덴드로그램"
   ]
  },
  {
   "cell_type": "code",
   "execution_count": 23,
   "metadata": {
    "colab": {},
    "colab_type": "code",
    "id": "kHg9UVQA6eHZ"
   },
   "outputs": [],
   "source": [
    "import scipy.stats as stats\n",
    "import pandas as pd\n",
    "import urllib\n",
    "from statsmodels.formula.api import ols\n",
    "from statsmodels.stats.anova import anova_lm\n",
    "import matplotlib.pyplot as plt\n",
    "import numpy as np\n",
    "%matplotlib inline"
   ]
  },
  {
   "cell_type": "code",
   "execution_count": 24,
   "metadata": {
    "colab": {},
    "colab_type": "code",
    "id": "667eXeGwnGWM"
   },
   "outputs": [],
   "source": [
    "data_sample = data.sample(n=100, random_state = 1234)"
   ]
  },
  {
   "cell_type": "code",
   "execution_count": 25,
   "metadata": {
    "colab": {},
    "colab_type": "code",
    "id": "eCZNxRO16eHb"
   },
   "outputs": [],
   "source": [
    "columns = ['SEX','BTH_G','DIS','SBP_Y','DBP_Y','FBS_Y', 'BMI_Y', 'HEALTH1']\n",
    "\n",
    "data_cluster= data_sample[columns]\n",
    "x_columns = ['SEX','BTH_G','DIS','SBP_Y','DBP_Y','FBS_Y', 'BMI_Y']\n",
    "  # 유의한 변수들만 선별(SBP 제외)\n",
    "y_columns = 'HEALTH1'"
   ]
  },
  {
   "cell_type": "code",
   "execution_count": 26,
   "metadata": {
    "colab": {
     "base_uri": "https://localhost:8080/",
     "height": 204
    },
    "colab_type": "code",
    "id": "AjGfM2G26eHd",
    "outputId": "43224097-aeb9-4ee9-9d23-19c516941b21"
   },
   "outputs": [
    {
     "data": {
      "text/html": [
       "<div>\n",
       "<style scoped>\n",
       "    .dataframe tbody tr th:only-of-type {\n",
       "        vertical-align: middle;\n",
       "    }\n",
       "\n",
       "    .dataframe tbody tr th {\n",
       "        vertical-align: top;\n",
       "    }\n",
       "\n",
       "    .dataframe thead th {\n",
       "        text-align: right;\n",
       "    }\n",
       "</style>\n",
       "<table border=\"1\" class=\"dataframe\">\n",
       "  <thead>\n",
       "    <tr style=\"text-align: right;\">\n",
       "      <th></th>\n",
       "      <th>SEX</th>\n",
       "      <th>BTH_G</th>\n",
       "      <th>DIS</th>\n",
       "      <th>SBP_Y</th>\n",
       "      <th>DBP_Y</th>\n",
       "      <th>FBS_Y</th>\n",
       "      <th>BMI_Y</th>\n",
       "      <th>HEALTH1</th>\n",
       "    </tr>\n",
       "  </thead>\n",
       "  <tbody>\n",
       "    <tr>\n",
       "      <th>433572</th>\n",
       "      <td>1</td>\n",
       "      <td>21</td>\n",
       "      <td>4</td>\n",
       "      <td>1</td>\n",
       "      <td>0</td>\n",
       "      <td>0</td>\n",
       "      <td>0</td>\n",
       "      <td>0</td>\n",
       "    </tr>\n",
       "    <tr>\n",
       "      <th>254298</th>\n",
       "      <td>1</td>\n",
       "      <td>13</td>\n",
       "      <td>4</td>\n",
       "      <td>1</td>\n",
       "      <td>0</td>\n",
       "      <td>0</td>\n",
       "      <td>1</td>\n",
       "      <td>0</td>\n",
       "    </tr>\n",
       "    <tr>\n",
       "      <th>686334</th>\n",
       "      <td>2</td>\n",
       "      <td>12</td>\n",
       "      <td>4</td>\n",
       "      <td>0</td>\n",
       "      <td>0</td>\n",
       "      <td>0</td>\n",
       "      <td>0</td>\n",
       "      <td>0</td>\n",
       "    </tr>\n",
       "    <tr>\n",
       "      <th>866486</th>\n",
       "      <td>2</td>\n",
       "      <td>19</td>\n",
       "      <td>4</td>\n",
       "      <td>1</td>\n",
       "      <td>1</td>\n",
       "      <td>0</td>\n",
       "      <td>0</td>\n",
       "      <td>0</td>\n",
       "    </tr>\n",
       "    <tr>\n",
       "      <th>649015</th>\n",
       "      <td>2</td>\n",
       "      <td>10</td>\n",
       "      <td>4</td>\n",
       "      <td>0</td>\n",
       "      <td>0</td>\n",
       "      <td>0</td>\n",
       "      <td>0</td>\n",
       "      <td>0</td>\n",
       "    </tr>\n",
       "  </tbody>\n",
       "</table>\n",
       "</div>"
      ],
      "text/plain": [
       "        SEX  BTH_G  DIS  SBP_Y  DBP_Y  FBS_Y  BMI_Y  HEALTH1\n",
       "433572    1     21    4      1      0      0      0        0\n",
       "254298    1     13    4      1      0      0      1        0\n",
       "686334    2     12    4      0      0      0      0        0\n",
       "866486    2     19    4      1      1      0      0        0\n",
       "649015    2     10    4      0      0      0      0        0"
      ]
     },
     "execution_count": 26,
     "metadata": {},
     "output_type": "execute_result"
    }
   ],
   "source": [
    "data_cluster.head()"
   ]
  },
  {
   "cell_type": "code",
   "execution_count": 27,
   "metadata": {
    "colab": {
     "base_uri": "https://localhost:8080/",
     "height": 1000
    },
    "colab_type": "code",
    "id": "ETi_A0Xq6eHf",
    "outputId": "4dac2672-2a3f-40f4-8452-0809f576fabd"
   },
   "outputs": [
    {
     "ename": "AttributeError",
     "evalue": "'DataFrame' object has no attribute 'as_matrix'",
     "output_type": "error",
     "traceback": [
      "\u001b[0;31m---------------------------------------------------------------------------\u001b[0m",
      "\u001b[0;31mAttributeError\u001b[0m                            Traceback (most recent call last)",
      "\u001b[0;32m<ipython-input-27-d8a431454167>\u001b[0m in \u001b[0;36m<module>\u001b[0;34m\u001b[0m\n\u001b[1;32m     10\u001b[0m \u001b[0mplt\u001b[0m\u001b[0;34m.\u001b[0m\u001b[0mfigure\u001b[0m\u001b[0;34m(\u001b[0m\u001b[0mfigsize\u001b[0m\u001b[0;34m=\u001b[0m\u001b[0;34m(\u001b[0m\u001b[0;36m50\u001b[0m\u001b[0;34m,\u001b[0m\u001b[0;36m30\u001b[0m\u001b[0;34m)\u001b[0m\u001b[0;34m)\u001b[0m\u001b[0;34m\u001b[0m\u001b[0;34m\u001b[0m\u001b[0m\n\u001b[1;32m     11\u001b[0m dendrogram(mergings,\n\u001b[0;32m---> 12\u001b[0;31m            \u001b[0mlabels\u001b[0m \u001b[0;34m=\u001b[0m \u001b[0mdata_cluster\u001b[0m\u001b[0;34m.\u001b[0m\u001b[0mas_matrix\u001b[0m\u001b[0;34m(\u001b[0m\u001b[0mcolumns\u001b[0m\u001b[0;34m=\u001b[0m\u001b[0;34m[\u001b[0m\u001b[0;34m'diabetes'\u001b[0m\u001b[0;34m]\u001b[0m\u001b[0;34m)\u001b[0m\u001b[0;34m,\u001b[0m\u001b[0;34m\u001b[0m\u001b[0;34m\u001b[0m\u001b[0m\n\u001b[0m\u001b[1;32m     13\u001b[0m            \u001b[0mleaf_rotation\u001b[0m\u001b[0;34m=\u001b[0m\u001b[0;36m90\u001b[0m\u001b[0;34m,\u001b[0m\u001b[0;34m\u001b[0m\u001b[0;34m\u001b[0m\u001b[0m\n\u001b[1;32m     14\u001b[0m            \u001b[0mleaf_font_size\u001b[0m\u001b[0;34m=\u001b[0m\u001b[0;36m10\u001b[0m\u001b[0;34m,\u001b[0m\u001b[0;34m\u001b[0m\u001b[0;34m\u001b[0m\u001b[0m\n",
      "\u001b[0;32m/opt/conda/lib/python3.8/site-packages/pandas/core/generic.py\u001b[0m in \u001b[0;36m__getattr__\u001b[0;34m(self, name)\u001b[0m\n\u001b[1;32m   5128\u001b[0m             \u001b[0;32mif\u001b[0m \u001b[0mself\u001b[0m\u001b[0;34m.\u001b[0m\u001b[0m_info_axis\u001b[0m\u001b[0;34m.\u001b[0m\u001b[0m_can_hold_identifiers_and_holds_name\u001b[0m\u001b[0;34m(\u001b[0m\u001b[0mname\u001b[0m\u001b[0;34m)\u001b[0m\u001b[0;34m:\u001b[0m\u001b[0;34m\u001b[0m\u001b[0;34m\u001b[0m\u001b[0m\n\u001b[1;32m   5129\u001b[0m                 \u001b[0;32mreturn\u001b[0m \u001b[0mself\u001b[0m\u001b[0;34m[\u001b[0m\u001b[0mname\u001b[0m\u001b[0;34m]\u001b[0m\u001b[0;34m\u001b[0m\u001b[0;34m\u001b[0m\u001b[0m\n\u001b[0;32m-> 5130\u001b[0;31m             \u001b[0;32mreturn\u001b[0m \u001b[0mobject\u001b[0m\u001b[0;34m.\u001b[0m\u001b[0m__getattribute__\u001b[0m\u001b[0;34m(\u001b[0m\u001b[0mself\u001b[0m\u001b[0;34m,\u001b[0m \u001b[0mname\u001b[0m\u001b[0;34m)\u001b[0m\u001b[0;34m\u001b[0m\u001b[0;34m\u001b[0m\u001b[0m\n\u001b[0m\u001b[1;32m   5131\u001b[0m \u001b[0;34m\u001b[0m\u001b[0m\n\u001b[1;32m   5132\u001b[0m     \u001b[0;32mdef\u001b[0m \u001b[0m__setattr__\u001b[0m\u001b[0;34m(\u001b[0m\u001b[0mself\u001b[0m\u001b[0;34m,\u001b[0m \u001b[0mname\u001b[0m\u001b[0;34m:\u001b[0m \u001b[0mstr\u001b[0m\u001b[0;34m,\u001b[0m \u001b[0mvalue\u001b[0m\u001b[0;34m)\u001b[0m \u001b[0;34m->\u001b[0m \u001b[0;32mNone\u001b[0m\u001b[0;34m:\u001b[0m\u001b[0;34m\u001b[0m\u001b[0;34m\u001b[0m\u001b[0m\n",
      "\u001b[0;31mAttributeError\u001b[0m: 'DataFrame' object has no attribute 'as_matrix'"
     ]
    },
    {
     "data": {
      "text/plain": [
       "<Figure size 3600x2160 with 0 Axes>"
      ]
     },
     "metadata": {},
     "output_type": "display_data"
    }
   ],
   "source": [
    "# dendrogram \n",
    "\n",
    "from scipy.cluster.hierarchy import linkage, dendrogram\n",
    "import matplotlib.pyplot as plt\n",
    "\n",
    "# Calculate the linkage: mergings\n",
    "mergings = linkage(data_cluster,method='complete')\n",
    "\n",
    "# Plot the dendrogram, using varieties as labels\n",
    "plt.figure(figsize=(50,30))\n",
    "dendrogram(mergings,\n",
    "           labels = data_cluster.as_matrix(columns=['diabetes']),\n",
    "           leaf_rotation=90,\n",
    "           leaf_font_size=10,\n",
    ")\n",
    "plt.show()\n"
   ]
  },
  {
   "cell_type": "markdown",
   "metadata": {
    "colab_type": "text",
    "id": "8NqOHjhy6eHk"
   },
   "source": [
    "# 군집분석(Kmeans) - 전체 데이터"
   ]
  },
  {
   "cell_type": "code",
   "execution_count": null,
   "metadata": {
    "colab": {},
    "colab_type": "code",
    "id": "RW5VTahsfruO"
   },
   "outputs": [],
   "source": [
    "# age blood_pressure bmi fbs diastolic(이완기) dis 를 이용한 군집분석\n",
    "from sklearn.cluster import KMeans\n",
    "import matplotlib.pyplot as plt\n",
    "import seaborn as sns\n",
    "from sklearn import preprocessing"
   ]
  },
  {
   "cell_type": "code",
   "execution_count": null,
   "metadata": {
    "colab": {
     "base_uri": "https://localhost:8080/",
     "height": 35
    },
    "colab_type": "code",
    "id": "pbzUKlUB6eHl",
    "outputId": "fd94d788-0e69-4166-d3a2-a20bc6c679e6"
   },
   "outputs": [],
   "source": [
    "data_cluster.columns"
   ]
  },
  {
   "cell_type": "code",
   "execution_count": null,
   "metadata": {
    "colab": {},
    "colab_type": "code",
    "id": "S0scI2b56eHp"
   },
   "outputs": [],
   "source": [
    "#feature = data_sample[['SEX', 'BTH_G', 'SBP', 'DBP', 'FBS', 'DIS', 'BMI', 'SBP_A', 'DBP_A','FBS_A', 'BMI_A', 'HEALTH']]\n",
    "#feature = data[['SEX', 'BTH_G', 'DIS', 'SBP_Y', 'DBP_Y', 'FBS_Y', 'BMI_Y','FBS_Y']]\n",
    "feature = data[['SEX', 'BTH_G', 'DIS', 'SBP_Y', 'DBP_Y', 'FBS_Y', 'BMI_Y','FBS_Y','SBP', 'DBP', 'FBS','BMI']]"
   ]
  },
  {
   "cell_type": "code",
   "execution_count": null,
   "metadata": {
    "colab": {},
    "colab_type": "code",
    "id": "UMJq-9BaK7nE"
   },
   "outputs": [],
   "source": [
    "#label = data_sample[['diabetes']]\n",
    "label = data[['HEALTH1']]"
   ]
  },
  {
   "cell_type": "code",
   "execution_count": null,
   "metadata": {
    "colab": {
     "base_uri": "https://localhost:8080/",
     "height": 204
    },
    "colab_type": "code",
    "id": "A-wmvwaJ6eHt",
    "outputId": "cd98f2f0-ba15-4651-bace-f102866721d9"
   },
   "outputs": [],
   "source": [
    "feature.head()"
   ]
  },
  {
   "cell_type": "code",
   "execution_count": null,
   "metadata": {
    "colab": {
     "base_uri": "https://localhost:8080/",
     "height": 35
    },
    "colab_type": "code",
    "id": "luUYpbjS6eHv",
    "outputId": "f3c9de22-3b8b-464c-a796-431ab68d0796"
   },
   "outputs": [],
   "source": [
    "len(feature)"
   ]
  },
  {
   "cell_type": "code",
   "execution_count": null,
   "metadata": {
    "colab": {},
    "colab_type": "code",
    "id": "7uUSiYR-6eHx"
   },
   "outputs": [],
   "source": [
    "model = KMeans(n_clusters=5,algorithm='auto')\n",
    "\n",
    "model.fit(feature)  # 모델 학습\n",
    "predict = pd.DataFrame(model.predict(feature))  # 모델 예측\n",
    "predict.columns=['cluster_label']"
   ]
  },
  {
   "cell_type": "code",
   "execution_count": null,
   "metadata": {
    "colab": {},
    "colab_type": "code",
    "id": "MetWoAYg6eH0"
   },
   "outputs": [],
   "source": [
    "feature.reset_index(drop=True, inplace=True)\n",
    "predict.reset_index(drop=True, inplace=True)\n",
    "\n",
    "new_data = pd.concat([feature, predict], axis = 1)"
   ]
  },
  {
   "cell_type": "code",
   "execution_count": null,
   "metadata": {
    "colab": {
     "base_uri": "https://localhost:8080/",
     "height": 204
    },
    "colab_type": "code",
    "id": "IdMJuHZRK7nM",
    "outputId": "b7bd0bd8-dd46-4920-a2f3-b6ceac98bd74"
   },
   "outputs": [],
   "source": [
    "label.reset_index(drop = True, inplace = True)\n",
    "\n",
    "new_data =  pd.concat([new_data, label], axis = 1)\n",
    "new_data.head()"
   ]
  },
  {
   "cell_type": "code",
   "execution_count": null,
   "metadata": {
    "colab": {
     "base_uri": "https://localhost:8080/",
     "height": 125
    },
    "colab_type": "code",
    "id": "cjPuRhPq6eH2",
    "outputId": "df46782d-da6e-4ec5-b5c6-4f61e6284a41"
   },
   "outputs": [],
   "source": [
    "new_data['cluster_label'].value_counts()"
   ]
  },
  {
   "cell_type": "code",
   "execution_count": null,
   "metadata": {
    "colab": {
     "base_uri": "https://localhost:8080/",
     "height": 265
    },
    "colab_type": "code",
    "id": "_VD9PdM76eH4",
    "outputId": "df741629-8593-4bd2-f326-e2100d5ca5ab"
   },
   "outputs": [],
   "source": [
    "#plot 시각화\n",
    "\n",
    "centers = model.cluster_centers_\n",
    "plt.scatter(centers[:, 0], centers[:, 1], c='black', s=200, alpha=0.5);"
   ]
  },
  {
   "cell_type": "code",
   "execution_count": null,
   "metadata": {
    "colab": {},
    "colab_type": "code",
    "id": "FtOJor1i6eH6"
   },
   "outputs": [],
   "source": [
    "## 군집 별 특성 찾기 \n",
    "\n",
    "cluster1 = new_data[new_data['cluster_label']==0] \n",
    "cluster2 = new_data[new_data['cluster_label']==1] \n",
    "cluster3 = new_data[new_data['cluster_label']==2] \n",
    "cluster4 = new_data[new_data['cluster_label']==3]  \n",
    "cluster5 = new_data[new_data['cluster_label']==4]"
   ]
  },
  {
   "cell_type": "markdown",
   "metadata": {
    "colab_type": "text",
    "id": "3oaJOkXT6eH8"
   },
   "source": [
    "### 클러스터별 통계량 추출"
   ]
  },
  {
   "cell_type": "code",
   "execution_count": null,
   "metadata": {
    "colab": {},
    "colab_type": "code",
    "id": "3HurZlx96eH9"
   },
   "outputs": [],
   "source": [
    "def makestat(df):\n",
    "    print(df.describe())\n",
    "    print(\"***********************************************************************************\")\n",
    "    print(df.groupby('DIS').count())  # 성별 수 \n",
    "    print(\"***********************************************************************************\")\n",
    "    print(df['HEALTH1'].value_counts()/df.count()[0]*100)    # HEALTH 구성 비율\n",
    "    print(\"***********************************************************************************\")\n",
    "    print(df.groupby('SEX').count().loc[1,:][0]/df.count()[0]*100)  # 당뇨환자 비율 (에러발생 -> 당뇨환자 0인것)\n"
   ]
  },
  {
   "cell_type": "code",
   "execution_count": null,
   "metadata": {
    "colab": {
     "base_uri": "https://localhost:8080/",
     "height": 485
    },
    "colab_type": "code",
    "id": "4H3doi4R6eH_",
    "outputId": "8441d415-0519-478c-cce4-8edff8922fb1"
   },
   "outputs": [],
   "source": [
    "makestat(cluster1)"
   ]
  },
  {
   "cell_type": "code",
   "execution_count": null,
   "metadata": {
    "colab": {
     "base_uri": "https://localhost:8080/",
     "height": 485
    },
    "colab_type": "code",
    "id": "eFN5qMsbqRc8",
    "outputId": "5a4eee23-fc02-4ad0-c1a7-48c88719189b"
   },
   "outputs": [],
   "source": [
    "makestat(cluster2)"
   ]
  },
  {
   "cell_type": "code",
   "execution_count": null,
   "metadata": {
    "colab": {
     "base_uri": "https://localhost:8080/",
     "height": 467
    },
    "colab_type": "code",
    "id": "4Xwwy_QZ6eIC",
    "outputId": "395e50a3-025c-4248-d931-a353dfc03549"
   },
   "outputs": [],
   "source": [
    "makestat(cluster3)"
   ]
  },
  {
   "cell_type": "code",
   "execution_count": null,
   "metadata": {
    "colab": {
     "base_uri": "https://localhost:8080/",
     "height": 485
    },
    "colab_type": "code",
    "id": "PxRB1Q7W6eIJ",
    "outputId": "7c620121-12c3-4eee-ae55-730a95a89f93"
   },
   "outputs": [],
   "source": [
    "makestat(cluster4)"
   ]
  },
  {
   "cell_type": "code",
   "execution_count": null,
   "metadata": {
    "colab": {
     "base_uri": "https://localhost:8080/",
     "height": 467
    },
    "colab_type": "code",
    "id": "AetN1dBL6eIL",
    "outputId": "9a69b482-7240-454e-f25c-6b7d1dfde55c"
   },
   "outputs": [],
   "source": [
    "makestat(cluster5)"
   ]
  },
  {
   "cell_type": "markdown",
   "metadata": {
    "colab_type": "text",
    "id": "nk_xcaUNYB73"
   },
   "source": [
    "# 분산분석(ANOVA)"
   ]
  },
  {
   "cell_type": "code",
   "execution_count": null,
   "metadata": {
    "colab": {},
    "colab_type": "code",
    "id": "8rei-UhAg8Ek"
   },
   "outputs": [],
   "source": [
    "import pandas as pd\n",
    "import urllib\n",
    "from statsmodels.formula.api import ols\n",
    "from statsmodels.stats.anova import anova_lm\n",
    "import matplotlib.pyplot as plt\n",
    "import numpy as np\n",
    "%matplotlib inline"
   ]
  },
  {
   "cell_type": "code",
   "execution_count": null,
   "metadata": {
    "colab": {
     "base_uri": "https://localhost:8080/",
     "height": 204
    },
    "colab_type": "code",
    "id": "eGG1J1FRg8Vh",
    "outputId": "29cf715b-a09e-40b6-ea00-1675f608aa51"
   },
   "outputs": [],
   "source": [
    "cluster1.head()"
   ]
  },
  {
   "cell_type": "code",
   "execution_count": null,
   "metadata": {
    "colab": {},
    "colab_type": "code",
    "id": "ac5O51mNZCcX"
   },
   "outputs": [],
   "source": [
    "group1 = cluster1[['SBP', 'DBP',\t'FBS',\t'BMI']]\n",
    "group2 = cluster2[['SBP', 'DBP',\t'FBS',\t'BMI']]\n",
    "group3 = cluster3[['SBP', 'DBP',\t'FBS',\t'BMI']]\n",
    "group4 = cluster4[['SBP', 'DBP',\t'FBS',\t'BMI']]\n",
    "group5 = cluster5[['SBP', 'DBP',\t'FBS',\t'BMI']]"
   ]
  },
  {
   "cell_type": "code",
   "execution_count": null,
   "metadata": {
    "colab": {},
    "colab_type": "code",
    "id": "Cg4Y7AwVaz01"
   },
   "outputs": [],
   "source": [
    "group1 = group1.values.tolist()\n",
    "group2 = group2.values.tolist()\n",
    "group3 = group3.values.tolist()\n",
    "group4 = group4.values.tolist()\n",
    "group5 = group5.values.tolist()"
   ]
  },
  {
   "cell_type": "code",
   "execution_count": null,
   "metadata": {
    "colab": {},
    "colab_type": "code",
    "id": "HiYGmViQYxsR"
   },
   "outputs": [],
   "source": [
    "plot_data = [group1, group2, group3, group4, group5]"
   ]
  },
  {
   "cell_type": "code",
   "execution_count": null,
   "metadata": {
    "colab": {
     "base_uri": "https://localhost:8080/",
     "height": 265
    },
    "colab_type": "code",
    "id": "I0fuLyKbY6BK",
    "outputId": "4fbd5174-07e1-45eb-ab87-94d73eda1621"
   },
   "outputs": [],
   "source": [
    "ax = plt.boxplot(plot_data)\n",
    "plt.show()"
   ]
  },
  {
   "cell_type": "markdown",
   "metadata": {
    "colab_type": "text",
    "id": "yp4yetHd6eIN"
   },
   "source": [
    "# Kmeans - 당뇨환자(diabetes==1) 군집분석"
   ]
  },
  {
   "cell_type": "code",
   "execution_count": null,
   "metadata": {
    "colab": {
     "base_uri": "https://localhost:8080/",
     "height": 204
    },
    "colab_type": "code",
    "id": "NHDiFylYfxd0",
    "outputId": "57cbf101-9d7f-428d-a9f3-81b517cc8402"
   },
   "outputs": [],
   "source": [
    "data.head()"
   ]
  },
  {
   "cell_type": "code",
   "execution_count": null,
   "metadata": {
    "colab": {},
    "colab_type": "code",
    "id": "kJ7eEHKqfxv4"
   },
   "outputs": [],
   "source": [
    "data_diabetes = data[data['HEALTH1'] == 1]"
   ]
  },
  {
   "cell_type": "code",
   "execution_count": null,
   "metadata": {
    "colab": {
     "base_uri": "https://localhost:8080/",
     "height": 204
    },
    "colab_type": "code",
    "id": "AkT2ItXDfyFI",
    "outputId": "e020555d-4610-429e-c6a2-05474ce07178"
   },
   "outputs": [],
   "source": [
    "data_diabetes.head()"
   ]
  },
  {
   "cell_type": "code",
   "execution_count": null,
   "metadata": {
    "colab": {},
    "colab_type": "code",
    "id": "LPWD3i9k-8Gn"
   },
   "outputs": [],
   "source": [
    "data_sample = data_diabetes.sample(n=100, random_state = 1234)"
   ]
  },
  {
   "cell_type": "code",
   "execution_count": null,
   "metadata": {
    "colab": {
     "base_uri": "https://localhost:8080/",
     "height": 204
    },
    "colab_type": "code",
    "id": "lTf07c1i_RSU",
    "outputId": "cce70677-ccf1-4d6f-8495-64246ec11c66"
   },
   "outputs": [],
   "source": [
    "data_sample.head()"
   ]
  },
  {
   "cell_type": "code",
   "execution_count": null,
   "metadata": {
    "colab": {},
    "colab_type": "code",
    "id": "8CQtyZ5w_LfO"
   },
   "outputs": [],
   "source": [
    "columns = ['SEX','BTH_G','DIS','SBP_Y','DBP_Y','FBS_Y', 'BMI_Y','HEALTH2']\n",
    "\n",
    "data_cluster= data_sample[columns]\n",
    "x_columns = ['SEX','BTH_G','DIS','SBP_Y','DBP_Y','FBS_Y', 'BMI_Y',]\n",
    "  # 유의한 변수들만 선별(SBP 제외)\n",
    "y_columns = 'HEALTH2'"
   ]
  },
  {
   "cell_type": "code",
   "execution_count": null,
   "metadata": {
    "colab": {
     "base_uri": "https://localhost:8080/",
     "height": 1000
    },
    "colab_type": "code",
    "id": "6KpP4Mql_isC",
    "outputId": "4c4ae1f4-ec3f-41c8-b401-93b27166f879"
   },
   "outputs": [],
   "source": [
    "# dendrogram \n",
    "\n",
    "from scipy.cluster.hierarchy import linkage, dendrogram\n",
    "import matplotlib.pyplot as plt\n",
    "\n",
    "# Calculate the linkage: mergings\n",
    "mergings = linkage(data_cluster,method='complete')\n",
    "\n",
    "# Plot the dendrogram, using varieties as labels\n",
    "plt.figure(figsize=(50,30))\n",
    "dendrogram(mergings,\n",
    "           labels = data_cluster.as_matrix(columns=['diabetes']),\n",
    "           leaf_rotation=90,\n",
    "           leaf_font_size=10,\n",
    ")\n",
    "plt.show()"
   ]
  },
  {
   "cell_type": "code",
   "execution_count": null,
   "metadata": {
    "colab": {
     "base_uri": "https://localhost:8080/",
     "height": 204
    },
    "colab_type": "code",
    "id": "un8K4Sh3AU2n",
    "outputId": "86f16d90-2e25-474f-a2a8-baa4b0e7907a"
   },
   "outputs": [],
   "source": [
    "data_diabetes.head()"
   ]
  },
  {
   "cell_type": "code",
   "execution_count": null,
   "metadata": {
    "colab": {},
    "colab_type": "code",
    "id": "CwEZJSRBCCCQ"
   },
   "outputs": [],
   "source": [
    "feature = data[['SEX', 'BTH_G', 'DIS', 'SBP_Y', 'DBP_Y', 'FBS_Y', 'BMI_Y', 'FBS_Y','SBP', 'DBP', 'FBS','BMI']]"
   ]
  },
  {
   "cell_type": "code",
   "execution_count": null,
   "metadata": {
    "colab": {},
    "colab_type": "code",
    "id": "PVAdinJJCC_y"
   },
   "outputs": [],
   "source": [
    "label = data[['HEALTH2']]"
   ]
  },
  {
   "cell_type": "code",
   "execution_count": null,
   "metadata": {
    "colab": {},
    "colab_type": "code",
    "id": "YNNSz81fBtwz"
   },
   "outputs": [],
   "source": [
    "model = KMeans(n_clusters=4,algorithm='auto')\n",
    "\n",
    "model.fit(feature)  # 모델 학습\n",
    "predict = pd.DataFrame(model.predict(feature))  # 모델 예측\n",
    "predict.columns=['cluster_label']"
   ]
  },
  {
   "cell_type": "code",
   "execution_count": null,
   "metadata": {
    "colab": {},
    "colab_type": "code",
    "id": "VU8ShPXZCZw_"
   },
   "outputs": [],
   "source": [
    "feature.reset_index(drop=True, inplace=True)\n",
    "predict.reset_index(drop=True, inplace=True)\n",
    "\n",
    "new_data = pd.concat([feature, predict], axis = 1)"
   ]
  },
  {
   "cell_type": "code",
   "execution_count": null,
   "metadata": {
    "colab": {
     "base_uri": "https://localhost:8080/",
     "height": 204
    },
    "colab_type": "code",
    "id": "dpe8tJ6RBuIm",
    "outputId": "f0793aaf-a0d1-48e6-c10b-2ae62d59dd57"
   },
   "outputs": [],
   "source": [
    "label.reset_index(drop = True, inplace = True)\n",
    "\n",
    "new_data =  pd.concat([new_data, label], axis = 1)\n",
    "new_data.head()"
   ]
  },
  {
   "cell_type": "code",
   "execution_count": null,
   "metadata": {
    "colab": {
     "base_uri": "https://localhost:8080/",
     "height": 107
    },
    "colab_type": "code",
    "id": "2GQiYoukCwqW",
    "outputId": "8c95160a-3171-40db-b21d-7e871f3a01d8"
   },
   "outputs": [],
   "source": [
    "new_data['cluster_label'].value_counts()"
   ]
  },
  {
   "cell_type": "code",
   "execution_count": null,
   "metadata": {
    "colab": {
     "base_uri": "https://localhost:8080/",
     "height": 265
    },
    "colab_type": "code",
    "id": "i3ffwAtPC4Su",
    "outputId": "71f7b7b7-617f-45fd-9b03-4f720d89b2a1"
   },
   "outputs": [],
   "source": [
    "#plot 시각화\n",
    "\n",
    "centers = model.cluster_centers_\n",
    "plt.scatter(centers[:, 0], centers[:, 1], c='black', s=200, alpha=0.5);"
   ]
  },
  {
   "cell_type": "code",
   "execution_count": null,
   "metadata": {
    "colab": {},
    "colab_type": "code",
    "id": "pb92roG7C4kP"
   },
   "outputs": [],
   "source": [
    "## 군집 별 특성 찾기 \n",
    "\n",
    "diabetes_cluster1 = new_data[new_data['cluster_label']==0] \n",
    "diabetes_cluster2 = new_data[new_data['cluster_label']==1] \n",
    "diabetes_cluster3 = new_data[new_data['cluster_label']==2] \n",
    "diabetes_cluster4 = new_data[new_data['cluster_label']==3]  "
   ]
  },
  {
   "cell_type": "code",
   "execution_count": null,
   "metadata": {
    "colab": {},
    "colab_type": "code",
    "id": "c-mbcOkBC427"
   },
   "outputs": [],
   "source": [
    "def makestat(df):\n",
    "    print(df.describe())\n",
    "    print(\"***********************************************************************************\")\n",
    "    print(df.groupby('DIS').count())  # 성별 수 \n",
    "    print(\"***********************************************************************************\")\n",
    "    print(df['HEALTH2'].value_counts()/df.count()[0]*100)    # HEALTH 구성 비율\n",
    "    print(\"***********************************************************************************\")\n",
    "    print(df.groupby('SEX').count().loc[1,:][0]/df.count()[0]*100)  # 당뇨환자 비율 (에러발생 -> 당뇨환자 0인것)"
   ]
  },
  {
   "cell_type": "code",
   "execution_count": null,
   "metadata": {
    "colab": {
     "base_uri": "https://localhost:8080/",
     "height": 485
    },
    "colab_type": "code",
    "id": "tzK_Ubn4K7nl",
    "outputId": "a9899742-8fc7-4529-fe79-f95184468c18"
   },
   "outputs": [],
   "source": [
    "makestat(diabetes_cluster1)"
   ]
  },
  {
   "cell_type": "code",
   "execution_count": null,
   "metadata": {
    "colab": {
     "base_uri": "https://localhost:8080/",
     "height": 503
    },
    "colab_type": "code",
    "id": "tnVrPJa5K7nm",
    "outputId": "57624a37-8331-4eb2-a663-f62339e72b82"
   },
   "outputs": [],
   "source": [
    "makestat(diabetes_cluster2)"
   ]
  },
  {
   "cell_type": "code",
   "execution_count": null,
   "metadata": {
    "colab": {
     "base_uri": "https://localhost:8080/",
     "height": 503
    },
    "colab_type": "code",
    "id": "lQ_57j_YK7nn",
    "outputId": "55b9f09f-f38c-435b-9459-4f40955852bc"
   },
   "outputs": [],
   "source": [
    "makestat(diabetes_cluster3)"
   ]
  },
  {
   "cell_type": "code",
   "execution_count": null,
   "metadata": {
    "colab": {
     "base_uri": "https://localhost:8080/",
     "height": 539
    },
    "colab_type": "code",
    "id": "o_66vphYDldP",
    "outputId": "6bb45557-4dc8-4309-ca83-194f7811f25d"
   },
   "outputs": [],
   "source": [
    "makestat(diabetes_cluster4)"
   ]
  },
  {
   "cell_type": "code",
   "execution_count": null,
   "metadata": {
    "colab": {
     "base_uri": "https://localhost:8080/",
     "height": 204
    },
    "colab_type": "code",
    "id": "lrIPlsB7EcCW",
    "outputId": "b497a261-e046-4099-da1b-96c84bfff39e"
   },
   "outputs": [],
   "source": [
    "data_diabetes.head()"
   ]
  },
  {
   "cell_type": "code",
   "execution_count": null,
   "metadata": {
    "colab": {},
    "colab_type": "code",
    "id": "WfbnYqfRfTbi"
   },
   "outputs": [],
   "source": [
    "group1_diabetes = diabetes_cluster1[['SBP', 'DBP',\t'FBS',\t'BMI']]\n",
    "group2_diabetes = diabetes_cluster2[['SBP', 'DBP',\t'FBS',\t'BMI']]\n",
    "group3_diabetes = diabetes_cluster3[['SBP', 'DBP',\t'FBS',\t'BMI']]\n",
    "group4_diabetes = diabetes_cluster4[['SBP', 'DBP',\t'FBS',\t'BMI']]"
   ]
  },
  {
   "cell_type": "code",
   "execution_count": null,
   "metadata": {
    "colab": {
     "base_uri": "https://localhost:8080/",
     "height": 35
    },
    "colab_type": "code",
    "id": "_a1lRyQlueDr",
    "outputId": "9cff4f0a-652b-49d2-f790-d75d17d2dafd"
   },
   "outputs": [],
   "source": [
    "print(type(group1_diabetes), type(group2_diabetes), type(group3_diabetes), type(group4_diabetes))"
   ]
  },
  {
   "cell_type": "code",
   "execution_count": null,
   "metadata": {
    "colab": {},
    "colab_type": "code",
    "id": "h9Ohmc9iuIt1"
   },
   "outputs": [],
   "source": [
    "group1_diabetes_list = group1_diabetes.values.tolist()\n",
    "group2_diabetes_list = group2_diabetes.values.tolist()\n",
    "group3_diabetes_list = group3_diabetes.values.tolist()\n",
    "group4_diabetes_list = group4_diabetes.values.tolist()"
   ]
  },
  {
   "cell_type": "code",
   "execution_count": null,
   "metadata": {
    "colab": {},
    "colab_type": "code",
    "id": "oJ3abYssrk27"
   },
   "outputs": [],
   "source": [
    "plot_data_diabetes = [group1_diabetes_list, group2_diabetes_list, group3_diabetes_list, group4_diabetes_list]"
   ]
  },
  {
   "cell_type": "code",
   "execution_count": null,
   "metadata": {
    "colab": {
     "base_uri": "https://localhost:8080/",
     "height": 265
    },
    "colab_type": "code",
    "id": "_41rb0aNro_M",
    "outputId": "511da4eb-7421-40e8-8273-09227c63b88f"
   },
   "outputs": [],
   "source": [
    "ax = plt.boxplot(plot_data_diabetes)\n",
    "plt.show()"
   ]
  },
  {
   "cell_type": "code",
   "execution_count": null,
   "metadata": {
    "colab": {
     "base_uri": "https://localhost:8080/",
     "height": 204
    },
    "colab_type": "code",
    "id": "PKfHJEuH2epS",
    "outputId": "b9a3c06b-e69c-43c1-b792-2907619021d4"
   },
   "outputs": [],
   "source": [
    "data_diabetes.head()"
   ]
  },
  {
   "cell_type": "code",
   "execution_count": null,
   "metadata": {
    "colab": {},
    "colab_type": "code",
    "id": "rBaIkDUp-HOM"
   },
   "outputs": [],
   "source": [
    "df_chi = data_diabetes"
   ]
  },
  {
   "cell_type": "code",
   "execution_count": null,
   "metadata": {
    "colab": {},
    "colab_type": "code",
    "id": "1YXKZJii9_b9"
   },
   "outputs": [],
   "source": [
    "contingency_table=pd.crosstab(df_chi[\"BTH_G\"],df_chi[\"HEALTH1\"])"
   ]
  },
  {
   "cell_type": "code",
   "execution_count": null,
   "metadata": {
    "colab": {},
    "colab_type": "code",
    "id": "4l6lXzvy-pQb"
   },
   "outputs": [],
   "source": [
    "from statsmodels.compat.python import lrange\n",
    "import numpy as np\n",
    "from scipy import stats"
   ]
  },
  {
   "cell_type": "code",
   "execution_count": null,
   "metadata": {
    "colab": {},
    "colab_type": "code",
    "id": "uc36IIND-re2"
   },
   "outputs": [],
   "source": [
    "#columns = ['SEX','BTH_G','DBP','FBS','BMI','SBP_A', 'DBP_A','FBS_A', 'BMI_A','HEALTH','diabetes']\n",
    "\n",
    "X_columns = ['SEX','BTH_G','DBP','SBP_Y', 'DBP_Y','FBS_Y', 'BMI_Y']\n",
    "y_columns = ['HEALTH2']\n",
    "  # 유의한 변수들만 선별(SBP 제외)\n",
    "X = data_sample[X_columns]\n",
    "y = data_sample[y_columns]"
   ]
  },
  {
   "cell_type": "code",
   "execution_count": null,
   "metadata": {
    "colab": {
     "base_uri": "https://localhost:8080/",
     "height": 593
    },
    "colab_type": "code",
    "id": "laOMQbdU-21u",
    "outputId": "bb6abc95-1029-4750-c941-5430ab8e1ea1"
   },
   "outputs": [],
   "source": [
    "import numpy as np\n",
    "import statsmodels.api as sm\n",
    "\n",
    "results = sm.OLS(y, X).fit()\n",
    "\n",
    "# Inspect the results\n",
    "In [16]: print(results.summary())"
   ]
  },
  {
   "cell_type": "code",
   "execution_count": null,
   "metadata": {
    "colab": {},
    "colab_type": "code",
    "id": "st-_PVDvAR5g"
   },
   "outputs": [],
   "source": []
  }
 ],
 "metadata": {
  "colab": {
   "machine_shape": "hm",
   "name": "diabetes_analysis_two-way-anova.ipynb",
   "provenance": []
  },
  "kernelspec": {
   "display_name": "Python 3",
   "language": "python",
   "name": "python3"
  },
  "language_info": {
   "codemirror_mode": {
    "name": "ipython",
    "version": 3
   },
   "file_extension": ".py",
   "mimetype": "text/x-python",
   "name": "python",
   "nbconvert_exporter": "python",
   "pygments_lexer": "ipython3",
   "version": "3.8.5"
  }
 },
 "nbformat": 4,
 "nbformat_minor": 1
}
