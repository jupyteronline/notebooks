{
 "cells": [
  {
   "cell_type": "markdown",
   "metadata": {},
   "source": [
    "### 쿠팡 웹스크래핑 II - 여러 페이지 가져오기\n",
    "데이터 분석용 노트북 사기 -- 리뷰가 많고 평점이 높은, 광고는 싫어..."
   ]
  },
  {
   "cell_type": "code",
   "execution_count": 1,
   "metadata": {},
   "outputs": [
    {
     "data": {
      "image/png": "[encoded data removed]",
      "text/plain": [
       "<IPython.core.display.Image object>"
      ]
     },
     "execution_count": 1,
     "metadata": {
      "image/png": {
       "height": 300,
       "width": 600
      }
     },
     "output_type": "execute_result"
    }
   ],
   "source": [
    "#Import library\n",
    "from IPython.display import Image\n",
    "# Load image from local storage\n",
    "Image(filename = \"쿠팡.png\", width = 600, height = 300)"
   ]
  },
  {
   "cell_type": "code",
   "execution_count": 2,
   "metadata": {},
   "outputs": [],
   "source": [
    "import numpy as np\n",
    "import re\n",
    "import requests\n",
    "from bs4 import BeautifulSoup"
   ]
  },
  {
   "cell_type": "code",
   "execution_count": 3,
   "metadata": {},
   "outputs": [],
   "source": [
    "headers = {\"User-Agent\":\"Mozilla/5.0 (Windows NT 10.0; Win64; x64) AppleWebKit/537.36 (KHTML, like Gecko) Chrome/84.0.4147.135 Safari/537.36\"}"
   ]
  },
  {
   "cell_type": "code",
   "execution_count": 4,
   "metadata": {
    "scrolled": true
   },
   "outputs": [
    {
     "name": "stdout",
     "output_type": "stream",
     "text": [
      "https://www.coupang.com/np/search?q=%EB%85%B8%ED%8A%B8%EB%B6%81&channel=user&component=&eventCategory=SRP&trcid=&traid=&sorter=scoreDesc&minPrice=&maxPrice=&priceRange=&filterType=&listSize=36&filter=&isPriceRange=false&brand=&offerCondition=&rating=0&page=1&rocketAll=false&searchIndexingToken=1=4&backgroundColor=\n",
      "https://www.coupang.com/np/search?q=%EB%85%B8%ED%8A%B8%EB%B6%81&channel=user&component=&eventCategory=SRP&trcid=&traid=&sorter=scoreDesc&minPrice=&maxPrice=&priceRange=&filterType=&listSize=36&filter=&isPriceRange=false&brand=&offerCondition=&rating=0&page=2&rocketAll=false&searchIndexingToken=1=4&backgroundColor=\n",
      "https://www.coupang.com/np/search?q=%EB%85%B8%ED%8A%B8%EB%B6%81&channel=user&component=&eventCategory=SRP&trcid=&traid=&sorter=scoreDesc&minPrice=&maxPrice=&priceRange=&filterType=&listSize=36&filter=&isPriceRange=false&brand=&offerCondition=&rating=0&page=3&rocketAll=false&searchIndexingToken=1=4&backgroundColor=\n",
      "https://www.coupang.com/np/search?q=%EB%85%B8%ED%8A%B8%EB%B6%81&channel=user&component=&eventCategory=SRP&trcid=&traid=&sorter=scoreDesc&minPrice=&maxPrice=&priceRange=&filterType=&listSize=36&filter=&isPriceRange=false&brand=&offerCondition=&rating=0&page=4&rocketAll=false&searchIndexingToken=1=4&backgroundColor=\n",
      "https://www.coupang.com/np/search?q=%EB%85%B8%ED%8A%B8%EB%B6%81&channel=user&component=&eventCategory=SRP&trcid=&traid=&sorter=scoreDesc&minPrice=&maxPrice=&priceRange=&filterType=&listSize=36&filter=&isPriceRange=false&brand=&offerCondition=&rating=0&page=5&rocketAll=false&searchIndexingToken=1=4&backgroundColor=\n"
     ]
    }
   ],
   "source": [
    "#for i in (1,2,3,4,5):  # {} 와 format 사용\n",
    "for i in range(1, 6): \n",
    "    url = \"https://www.coupang.com/np/search?q=%EB%85%B8%ED%8A%B8%EB%B6%81&channel=user&component=&eventCategory=SRP&trcid=&traid=&sorter=scoreDesc&minPrice=&maxPrice=&priceRange=&filterType=&listSize=36&filter=&isPriceRange=false&brand=&offerCondition=&rating=0&page={}&rocketAll=false&searchIndexingToken=1=4&backgroundColor=\".format(i)\n",
    "    print(url)"
   ]
  },
  {
   "cell_type": "code",
   "execution_count": 5,
   "metadata": {
    "scrolled": true
   },
   "outputs": [
    {
     "name": "stdout",
     "output_type": "stream",
     "text": [
      "삼성전자 노트북 플러스 NT550XCR-AD1A 플래티넘 티탄 (Celeron 5205U 39.6cm), NVMe 128GB, 4GB, WIN10 Home 649,000 5.0 58\n",
      "제품명 : 삼성전자 노트북 플러스 NT550XCR-AD1A 플래티넘 티탄 (Celeron 5205U 39.6cm), NVMe 128GB, 4GB, WIN10 Home\n",
      "가격 : 649,000\n",
      "평점 : 5.0점 (58개)\n",
      "바로가기 : https://www.coupang.com/vp/products/1460148774?itemId=2512339822&vendorItemId=70505369047\n",
      "----------------------------------------------------------------------------------------------------\n",
      "삼성전자 노트북 플러스 NT550XCJ-K78WA 퓨어 화이트 (i7-10510U 39.6cm), NVMe 256GB, 8GB + 8GB, WIN10 Home 1,379,000 5.0 158\n",
      "제품명 : 삼성전자 노트북 플러스 NT550XCJ-K78WA 퓨어 화이트 (i7-10510U 39.6cm), NVMe 256GB, 8GB + 8GB, WIN10 Home\n",
      "가격 : 1,379,000\n",
      "평점 : 5.0점 (158개)\n",
      "바로가기 : https://www.coupang.com/vp/products/1459817856?itemId=2511843147&vendorItemId=70504880374\n",
      "----------------------------------------------------------------------------------------------------\n",
      "레노버 ThinkPad 노트북 E595-S01P (Ryzen5 3500U 39.6cm), 256GB, 8GB 678,000 5.0 92\n",
      "제품명 : 레노버 ThinkPad 노트북 E595-S01P (Ryzen5 3500U 39.6cm), 256GB, 8GB\n",
      "가격 : 678,000\n",
      "평점 : 5.0점 (92개)\n",
      "바로가기 : https://www.coupang.com/vp/products/242544579?itemId=770267876&vendorItemId=4944944073\n",
      "----------------------------------------------------------------------------------------------------\n",
      "LG전자 2020 그램15 노트북 15Z995-VR50K (i5-10210U 39.6cm), NVMe 256GB, 8GB, WIN10 Home 1,489,410 5.0 160\n",
      "제품명 : LG전자 2020 그램15 노트북 15Z995-VR50K (i5-10210U 39.6cm), NVMe 256GB, 8GB, WIN10 Home\n",
      "가격 : 1,489,410\n",
      "평점 : 5.0점 (160개)\n",
      "바로가기 : https://www.coupang.com/vp/products/1235351470?itemId=2229827753&vendorItemId=70227443130\n",
      "----------------------------------------------------------------------------------------------------\n",
      "삼성전자 갤럭시북 이온 NT950XCJ-K78A (i7-10510U 39.6cm), 포함, NVMe 256GB + NVMe 256GB, 16GB 1,899,000 5.0 60\n",
      "제품명 : 삼성전자 갤럭시북 이온 NT950XCJ-K78A (i7-10510U 39.6cm), 포함, NVMe 256GB + NVMe 256GB, 16GB\n",
      "가격 : 1,899,000\n",
      "평점 : 5.0점 (60개)\n",
      "바로가기 : https://www.coupang.com/vp/products/1137914312?itemId=2517400150&vendorItemId=70510368267\n",
      "----------------------------------------------------------------------------------------------------\n",
      "LG전자 2020 그램15 노트북 15ZD995-VX50K (i5-10210U 39.6cm), NVMe 256GB, 8GB, Free DOS 1,357,900 5.0 54\n",
      "제품명 : LG전자 2020 그램15 노트북 15ZD995-VX50K (i5-10210U 39.6cm), NVMe 256GB, 8GB, Free DOS\n",
      "가격 : 1,357,900\n",
      "평점 : 5.0점 (54개)\n",
      "바로가기 : https://www.coupang.com/vp/products/1665029204?itemId=2250200298&vendorItemId=70247583821\n",
      "----------------------------------------------------------------------------------------------------\n",
      "삼성전자 갤럭시북 이온 NT950XCJ-K78A (i7-10510U 39.6cm), 포함, NVMe 256GB + NVMe 256GB, 16GB 1,899,000 5.0 60\n",
      "제품명 : 삼성전자 갤럭시북 이온 NT950XCJ-K78A (i7-10510U 39.6cm), 포함, NVMe 256GB + NVMe 256GB, 16GB\n",
      "가격 : 1,899,000\n",
      "평점 : 5.0점 (60개)\n",
      "바로가기 : https://www.coupang.com/vp/products/1137914312?itemId=2517400150&vendorItemId=70510368267\n",
      "----------------------------------------------------------------------------------------------------\n",
      "삼성전자 노트북 플러스 NT550XCJ-K78WA 퓨어 화이트 (i7-10510U 39.6cm), NVMe 256GB, 8GB, WIN10 Home 1,349,000 5.0 158\n",
      "제품명 : 삼성전자 노트북 플러스 NT550XCJ-K78WA 퓨어 화이트 (i7-10510U 39.6cm), NVMe 256GB, 8GB, WIN10 Home\n",
      "가격 : 1,349,000\n",
      "평점 : 5.0점 (158개)\n",
      "바로가기 : https://www.coupang.com/vp/products/1459817856?itemId=2605599210&vendorItemId=70596738668\n",
      "----------------------------------------------------------------------------------------------------\n",
      "에이수스 젠북 스크린패드 (10세대 코어i7-10510U WIN10) 로얄 블루, 39.62cm, NVIDIA GeForce GTX1650 MAX Q 1,648,430 5.0 55\n",
      "제품명 : 에이수스 젠북 스크린패드 (10세대 코어i7-10510U WIN10) 로얄 블루, 39.62cm, NVIDIA GeForce GTX1650 MAX Q\n",
      "가격 : 1,648,430\n",
      "평점 : 5.0점 (55개)\n",
      "바로가기 : https://www.coupang.com/vp/products/1067332065?itemId=2014333264&vendorItemId=70014106235\n",
      "----------------------------------------------------------------------------------------------------\n",
      "삼성전자 갤럭시북 이온 NT950XCJ-K78A (i7-10510U 39.6cm), 포함, NVMe 256GB + NVMe 256GB, 8GB 1,839,000 5.0 60\n",
      "제품명 : 삼성전자 갤럭시북 이온 NT950XCJ-K78A (i7-10510U 39.6cm), 포함, NVMe 256GB + NVMe 256GB, 8GB\n",
      "가격 : 1,839,000\n",
      "평점 : 5.0점 (60개)\n",
      "바로가기 : https://www.coupang.com/vp/products/1137914312?itemId=2108233067&vendorItemId=70107045206\n",
      "----------------------------------------------------------------------------------------------------\n",
      "LG전자 2020 그램15 노트북 15Z90N-VR56K (i5-1035G7 39.6cm), NVMe 512GB, 8GB, WIN10 Home 1,615,310 5.0 60\n",
      "제품명 : LG전자 2020 그램15 노트북 15Z90N-VR56K (i5-1035G7 39.6cm), NVMe 512GB, 8GB, WIN10 Home\n",
      "가격 : 1,615,310\n",
      "평점 : 5.0점 (60개)\n",
      "바로가기 : https://www.coupang.com/vp/products/1665218191?itemId=2057670065&vendorItemId=70056945104\n",
      "----------------------------------------------------------------------------------------------------\n",
      "삼성전자 갤럭시북 이온 노트북 NT950XCR-G58A 아우라 실버 (i5-10210U 39.6cm MX250), NVMe 256GB + NVMe 256GB, 8GB, WIN10 Home 1,799,000 5.0 73\n",
      "제품명 : 삼성전자 갤럭시북 이온 노트북 NT950XCR-G58A 아우라 실버 (i5-10210U 39.6cm MX250), NVMe 256GB + NVMe 256GB, 8GB, WIN10 Home\n",
      "가격 : 1,799,000\n",
      "평점 : 5.0점 (73개)\n",
      "바로가기 : https://www.coupang.com/vp/products/1665445457?itemId=2098034564&vendorItemId=70096919756\n",
      "----------------------------------------------------------------------------------------------------\n",
      "삼성전자 갤럭시북 이온 NT950XCJ-K78A (i7-10510U 39.6cm), 포함, NVMe 256GB, 16GB 1,829,000 5.0 60\n",
      "제품명 : 삼성전자 갤럭시북 이온 NT950XCJ-K78A (i7-10510U 39.6cm), 포함, NVMe 256GB, 16GB\n",
      "가격 : 1,829,000\n",
      "평점 : 5.0점 (60개)\n",
      "바로가기 : https://www.coupang.com/vp/products/1137914312?itemId=2108232922&vendorItemId=70107045037\n",
      "----------------------------------------------------------------------------------------------------\n"
     ]
    }
   ],
   "source": [
    "for i in range(1, 6): \n",
    "    \n",
    "    url = \"https://www.coupang.com/np/search?q=%EB%85%B8%ED%8A%B8%EB%B6%81&channel=user&component=&eventCategory=SRP&trcid=&traid=&sorter=scoreDesc&minPrice=&maxPrice=&priceRange=&filterType=&listSize=36&filter=&isPriceRange=false&brand=&offerCondition=&rating=0&page={}&rocketAll=false&searchIndexingToken=1=4&backgroundColor=\".format(i)\n",
    "\n",
    "    res = requests.get(url, headers=headers)\n",
    "    res.raise_for_status() # 문제 있으면 프로그램 종료 시킬 것\n",
    "\n",
    "    soup = BeautifulSoup(res.text, \"lxml\")\n",
    "\n",
    "    items = soup.find_all(\"li\", attrs = {\"class\":re.compile(\"^search-product\")})\n",
    "\n",
    "    for item in items:\n",
    "\n",
    "        ad_badge = item.find(\"span\", attrs={\"class\":\"ad-badge-text\"}) # 광고 상품\n",
    "        if ad_badge:\n",
    "            continue\n",
    "\n",
    "        rate = item.find(\"em\", attrs={\"class\":\"rating\"}) # 평점\n",
    "        if rate:\n",
    "            rate = rate.get_text()\n",
    "        else:\n",
    "            # rate = \"평점 없음\"\n",
    "            continue\n",
    "\n",
    "        rate_cnt = item.find(\"span\", attrs={\"class\":\"rating-total-count\"}) # 리뷰 수\n",
    "        if rate_cnt:\n",
    "            rate_cnt = rate_cnt.get_text()  # 예 : (26)\n",
    "            rate_cnt = rate_cnt[1:-1]\n",
    "        else:\n",
    "            #rate_cnt = \"평점 수 없음\"            \n",
    "            continue\n",
    "\n",
    "        name = item.find(\"div\", attrs={\"class\":\"name\"}).get_text() # 제품명\n",
    "        if \"Apple\" in name:\n",
    "            continue\n",
    "\n",
    "        price = item.find(\"strong\", attrs={\"class\":\"price-value\"}).get_text() # 가격\n",
    "        \n",
    "        link = item.find(\"a\", attrs={\"class\":\"search-product-link\"})[\"href\"] # 링크\n",
    "\n",
    "        if float(rate) > 4.5 and int(rate_cnt) > 50:  # 평점 4.5 이상이고 평점 수가 50 이상\n",
    "            print (name, price, rate, rate_cnt)\n",
    "            print(f\"제품명 : {name}\")\n",
    "            print(f\"가격 : {price}\")\n",
    "            print(f\"평점 : {rate}점 ({rate_cnt}개)\")\n",
    "            print(\"바로가기 : {}\".format(\"https://www.coupang.com\" + link))\n",
    "            print(\"-\"*100) # 줄긋기"
   ]
  },
  {
   "cell_type": "code",
   "execution_count": null,
   "metadata": {},
   "outputs": [],
   "source": []
  }
 ],
 "metadata": {
  "kernelspec": {
   "display_name": "Python 3",
   "language": "python",
   "name": "python3"
  },
  "language_info": {
   "codemirror_mode": {
    "name": "ipython",
    "version": 3
   },
   "file_extension": ".py",
   "mimetype": "text/x-python",
   "name": "python",
   "nbconvert_exporter": "python",
   "pygments_lexer": "ipython3",
   "version": "3.8.5"
  }
 },
 "nbformat": 4,
 "nbformat_minor": 4
}
