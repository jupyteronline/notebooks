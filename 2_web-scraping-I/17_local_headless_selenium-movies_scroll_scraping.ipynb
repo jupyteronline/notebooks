{
 "cells": [
  {
   "cell_type": "markdown",
   "metadata": {},
   "source": [
    "### 헤드리스 크롬\n",
    "\n",
    "구글 인기영화 - 할인 중인 영화"
   ]
  },
  {
   "cell_type": "markdown",
   "metadata": {},
   "source": [
    "### 페이지 로딩"
   ]
  },
  {
   "cell_type": "code",
   "execution_count": 1,
   "metadata": {},
   "outputs": [],
   "source": [
    "import time\n",
    "from selenium import webdriver"
   ]
  },
  {
   "cell_type": "code",
   "execution_count": 2,
   "metadata": {},
   "outputs": [],
   "source": [
    "options = webdriver.ChromeOptions()\n",
    "options.headless = True\n",
    "options.add_argument(\"window-size=1920x1080\") # 가상화면 크기\n",
    "\n",
    "browser = webdriver.Chrome(\"./chromedriver.exe\",options=options)\n",
    "browser.maximize_window() # 최대화"
   ]
  },
  {
   "cell_type": "code",
   "execution_count": 3,
   "metadata": {},
   "outputs": [],
   "source": [
    "url = \"https://play.google.com/store/movies/top\""
   ]
  },
  {
   "cell_type": "code",
   "execution_count": 4,
   "metadata": {},
   "outputs": [],
   "source": [
    "browser.get(url)"
   ]
  },
  {
   "cell_type": "code",
   "execution_count": 5,
   "metadata": {},
   "outputs": [],
   "source": [
    "# 보충 설명 : PC 해상도 확인 방법 : 바탕화면 > 마우스 우클릭 > 디스플레이 설정 메뉴에서 PC 해상도 확인 가능\n",
    "\n",
    "# 지정한 스크롤 내리기 > 모니터(해상도) 높이인 1080 위치로 스크롤 내리기\n",
    "#browser.execute_script(\"window.scrollTo(0,1080)\") # 내 PC 해상도 : 1920 x 1080"
   ]
  },
  {
   "cell_type": "code",
   "execution_count": 6,
   "metadata": {},
   "outputs": [],
   "source": [
    "# 화면 가장 아래로 스크롤 내리기\n",
    "#browser.execute_script(\"window.scrollTo(0,document.body.scrollHeight)\") # 내 PC 해상도 : 1920 x 1080"
   ]
  },
  {
   "cell_type": "code",
   "execution_count": 7,
   "metadata": {},
   "outputs": [],
   "source": [
    "# 2초에 한번씩 스크롤 내림\n",
    "interval = 2 "
   ]
  },
  {
   "cell_type": "code",
   "execution_count": 8,
   "metadata": {},
   "outputs": [],
   "source": [
    "# 현재 문서 높이를 가져와서 저장\n",
    "prev_height = browser.execute_script(\"return document.body.scrollHeight\")"
   ]
  },
  {
   "cell_type": "code",
   "execution_count": 9,
   "metadata": {},
   "outputs": [],
   "source": [
    "# 무한 반복 수행\n",
    "while True:\n",
    "    # 스크롤을 가장 아래로 내림\n",
    "    browser.execute_script(\"window.scrollTo(0, document.body.scrollHeight)\") \n",
    "    \n",
    "    # 페이지 로딩 대기\n",
    "    time.sleep(interval)\n",
    "    \n",
    "    # 현재 문서 뫂이를 가져와서 저장\n",
    "    curr_height = browser.execute_script(\"return document.body.scrollHeight\")\n",
    "    if curr_height == prev_height:\n",
    "        break\n",
    "        \n",
    "    prev_height = curr_height"
   ]
  },
  {
   "cell_type": "code",
   "execution_count": 10,
   "metadata": {},
   "outputs": [
    {
     "name": "stdout",
     "output_type": "stream",
     "text": [
      "스크롤 완료\n"
     ]
    }
   ],
   "source": [
    "print(\"스크롤 완료\")"
   ]
  },
  {
   "cell_type": "code",
   "execution_count": 11,
   "metadata": {},
   "outputs": [
    {
     "data": {
      "text/plain": [
       "True"
      ]
     },
     "execution_count": 11,
     "metadata": {},
     "output_type": "execute_result"
    }
   ],
   "source": [
    "# 헤드리스 브라우저의 스크린샷을 화일로 저장하기\n",
    "browser.get_screenshot_as_file(\"google_movie.png\")"
   ]
  },
  {
   "cell_type": "markdown",
   "metadata": {},
   "source": [
    "### 스크래핑"
   ]
  },
  {
   "cell_type": "code",
   "execution_count": 12,
   "metadata": {},
   "outputs": [],
   "source": [
    "import requests\n",
    "from bs4 import BeautifulSoup"
   ]
  },
  {
   "cell_type": "code",
   "execution_count": 13,
   "metadata": {},
   "outputs": [],
   "source": [
    "soup = BeautifulSoup(browser.page_source, \"lxml\")"
   ]
  },
  {
   "cell_type": "code",
   "execution_count": 14,
   "metadata": {},
   "outputs": [],
   "source": [
    "movies = soup.find_all(\"div\", attrs={\"class\":\"Vpfmgd\"})\n",
    "\n",
    "# 복수게 Class 는 List 로\n",
    "#movies = soup.find_all(\"div\", attrs={\"class\":[\"ImZGtf mpg5gc\",\"Vpfmgd\"]}) "
   ]
  },
  {
   "cell_type": "code",
   "execution_count": 15,
   "metadata": {},
   "outputs": [
    {
     "name": "stdout",
     "output_type": "stream",
     "text": [
      "200\n"
     ]
    }
   ],
   "source": [
    "print(len(movies))"
   ]
  },
  {
   "cell_type": "code",
   "execution_count": 16,
   "metadata": {},
   "outputs": [],
   "source": [
    "# with open(\"movie.html\", \"w\", encoding=\"utf-8-sig\") as f:\n",
    "#     #f.write(res.text)\n",
    "#     f.write(soup.prettify()) # html 문서를 예쁘게 출력"
   ]
  },
  {
   "cell_type": "code",
   "execution_count": 17,
   "metadata": {},
   "outputs": [
    {
     "name": "stdout",
     "output_type": "stream",
     "text": [
      "제목 : 베놈   Venom\n",
      "할인 전 가격 : ₩1,800\n",
      "할인 가격 : ₩900\n",
      "링크 : https://play.google.com/store/movies/details/%EB%B2%A0%EB%86%88_Venom?id=uEv-FGwTDEw\n",
      "------------------------------------------------------------------------------------------------------------------------\n",
      "제목 : 블러드샷\n",
      "할인 전 가격 : ₩3,500\n",
      "할인 가격 : ₩1,800\n",
      "링크 : https://play.google.com/store/movies/details/%EB%B8%94%EB%9F%AC%EB%93%9C%EC%83%B7?id=xu4ldemoFN4.P\n",
      "------------------------------------------------------------------------------------------------------------------------\n",
      "제목 : 온워드: 단 하루의 기적\n",
      "할인 전 가격 : ₩11,000\n",
      "할인 가격 : ₩4,400\n",
      "링크 : https://play.google.com/store/movies/details/%EC%98%A8%EC%9B%8C%EB%93%9C_%EB%8B%A8_%ED%95%98%EB%A3%A8%EC%9D%98_%EA%B8%B0%EC%A0%81?id=fCwq2DL1fDY.P\n",
      "------------------------------------------------------------------------------------------------------------------------\n",
      "제목 : 콜 오브 와일드\n",
      "할인 전 가격 : ₩4,500\n",
      "할인 가격 : ₩2,500\n",
      "링크 : https://play.google.com/store/movies/details/%EC%BD%9C_%EC%98%A4%EB%B8%8C_%EC%99%80%EC%9D%BC%EB%93%9C?id=SjyZR7ruUGw.P\n",
      "------------------------------------------------------------------------------------------------------------------------\n",
      "제목 : 밤쉘: 세상을 바꾼 폭탄선언\n",
      "할인 전 가격 : ₩10,000\n",
      "할인 가격 : ₩7,000\n",
      "링크 : https://play.google.com/store/movies/details/%EB%B0%A4%EC%89%98_%EC%84%B8%EC%83%81%EC%9D%84_%EB%B0%94%EA%BE%BC_%ED%8F%AD%ED%83%84%EC%84%A0%EC%96%B8?id=pAKn6PuNY4M.P\n",
      "------------------------------------------------------------------------------------------------------------------------\n",
      "제목 : 장난스런 키스\n",
      "할인 전 가격 : ₩2,500\n",
      "할인 가격 : ₩1,200\n",
      "링크 : https://play.google.com/store/movies/details/%EC%9E%A5%EB%82%9C%EC%8A%A4%EB%9F%B0_%ED%82%A4%EC%8A%A4?id=MiR3ISA2PX8.P\n",
      "------------------------------------------------------------------------------------------------------------------------\n",
      "제목 : 바이스\n",
      "할인 전 가격 : ₩2,500\n",
      "할인 가격 : ₩1,000\n",
      "링크 : https://play.google.com/store/movies/details/%EB%B0%94%EC%9D%B4%EC%8A%A4?id=hxddvtCgplw.P\n",
      "------------------------------------------------------------------------------------------------------------------------\n"
     ]
    }
   ],
   "source": [
    "# 할인된 영화 목록 정리\n",
    "for movie in movies:\n",
    "    title = movie.find(\"div\", attrs={\"class\":\"WsMG1c nnK0zc\"}).get_text()\n",
    "\n",
    "    # 할인 전 가격\n",
    "    original_price = movie.find(\"span\", attrs={\"class\":\"SUZt4c djCuy\"})\n",
    "    if original_price:\n",
    "        original_price = original_price.get_text()\n",
    "    else:\n",
    "        #print(title, \"<할인되지 않는 영화 제외>\")\n",
    "        continue\n",
    "        \n",
    "    # 할인된 가격\n",
    "    price = movie.find(\"span\", attrs={\"class\":\"VfPpfd ZdBevf i5DZme\"}).get_text()\n",
    "    \n",
    "    # 링크\n",
    "    link = movie.find(\"a\", attrs={\"class\":\"JC71ub\"})[\"href\"]\n",
    "    \n",
    "    # baseURL = \"https://play.google.com\"\n",
    "    \n",
    "    print(f\"제목 : {title}\")\n",
    "    print(f\"할인 전 가격 : {original_price}\")\n",
    "    print(f\"할인 가격 : {price}\")\n",
    "    print(f\"링크 : \" + \"https://play.google.com\" + link)\n",
    "    print(\"-\" * 120)"
   ]
  },
  {
   "cell_type": "code",
   "execution_count": 18,
   "metadata": {},
   "outputs": [],
   "source": [
    "# 브라우저 종료\n",
    "browser.quit()"
   ]
  },
  {
   "cell_type": "code",
   "execution_count": null,
   "metadata": {},
   "outputs": [],
   "source": []
  }
 ],
 "metadata": {
  "kernelspec": {
   "display_name": "Python 3",
   "language": "python",
   "name": "python3"
  },
  "language_info": {
   "codemirror_mode": {
    "name": "ipython",
    "version": 3
   },
   "file_extension": ".py",
   "mimetype": "text/x-python",
   "name": "python",
   "nbconvert_exporter": "python",
   "pygments_lexer": "ipython3",
   "version": "3.8.3"
  }
 },
 "nbformat": 4,
 "nbformat_minor": 4
}
