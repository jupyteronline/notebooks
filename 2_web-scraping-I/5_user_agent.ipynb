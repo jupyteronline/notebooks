{
 "cells": [
  {
   "cell_type": "code",
   "execution_count": 1,
   "metadata": {},
   "outputs": [],
   "source": [
    "import requests\n",
    "\n",
    "url = \"http://nadocoding.tistory.com\"\n",
    "headers = {\"User-Agent\":\"Mozilla/5.0 (Windows NT 10.0; Win64; x64) AppleWebKit/537.36 (KHTML, like Gecko) Chrome/84.0.4147.135 Safari/537.36\"}"
   ]
  },
  {
   "cell_type": "code",
   "execution_count": 2,
   "metadata": {},
   "outputs": [],
   "source": [
    "res = requests.get(url, headers=headers)\n",
    "res.raise_for_status()\n",
    "\n",
    "with open(\"nadocoding.html\", \"w\", encoding=\"utf8\") as f:\n",
    "    f.write(res.text)"
   ]
  },
  {
   "cell_type": "code",
   "execution_count": 5,
   "metadata": {},
   "outputs": [
    {
     "name": "stdout",
     "output_type": "stream",
     "text": [
      "10_bs4_cupang-pages.ipynb\r\n",
      "11_daum_movies.ipynb\r\n",
      "12_csv_stock.ipynb\r\n",
      "13_local_selenium.ipynb\r\n",
      "14_local_selenium-flight.ipynb\r\n",
      "15_local_selenium-movies.ipynb\r\n",
      "16_local_selenium-movies_scroll_scraping.ipynb\r\n",
      "17_local_headless_selenium-movies_scroll_scraping.ipynb\r\n",
      "18_local_headless_selenium-movies_scroll_scraping_user_agent.ipynb\r\n",
      "1_html.ipynb\r\n",
      "21_docker_headless_selenium_scraping_user_agent.ipynb\r\n",
      "2_xpath.ipynb\r\n",
      "3_requests.ipynb\r\n",
      "4_re.ipynb\r\n",
      "5_user_agent.ipynb\r\n",
      "6_bs4.ipynb\r\n",
      "6team.html\r\n",
      "7_bs4_webtoons.ipynb\r\n",
      "8_bs4_gauss.ipynb\r\n",
      "9_bs4_cupang.ipynb\r\n",
      "abc.py\r\n",
      "chromedriver.exe\r\n",
      "mygoogle.html\r\n",
      "nadocoding.html\r\n",
      "웹스크래핑.pdf\r\n",
      "쿠팡.png\r\n"
     ]
    }
   ],
   "source": [
    "!ls"
   ]
  },
  {
   "cell_type": "code",
   "execution_count": null,
   "metadata": {},
   "outputs": [],
   "source": [
    "%load nadocoding.html"
   ]
  },
  {
   "cell_type": "code",
   "execution_count": null,
   "metadata": {},
   "outputs": [],
   "source": [
    "# %load abc.py\n",
    "여기요"
   ]
  },
  {
   "cell_type": "code",
   "execution_count": null,
   "metadata": {},
   "outputs": [],
   "source": []
  }
 ],
 "metadata": {
  "kernelspec": {
   "display_name": "Python 3",
   "language": "python",
   "name": "python3"
  },
  "language_info": {
   "codemirror_mode": {
    "name": "ipython",
    "version": 3
   },
   "file_extension": ".py",
   "mimetype": "text/x-python",
   "name": "python",
   "nbconvert_exporter": "python",
   "pygments_lexer": "ipython3",
   "version": "3.8.3"
  }
 },
 "nbformat": 4,
 "nbformat_minor": 4
}
