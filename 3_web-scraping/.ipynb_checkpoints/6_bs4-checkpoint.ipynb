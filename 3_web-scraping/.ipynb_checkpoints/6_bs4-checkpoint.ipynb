{
 "cells": [
  {
   "cell_type": "markdown",
   "metadata": {},
   "source": [
    "### BeautifulSoup"
   ]
  },
  {
   "cell_type": "markdown",
   "metadata": {},
   "source": [
    "https://www.crummy.com/software/BeautifulSoup/bs4/doc.ko/"
   ]
  },
  {
   "cell_type": "code",
   "execution_count": 1,
   "metadata": {
    "scrolled": true
   },
   "outputs": [
    {
     "name": "stdout",
     "output_type": "stream",
     "text": [
      "Requirement already satisfied: beautifulsoup4 in /opt/conda/lib/python3.8/site-packages (4.9.1)\n",
      "Requirement already satisfied: soupsieve>1.2 in /opt/conda/lib/python3.8/site-packages (from beautifulsoup4) (2.0.1)\n",
      "Note: you may need to restart the kernel to use updated packages.\n"
     ]
    }
   ],
   "source": [
    "%pip install beautifulsoup4"
   ]
  },
  {
   "cell_type": "code",
   "execution_count": 2,
   "metadata": {},
   "outputs": [
    {
     "name": "stdout",
     "output_type": "stream",
     "text": [
      "Requirement already satisfied: lxml in /opt/conda/lib/python3.8/site-packages (4.5.2)\n",
      "Note: you may need to restart the kernel to use updated packages.\n"
     ]
    }
   ],
   "source": [
    "%pip install lxml"
   ]
  },
  {
   "cell_type": "code",
   "execution_count": 3,
   "metadata": {},
   "outputs": [],
   "source": [
    "import requests\n",
    "from bs4 import BeautifulSoup\n",
    "\n",
    "headers = {\"User-Agent\":\"Mozilla/5.0 (Windows NT 10.0; Win64; x64) AppleWebKit/537.36 (KHTML, like Gecko) Chrome/84.0.4147.135 Safari/537.36\"}\n",
    "url = \"https://comic.naver.com/index.nhn\"\n",
    "res = requests.get(url, headers=headers)\n",
    "res.raise_for_status() # 문제 있으면 프로그램 종료 시킬 것"
   ]
  },
  {
   "cell_type": "code",
   "execution_count": 4,
   "metadata": {},
   "outputs": [],
   "source": [
    "soup = BeautifulSoup(res.text, \"lxml\") # 가져온 html 문서 (res.text) 를 lxml parser 를 통해서 soup 객체를 만듬"
   ]
  },
  {
   "cell_type": "markdown",
   "metadata": {},
   "source": [
    "### 해당 웹페이지를 잘 알고 있을 때"
   ]
  },
  {
   "cell_type": "code",
   "execution_count": 5,
   "metadata": {
    "scrolled": true
   },
   "outputs": [
    {
     "name": "stdout",
     "output_type": "stream",
     "text": [
      "<title>네이버 만화</title>\n"
     ]
    }
   ],
   "source": [
    "print(soup.title)  # header > title 을 보여 줌"
   ]
  },
  {
   "cell_type": "code",
   "execution_count": 6,
   "metadata": {},
   "outputs": [
    {
     "name": "stdout",
     "output_type": "stream",
     "text": [
      "네이버 만화\n"
     ]
    }
   ],
   "source": [
    "print(soup.title.get_text()) # header> title 속성의 text 를 보여 줌"
   ]
  },
  {
   "cell_type": "code",
   "execution_count": 7,
   "metadata": {},
   "outputs": [
    {
     "name": "stdout",
     "output_type": "stream",
     "text": [
      "<a href=\"#menu\" onclick=\"document.getElementById('menu').tabIndex=-1;document.getElementById('menu').focus();return false;\"><span>메인 메뉴로 바로가기</span></a>\n"
     ]
    }
   ],
   "source": [
    "print(soup.a)  # 처음 발견되는 'a' tag 정보를 보여 줌, XPATH : /html/body/div/div[2]/div[1]/div[2]/h1/a[1]"
   ]
  },
  {
   "cell_type": "code",
   "execution_count": 8,
   "metadata": {},
   "outputs": [
    {
     "name": "stdout",
     "output_type": "stream",
     "text": [
      "{'href': '#menu', 'onclick': \"document.getElementById('menu').tabIndex=-1;document.getElementById('menu').focus();return false;\"}\n"
     ]
    }
   ],
   "source": [
    "print(soup.a.attrs)  #  처음 발견되는 'a' tag 의 속성를 딕셔너리 형태로 보여 줌"
   ]
  },
  {
   "cell_type": "code",
   "execution_count": 9,
   "metadata": {},
   "outputs": [
    {
     "name": "stdout",
     "output_type": "stream",
     "text": [
      "#menu\n"
     ]
    }
   ],
   "source": [
    "print(soup.a[\"href\"]) #  href 의 속성값을 보여 줌"
   ]
  },
  {
   "cell_type": "markdown",
   "metadata": {},
   "source": [
    "### 해당 웹페이지를 잘 모를 때"
   ]
  },
  {
   "cell_type": "code",
   "execution_count": 10,
   "metadata": {},
   "outputs": [
    {
     "name": "stdout",
     "output_type": "stream",
     "text": [
      "<a class=\"Nbtn_upload\" href=\"/mypage/myActivity.nhn\" onclick=\"nclk_v2(event,'olk.upload');\">웹툰 올리기</a>\n"
     ]
    }
   ],
   "source": [
    "print(soup.find(\"a\", attrs={\"class\":\"Nbtn_upload\"} ))  # a tag 에 해당하는 것 들 중, class 속성이 Nbtn_upload 인 거 보여 줌"
   ]
  },
  {
   "cell_type": "code",
   "execution_count": 11,
   "metadata": {},
   "outputs": [
    {
     "name": "stdout",
     "output_type": "stream",
     "text": [
      "<a class=\"Nbtn_upload\" href=\"/mypage/myActivity.nhn\" onclick=\"nclk_v2(event,'olk.upload');\">웹툰 올리기</a>\n"
     ]
    }
   ],
   "source": [
    "print(soup.find(attrs={\"class\":\"Nbtn_upload\"} ))  # a tag 에 해당하는 것 들 중, class 속성이 Nbtn_upload 인 거 보여 줌"
   ]
  },
  {
   "cell_type": "code",
   "execution_count": 12,
   "metadata": {},
   "outputs": [
    {
     "name": "stdout",
     "output_type": "stream",
     "text": [
      "<li class=\"rank01\">\n",
      "<a href=\"/webtoon/detail.nhn?titleId=651673&amp;no=504\" onclick=\"nclk_v2(event,'rnk*p.cont','651673','1')\" title=\"유미의 세포들-501화 쉘 위 댄스 4\">유미의 세포들-501화 쉘 위 댄스 4</a>\n",
      "<span class=\"rankBox\">\n",
      "<img alt=\"변동없음\" height=\"10\" src=\"https://ssl.pstatic.net/static/comic/images/migration/common/arrow_no.gif\" title=\"변동없음\" width=\"7\"/> 0\n",
      "\t\t\t\t\t\t\n",
      "\t\t\t\t\t\n",
      "\t\t\t\t</span>\n",
      "</li>\n"
     ]
    }
   ],
   "source": [
    "print(soup.find(\"li\", attrs={\"class\":\"rank01\"}))"
   ]
  },
  {
   "cell_type": "code",
   "execution_count": 13,
   "metadata": {},
   "outputs": [
    {
     "name": "stdout",
     "output_type": "stream",
     "text": [
      "<a href=\"/webtoon/detail.nhn?titleId=651673&amp;no=504\" onclick=\"nclk_v2(event,'rnk*p.cont','651673','1')\" title=\"유미의 세포들-501화 쉘 위 댄스 4\">유미의 세포들-501화 쉘 위 댄스 4</a>\n"
     ]
    }
   ],
   "source": [
    "rank1 = soup.find(\"li\", attrs={\"class\":\"rank01\"})\n",
    "print (rank1.a)"
   ]
  },
  {
   "cell_type": "markdown",
   "metadata": {},
   "source": [
    "### 형제자매/부모 tag를 가져오기"
   ]
  },
  {
   "cell_type": "code",
   "execution_count": 14,
   "metadata": {},
   "outputs": [
    {
     "name": "stdout",
     "output_type": "stream",
     "text": [
      "유미의 세포들-501화 쉘 위 댄스 4\n"
     ]
    }
   ],
   "source": [
    "print (rank1.a.get_text())"
   ]
  },
  {
   "cell_type": "code",
   "execution_count": 15,
   "metadata": {},
   "outputs": [
    {
     "name": "stdout",
     "output_type": "stream",
     "text": [
      "\n",
      "\n"
     ]
    }
   ],
   "source": [
    "print(rank1.next_sibling)  # 줄 바꿈(개행 문자 /n) 같은 것이 있는 경우"
   ]
  },
  {
   "cell_type": "code",
   "execution_count": 16,
   "metadata": {},
   "outputs": [
    {
     "name": "stdout",
     "output_type": "stream",
     "text": [
      "<li class=\"rank02\">\n",
      "<a href=\"/webtoon/detail.nhn?titleId=597447&amp;no=354\" onclick=\"nclk_v2(event,'rnk*p.cont','597447','2')\" title=\"프리드로우-제351화 한태성의 적 (3)\">프리드로우-제351화 한태성의 적 (3)</a>\n",
      "<span class=\"rankBox\">\n",
      "<img alt=\"변동없음\" height=\"10\" src=\"https://ssl.pstatic.net/static/comic/images/migration/common/arrow_no.gif\" title=\"변동없음\" width=\"7\"/> 0\n",
      "\t\t\t\t\t\t\n",
      "\t\t\t\t\t\n",
      "\t\t\t\t</span>\n",
      "</li>\n"
     ]
    }
   ],
   "source": [
    "print(rank1.next_sibling.next_sibling)"
   ]
  },
  {
   "cell_type": "code",
   "execution_count": 17,
   "metadata": {},
   "outputs": [
    {
     "name": "stdout",
     "output_type": "stream",
     "text": [
      "<li class=\"rank02\">\n",
      "<a href=\"/webtoon/detail.nhn?titleId=597447&amp;no=354\" onclick=\"nclk_v2(event,'rnk*p.cont','597447','2')\" title=\"프리드로우-제351화 한태성의 적 (3)\">프리드로우-제351화 한태성의 적 (3)</a>\n",
      "<span class=\"rankBox\">\n",
      "<img alt=\"변동없음\" height=\"10\" src=\"https://ssl.pstatic.net/static/comic/images/migration/common/arrow_no.gif\" title=\"변동없음\" width=\"7\"/> 0\n",
      "\t\t\t\t\t\t\n",
      "\t\t\t\t\t\n",
      "\t\t\t\t</span>\n",
      "</li>\n"
     ]
    }
   ],
   "source": [
    "rank2 = rank1.next_sibling.next_sibling\n",
    "print(rank2)"
   ]
  },
  {
   "cell_type": "code",
   "execution_count": 18,
   "metadata": {},
   "outputs": [
    {
     "name": "stdout",
     "output_type": "stream",
     "text": [
      "<li class=\"rank03\">\n",
      "<a href=\"/webtoon/detail.nhn?titleId=727188&amp;no=72\" onclick=\"nclk_v2(event,'rnk*p.cont','727188','3')\" title=\"취사병 전설이 되다-72화 : 포로수용소\">취사병 전설이 되다-72화 : 포로수용소</a>\n",
      "<span class=\"rankBox\">\n",
      "<img alt=\"변동없음\" height=\"10\" src=\"https://ssl.pstatic.net/static/comic/images/migration/common/arrow_no.gif\" title=\"변동없음\" width=\"7\"/> 0\n",
      "\t\t\t\t\t\t\n",
      "\t\t\t\t\t\n",
      "\t\t\t\t</span>\n",
      "</li>\n"
     ]
    }
   ],
   "source": [
    "rank3 = rank2.next_sibling.next_sibling\n",
    "print(rank3)"
   ]
  },
  {
   "cell_type": "code",
   "execution_count": 19,
   "metadata": {},
   "outputs": [
    {
     "name": "stdout",
     "output_type": "stream",
     "text": [
      "<li class=\"rank02\">\n",
      "<a href=\"/webtoon/detail.nhn?titleId=597447&amp;no=354\" onclick=\"nclk_v2(event,'rnk*p.cont','597447','2')\" title=\"프리드로우-제351화 한태성의 적 (3)\">프리드로우-제351화 한태성의 적 (3)</a>\n",
      "<span class=\"rankBox\">\n",
      "<img alt=\"변동없음\" height=\"10\" src=\"https://ssl.pstatic.net/static/comic/images/migration/common/arrow_no.gif\" title=\"변동없음\" width=\"7\"/> 0\n",
      "\t\t\t\t\t\t\n",
      "\t\t\t\t\t\n",
      "\t\t\t\t</span>\n",
      "</li>\n"
     ]
    }
   ],
   "source": [
    "rank2 = rank3.previous_sibling.previous_sibling\n",
    "print(rank2)"
   ]
  },
  {
   "cell_type": "code",
   "execution_count": 20,
   "metadata": {},
   "outputs": [
    {
     "name": "stdout",
     "output_type": "stream",
     "text": [
      "<ol class=\"asideBoxRank\" id=\"realTimeRankFavorite\">\n",
      "<li class=\"rank01\">\n",
      "<a href=\"/webtoon/detail.nhn?titleId=651673&amp;no=504\" onclick=\"nclk_v2(event,'rnk*p.cont','651673','1')\" title=\"유미의 세포들-501화 쉘 위 댄스 4\">유미의 세포들-501화 쉘 위 댄스 4</a>\n",
      "<span class=\"rankBox\">\n",
      "<img alt=\"변동없음\" height=\"10\" src=\"https://ssl.pstatic.net/static/comic/images/migration/common/arrow_no.gif\" title=\"변동없음\" width=\"7\"/> 0\n",
      "\t\t\t\t\t\t\n",
      "\t\t\t\t\t\n",
      "\t\t\t\t</span>\n",
      "</li>\n",
      "<li class=\"rank02\">\n",
      "<a href=\"/webtoon/detail.nhn?titleId=597447&amp;no=354\" onclick=\"nclk_v2(event,'rnk*p.cont','597447','2')\" title=\"프리드로우-제351화 한태성의 적 (3)\">프리드로우-제351화 한태성의 적 (3)</a>\n",
      "<span class=\"rankBox\">\n",
      "<img alt=\"변동없음\" height=\"10\" src=\"https://ssl.pstatic.net/static/comic/images/migration/common/arrow_no.gif\" title=\"변동없음\" width=\"7\"/> 0\n",
      "\t\t\t\t\t\t\n",
      "\t\t\t\t\t\n",
      "\t\t\t\t</span>\n",
      "</li>\n",
      "<li class=\"rank03\">\n",
      "<a href=\"/webtoon/detail.nhn?titleId=727188&amp;no=72\" onclick=\"nclk_v2(event,'rnk*p.cont','727188','3')\" title=\"취사병 전설이 되다-72화 : 포로수용소\">취사병 전설이 되다-72화 : 포로수용소</a>\n",
      "<span class=\"rankBox\">\n",
      "<img alt=\"변동없음\" height=\"10\" src=\"https://ssl.pstatic.net/static/comic/images/migration/common/arrow_no.gif\" title=\"변동없음\" width=\"7\"/> 0\n",
      "\t\t\t\t\t\t\n",
      "\t\t\t\t\t\n",
      "\t\t\t\t</span>\n",
      "</li>\n",
      "<li class=\"rank04\">\n",
      "<a href=\"/webtoon/detail.nhn?titleId=650305&amp;no=276\" onclick=\"nclk_v2(event,'rnk*p.cont','650305','4')\" title=\"호랑이형님-2부193화 계교(計巧)\">호랑이형님-2부193화 계교(計巧)</a>\n",
      "<span class=\"rankBox\">\n",
      "<img alt=\"변동없음\" height=\"10\" src=\"https://ssl.pstatic.net/static/comic/images/migration/common/arrow_no.gif\" title=\"변동없음\" width=\"7\"/> 0\n",
      "\t\t\t\t\t\t\n",
      "\t\t\t\t\t\n",
      "\t\t\t\t</span>\n",
      "</li>\n",
      "<li class=\"rank05\">\n",
      "<a href=\"/webtoon/detail.nhn?titleId=737018&amp;no=41\" onclick=\"nclk_v2(event,'rnk*p.cont','737018','5')\" title=\"회춘-41화 요양원 4화\">회춘-41화 요양원 4화</a>\n",
      "<span class=\"rankBox\">\n",
      "<img alt=\"변동없음\" height=\"10\" src=\"https://ssl.pstatic.net/static/comic/images/migration/common/arrow_no.gif\" title=\"변동없음\" width=\"7\"/> 0\n",
      "\t\t\t\t\t\t\n",
      "\t\t\t\t\t\n",
      "\t\t\t\t</span>\n",
      "</li>\n",
      "<li class=\"rank06\">\n",
      "<a href=\"/webtoon/detail.nhn?titleId=721948&amp;no=87\" onclick=\"nclk_v2(event,'rnk*p.cont','721948','6')\" title=\"스터디그룹-87화\">스터디그룹-87화</a>\n",
      "<span class=\"rankBox\">\n",
      "<img alt=\"변동없음\" height=\"10\" src=\"https://ssl.pstatic.net/static/comic/images/migration/common/arrow_no.gif\" title=\"변동없음\" width=\"7\"/> 0\n",
      "\t\t\t\t\t\t\n",
      "\t\t\t\t\t\n",
      "\t\t\t\t</span>\n",
      "</li>\n",
      "<li class=\"rank07\">\n",
      "<a href=\"/webtoon/detail.nhn?titleId=730694&amp;no=61\" onclick=\"nclk_v2(event,'rnk*p.cont','730694','7')\" title=\"초인의 시대-60화\">초인의 시대-60화</a>\n",
      "<span class=\"rankBox\">\n",
      "<img alt=\"변동없음\" height=\"10\" src=\"https://ssl.pstatic.net/static/comic/images/migration/common/arrow_no.gif\" title=\"변동없음\" width=\"7\"/> 0\n",
      "\t\t\t\t\t\t\n",
      "\t\t\t\t\t\n",
      "\t\t\t\t</span>\n",
      "</li>\n",
      "<li class=\"rank08\">\n",
      "<a href=\"/webtoon/detail.nhn?titleId=703843&amp;no=123\" onclick=\"nclk_v2(event,'rnk*p.cont','703843','8')\" title=\"비질란테-123화\">비질란테-123화</a>\n",
      "<span class=\"rankBox\">\n",
      "<img alt=\"변동없음\" height=\"10\" src=\"https://ssl.pstatic.net/static/comic/images/migration/common/arrow_no.gif\" title=\"변동없음\" width=\"7\"/> 0\n",
      "\t\t\t\t\t\t\n",
      "\t\t\t\t\t\n",
      "\t\t\t\t</span>\n",
      "</li>\n",
      "<li class=\"rank09\">\n",
      "<a href=\"/webtoon/detail.nhn?titleId=728015&amp;no=141\" onclick=\"nclk_v2(event,'rnk*p.cont','728015','9')\" title=\"모죠의 일지-141화. 수강신청하는 만화\">모죠의 일지-141화. 수강신청하는 만화</a>\n",
      "<span class=\"rankBox\">\n",
      "<img alt=\"변동없음\" height=\"10\" src=\"https://ssl.pstatic.net/static/comic/images/migration/common/arrow_no.gif\" title=\"변동없음\" width=\"7\"/> 0\n",
      "\t\t\t\t\t\t\n",
      "\t\t\t\t\t\n",
      "\t\t\t\t</span>\n",
      "</li>\n",
      "<li class=\"rank10\">\n",
      "<a href=\"/webtoon/detail.nhn?titleId=750582&amp;no=8\" onclick=\"nclk_v2(event,'rnk*p.cont','750582','10')\" title=\"광해의 연인-8화\">광해의 연인-8화</a>\n",
      "<span class=\"rankBox\">\n",
      "<img alt=\"변동없음\" height=\"10\" src=\"https://ssl.pstatic.net/static/comic/images/migration/common/arrow_no.gif\" title=\"변동없음\" width=\"7\"/> 0\n",
      "\t\t\t\t\t\t\n",
      "\t\t\t\t\t\n",
      "\t\t\t\t</span>\n",
      "</li>\n",
      "</ol>\n"
     ]
    }
   ],
   "source": [
    "print(rank1.parent)"
   ]
  },
  {
   "cell_type": "markdown",
   "metadata": {},
   "source": [
    "### 조건으로 찾기"
   ]
  },
  {
   "cell_type": "code",
   "execution_count": 21,
   "metadata": {},
   "outputs": [
    {
     "name": "stdout",
     "output_type": "stream",
     "text": [
      "프리드로우-제351화 한태성의 적 (3)\n"
     ]
    }
   ],
   "source": [
    "rank2 = rank1.find_next_sibling(\"li\") # 중간에 개행이 있는지 여부 관계 없이 다음 sibling 을 가져 옴\n",
    "print (rank2.a.get_text())"
   ]
  },
  {
   "cell_type": "code",
   "execution_count": 22,
   "metadata": {},
   "outputs": [
    {
     "name": "stdout",
     "output_type": "stream",
     "text": [
      "취사병 전설이 되다-72화 : 포로수용소\n"
     ]
    }
   ],
   "source": [
    "rank3 = rank2.find_next_sibling(\"li\") # 중간에 개행이 있는지 여부 관계 없이 다음 sibling 을 가져 옴\n",
    "print (rank3.a.get_text())"
   ]
  },
  {
   "cell_type": "code",
   "execution_count": 23,
   "metadata": {},
   "outputs": [
    {
     "name": "stdout",
     "output_type": "stream",
     "text": [
      "호랑이형님-2부193화 계교(計巧)\n"
     ]
    }
   ],
   "source": [
    "rank4 = rank3.find_next_sibling(\"li\") # 중간에 개행이 있는지 여부 관계 없이 다음 sibling 을 가져 옴\n",
    "print (rank4.a.get_text())"
   ]
  },
  {
   "cell_type": "code",
   "execution_count": 24,
   "metadata": {},
   "outputs": [
    {
     "name": "stdout",
     "output_type": "stream",
     "text": [
      "취사병 전설이 되다-72화 : 포로수용소\n"
     ]
    }
   ],
   "source": [
    "rank3 = rank4.find_previous_sibling(\"li\") # 중간에 개행이 있는지 여부 관계 없이 다음 sibling 을 가져 옴\n",
    "print (rank3.a.get_text())"
   ]
  },
  {
   "cell_type": "markdown",
   "metadata": {},
   "source": [
    "### 한번에 형제자매 정보를 모두 가져오기"
   ]
  },
  {
   "cell_type": "code",
   "execution_count": 25,
   "metadata": {},
   "outputs": [
    {
     "data": {
      "text/plain": [
       "[<li class=\"rank02\">\n",
       " <a href=\"/webtoon/detail.nhn?titleId=597447&amp;no=354\" onclick=\"nclk_v2(event,'rnk*p.cont','597447','2')\" title=\"프리드로우-제351화 한태성의 적 (3)\">프리드로우-제351화 한태성의 적 (3)</a>\n",
       " <span class=\"rankBox\">\n",
       " <img alt=\"변동없음\" height=\"10\" src=\"https://ssl.pstatic.net/static/comic/images/migration/common/arrow_no.gif\" title=\"변동없음\" width=\"7\"/> 0\n",
       " \t\t\t\t\t\t\n",
       " \t\t\t\t\t\n",
       " \t\t\t\t</span>\n",
       " </li>,\n",
       " <li class=\"rank03\">\n",
       " <a href=\"/webtoon/detail.nhn?titleId=727188&amp;no=72\" onclick=\"nclk_v2(event,'rnk*p.cont','727188','3')\" title=\"취사병 전설이 되다-72화 : 포로수용소\">취사병 전설이 되다-72화 : 포로수용소</a>\n",
       " <span class=\"rankBox\">\n",
       " <img alt=\"변동없음\" height=\"10\" src=\"https://ssl.pstatic.net/static/comic/images/migration/common/arrow_no.gif\" title=\"변동없음\" width=\"7\"/> 0\n",
       " \t\t\t\t\t\t\n",
       " \t\t\t\t\t\n",
       " \t\t\t\t</span>\n",
       " </li>,\n",
       " <li class=\"rank04\">\n",
       " <a href=\"/webtoon/detail.nhn?titleId=650305&amp;no=276\" onclick=\"nclk_v2(event,'rnk*p.cont','650305','4')\" title=\"호랑이형님-2부193화 계교(計巧)\">호랑이형님-2부193화 계교(計巧)</a>\n",
       " <span class=\"rankBox\">\n",
       " <img alt=\"변동없음\" height=\"10\" src=\"https://ssl.pstatic.net/static/comic/images/migration/common/arrow_no.gif\" title=\"변동없음\" width=\"7\"/> 0\n",
       " \t\t\t\t\t\t\n",
       " \t\t\t\t\t\n",
       " \t\t\t\t</span>\n",
       " </li>,\n",
       " <li class=\"rank05\">\n",
       " <a href=\"/webtoon/detail.nhn?titleId=737018&amp;no=41\" onclick=\"nclk_v2(event,'rnk*p.cont','737018','5')\" title=\"회춘-41화 요양원 4화\">회춘-41화 요양원 4화</a>\n",
       " <span class=\"rankBox\">\n",
       " <img alt=\"변동없음\" height=\"10\" src=\"https://ssl.pstatic.net/static/comic/images/migration/common/arrow_no.gif\" title=\"변동없음\" width=\"7\"/> 0\n",
       " \t\t\t\t\t\t\n",
       " \t\t\t\t\t\n",
       " \t\t\t\t</span>\n",
       " </li>,\n",
       " <li class=\"rank06\">\n",
       " <a href=\"/webtoon/detail.nhn?titleId=721948&amp;no=87\" onclick=\"nclk_v2(event,'rnk*p.cont','721948','6')\" title=\"스터디그룹-87화\">스터디그룹-87화</a>\n",
       " <span class=\"rankBox\">\n",
       " <img alt=\"변동없음\" height=\"10\" src=\"https://ssl.pstatic.net/static/comic/images/migration/common/arrow_no.gif\" title=\"변동없음\" width=\"7\"/> 0\n",
       " \t\t\t\t\t\t\n",
       " \t\t\t\t\t\n",
       " \t\t\t\t</span>\n",
       " </li>,\n",
       " <li class=\"rank07\">\n",
       " <a href=\"/webtoon/detail.nhn?titleId=730694&amp;no=61\" onclick=\"nclk_v2(event,'rnk*p.cont','730694','7')\" title=\"초인의 시대-60화\">초인의 시대-60화</a>\n",
       " <span class=\"rankBox\">\n",
       " <img alt=\"변동없음\" height=\"10\" src=\"https://ssl.pstatic.net/static/comic/images/migration/common/arrow_no.gif\" title=\"변동없음\" width=\"7\"/> 0\n",
       " \t\t\t\t\t\t\n",
       " \t\t\t\t\t\n",
       " \t\t\t\t</span>\n",
       " </li>,\n",
       " <li class=\"rank08\">\n",
       " <a href=\"/webtoon/detail.nhn?titleId=703843&amp;no=123\" onclick=\"nclk_v2(event,'rnk*p.cont','703843','8')\" title=\"비질란테-123화\">비질란테-123화</a>\n",
       " <span class=\"rankBox\">\n",
       " <img alt=\"변동없음\" height=\"10\" src=\"https://ssl.pstatic.net/static/comic/images/migration/common/arrow_no.gif\" title=\"변동없음\" width=\"7\"/> 0\n",
       " \t\t\t\t\t\t\n",
       " \t\t\t\t\t\n",
       " \t\t\t\t</span>\n",
       " </li>,\n",
       " <li class=\"rank09\">\n",
       " <a href=\"/webtoon/detail.nhn?titleId=728015&amp;no=141\" onclick=\"nclk_v2(event,'rnk*p.cont','728015','9')\" title=\"모죠의 일지-141화. 수강신청하는 만화\">모죠의 일지-141화. 수강신청하는 만화</a>\n",
       " <span class=\"rankBox\">\n",
       " <img alt=\"변동없음\" height=\"10\" src=\"https://ssl.pstatic.net/static/comic/images/migration/common/arrow_no.gif\" title=\"변동없음\" width=\"7\"/> 0\n",
       " \t\t\t\t\t\t\n",
       " \t\t\t\t\t\n",
       " \t\t\t\t</span>\n",
       " </li>,\n",
       " <li class=\"rank10\">\n",
       " <a href=\"/webtoon/detail.nhn?titleId=750582&amp;no=8\" onclick=\"nclk_v2(event,'rnk*p.cont','750582','10')\" title=\"광해의 연인-8화\">광해의 연인-8화</a>\n",
       " <span class=\"rankBox\">\n",
       " <img alt=\"변동없음\" height=\"10\" src=\"https://ssl.pstatic.net/static/comic/images/migration/common/arrow_no.gif\" title=\"변동없음\" width=\"7\"/> 0\n",
       " \t\t\t\t\t\t\n",
       " \t\t\t\t\t\n",
       " \t\t\t\t</span>\n",
       " </li>]"
      ]
     },
     "execution_count": 25,
     "metadata": {},
     "output_type": "execute_result"
    }
   ],
   "source": [
    "rank1.find_next_siblings(\"li\")"
   ]
  },
  {
   "cell_type": "code",
   "execution_count": 26,
   "metadata": {},
   "outputs": [
    {
     "name": "stdout",
     "output_type": "stream",
     "text": [
      "None\n"
     ]
    }
   ],
   "source": [
    "webtoon = soup.find(\"a\", text=\"삼시세끼 국밥만을 고집하는 거구의 소년 '국장환‘ 과 대회 상금을 노리는 재벌집 딸 '이송희' 가 한 팀이 되어 국밥왕 대회 제패에 나선다.\")\n",
    "print(webtoon)"
   ]
  },
  {
   "cell_type": "code",
   "execution_count": null,
   "metadata": {},
   "outputs": [],
   "source": []
  },
  {
   "cell_type": "code",
   "execution_count": null,
   "metadata": {},
   "outputs": [],
   "source": []
  }
 ],
 "metadata": {
  "kernelspec": {
   "display_name": "Python 3",
   "language": "python",
   "name": "python3"
  },
  "language_info": {
   "codemirror_mode": {
    "name": "ipython",
    "version": 3
   },
   "file_extension": ".py",
   "mimetype": "text/x-python",
   "name": "python",
   "nbconvert_exporter": "python",
   "pygments_lexer": "ipython3",
   "version": "3.8.5"
  }
 },
 "nbformat": 4,
 "nbformat_minor": 4
}
