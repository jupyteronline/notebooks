{
 "cells": [
  {
   "cell_type": "markdown",
   "metadata": {},
   "source": [
    "### 셀레늄\n",
    "\n",
    "브라우저 이동이 필요한 키워드 검색에 필요\n",
    "\n",
    "* 페이지 로딩(셀레늄)은 로컬 PC 작업이 기본"
   ]
  },
  {
   "cell_type": "raw",
   "metadata": {},
   "source": [
    "# 사전작업\n",
    "1. 브라우저 버젼에 맞는 chromdriver 설치 필요\n",
    "2. 크롬브라우저 검색창에서 chrome://version/ 를 타이핑하여 버전 체크\n",
    "3. chromedriver 설치\n",
    "    3-1. 해당 버전 다운로드\n",
    "    3-2. 압축해제\n",
    "    3-3. ipynb 노트북 파일 위치로, 드라이버 파일 이동 (폴더 없이)\n",
    "4. 로컬 PC 에서 시작하기\n",
    "    4-1. cd dsstack # 디렉토리 위치 이동\n",
    "    4-2. cmd # 명령창 띄우기\n",
    "    4-3. jupyter notebook # jupyter 서버 시작하기"
   ]
  },
  {
   "cell_type": "markdown",
   "metadata": {},
   "source": [
    "### 로컬 PC 에서 주피터 노트북 및 필요 패키지 설치\n",
    "#pip install selenium"
   ]
  },
  {
   "cell_type": "code",
   "execution_count": 1,
   "metadata": {},
   "outputs": [],
   "source": [
    "import time\n",
    "from selenium import webdriver\n",
    "from selenium.webdriver.common.by import By\n",
    "from selenium.webdriver.support.ui import WebDriverWait\n",
    "from selenium.webdriver.support import expected_conditions as EC"
   ]
  },
  {
   "cell_type": "code",
   "execution_count": 2,
   "metadata": {},
   "outputs": [],
   "source": [
    "browser = webdriver.Chrome(\"chromedriver.exe\")"
   ]
  },
  {
   "cell_type": "code",
   "execution_count": 3,
   "metadata": {},
   "outputs": [],
   "source": [
    "browser.maximize_window() # 최대화"
   ]
  },
  {
   "cell_type": "markdown",
   "metadata": {},
   "source": [
    "### 1. 네이버 항공권 사이트로 이동"
   ]
  },
  {
   "cell_type": "code",
   "execution_count": 4,
   "metadata": {},
   "outputs": [],
   "source": [
    "url = \"https://flight.naver.com/flights/\"\n",
    "browser.get(url)"
   ]
  },
  {
   "cell_type": "code",
   "execution_count": null,
   "metadata": {},
   "outputs": [],
   "source": []
  },
  {
   "cell_type": "markdown",
   "metadata": {},
   "source": [
    "### 가는 날 선택 클릭"
   ]
  },
  {
   "cell_type": "code",
   "execution_count": 1,
   "metadata": {},
   "outputs": [
    {
     "ename": "NameError",
     "evalue": "name 'browser' is not defined",
     "output_type": "error",
     "traceback": [
      "\u001b[1;31m---------------------------------------------------------------------------\u001b[0m",
      "\u001b[1;31mNameError\u001b[0m                                 Traceback (most recent call last)",
      "\u001b[1;32m<ipython-input-1-a6a877a0b058>\u001b[0m in \u001b[0;36m<module>\u001b[1;34m\u001b[0m\n\u001b[1;32m----> 1\u001b[1;33m \u001b[0mbrowser\u001b[0m\u001b[1;33m.\u001b[0m\u001b[0mfind_element_by_link_text\u001b[0m\u001b[1;33m(\u001b[0m\u001b[1;34m\"블로그 검색\"\u001b[0m\u001b[1;33m)\u001b[0m\u001b[1;33m.\u001b[0m\u001b[0mclick\u001b[0m\u001b[1;33m(\u001b[0m\u001b[1;33m)\u001b[0m\u001b[1;33m\u001b[0m\u001b[1;33m\u001b[0m\u001b[0m\n\u001b[0m",
      "\u001b[1;31mNameError\u001b[0m: name 'browser' is not defined"
     ]
    }
   ],
   "source": [
    "browser.find_element_by_link_text(\"블로그 검색\").click()"
   ]
  },
  {
   "cell_type": "code",
   "execution_count": null,
   "metadata": {},
   "outputs": [],
   "source": []
  },
  {
   "cell_type": "raw",
   "metadata": {},
   "source": [
    "# 이번달 27일, 28일 선택\n",
    "browser.find_elements_by_link_text(\"27\")[0].click() # [0] -> 이번달\n",
    "browser.find_elements_by_link_text(\"28\")[0].click() # [0] -> 이번달"
   ]
  },
  {
   "cell_type": "code",
   "execution_count": null,
   "metadata": {},
   "outputs": [],
   "source": []
  },
  {
   "cell_type": "raw",
   "metadata": {},
   "source": [
    "# 다음달 27일, 28일 선택\n",
    "browser.find_elements_by_link_text(\"27\")[1].click() # [1] -> 다음달\n",
    "browser.find_elements_by_link_text(\"28\")[1].click() # [1] -> 다음달"
   ]
  },
  {
   "cell_type": "code",
   "execution_count": null,
   "metadata": {},
   "outputs": [],
   "source": []
  },
  {
   "cell_type": "code",
   "execution_count": 6,
   "metadata": {},
   "outputs": [],
   "source": [
    "# 이번달 27일, 다음달 28일 선택\n",
    "browser.find_elements_by_link_text(\"27\")[0].click() # [1] -> 다음달\n",
    "browser.find_elements_by_link_text(\"28\")[1].click() # [1] -> 다음달"
   ]
  },
  {
   "cell_type": "code",
   "execution_count": null,
   "metadata": {},
   "outputs": [],
   "source": []
  },
  {
   "cell_type": "code",
   "execution_count": 7,
   "metadata": {},
   "outputs": [],
   "source": [
    "# 제주도 선택\n",
    "browser.find_element_by_xpath(\"//*[@id='recommendationList']/ul/li[1]\").click()"
   ]
  },
  {
   "cell_type": "code",
   "execution_count": null,
   "metadata": {},
   "outputs": [],
   "source": []
  },
  {
   "cell_type": "code",
   "execution_count": 8,
   "metadata": {},
   "outputs": [],
   "source": [
    "# 힝공권 검색 선택\n",
    "browser.find_element_by_link_text(\"항공권 검색\").click()"
   ]
  },
  {
   "cell_type": "code",
   "execution_count": null,
   "metadata": {},
   "outputs": [],
   "source": []
  },
  {
   "cell_type": "code",
   "execution_count": 9,
   "metadata": {},
   "outputs": [
    {
     "name": "stdout",
     "output_type": "stream",
     "text": [
      "에어서울\n",
      "출발지\n",
      "GMP\n",
      "06:00\n",
      "도착지\n",
      "CJU\n",
      "07:00\n",
      "총 소요시간\n",
      "01시간 00분\n",
      "할인석\n",
      "편도 35,900원\n",
      "성인\n"
     ]
    }
   ],
   "source": [
    "# 해당 XPATH 에 해당하는 element 가 위치할 때 까지 최대 10초 대기\n",
    "\n",
    "try:\n",
    "    elem = WebDriverWait(browser, 10).until(EC.presence_of_element_located((By.XPATH, \"//*[@id='content']/div[2]/div/div[4]/ul/li[1]\")))\n",
    "    \n",
    "    # 성공했을 때, 첫번째 결과 출력\n",
    "    print(elem.text)\n",
    "finally:\n",
    "    browser.quit()"
   ]
  },
  {
   "cell_type": "code",
   "execution_count": null,
   "metadata": {},
   "outputs": [],
   "source": []
  }
 ],
 "metadata": {
  "kernelspec": {
   "display_name": "Python 3",
   "language": "python",
   "name": "python3"
  },
  "language_info": {
   "codemirror_mode": {
    "name": "ipython",
    "version": 3
   },
   "file_extension": ".py",
   "mimetype": "text/x-python",
   "name": "python",
   "nbconvert_exporter": "python",
   "pygments_lexer": "ipython3",
   "version": "3.8.3"
  }
 },
 "nbformat": 4,
 "nbformat_minor": 4
}
