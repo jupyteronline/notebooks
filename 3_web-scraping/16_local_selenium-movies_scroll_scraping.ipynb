{
 "cells": [
  {
   "cell_type": "markdown",
   "metadata": {},
   "source": [
    "### 동적으로 움직이는 페이지\n",
    "\n",
    "구글 인기영화 - 할인 중인 영화"
   ]
  },
  {
   "cell_type": "raw",
   "metadata": {},
   "source": [
    "* 셀레늄은 Docker 가 아닌 로컬 PC 에서 작업해야 함\n",
    "\n",
    "사전작업\n",
    "1. 브라우저 버젼에 맞는 chromdriver 설치 필요\n",
    "2. 크롬브라우저 검색창에서 chrome://version/ 를 타이핑하여 버전 체크\n",
    "3. chromedriver 설치\n",
    "    3-1. 해당 버전 다운로드\n",
    "    3-2. 압축해제\n",
    "    3-3. ipynb 노트북 파일 위치로, 드라이버 파일 이동 (폴더 없이)\n",
    "4. 로컬 PC 에서 시작하기\n",
    "    4-1. cd dsstack # 디렉토리 위치 이동\n",
    "    4-2. cmd # 명령창 띄우기\n",
    "    4-3. jupyter notebook # jupyter 서버 시작하기"
   ]
  },
  {
   "cell_type": "raw",
   "metadata": {},
   "source": [
    "# 로컬 PC 에서 주피터 노트북 및 필요 패키지 설치\n",
    "#pip install selenium"
   ]
  },
  {
   "cell_type": "markdown",
   "metadata": {},
   "source": [
    "### 페이지 로딩"
   ]
  },
  {
   "cell_type": "code",
   "execution_count": 1,
   "metadata": {},
   "outputs": [],
   "source": [
    "import time\n",
    "from selenium import webdriver\n",
    "# from selenium.webdriver.common.by import By\n",
    "# from selenium.webdriver.support.ui import WebDriverWait\n",
    "# from selenium.webdriver.support import expected_conditions as EC"
   ]
  },
  {
   "cell_type": "code",
   "execution_count": 2,
   "metadata": {},
   "outputs": [
    {
     "name": "stdout",
     "output_type": "stream",
     "text": [
      "1_html.ipynb\n",
      "10_bs4_cupang-pages.ipynb\n",
      "11_daum_movies.ipynb\n",
      "12_csv_stock.ipynb\n",
      "13_local_selenium.ipynb\n",
      "14_local_selenium-flight.ipynb\n",
      "15_local_selenium-movies.ipynb\n",
      "16_local_selenium-movies_scroll_scraping.ipynb\n",
      "17_local_headless_selenium-movies_scroll_scraping.ipynb\n",
      "18_local_headless_selenium-movies_scroll_scraping_user_agent.ipynb\n",
      "2_xpath.ipynb\n",
      "21_docker_headless_selenium_scraping_user_agent.ipynb\n",
      "3_requests.ipynb\n",
      "4_re.ipynb\n",
      "5_user_agent.ipynb\n",
      "6_bs4.ipynb\n",
      "7_bs4_webtoons.ipynb\n",
      "8_bs4_gauss.ipynb\n",
      "9_bs4_cupang.ipynb\n",
      "chromedriver.exe\n",
      "�쎒�뒪�겕�옒�븨.pdf\n",
      "荑좏뙜.png\n"
     ]
    }
   ],
   "source": [
    "!ls"
   ]
  },
  {
   "cell_type": "code",
   "execution_count": 3,
   "metadata": {},
   "outputs": [],
   "source": [
    "browser = webdriver.Chrome(\"chromedriver.exe\")\n",
    "browser.maximize_window() # 최대화"
   ]
  },
  {
   "cell_type": "code",
   "execution_count": 4,
   "metadata": {},
   "outputs": [],
   "source": [
    "url = \"https://play.google.com/store/movies/top\""
   ]
  },
  {
   "cell_type": "code",
   "execution_count": 5,
   "metadata": {},
   "outputs": [],
   "source": [
    "browser.get(url)"
   ]
  },
  {
   "cell_type": "code",
   "execution_count": 6,
   "metadata": {},
   "outputs": [],
   "source": [
    "# 보충 설명 : PC 해상도 확인 방법 : 바탕화면 > 마우스 우클릭 > 디스플레이 설정 메뉴에서 PC 해상도 확인 가능\n",
    "\n",
    "# 지정한 스크롤 내리기 > 모니터(해상도) 높이인 1080 위치로 스크롤 내리기\n",
    "#browser.execute_script(\"window.scrollTo(0,1080)\") # 내 PC 해상도 : 1920 x 1080"
   ]
  },
  {
   "cell_type": "code",
   "execution_count": 7,
   "metadata": {},
   "outputs": [],
   "source": [
    "# 화면 가장 아래로 스크롤 내리기\n",
    "#browser.execute_script(\"window.scrollTo(0,document.body.scrollHeight)\") # 내 PC 해상도 : 1920 x 1080"
   ]
  },
  {
   "cell_type": "code",
   "execution_count": 7,
   "metadata": {},
   "outputs": [],
   "source": [
    "# 2초에 한번씩 스크롤 내림\n",
    "interval = 2 "
   ]
  },
  {
   "cell_type": "code",
   "execution_count": 8,
   "metadata": {},
   "outputs": [],
   "source": [
    "# 현재 문서 높이를 가져와서 저장\n",
    "prev_height = browser.execute_script(\"return document.body.scrollHeight\")"
   ]
  },
  {
   "cell_type": "code",
   "execution_count": 9,
   "metadata": {},
   "outputs": [],
   "source": [
    "# 무한 반복 수행\n",
    "while True:\n",
    "    # 스크롤을 가장 아래로 내림\n",
    "    browser.execute_script(\"window.scrollTo(0, document.body.scrollHeight)\") \n",
    "    \n",
    "    # 페이지 로딩 대기\n",
    "    time.sleep(interval)\n",
    "    \n",
    "    # 현재 문서 뫂이를 가져와서 저장\n",
    "    curr_height = browser.execute_script(\"return document.body.scrollHeight\")\n",
    "    if curr_height == prev_height:\n",
    "        break\n",
    "        \n",
    "    prev_height = curr_height"
   ]
  },
  {
   "cell_type": "code",
   "execution_count": 10,
   "metadata": {},
   "outputs": [
    {
     "name": "stdout",
     "output_type": "stream",
     "text": [
      "스크롤 완료\n"
     ]
    }
   ],
   "source": [
    "print(\"스크롤 완료\")"
   ]
  },
  {
   "cell_type": "code",
   "execution_count": null,
   "metadata": {},
   "outputs": [],
   "source": []
  },
  {
   "cell_type": "markdown",
   "metadata": {},
   "source": [
    "### 스크래핑"
   ]
  },
  {
   "cell_type": "code",
   "execution_count": 11,
   "metadata": {},
   "outputs": [],
   "source": [
    "import requests\n",
    "from bs4 import BeautifulSoup"
   ]
  },
  {
   "cell_type": "code",
   "execution_count": 12,
   "metadata": {},
   "outputs": [],
   "source": [
    "soup = BeautifulSoup(browser.page_source, \"lxml\")"
   ]
  },
  {
   "cell_type": "code",
   "execution_count": 13,
   "metadata": {},
   "outputs": [],
   "source": [
    "movies = soup.find_all(\"div\", attrs={\"class\":\"Vpfmgd\"})\n",
    "\n",
    "# 복수게 Class 는 List 로\n",
    "#movies = soup.find_all(\"div\", attrs={\"class\":[\"ImZGtf mpg5gc\",\"Vpfmgd\"]}) "
   ]
  },
  {
   "cell_type": "code",
   "execution_count": 14,
   "metadata": {},
   "outputs": [
    {
     "name": "stdout",
     "output_type": "stream",
     "text": [
      "200\n"
     ]
    }
   ],
   "source": [
    "print(len(movies))"
   ]
  },
  {
   "cell_type": "code",
   "execution_count": 15,
   "metadata": {},
   "outputs": [],
   "source": [
    "# with open(\"movie.html\", \"w\", encoding=\"utf-8-sig\") as f:\n",
    "#     #f.write(res.text)\n",
    "#     f.write(soup.prettify()) # html 문서를 예쁘게 출력"
   ]
  },
  {
   "cell_type": "code",
   "execution_count": 16,
   "metadata": {},
   "outputs": [
    {
     "name": "stdout",
     "output_type": "stream",
     "text": [
      "제목 : 베놈   Venom\n",
      "할인 전 가격 : ₩1,800\n",
      "할인 가격 : ₩900\n",
      "링크 : https://play.google.com/store/movies/details/%EB%B2%A0%EB%86%88_Venom?id=uEv-FGwTDEw\n",
      "------------------------------------------------------------------------------------------------------------------------\n",
      "제목 : 블러드샷\n",
      "할인 전 가격 : ₩3,500\n",
      "할인 가격 : ₩1,800\n",
      "링크 : https://play.google.com/store/movies/details/%EB%B8%94%EB%9F%AC%EB%93%9C%EC%83%B7?id=xu4ldemoFN4.P\n",
      "------------------------------------------------------------------------------------------------------------------------\n",
      "제목 : 온워드: 단 하루의 기적\n",
      "할인 전 가격 : ₩11,000\n",
      "할인 가격 : ₩4,400\n",
      "링크 : https://play.google.com/store/movies/details/%EC%98%A8%EC%9B%8C%EB%93%9C_%EB%8B%A8_%ED%95%98%EB%A3%A8%EC%9D%98_%EA%B8%B0%EC%A0%81?id=fCwq2DL1fDY.P\n",
      "------------------------------------------------------------------------------------------------------------------------\n",
      "제목 : 콜 오브 와일드\n",
      "할인 전 가격 : ₩4,500\n",
      "할인 가격 : ₩2,500\n",
      "링크 : https://play.google.com/store/movies/details/%EC%BD%9C_%EC%98%A4%EB%B8%8C_%EC%99%80%EC%9D%BC%EB%93%9C?id=SjyZR7ruUGw.P\n",
      "------------------------------------------------------------------------------------------------------------------------\n",
      "제목 : 조조 래빗\n",
      "할인 전 가격 : ₩4,500\n",
      "할인 가격 : ₩2,500\n",
      "링크 : https://play.google.com/store/movies/details/%EC%A1%B0%EC%A1%B0_%EB%9E%98%EB%B9%97?id=gMv4o5poB1o.P\n",
      "------------------------------------------------------------------------------------------------------------------------\n",
      "제목 : 밤쉘: 세상을 바꾼 폭탄선언\n",
      "할인 전 가격 : ₩10,000\n",
      "할인 가격 : ₩7,000\n",
      "링크 : https://play.google.com/store/movies/details/%EB%B0%A4%EC%89%98_%EC%84%B8%EC%83%81%EC%9D%84_%EB%B0%94%EA%BE%BC_%ED%8F%AD%ED%83%84%EC%84%A0%EC%96%B8?id=pAKn6PuNY4M.P\n",
      "------------------------------------------------------------------------------------------------------------------------\n",
      "제목 : 장난스런 키스\n",
      "할인 전 가격 : ₩2,500\n",
      "할인 가격 : ₩1,200\n",
      "링크 : https://play.google.com/store/movies/details/%EC%9E%A5%EB%82%9C%EC%8A%A4%EB%9F%B0_%ED%82%A4%EC%8A%A4?id=MiR3ISA2PX8.P\n",
      "------------------------------------------------------------------------------------------------------------------------\n",
      "제목 : 바이스\n",
      "할인 전 가격 : ₩2,500\n",
      "할인 가격 : ₩1,000\n",
      "링크 : https://play.google.com/store/movies/details/%EB%B0%94%EC%9D%B4%EC%8A%A4?id=hxddvtCgplw.P\n",
      "------------------------------------------------------------------------------------------------------------------------\n"
     ]
    }
   ],
   "source": [
    "# 할인된 영화 목록 정리\n",
    "for movie in movies:\n",
    "    title = movie.find(\"div\", attrs={\"class\":\"WsMG1c nnK0zc\"}).get_text()\n",
    "\n",
    "    # 할인 전 가격\n",
    "    original_price = movie.find(\"span\", attrs={\"class\":\"SUZt4c djCuy\"})\n",
    "    if original_price:\n",
    "        original_price = original_price.get_text()\n",
    "    else:\n",
    "        #print(title, \"<할인되지 않는 영화 제외>\")\n",
    "        continue\n",
    "        \n",
    "    # 할인된 가격\n",
    "    price = movie.find(\"span\", attrs={\"class\":\"VfPpfd ZdBevf i5DZme\"}).get_text()\n",
    "    \n",
    "    # 링크\n",
    "    link = movie.find(\"a\", attrs={\"class\":\"JC71ub\"})[\"href\"]\n",
    "    \n",
    "    # baseURL = \"https://play.google.com\"\n",
    "    \n",
    "    print(f\"제목 : {title}\")\n",
    "    print(f\"할인 전 가격 : {original_price}\")\n",
    "    print(f\"할인 가격 : {price}\")\n",
    "    print(f\"링크 : \" + \"https://play.google.com\" + link)\n",
    "    print(\"-\" * 120)"
   ]
  },
  {
   "cell_type": "code",
   "execution_count": 17,
   "metadata": {},
   "outputs": [],
   "source": [
    "# 브라우저 종료\n",
    "browser.quit()"
   ]
  },
  {
   "cell_type": "code",
   "execution_count": null,
   "metadata": {},
   "outputs": [],
   "source": []
  }
 ],
 "metadata": {
  "kernelspec": {
   "display_name": "Python 3",
   "language": "python",
   "name": "python3"
  },
  "language_info": {
   "codemirror_mode": {
    "name": "ipython",
    "version": 3
   },
   "file_extension": ".py",
   "mimetype": "text/x-python",
   "name": "python",
   "nbconvert_exporter": "python",
   "pygments_lexer": "ipython3",
   "version": "3.8.3"
  }
 },
 "nbformat": 4,
 "nbformat_minor": 4
}
