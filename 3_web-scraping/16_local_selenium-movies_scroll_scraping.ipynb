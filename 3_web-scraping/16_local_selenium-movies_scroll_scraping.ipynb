{
 "cells": [
  {
   "cell_type": "markdown",
   "metadata": {},
   "source": [
    "### 동적으로 움직이는 페이지\n",
    "\n",
    "구글 인기영화 - 할인 중인 영화"
   ]
  },
  {
   "cell_type": "raw",
   "metadata": {},
   "source": [
    "* 셀레늄은 Docker 가 아닌 로컬 PC 에서 작업해야 함\n",
    "\n",
    "사전작업\n",
    "1. 브라우저 버젼에 맞는 chromdriver 설치 필요\n",
    "2. 크롬브라우저 검색창에서 chrome://version/ 를 타이핑하여 버전 체크\n",
    "3. chromedriver 설치\n",
    "    3-1. 해당 버전 다운로드\n",
    "    3-2. 압축해제\n",
    "    3-3. ipynb 노트북 파일 위치로, 드라이버 파일 이동 (폴더 없이)\n",
    "4. 로컬 PC 에서 시작하기\n",
    "    4-1. cd dsstack # 디렉토리 위치 이동\n",
    "    4-2. cmd # 명령창 띄우기\n",
    "    4-3. jupyter notebook # jupyter 서버 시작하기"
   ]
  },
  {
   "cell_type": "raw",
   "metadata": {},
   "source": [
    "# 로컬 PC 에서 주피터 노트북 및 필요 패키지 설치\n",
    "#pip install selenium"
   ]
  },
  {
   "cell_type": "markdown",
   "metadata": {},
   "source": [
    "### 페이지 로딩"
   ]
  },
  {
   "cell_type": "code",
   "execution_count": 1,
   "metadata": {},
   "outputs": [],
   "source": [
    "import time\n",
    "from selenium import webdriver\n",
    "# from selenium.webdriver.common.by import By\n",
    "# from selenium.webdriver.support.ui import WebDriverWait\n",
    "# from selenium.webdriver.support import expected_conditions as EC"
   ]
  },
  {
   "cell_type": "code",
   "execution_count": 2,
   "metadata": {},
   "outputs": [
    {
     "name": "stdout",
     "output_type": "stream",
     "text": [
      "10_bs4_cupang-pages.ipynb\r\n",
      "11_daum_movies.ipynb\r\n",
      "시가총액1-200.csv\r\n",
      "12_csv_stock.ipynb\r\n",
      "13_selenium.ipynb\r\n",
      "14_selenium-flight.ipynb\r\n",
      "15_selenium-movies.ipynb\r\n",
      "16_selenium-movies_scroll_scraping.ipynb\r\n",
      "17_headless_selenium-movies_scroll_scraping.ipynb\r\n",
      "18_headless_selenium-movies_scroll_scraping_user_agent-Copy1.ipynb\r\n",
      "18_headless_selenium-movies_scroll_scraping_user_agent.ipynb\r\n",
      "1_html.ipynb\r\n",
      "2_xpath.ipynb\r\n",
      "3_requests.ipynb\r\n",
      "4_re.ipynb\r\n",
      "5_user_agent.ipynb\r\n",
      "6_bs4.ipynb\r\n",
      "7_bs4_webtoons.ipynb\r\n",
      "8_bs4_gauss.ipynb\r\n",
      "9_bs4_cupang.ipynb\r\n",
      "chromedriver.exe\r\n",
      "chromedriver_linux\r\n",
      "google_movie.png\r\n",
      "movie.html\r\n",
      "nadocoding.html\r\n",
      "쿠팡.png\r\n",
      "Untitled.ipynb\r\n"
     ]
    }
   ],
   "source": [
    "!ls"
   ]
  },
  {
   "cell_type": "code",
   "execution_count": 3,
   "metadata": {},
   "outputs": [
    {
     "ename": "WebDriverException",
     "evalue": "Message: 'chromedriver.exe' executable needs to be in PATH. Please see https://sites.google.com/a/chromium.org/chromedriver/home\n",
     "output_type": "error",
     "traceback": [
      "\u001b[0;31m---------------------------------------------------------------------------\u001b[0m",
      "\u001b[0;31mFileNotFoundError\u001b[0m                         Traceback (most recent call last)",
      "\u001b[0;32m/opt/conda/lib/python3.8/site-packages/selenium/webdriver/common/service.py\u001b[0m in \u001b[0;36mstart\u001b[0;34m(self)\u001b[0m\n\u001b[1;32m     71\u001b[0m             \u001b[0mcmd\u001b[0m\u001b[0;34m.\u001b[0m\u001b[0mextend\u001b[0m\u001b[0;34m(\u001b[0m\u001b[0mself\u001b[0m\u001b[0;34m.\u001b[0m\u001b[0mcommand_line_args\u001b[0m\u001b[0;34m(\u001b[0m\u001b[0;34m)\u001b[0m\u001b[0;34m)\u001b[0m\u001b[0;34m\u001b[0m\u001b[0;34m\u001b[0m\u001b[0m\n\u001b[0;32m---> 72\u001b[0;31m             self.process = subprocess.Popen(cmd, env=self.env,\n\u001b[0m\u001b[1;32m     73\u001b[0m                                             \u001b[0mclose_fds\u001b[0m\u001b[0;34m=\u001b[0m\u001b[0mplatform\u001b[0m\u001b[0;34m.\u001b[0m\u001b[0msystem\u001b[0m\u001b[0;34m(\u001b[0m\u001b[0;34m)\u001b[0m \u001b[0;34m!=\u001b[0m \u001b[0;34m'Windows'\u001b[0m\u001b[0;34m,\u001b[0m\u001b[0;34m\u001b[0m\u001b[0;34m\u001b[0m\u001b[0m\n",
      "\u001b[0;32m/opt/conda/lib/python3.8/subprocess.py\u001b[0m in \u001b[0;36m__init__\u001b[0;34m(self, args, bufsize, executable, stdin, stdout, stderr, preexec_fn, close_fds, shell, cwd, env, universal_newlines, startupinfo, creationflags, restore_signals, start_new_session, pass_fds, encoding, errors, text)\u001b[0m\n\u001b[1;32m    853\u001b[0m \u001b[0;34m\u001b[0m\u001b[0m\n\u001b[0;32m--> 854\u001b[0;31m             self._execute_child(args, executable, preexec_fn, close_fds,\n\u001b[0m\u001b[1;32m    855\u001b[0m                                 \u001b[0mpass_fds\u001b[0m\u001b[0;34m,\u001b[0m \u001b[0mcwd\u001b[0m\u001b[0;34m,\u001b[0m \u001b[0menv\u001b[0m\u001b[0;34m,\u001b[0m\u001b[0;34m\u001b[0m\u001b[0;34m\u001b[0m\u001b[0m\n",
      "\u001b[0;32m/opt/conda/lib/python3.8/subprocess.py\u001b[0m in \u001b[0;36m_execute_child\u001b[0;34m(self, args, executable, preexec_fn, close_fds, pass_fds, cwd, env, startupinfo, creationflags, shell, p2cread, p2cwrite, c2pread, c2pwrite, errread, errwrite, restore_signals, start_new_session)\u001b[0m\n\u001b[1;32m   1701\u001b[0m                         \u001b[0merr_msg\u001b[0m \u001b[0;34m=\u001b[0m \u001b[0mos\u001b[0m\u001b[0;34m.\u001b[0m\u001b[0mstrerror\u001b[0m\u001b[0;34m(\u001b[0m\u001b[0merrno_num\u001b[0m\u001b[0;34m)\u001b[0m\u001b[0;34m\u001b[0m\u001b[0;34m\u001b[0m\u001b[0m\n\u001b[0;32m-> 1702\u001b[0;31m                     \u001b[0;32mraise\u001b[0m \u001b[0mchild_exception_type\u001b[0m\u001b[0;34m(\u001b[0m\u001b[0merrno_num\u001b[0m\u001b[0;34m,\u001b[0m \u001b[0merr_msg\u001b[0m\u001b[0;34m,\u001b[0m \u001b[0merr_filename\u001b[0m\u001b[0;34m)\u001b[0m\u001b[0;34m\u001b[0m\u001b[0;34m\u001b[0m\u001b[0m\n\u001b[0m\u001b[1;32m   1703\u001b[0m                 \u001b[0;32mraise\u001b[0m \u001b[0mchild_exception_type\u001b[0m\u001b[0;34m(\u001b[0m\u001b[0merr_msg\u001b[0m\u001b[0;34m)\u001b[0m\u001b[0;34m\u001b[0m\u001b[0;34m\u001b[0m\u001b[0m\n",
      "\u001b[0;31mFileNotFoundError\u001b[0m: [Errno 2] No such file or directory: 'chromedriver.exe'",
      "\nDuring handling of the above exception, another exception occurred:\n",
      "\u001b[0;31mWebDriverException\u001b[0m                        Traceback (most recent call last)",
      "\u001b[0;32m<ipython-input-3-26e535b160a4>\u001b[0m in \u001b[0;36m<module>\u001b[0;34m\u001b[0m\n\u001b[0;32m----> 1\u001b[0;31m \u001b[0mbrowser\u001b[0m \u001b[0;34m=\u001b[0m \u001b[0mwebdriver\u001b[0m\u001b[0;34m.\u001b[0m\u001b[0mChrome\u001b[0m\u001b[0;34m(\u001b[0m\u001b[0;34m\"chromedriver.exe\"\u001b[0m\u001b[0;34m)\u001b[0m\u001b[0;34m\u001b[0m\u001b[0;34m\u001b[0m\u001b[0m\n\u001b[0m\u001b[1;32m      2\u001b[0m \u001b[0mbrowser\u001b[0m\u001b[0;34m.\u001b[0m\u001b[0mmaximize_window\u001b[0m\u001b[0;34m(\u001b[0m\u001b[0;34m)\u001b[0m \u001b[0;31m# 최대화\u001b[0m\u001b[0;34m\u001b[0m\u001b[0;34m\u001b[0m\u001b[0m\n",
      "\u001b[0;32m/opt/conda/lib/python3.8/site-packages/selenium/webdriver/chrome/webdriver.py\u001b[0m in \u001b[0;36m__init__\u001b[0;34m(self, executable_path, port, options, service_args, desired_capabilities, service_log_path, chrome_options, keep_alive)\u001b[0m\n\u001b[1;32m     71\u001b[0m             \u001b[0mservice_args\u001b[0m\u001b[0;34m=\u001b[0m\u001b[0mservice_args\u001b[0m\u001b[0;34m,\u001b[0m\u001b[0;34m\u001b[0m\u001b[0;34m\u001b[0m\u001b[0m\n\u001b[1;32m     72\u001b[0m             log_path=service_log_path)\n\u001b[0;32m---> 73\u001b[0;31m         \u001b[0mself\u001b[0m\u001b[0;34m.\u001b[0m\u001b[0mservice\u001b[0m\u001b[0;34m.\u001b[0m\u001b[0mstart\u001b[0m\u001b[0;34m(\u001b[0m\u001b[0;34m)\u001b[0m\u001b[0;34m\u001b[0m\u001b[0;34m\u001b[0m\u001b[0m\n\u001b[0m\u001b[1;32m     74\u001b[0m \u001b[0;34m\u001b[0m\u001b[0m\n\u001b[1;32m     75\u001b[0m         \u001b[0;32mtry\u001b[0m\u001b[0;34m:\u001b[0m\u001b[0;34m\u001b[0m\u001b[0;34m\u001b[0m\u001b[0m\n",
      "\u001b[0;32m/opt/conda/lib/python3.8/site-packages/selenium/webdriver/common/service.py\u001b[0m in \u001b[0;36mstart\u001b[0;34m(self)\u001b[0m\n\u001b[1;32m     79\u001b[0m         \u001b[0;32mexcept\u001b[0m \u001b[0mOSError\u001b[0m \u001b[0;32mas\u001b[0m \u001b[0merr\u001b[0m\u001b[0;34m:\u001b[0m\u001b[0;34m\u001b[0m\u001b[0;34m\u001b[0m\u001b[0m\n\u001b[1;32m     80\u001b[0m             \u001b[0;32mif\u001b[0m \u001b[0merr\u001b[0m\u001b[0;34m.\u001b[0m\u001b[0merrno\u001b[0m \u001b[0;34m==\u001b[0m \u001b[0merrno\u001b[0m\u001b[0;34m.\u001b[0m\u001b[0mENOENT\u001b[0m\u001b[0;34m:\u001b[0m\u001b[0;34m\u001b[0m\u001b[0;34m\u001b[0m\u001b[0m\n\u001b[0;32m---> 81\u001b[0;31m                 raise WebDriverException(\n\u001b[0m\u001b[1;32m     82\u001b[0m                     \"'%s' executable needs to be in PATH. %s\" % (\n\u001b[1;32m     83\u001b[0m                         os.path.basename(self.path), self.start_error_message)\n",
      "\u001b[0;31mWebDriverException\u001b[0m: Message: 'chromedriver.exe' executable needs to be in PATH. Please see https://sites.google.com/a/chromium.org/chromedriver/home\n"
     ]
    }
   ],
   "source": [
    "browser = webdriver.Chrome(\"chromedriver.exe\")\n",
    "browser.maximize_window() # 최대화"
   ]
  },
  {
   "cell_type": "code",
   "execution_count": 3,
   "metadata": {},
   "outputs": [],
   "source": [
    "url = \"https://play.google.com/store/movies/top\""
   ]
  },
  {
   "cell_type": "code",
   "execution_count": 4,
   "metadata": {},
   "outputs": [],
   "source": [
    "browser.get(url)"
   ]
  },
  {
   "cell_type": "code",
   "execution_count": 5,
   "metadata": {},
   "outputs": [],
   "source": [
    "# 보충 설명 : PC 해상도 확인 방법 : 바탕화면 > 마우스 우클릭 > 디스플레이 설정 메뉴에서 PC 해상도 확인 가능\n",
    "\n",
    "# 지정한 스크롤 내리기 > 모니터(해상도) 높이인 1080 위치로 스크롤 내리기\n",
    "#browser.execute_script(\"window.scrollTo(0,1080)\") # 내 PC 해상도 : 1920 x 1080"
   ]
  },
  {
   "cell_type": "code",
   "execution_count": 6,
   "metadata": {},
   "outputs": [],
   "source": [
    "# 화면 가장 아래로 스크롤 내리기\n",
    "#browser.execute_script(\"window.scrollTo(0,document.body.scrollHeight)\") # 내 PC 해상도 : 1920 x 1080"
   ]
  },
  {
   "cell_type": "code",
   "execution_count": 7,
   "metadata": {},
   "outputs": [],
   "source": [
    "# 2초에 한번씩 스크롤 내림\n",
    "interval = 2 "
   ]
  },
  {
   "cell_type": "code",
   "execution_count": 8,
   "metadata": {},
   "outputs": [],
   "source": [
    "# 현재 문서 높이를 가져와서 저장\n",
    "prev_height = browser.execute_script(\"return document.body.scrollHeight\")"
   ]
  },
  {
   "cell_type": "code",
   "execution_count": 9,
   "metadata": {},
   "outputs": [],
   "source": [
    "# 무한 반복 수행\n",
    "while True:\n",
    "    # 스크롤을 가장 아래로 내림\n",
    "    browser.execute_script(\"window.scrollTo(0, document.body.scrollHeight)\") \n",
    "    \n",
    "    # 페이지 로딩 대기\n",
    "    time.sleep(interval)\n",
    "    \n",
    "    # 현재 문서 뫂이를 가져와서 저장\n",
    "    curr_height = browser.execute_script(\"return document.body.scrollHeight\")\n",
    "    if curr_height == prev_height:\n",
    "        break\n",
    "        \n",
    "    prev_height = curr_height"
   ]
  },
  {
   "cell_type": "code",
   "execution_count": 10,
   "metadata": {},
   "outputs": [
    {
     "name": "stdout",
     "output_type": "stream",
     "text": [
      "스크롤 완료\n"
     ]
    }
   ],
   "source": [
    "print(\"스크롤 완료\")"
   ]
  },
  {
   "cell_type": "code",
   "execution_count": null,
   "metadata": {},
   "outputs": [],
   "source": []
  },
  {
   "cell_type": "markdown",
   "metadata": {},
   "source": [
    "### 스크래핑"
   ]
  },
  {
   "cell_type": "code",
   "execution_count": 11,
   "metadata": {},
   "outputs": [],
   "source": [
    "import requests\n",
    "from bs4 import BeautifulSoup"
   ]
  },
  {
   "cell_type": "code",
   "execution_count": 12,
   "metadata": {},
   "outputs": [],
   "source": [
    "soup = BeautifulSoup(browser.page_source, \"lxml\")"
   ]
  },
  {
   "cell_type": "code",
   "execution_count": 13,
   "metadata": {},
   "outputs": [],
   "source": [
    "movies = soup.find_all(\"div\", attrs={\"class\":\"Vpfmgd\"})\n",
    "\n",
    "# 복수게 Class 는 List 로\n",
    "#movies = soup.find_all(\"div\", attrs={\"class\":[\"ImZGtf mpg5gc\",\"Vpfmgd\"]}) "
   ]
  },
  {
   "cell_type": "code",
   "execution_count": 14,
   "metadata": {},
   "outputs": [
    {
     "name": "stdout",
     "output_type": "stream",
     "text": [
      "200\n"
     ]
    }
   ],
   "source": [
    "print(len(movies))"
   ]
  },
  {
   "cell_type": "code",
   "execution_count": 15,
   "metadata": {},
   "outputs": [],
   "source": [
    "# with open(\"movie.html\", \"w\", encoding=\"utf-8-sig\") as f:\n",
    "#     #f.write(res.text)\n",
    "#     f.write(soup.prettify()) # html 문서를 예쁘게 출력"
   ]
  },
  {
   "cell_type": "code",
   "execution_count": 16,
   "metadata": {},
   "outputs": [
    {
     "name": "stdout",
     "output_type": "stream",
     "text": [
      "제목 : 베놈   Venom\n",
      "할인 전 가격 : ₩1,800\n",
      "할인 가격 : ₩900\n",
      "링크 : https://play.google.com/store/movies/details/%EB%B2%A0%EB%86%88_Venom?id=uEv-FGwTDEw\n",
      "------------------------------------------------------------------------------------------------------------------------\n",
      "제목 : 블러드샷\n",
      "할인 전 가격 : ₩3,500\n",
      "할인 가격 : ₩1,800\n",
      "링크 : https://play.google.com/store/movies/details/%EB%B8%94%EB%9F%AC%EB%93%9C%EC%83%B7?id=xu4ldemoFN4.P\n",
      "------------------------------------------------------------------------------------------------------------------------\n",
      "제목 : 온워드: 단 하루의 기적\n",
      "할인 전 가격 : ₩11,000\n",
      "할인 가격 : ₩4,400\n",
      "링크 : https://play.google.com/store/movies/details/%EC%98%A8%EC%9B%8C%EB%93%9C_%EB%8B%A8_%ED%95%98%EB%A3%A8%EC%9D%98_%EA%B8%B0%EC%A0%81?id=fCwq2DL1fDY.P\n",
      "------------------------------------------------------------------------------------------------------------------------\n",
      "제목 : 콜 오브 와일드\n",
      "할인 전 가격 : ₩4,500\n",
      "할인 가격 : ₩2,500\n",
      "링크 : https://play.google.com/store/movies/details/%EC%BD%9C_%EC%98%A4%EB%B8%8C_%EC%99%80%EC%9D%BC%EB%93%9C?id=SjyZR7ruUGw.P\n",
      "------------------------------------------------------------------------------------------------------------------------\n",
      "제목 : 조조 래빗\n",
      "할인 전 가격 : ₩4,500\n",
      "할인 가격 : ₩2,500\n",
      "링크 : https://play.google.com/store/movies/details/%EC%A1%B0%EC%A1%B0_%EB%9E%98%EB%B9%97?id=gMv4o5poB1o.P\n",
      "------------------------------------------------------------------------------------------------------------------------\n",
      "제목 : 밤쉘: 세상을 바꾼 폭탄선언\n",
      "할인 전 가격 : ₩10,000\n",
      "할인 가격 : ₩7,000\n",
      "링크 : https://play.google.com/store/movies/details/%EB%B0%A4%EC%89%98_%EC%84%B8%EC%83%81%EC%9D%84_%EB%B0%94%EA%BE%BC_%ED%8F%AD%ED%83%84%EC%84%A0%EC%96%B8?id=pAKn6PuNY4M.P\n",
      "------------------------------------------------------------------------------------------------------------------------\n",
      "제목 : 장난스런 키스\n",
      "할인 전 가격 : ₩2,500\n",
      "할인 가격 : ₩1,200\n",
      "링크 : https://play.google.com/store/movies/details/%EC%9E%A5%EB%82%9C%EC%8A%A4%EB%9F%B0_%ED%82%A4%EC%8A%A4?id=MiR3ISA2PX8.P\n",
      "------------------------------------------------------------------------------------------------------------------------\n",
      "제목 : 바이스\n",
      "할인 전 가격 : ₩2,500\n",
      "할인 가격 : ₩1,000\n",
      "링크 : https://play.google.com/store/movies/details/%EB%B0%94%EC%9D%B4%EC%8A%A4?id=hxddvtCgplw.P\n",
      "------------------------------------------------------------------------------------------------------------------------\n"
     ]
    }
   ],
   "source": [
    "# 할인된 영화 목록 정리\n",
    "for movie in movies:\n",
    "    title = movie.find(\"div\", attrs={\"class\":\"WsMG1c nnK0zc\"}).get_text()\n",
    "\n",
    "    # 할인 전 가격\n",
    "    original_price = movie.find(\"span\", attrs={\"class\":\"SUZt4c djCuy\"})\n",
    "    if original_price:\n",
    "        original_price = original_price.get_text()\n",
    "    else:\n",
    "        #print(title, \"<할인되지 않는 영화 제외>\")\n",
    "        continue\n",
    "        \n",
    "    # 할인된 가격\n",
    "    price = movie.find(\"span\", attrs={\"class\":\"VfPpfd ZdBevf i5DZme\"}).get_text()\n",
    "    \n",
    "    # 링크\n",
    "    link = movie.find(\"a\", attrs={\"class\":\"JC71ub\"})[\"href\"]\n",
    "    \n",
    "    # baseURL = \"https://play.google.com\"\n",
    "    \n",
    "    print(f\"제목 : {title}\")\n",
    "    print(f\"할인 전 가격 : {original_price}\")\n",
    "    print(f\"할인 가격 : {price}\")\n",
    "    print(f\"링크 : \" + \"https://play.google.com\" + link)\n",
    "    print(\"-\" * 120)"
   ]
  },
  {
   "cell_type": "code",
   "execution_count": 17,
   "metadata": {},
   "outputs": [],
   "source": [
    "# 브라우저 종료\n",
    "browser.quit()"
   ]
  },
  {
   "cell_type": "code",
   "execution_count": null,
   "metadata": {},
   "outputs": [],
   "source": []
  }
 ],
 "metadata": {
  "kernelspec": {
   "display_name": "Python 3",
   "language": "python",
   "name": "python3"
  },
  "language_info": {
   "codemirror_mode": {
    "name": "ipython",
    "version": 3
   },
   "file_extension": ".py",
   "mimetype": "text/x-python",
   "name": "python",
   "nbconvert_exporter": "python",
   "pygments_lexer": "ipython3",
   "version": "3.8.5"
  }
 },
 "nbformat": 4,
 "nbformat_minor": 4
}
