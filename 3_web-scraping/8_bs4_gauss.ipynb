{
 "cells": [
  {
   "cell_type": "code",
   "execution_count": 1,
   "metadata": {},
   "outputs": [],
   "source": [
    "import requests\n",
    "from bs4 import BeautifulSoup\n",
    "\n",
    "headers = {\"User-Agent\":\"Mozilla/5.0 (Windows NT 10.0; Win64; x64) AppleWebKit/537.36 (KHTML, like Gecko) Chrome/84.0.4147.135 Safari/537.36\"}\n",
    "url = \"https://comic.naver.com/webtoon/list.nhn?titleId=335885\"\n",
    "res = requests.get(url, headers=headers)\n",
    "res.raise_for_status() # 문제 있으면 프로그램 종료 시킬 것\n",
    "\n",
    "soup = BeautifulSoup(res.text, \"lxml\")"
   ]
  },
  {
   "cell_type": "markdown",
   "metadata": {},
   "source": [
    "### 제목과 링크 가져오기"
   ]
  },
  {
   "cell_type": "code",
   "execution_count": 2,
   "metadata": {},
   "outputs": [],
   "source": [
    "cartoons = soup.find_all('td', attrs={\"class\":\"title\"})"
   ]
  },
  {
   "cell_type": "code",
   "execution_count": 3,
   "metadata": {},
   "outputs": [],
   "source": [
    "title = cartoons[0].a.get_text()"
   ]
  },
  {
   "cell_type": "code",
   "execution_count": 4,
   "metadata": {},
   "outputs": [
    {
     "name": "stdout",
     "output_type": "stream",
     "text": [
      "250화 상식씨!\n"
     ]
    }
   ],
   "source": [
    "print(title)"
   ]
  },
  {
   "cell_type": "code",
   "execution_count": 5,
   "metadata": {},
   "outputs": [],
   "source": [
    "link = cartoons[0].a[\"href\"]"
   ]
  },
  {
   "cell_type": "code",
   "execution_count": 6,
   "metadata": {},
   "outputs": [
    {
     "name": "stdout",
     "output_type": "stream",
     "text": [
      "/webtoon/detail.nhn?titleId=335885&no=252&weekday=mon\n"
     ]
    }
   ],
   "source": [
    "print(link)"
   ]
  },
  {
   "cell_type": "code",
   "execution_count": 7,
   "metadata": {},
   "outputs": [],
   "source": [
    "baseurl = \"https://comic.naver.com\""
   ]
  },
  {
   "cell_type": "code",
   "execution_count": 8,
   "metadata": {},
   "outputs": [
    {
     "name": "stdout",
     "output_type": "stream",
     "text": [
      "https://comic.naver.com/webtoon/detail.nhn?titleId=335885&no=252&weekday=mon\n"
     ]
    }
   ],
   "source": [
    "print (baseurl + link)"
   ]
  },
  {
   "cell_type": "code",
   "execution_count": 9,
   "metadata": {},
   "outputs": [
    {
     "name": "stdout",
     "output_type": "stream",
     "text": [
      "250화 상식씨! https://comic.naver.com/webtoon/detail.nhn?titleId=335885&no=252&weekday=mon\n",
      "249화 이해 https://comic.naver.com/webtoon/detail.nhn?titleId=335885&no=251&weekday=mon\n",
      "248화 결재타이밍 https://comic.naver.com/webtoon/detail.nhn?titleId=335885&no=250&weekday=mon\n",
      "247화 남동생 https://comic.naver.com/webtoon/detail.nhn?titleId=335885&no=249&weekday=mon\n",
      "246화 도시농업 https://comic.naver.com/webtoon/detail.nhn?titleId=335885&no=248&weekday=mon\n",
      "245화 소개팅 https://comic.naver.com/webtoon/detail.nhn?titleId=335885&no=247&weekday=mon\n",
      "244화 다이어트식단 https://comic.naver.com/webtoon/detail.nhn?titleId=335885&no=246&weekday=mon\n",
      "243화 설계 https://comic.naver.com/webtoon/detail.nhn?titleId=335885&no=245&weekday=mon\n",
      "242화 보릿고개 https://comic.naver.com/webtoon/detail.nhn?titleId=335885&no=244&weekday=mon\n",
      "241화 용기 https://comic.naver.com/webtoon/detail.nhn?titleId=335885&no=243&weekday=mon\n"
     ]
    }
   ],
   "source": [
    "for cartoon in cartoons:\n",
    "    title = cartoon.a.get_text()\n",
    "    link = baseurl + cartoon.a[\"href\"]\n",
    "    print (title + \" \" + link)"
   ]
  },
  {
   "cell_type": "markdown",
   "metadata": {},
   "source": [
    "### 평점 가져오기"
   ]
  },
  {
   "cell_type": "code",
   "execution_count": 10,
   "metadata": {},
   "outputs": [],
   "source": [
    "cartoons = soup.find_all('div', attrs={\"class\":\"rating_type\"})"
   ]
  },
  {
   "cell_type": "code",
   "execution_count": 11,
   "metadata": {},
   "outputs": [
    {
     "name": "stdout",
     "output_type": "stream",
     "text": [
      "<div class=\"rating_type\">\n",
      "<span class=\"star\"><em style=\"width:99.57%\">평점</em></span>\n",
      "<strong>9.96</strong>\n",
      "</div>\n"
     ]
    }
   ],
   "source": [
    "print(cartoons[0])"
   ]
  },
  {
   "cell_type": "code",
   "execution_count": 12,
   "metadata": {},
   "outputs": [],
   "source": [
    "rate = cartoons[0].strong.get_text()"
   ]
  },
  {
   "cell_type": "code",
   "execution_count": 13,
   "metadata": {},
   "outputs": [
    {
     "name": "stdout",
     "output_type": "stream",
     "text": [
      "9.96\n"
     ]
    }
   ],
   "source": [
    "print(rate)"
   ]
  },
  {
   "cell_type": "code",
   "execution_count": 14,
   "metadata": {},
   "outputs": [],
   "source": [
    "rate = cartoons[0].find(\"strong\").get_text()"
   ]
  },
  {
   "cell_type": "code",
   "execution_count": 15,
   "metadata": {},
   "outputs": [
    {
     "name": "stdout",
     "output_type": "stream",
     "text": [
      "9.96\n"
     ]
    }
   ],
   "source": [
    "print(rate)"
   ]
  },
  {
   "cell_type": "code",
   "execution_count": 16,
   "metadata": {},
   "outputs": [
    {
     "name": "stdout",
     "output_type": "stream",
     "text": [
      "9.96\n",
      "9.96\n",
      "9.96\n",
      "9.96\n",
      "9.96\n",
      "9.96\n",
      "9.96\n",
      "9.94\n",
      "9.96\n",
      "9.95\n"
     ]
    }
   ],
   "source": [
    "total_rates = 0\n",
    "for cartoon in cartoons:\n",
    "    rate = cartoon.strong.get_text()\n",
    "    print(rate)\n",
    "    total_rates += float(rate)"
   ]
  },
  {
   "cell_type": "code",
   "execution_count": 17,
   "metadata": {},
   "outputs": [
    {
     "name": "stdout",
     "output_type": "stream",
     "text": [
      "전체 점수 :  99.57000000000001\n",
      "평균 점수 :  9.957\n"
     ]
    }
   ],
   "source": [
    "print(\"전체 점수 : \", total_rates)\n",
    "print(\"평균 점수 : \", total_rates / len(cartoons))"
   ]
  },
  {
   "cell_type": "code",
   "execution_count": null,
   "metadata": {},
   "outputs": [],
   "source": []
  }
 ],
 "metadata": {
  "kernelspec": {
   "display_name": "Python 3",
   "language": "python",
   "name": "python3"
  },
  "language_info": {
   "codemirror_mode": {
    "name": "ipython",
    "version": 3
   },
   "file_extension": ".py",
   "mimetype": "text/x-python",
   "name": "python",
   "nbconvert_exporter": "python",
   "pygments_lexer": "ipython3",
   "version": "3.8.5"
  }
 },
 "nbformat": 4,
 "nbformat_minor": 4
}
