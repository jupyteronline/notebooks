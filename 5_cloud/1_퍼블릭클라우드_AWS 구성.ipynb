{
 "cells": [
  {
   "cell_type": "markdown",
   "metadata": {},
   "source": [
    "# 1. 클라우드 계정 생성"
   ]
  },
  {
   "cell_type": "markdown",
   "metadata": {},
   "source": [
    "클라우드 서비스(AWS) 계정 생성\n",
    "\n",
    "https://burningrizen.tistory.com/18"
   ]
  },
  {
   "cell_type": "markdown",
   "metadata": {},
   "source": [
    "# 2. 서버(Instance) 생성"
   ]
  },
  {
   "cell_type": "raw",
   "metadata": {},
   "source": [
    "-. 서버선택\n",
    "-. 보안그룹 생성\n",
    "-. 스토리지 생성/연결"
   ]
  },
  {
   "cell_type": "markdown",
   "metadata": {},
   "source": [
    "# 3. Terminal 설치 (Windows Only)"
   ]
  },
  {
   "cell_type": "markdown",
   "metadata": {},
   "source": [
    "https://angus.readthedocs.io/en/2016/amazon/log-in-with-mobaxterm-win.html"
   ]
  },
  {
   "cell_type": "markdown",
   "metadata": {},
   "source": [
    "# 4. 서버 명령창(ssh) 연결"
   ]
  },
  {
   "cell_type": "markdown",
   "metadata": {},
   "source": [
    "https://docs.aws.amazon.com/AWSEC2/latest/UserGuide/connection-prereqs.html"
   ]
  },
  {
   "cell_type": "markdown",
   "metadata": {},
   "source": [
    "# 5. Docker / Docker-compose 설치"
   ]
  },
  {
   "cell_type": "markdown",
   "metadata": {},
   "source": [
    "https://docs.aws.amazon.com/AmazonECS/latest/developerguide/docker-basics.html"
   ]
  },
  {
   "cell_type": "markdown",
   "metadata": {},
   "source": [
    "https://acloudxpert.com/how-to-install-docker-compose-on-amazon-linux-ami/"
   ]
  },
  {
   "cell_type": "markdown",
   "metadata": {},
   "source": [
    "# 6. Git 설치"
   ]
  },
  {
   "cell_type": "markdown",
   "metadata": {},
   "source": [
    "https://cloudaffaire.com/how-to-install-git-in-aws-ec2-instance/"
   ]
  },
  {
   "cell_type": "markdown",
   "metadata": {},
   "source": [
    "# 7. DSSTACK 설치"
   ]
  },
  {
   "cell_type": "raw",
   "metadata": {},
   "source": [
    "$ git clone https://github.com/jupyteronline/beyond-jupyter.git\n",
    "\n",
    "$ cd beyond-jupyter\n",
    "$ docker system prune -a\n",
    "$ docker-compose up --build"
   ]
  },
  {
   "cell_type": "markdown",
   "metadata": {},
   "source": [
    "# 8. 탄력적 IP 추가 (옵션)"
   ]
  },
  {
   "cell_type": "markdown",
   "metadata": {},
   "source": [
    "https://docs.aws.amazon.com/AWSEC2/latest/UserGuide/elastic-ip-addresses-eip.html"
   ]
  },
  {
   "cell_type": "markdown",
   "metadata": {},
   "source": [
    "# 9. DNS 적용하기"
   ]
  },
  {
   "cell_type": "markdown",
   "metadata": {},
   "source": [
    "https://console.aws.amazon.com/route53/v2/home#Dashboard"
   ]
  },
  {
   "cell_type": "markdown",
   "metadata": {},
   "source": [
    "# 10. 서비스 연결"
   ]
  },
  {
   "cell_type": "raw",
   "metadata": {},
   "source": [
    "https://github.com/jupyteronline/beyond-jupyter\n",
    "\n",
    "예)\n",
    "http://hostname:8888\n",
    "\n",
    "Service\tPort\n",
    "==================\n",
    "Jupyter     8888\n",
    "pgadmin     5555\n",
    "Postgres\t5432\n",
    "Superset\t8088 \n",
    "Minio\t    9000\n",
    "Portainer\t9090"
   ]
  },
  {
   "cell_type": "markdown",
   "metadata": {},
   "source": [
    "# 11. 전용 데이터베이스 서버 생성"
   ]
  },
  {
   "cell_type": "markdown",
   "metadata": {},
   "source": [
    "https://aws.amazon.com/ko/getting-started/hands-on/create-connect-postgresql-db/"
   ]
  },
  {
   "cell_type": "markdown",
   "metadata": {},
   "source": [
    "# 12. Airflow 추가하기"
   ]
  },
  {
   "cell_type": "markdown",
   "metadata": {},
   "source": [
    "docker-compose.yml 파일에서 airflow 부분 주석해제하고 재시작\n",
    "\n",
    "** 중요) 시간이 오래 걸림... 귀가 전에 할 것"
   ]
  },
  {
   "cell_type": "code",
   "execution_count": null,
   "metadata": {},
   "outputs": [],
   "source": []
  }
 ],
 "metadata": {
  "kernelspec": {
   "display_name": "Python 3",
   "language": "python",
   "name": "python3"
  },
  "language_info": {
   "codemirror_mode": {
    "name": "ipython",
    "version": 3
   },
   "file_extension": ".py",
   "mimetype": "text/x-python",
   "name": "python",
   "nbconvert_exporter": "python",
   "pygments_lexer": "ipython3",
   "version": "3.8.5"
  }
 },
 "nbformat": 4,
 "nbformat_minor": 4
}
