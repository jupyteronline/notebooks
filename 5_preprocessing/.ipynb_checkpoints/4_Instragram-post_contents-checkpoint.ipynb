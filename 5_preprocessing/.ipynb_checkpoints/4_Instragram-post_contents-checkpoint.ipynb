{
 "cells": [
  {
   "cell_type": "markdown",
   "metadata": {},
   "source": [
    "## Instagram 스크랩\n",
    "\n",
    "\n",
    "## 필요한 라이브러리 설치\n",
    "* 아나콘다 사용시 다음의 프롬프트 창을 열어 conda 명령어로 설치합니다.\n",
    "* pip 사용시 아래에 있는 명령어를 터미널로 설치합니다.\n",
    "<img src=\"https://i.imgur.com/Sar4gdw.jpg\">\n",
    "\n",
    "### Selenium\n",
    "* `conda install -c anaconda selenium`\n",
    "* [Selenium :: Anaconda Cloud](https://anaconda.org/anaconda/selenium)\n",
    "\n",
    "* pip 사용시 : `pip install selenium`\n",
    "\n",
    "### BeautifulSoup\n",
    "* `conda install -c anaconda beautifulsoup4`\n",
    "* [Beautifulsoup4 :: Anaconda Cloud](https://anaconda.org/anaconda/beautifulsoup4)\n",
    "\n",
    "* pip 사용시 : `pip install beautifulsoup4`\n",
    "\n",
    "### tqdm\n",
    "* `conda install -c conda-forge tqdm`\n",
    "* [tqdm/tqdm: A Fast, Extensible Progress Bar for Python and CLI](https://github.com/tqdm/tqdm)\n",
    "* `pip install tqdm`"
   ]
  },
  {
   "cell_type": "code",
   "execution_count": 1,
   "metadata": {},
   "outputs": [
    {
     "name": "stdout",
     "output_type": "stream",
     "text": [
      "['신민아', '장동건']\n"
     ]
    }
   ],
   "source": [
    "# 라이브러리 로드\n",
    "import pandas as pd\n",
    "from pandas import read_excel\n",
    "\n",
    "import datetime as dt\n",
    "import time\n",
    "from tqdm import trange\n",
    "from tqdm import tqdm\n",
    "\n",
    "# 핵심단어 읽어 오기\n",
    "# my_sheet = '소비키워드'\n",
    "# keywords_filename = 'deskresearch.xlsx'\n",
    "# df = read_excel(keywords_filename, sheet_name = my_sheet, header=1) # index_col='번호'\n",
    "# keywords = df['핵심단어'].values.tolist()\n",
    "\n",
    "keywords = ['신민아', '장동건']\n",
    "\n",
    "print(keywords)"
   ]
  },
  {
   "cell_type": "code",
   "execution_count": 2,
   "metadata": {},
   "outputs": [
    {
     "name": "stdout",
     "output_type": "stream",
     "text": [
      "\u001b[0m\u001b[01;32minsta-scrapped_신민아.csv\u001b[0m*  \u001b[01;32minsta-scrapped_장동건.csv\u001b[0m*\r\n"
     ]
    }
   ],
   "source": [
    "ls urls"
   ]
  },
  {
   "cell_type": "code",
   "execution_count": 3,
   "metadata": {},
   "outputs": [],
   "source": [
    "mkdir scraps"
   ]
  },
  {
   "cell_type": "code",
   "execution_count": 4,
   "metadata": {},
   "outputs": [
    {
     "name": "stderr",
     "output_type": "stream",
     "text": [
      "100%|██████████| 1912/1912 [00:01<00:00, 1758.68it/s]\n",
      "100%|██████████| 1594/1594 [00:00<00:00, 1889.24it/s]\n"
     ]
    }
   ],
   "source": [
    "#keywords = [\"가치소비\"]  # 테스트용\n",
    "from bs4 import BeautifulSoup as bs\n",
    "import re\n",
    "\n",
    "def date_search(comment):\n",
    "\n",
    "    date = \"\"\n",
    "    regex = re.compile('[A-z]+\\s[0-9]+,\\s[0-9]+')\n",
    "    mo = regex.search(comment)\n",
    "    if mo != None:\n",
    "        date = mo.group()\n",
    "    return date\n",
    "\n",
    "def get_posts(post_urls):\n",
    "    \n",
    "    comments = []\n",
    "    dates = []\n",
    "    post_df = pd.DataFrame(columns=(\"comment\", \"date\"))\n",
    "\n",
    "\n",
    "    for i in trange(0, len(post_urls)):\n",
    "        try:\n",
    "#             browser.get(post_url) # 블로그 페이지로 이동\n",
    "#             browser.implicitly_wait(interval)    # 페이지 로딩 대기\n",
    "            \n",
    "            # 현재 브라우저에 표시되고 있는 소스코드 가져오기\n",
    "            soup = bs(post_urls[i], 'html.parser')\n",
    "\n",
    "            comment = soup.img['alt']\n",
    "            date = date_search(comment)\n",
    "\n",
    "            dates.append(date)\n",
    "            comments.append(comment)\n",
    "        except:\n",
    "            continue\n",
    "\n",
    "#     print(comments, dates)\n",
    "    post_df = pd.DataFrame({ \"comment\": comments, \"date\": dates })\n",
    "    \n",
    "    return post_df\n",
    "\n",
    "# links = img_list\n",
    "\n",
    "for keyword in keywords:\n",
    "    filename = \"./urls/\" + \"insta-scrapped_\" + keyword.replace(\" \",\"\") + \".csv\"\n",
    "#     print(filename)\n",
    "    \n",
    "    # 파일 읽기\n",
    "    df_postURLs = pd.read_csv(filename)\n",
    "    post_urls = df_postURLs.values.tolist()\n",
    "    \n",
    "    links = []\n",
    "    for i in range(0, len(post_urls)):\n",
    "        links.append(post_urls[i][1])\n",
    "        \n",
    "    try:\n",
    "        # 파씽 하기\n",
    "        post_df = get_posts(links)\n",
    "#         print(post_df)\n",
    "        \n",
    "        # 파일 쓰기\n",
    "        output_filename = \"./scraps/\" + \"insta-scrapped_\" + keyword.replace(\" \",\"\") + \".csv\"\n",
    "#         print(output_filename)\n",
    "        post_df.to_csv(output_filename, date_format='%Y%m%d', encoding='utf-8-sig') \n",
    "    except:\n",
    "        print(\"호출 오류\")\n",
    "        continue"
   ]
  },
  {
   "cell_type": "code",
   "execution_count": 5,
   "metadata": {},
   "outputs": [
    {
     "data": {
      "text/html": [
       "<div>\n",
       "<style scoped>\n",
       "    .dataframe tbody tr th:only-of-type {\n",
       "        vertical-align: middle;\n",
       "    }\n",
       "\n",
       "    .dataframe tbody tr th {\n",
       "        vertical-align: top;\n",
       "    }\n",
       "\n",
       "    .dataframe thead th {\n",
       "        text-align: right;\n",
       "    }\n",
       "</style>\n",
       "<table border=\"1\" class=\"dataframe\">\n",
       "  <thead>\n",
       "    <tr style=\"text-align: right;\">\n",
       "      <th></th>\n",
       "      <th>comment</th>\n",
       "      <th>date</th>\n",
       "    </tr>\n",
       "  </thead>\n",
       "  <tbody>\n",
       "    <tr>\n",
       "      <th>0</th>\n",
       "      <td>Photo shared by 김지원 🌸 딩원~❤ KIM JI WON ❤ on May...</td>\n",
       "      <td>May 30, 2020</td>\n",
       "    </tr>\n",
       "    <tr>\n",
       "      <th>1</th>\n",
       "      <td>Photo by 아키쿠로빠더 on April 22, 2020. 이미지: 개.</td>\n",
       "      <td>April 22, 2020</td>\n",
       "    </tr>\n",
       "    <tr>\n",
       "      <th>2</th>\n",
       "      <td>Photo by cocotown.net　韓国コスメ　韓国情報 in Japan. 이미지...</td>\n",
       "      <td></td>\n",
       "    </tr>\n",
       "    <tr>\n",
       "      <th>3</th>\n",
       "      <td>Photo by 내 동생 조예삐 ʕ•ᴥ•ʔ on March 06, 2020. 사진 ...</td>\n",
       "      <td>March 06, 2020</td>\n",
       "    </tr>\n",
       "    <tr>\n",
       "      <th>4</th>\n",
       "      <td>Photo shared by @peachbellas on May 06, 2020 t...</td>\n",
       "      <td>May 06, 2020</td>\n",
       "    </tr>\n",
       "  </tbody>\n",
       "</table>\n",
       "</div>"
      ],
      "text/plain": [
       "                                             comment            date\n",
       "0  Photo shared by 김지원 🌸 딩원~❤ KIM JI WON ❤ on May...    May 30, 2020\n",
       "1         Photo by 아키쿠로빠더 on April 22, 2020. 이미지: 개.  April 22, 2020\n",
       "2  Photo by cocotown.net　韓国コスメ　韓国情報 in Japan. 이미지...                \n",
       "3  Photo by 내 동생 조예삐 ʕ•ᴥ•ʔ on March 06, 2020. 사진 ...  March 06, 2020\n",
       "4  Photo shared by @peachbellas on May 06, 2020 t...    May 06, 2020"
      ]
     },
     "execution_count": 5,
     "metadata": {},
     "output_type": "execute_result"
    }
   ],
   "source": [
    "post_df.head()"
   ]
  },
  {
   "cell_type": "code",
   "execution_count": null,
   "metadata": {},
   "outputs": [],
   "source": []
  }
 ],
 "metadata": {
  "kernelspec": {
   "display_name": "Python 3",
   "language": "python",
   "name": "python3"
  },
  "language_info": {
   "codemirror_mode": {
    "name": "ipython",
    "version": 3
   },
   "file_extension": ".py",
   "mimetype": "text/x-python",
   "name": "python",
   "nbconvert_exporter": "python",
   "pygments_lexer": "ipython3",
   "version": "3.8.5"
  }
 },
 "nbformat": 4,
 "nbformat_minor": 4
}
