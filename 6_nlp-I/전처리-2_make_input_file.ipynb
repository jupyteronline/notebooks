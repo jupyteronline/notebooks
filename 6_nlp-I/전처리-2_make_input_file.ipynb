{
 "cells": [
  {
   "cell_type": "markdown",
   "metadata": {},
   "source": [
    "# 수집된 각각의 파일을 전처리하여 통합 파일 생성/저장"
   ]
  },
  {
   "cell_type": "code",
   "execution_count": 1,
   "metadata": {},
   "outputs": [],
   "source": [
    "import pandas as pd\n",
    "import re\n",
    "\n",
    "from pandas import read_excel\n",
    "from tqdm import tqdm\n",
    "from tqdm import trange\n",
    "\n",
    "from hanpre import funcs as hp\n",
    "from hanpre import stopwords as sw\n",
    "\n",
    "# !mkdir input_file\n",
    "\n",
    "def save_to_csv(ftype, keyword, df):\n",
    "    # save to csv    \n",
    "    filename = \"./input/\" + ftype + \"_\" + keyword.replace(\" \",\"\") + \".csv\"   \n",
    "    # filename_list.append(filename)\n",
    "    df.to_csv(filename, date_format='%Y%m%d', encoding='utf-8-sig')\n",
    "\n",
    "def interested_words():\n",
    "    # 핵심단어 읽어 오기\n",
    "    my_sheet = '소비키워드'\n",
    "    keywords_filename = 'deskresearch__.xlsx'\n",
    "    df = read_excel(keywords_filename, sheet_name = my_sheet, header=0) # index_col='번호'\n",
    "\n",
    "    interested_words = df\n",
    "    tdf = df.T\n",
    "    keywords = tdf[0].tolist()\n",
    "    sunkeywords = tdf[1].tolist()\n",
    "\n",
    "    iwlist = []\n",
    "    for i in range(1,len(keywords)+1):\n",
    "        iwlist.append(interested_words[i].dropna().tolist())\n",
    "        \n",
    "    return keywords, sunkeywords, iwlist\n",
    "\n",
    "keywords, subkeywords, interested_words = interested_words()"
   ]
  },
  {
   "cell_type": "code",
   "execution_count": 2,
   "metadata": {},
   "outputs": [],
   "source": [
    "new_words = []\n",
    "keywords = ['외식', '식사', '메뉴', '식당', '레스토랑', '가성비', '트렌드', '배달', '맛집', '비대면']\n",
    "# keywords, subkeywords, interested_words = interested_words()\n",
    "# new_words.append(keywords)\n",
    "# new_words.append(subkeywords)\n",
    "# new_words.append(interested_words)\n",
    "new_words = keywords"
   ]
  },
  {
   "cell_type": "code",
   "execution_count": 3,
   "metadata": {},
   "outputs": [],
   "source": [
    "for keyword in keywords:\n",
    "\n",
    "    df = hp.readall(keyword.replace(\" \",\"\"))\n",
    "#     df = df[ (df['date'] >= '2019-07-01') & (df['date'] < '2020-07-01')]\n",
    "    df = df.drop_duplicates()\n",
    "\n",
    "#     df.head()\n",
    "\n",
    "    df['text'] = df['title'] + df['content']\n",
    "#     rows_date = df['text', 'date']\n",
    "\n",
    "#     df.head()\n",
    "\n",
    "    sentences = df['text']\n",
    "    sentences = sentences.apply(lambda x: hp.preprocessing(str(x)))\n",
    "\n",
    "    # 공백라인 및 NaN 제거\n",
    "    while(\"\" in sentences) : \n",
    "        sentences.remove(\"\") \n",
    "    while(\"NaN\" in sentences) : \n",
    "        sentences.remove(\"\") \n",
    "\n",
    "    # sentences\n",
    "\n",
    "    sentences_df = pd.DataFrame (sentences,columns=['text'])\n",
    "\n",
    "    save_to_csv(\"plain\", keyword, sentences_df)"
   ]
  },
  {
   "cell_type": "code",
   "execution_count": null,
   "metadata": {},
   "outputs": [],
   "source": []
  }
 ],
 "metadata": {
  "kernelspec": {
   "display_name": "Python 3",
   "language": "python",
   "name": "python3"
  },
  "language_info": {
   "codemirror_mode": {
    "name": "ipython",
    "version": 3
   },
   "file_extension": ".py",
   "mimetype": "text/x-python",
   "name": "python",
   "nbconvert_exporter": "python",
   "pygments_lexer": "ipython3",
   "version": "3.8.3"
  }
 },
 "nbformat": 4,
 "nbformat_minor": 4
}
