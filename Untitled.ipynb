{
 "cells": [
  {
   "cell_type": "code",
   "execution_count": 1,
   "metadata": {
    "scrolled": true
   },
   "outputs": [
    {
     "name": "stdout",
     "output_type": "stream",
     "text": [
      "Collecting instaloader\n",
      "  Downloading instaloader-4.5.2.tar.gz (47 kB)\n",
      "\u001b[K     |████████████████████████████████| 47 kB 130 kB/s eta 0:00:01\n",
      "\u001b[?25hRequirement already satisfied: requests>=2.4 in /opt/conda/lib/python3.8/site-packages (from instaloader) (2.24.0)\n",
      "Requirement already satisfied: urllib3!=1.25.0,!=1.25.1,<1.26,>=1.21.1 in /opt/conda/lib/python3.8/site-packages (from requests>=2.4->instaloader) (1.25.10)\n",
      "Requirement already satisfied: chardet<4,>=3.0.2 in /opt/conda/lib/python3.8/site-packages (from requests>=2.4->instaloader) (3.0.4)\n",
      "Requirement already satisfied: idna<3,>=2.5 in /opt/conda/lib/python3.8/site-packages (from requests>=2.4->instaloader) (2.10)\n",
      "Requirement already satisfied: certifi>=2017.4.17 in /opt/conda/lib/python3.8/site-packages (from requests>=2.4->instaloader) (2020.6.20)\n",
      "Building wheels for collected packages: instaloader\n",
      "  Building wheel for instaloader (setup.py) ... \u001b[?25ldone\n",
      "\u001b[?25h  Created wheel for instaloader: filename=instaloader-4.5.2-py3-none-any.whl size=50846 sha256=e50b4a6f129a0d30e6a2596f794945e09561144b7af0afde113a236995dcad3a\n",
      "  Stored in directory: /home/jovyan/.cache/pip/wheels/76/49/0b/406562c855a34a17c94dc58d30f6082e2b919dda997747ab99\n",
      "Successfully built instaloader\n",
      "Installing collected packages: instaloader\n",
      "Successfully installed instaloader-4.5.2\n"
     ]
    }
   ],
   "source": [
    "!pip3 install instaloader"
   ]
  },
  {
   "cell_type": "code",
   "execution_count": 4,
   "metadata": {},
   "outputs": [
    {
     "name": "stdout",
     "output_type": "stream",
     "text": [
      "Collecting instats\n",
      "  Downloading instats-2.0.0-py3-none-any.whl (8.8 kB)\n",
      "Installing collected packages: instats\n",
      "Successfully installed instats-2.0.0\n"
     ]
    }
   ],
   "source": [
    "!pip install instats"
   ]
  },
  {
   "cell_type": "code",
   "execution_count": 7,
   "metadata": {},
   "outputs": [
    {
     "ename": "ModuleNotFoundError",
     "evalue": "No module named 'engagement'",
     "output_type": "error",
     "traceback": [
      "\u001b[0;31m---------------------------------------------------------------------------\u001b[0m",
      "\u001b[0;31mModuleNotFoundError\u001b[0m                       Traceback (most recent call last)",
      "\u001b[0;32m<ipython-input-7-ecea6cf795b0>\u001b[0m in \u001b[0;36m<module>\u001b[0;34m\u001b[0m\n\u001b[1;32m      1\u001b[0m \u001b[0;32mimport\u001b[0m \u001b[0mthreading\u001b[0m\u001b[0;34m\u001b[0m\u001b[0;34m\u001b[0m\u001b[0m\n\u001b[1;32m      2\u001b[0m \u001b[0;32mfrom\u001b[0m \u001b[0minstaloader\u001b[0m \u001b[0;32mimport\u001b[0m \u001b[0mInstaloader\u001b[0m\u001b[0;34m,\u001b[0m \u001b[0mProfile\u001b[0m\u001b[0;34m\u001b[0m\u001b[0;34m\u001b[0m\u001b[0m\n\u001b[0;32m----> 3\u001b[0;31m \u001b[0;32mimport\u001b[0m \u001b[0mengagement\u001b[0m\u001b[0;34m\u001b[0m\u001b[0;34m\u001b[0m\u001b[0m\n\u001b[0m\u001b[1;32m      4\u001b[0m \u001b[0;32mimport\u001b[0m \u001b[0mpickle\u001b[0m\u001b[0;34m\u001b[0m\u001b[0;34m\u001b[0m\u001b[0m\n\u001b[1;32m      5\u001b[0m \u001b[0;34m\u001b[0m\u001b[0m\n",
      "\u001b[0;31mModuleNotFoundError\u001b[0m: No module named 'engagement'"
     ]
    }
   ],
   "source": [
    "import threading\n",
    "from instaloader import Instaloader, Profile\n",
    "import engagement\n",
    "import pickle\n",
    "\n",
    "loader = Instaloader()\n",
    "NUM_POSTS = 10\n",
    "\n",
    "def get_hashtags_posts(query):\n",
    "    posts = loader.get_hashtag_posts(query)\n",
    "    users = {}\n",
    "    count = 0\n",
    "    for post in posts:\n",
    "        profile = post.owner_profile\n",
    "        if profile.username not in users:\n",
    "            summary = engagement.get_summary(profile)\n",
    "            users[profile.username] = summary\n",
    "            count += 1\n",
    "            print('{}: {}'.format(count, profile.username))\n",
    "            if count == NUM_POSTS:\n",
    "                break\n",
    "    return users"
   ]
  },
  {
   "cell_type": "code",
   "execution_count": null,
   "metadata": {},
   "outputs": [],
   "source": [
    "if __name__ == \"__main__\":\n",
    "    hashtag = \"tacos\"\n",
    "    users = get_hashtags_posts(hashtag)\n",
    "    print(users)"
   ]
  }
 ],
 "metadata": {
  "kernelspec": {
   "display_name": "Python 3",
   "language": "python",
   "name": "python3"
  },
  "language_info": {
   "codemirror_mode": {
    "name": "ipython",
    "version": 3
   },
   "file_extension": ".py",
   "mimetype": "text/x-python",
   "name": "python",
   "nbconvert_exporter": "python",
   "pygments_lexer": "ipython3",
   "version": "3.8.5"
  }
 },
 "nbformat": 4,
 "nbformat_minor": 4
}
